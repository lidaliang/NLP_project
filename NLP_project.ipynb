{
 "cells": [
  {
   "cell_type": "markdown",
   "metadata": {
    "heading_collapsed": true
   },
   "source": [
    "# Load Packages"
   ]
  },
  {
   "cell_type": "code",
   "execution_count": 41,
   "metadata": {
    "hidden": true
   },
   "outputs": [
    {
     "name": "stdout",
     "output_type": "stream",
     "text": [
      "Number of processors:  8\n",
      "1.1.0\n"
     ]
    }
   ],
   "source": [
    "import numpy as np # linear algebra\n",
    "import pandas as pd # data processing, CSV file I/O (e.g. pd.read_csv)\n",
    "from datetime import datetime, timedelta\n",
    "import os\n",
    "import scipy\n",
    "import re\n",
    "\n",
    "import matplotlib.pylab as plt\n",
    "%matplotlib inline\n",
    "from matplotlib.pylab import rcParams\n",
    "rcParams['figure.figsize'] = 15, 6\n",
    "from sklearn.metrics import mean_squared_error\n",
    "\n",
    "import lightgbm as lgb\n",
    "\n",
    "import matplotlib.mlab as mlab\n",
    "\n",
    "import keras\n",
    "from keras.models import Sequential\n",
    "from keras.layers import Dense, Activation,Conv2D,MaxPooling2D,Flatten,Dropout,LSTM,Embedding\n",
    "from keras import regularizers\n",
    "from keras.preprocessing.image import ImageDataGenerator\n",
    "import keras.backend as K\n",
    "\n",
    "import multiprocessing as mp\n",
    "from joblib import Parallel, delayed\n",
    "print(\"Number of processors: \", mp.cpu_count())\n",
    "\n",
    "#import mutual_info\n",
    "\n",
    "#mutual_info.test_mutual_information_2d()\n",
    "import time\n",
    "\n",
    "import datetime\n",
    "from datetime import timedelta\n",
    "from datetime import date\n",
    "import pytz\n",
    "import pickle\n",
    "\n",
    "import bs4\n",
    "from bs4 import BeautifulSoup\n",
    "import requests\n",
    "\n",
    "import nltk\n",
    "\n",
    "from wordcloud import WordCloud, STOPWORDS\n",
    "\n",
    "\n",
    "import torch\n",
    "print(torch.__version__)\n",
    "\n",
    "import random\n",
    "\n",
    "from model_zoo.word_processing_lib import preprocess_tweet"
   ]
  },
  {
   "cell_type": "code",
   "execution_count": 2,
   "metadata": {
    "hidden": true
   },
   "outputs": [
    {
     "name": "stderr",
     "output_type": "stream",
     "text": [
      "[nltk_data] Downloading package vader_lexicon to\n",
      "[nltk_data]     /Users/daliangli/nltk_data...\n",
      "[nltk_data]   Package vader_lexicon is already up-to-date!\n"
     ]
    }
   ],
   "source": [
    "nltk.download('vader_lexicon')\n",
    "from nltk.sentiment.vader import SentimentIntensityAnalyzer"
   ]
  },
  {
   "cell_type": "markdown",
   "metadata": {},
   "source": [
    "# Data Collection"
   ]
  },
  {
   "cell_type": "markdown",
   "metadata": {
    "heading_collapsed": true
   },
   "source": [
    "## Scrape a forum page"
   ]
  },
  {
   "cell_type": "code",
   "execution_count": 3,
   "metadata": {
    "hidden": true
   },
   "outputs": [],
   "source": [
    "def insert_mystr_before_astr(orgstr,mystr,astr=\"?prune_day\"):\n",
    "    idx = orgstr.index(astr)\n",
    "    return orgstr[:idx] + mystr + orgstr[idx:]"
   ]
  },
  {
   "cell_type": "code",
   "execution_count": 4,
   "metadata": {
    "hidden": true
   },
   "outputs": [],
   "source": [
    "#We build tools to scrape a page of the cloudynights forum\n",
    "#The input is a thread like \n",
    "#https://www.cloudynights.com/forum/67-refractors/?prune_day=100&sort_by=Z-A&sort_key=posts&topicfilter=all\n",
    "#The output is a list of urls\n",
    "\n",
    "def soup_a_forum(url,n_pages = 4):\n",
    "    #n_pages needs to be smaller than the total number of pages in this forum\n",
    "    soups = []\n",
    "    page = 1\n",
    "    title = \"\"\n",
    "    while page <= n_pages:\n",
    "        time.sleep(2)\n",
    "        if page==1: page_url = url\n",
    "        else: page_url = insert_mystr_before_astr(orgstr=url,mystr=\"page-\"+str(page),astr=\"?prune_day\")\n",
    "        fpage1 = requests.get(page_url)\n",
    "        soup1 = BeautifulSoup(fpage1.content, 'html.parser')\n",
    "        \n",
    "        #new_title = soup1.find_all('title')[0].get_text()\n",
    "        #if title == new_title: break\n",
    "        #else: title = new_title\n",
    "        \n",
    "        soups.append(soup1)\n",
    "        page += 1\n",
    "    return soups\n",
    "    \n",
    "\n",
    "def from_a_soup_to_url(soup):\n",
    "    element_list = soup.find_all(id=re.compile(\"tid-link-......\"))\n",
    "    return [element[\"href\"] for element in element_list] \n",
    "\n",
    "def remove_from_list_if_contains_substring(orglist,substring):\n",
    "    return [ele for ele in orglist if not substring in ele] \n",
    "\n",
    "def remove_from_list_if_contains_any_substring(orglist,substrings):\n",
    "    result = []\n",
    "    for ele in orglist:\n",
    "        contains = False\n",
    "        for substr in substrings:\n",
    "            if substr in ele: contains = True\n",
    "        if not contains: result.append(ele)\n",
    "    return result "
   ]
  },
  {
   "cell_type": "code",
   "execution_count": 5,
   "metadata": {
    "hidden": true
   },
   "outputs": [],
   "source": [
    "forum_page_urls = [\"https://www.cloudynights.com/forum/67-refractors/?prune_day=100&sort_by=Z-A&sort_key=posts&topicfilter=all\",\n",
    "                   \"https://www.cloudynights.com/forum/71-eyepieces/?prune_day=100&sort_by=Z-A&sort_key=posts&topicfilter=all\",\n",
    "                   \"https://www.cloudynights.com/forum/64-binoculars/?prune_day=100&sort_by=Z-A&sort_key=posts&topicfilter=all\",\n",
    "                   \"https://www.cloudynights.com/forum/69-cats-casses/?prune_day=100&sort_by=Z-A&sort_key=posts&topicfilter=all\",\n",
    "                   \"https://www.cloudynights.com/forum/66-mounts/?prune_day=100&sort_by=Z-A&sort_key=posts&topicfilter=all\",\n",
    "                   \"https://www.cloudynights.com/forum/68-reflectors/?prune_day=100&sort_by=Z-A&sort_key=posts&topicfilter=all\",\n",
    "                   \"https://www.cloudynights.com/forum/65-binoviewers/?prune_day=100&sort_by=Z-A&sort_key=posts&topicfilter=all\"\n",
    "                  ]"
   ]
  },
  {
   "cell_type": "code",
   "execution_count": 18,
   "metadata": {
    "hidden": true
   },
   "outputs": [],
   "source": [
    "forum_level_soup = [soup_a_forum(forum_url,n_pages=5) for forum_url in forum_page_urls]"
   ]
  },
  {
   "cell_type": "code",
   "execution_count": 46,
   "metadata": {
    "hidden": true
   },
   "outputs": [],
   "source": [
    "url_lists = [np.concatenate([from_a_soup_to_url(page) for page in forum]) for forum in forum_level_soup]"
   ]
  },
  {
   "cell_type": "code",
   "execution_count": 202,
   "metadata": {
    "hidden": true
   },
   "outputs": [],
   "source": [
    "world_filters = [\"-you\",\"-we-\",\"money\",\"collection\",\"guidelines\",\"important\",\"mod\",\"how-to\",\"to-improve\",\"info\",\n",
    "                 \"improvements\",\"question\",\"auction\",\n",
    "                 \"apos-better\",\n",
    "                 \"what-is-your\",\"whats-in-your\",\"show-us-your\",\"have-you-found\",\n",
    "                 \"post-a-pic\",\"links-of-interest\",\"policy\",\"do-you-own\",\"show-off\",\"no-use\",\"billp\",\"myths-and-misconceptions\",\n",
    "                 \"paracorr-settings\",\"eyepiece-buyers-guide\",\"identifying-eyepiece-aberrations\",\"filters-buyers-guide\",\n",
    "                \"clarifications\",\"overlooking-the-obvious\",\"most-beautiful\",\"gems-best-of\",\"vintage-and-classic\",\"tinkering\",\n",
    "                 \"home-built\",\"collimated\",\"complementary\",\"resolving\",\"birding\",\"not-popular\",\"scams\",\"classical-cassegrain\",\n",
    "                 \"focal-reducer\",\"classic-cassegrain\",\"new-scam\",\"best-threads\",\"duplicate\",\"cables\",\"is-soft\",\"corrector\",\n",
    "                 \"thermal-issues\",\"collima\",\"coma\",\"make-a-reflector\",\"best-25mm\",\n",
    "                ]\n",
    "\n",
    "filtered_url_lists = [remove_from_list_if_contains_any_substring(url_list,world_filters) for url_list in url_lists]\n"
   ]
  },
  {
   "cell_type": "code",
   "execution_count": 206,
   "metadata": {
    "hidden": true
   },
   "outputs": [],
   "source": [
    "#with open('filtered_url_lists', 'wb') as fp:\n",
    "#    pickle.dump(filtered_url_lists, fp)\n",
    "    \n"
   ]
  },
  {
   "cell_type": "markdown",
   "metadata": {
    "heading_collapsed": true
   },
   "source": [
    "## Scrape a thread"
   ]
  },
  {
   "cell_type": "code",
   "execution_count": null,
   "metadata": {
    "hidden": true
   },
   "outputs": [],
   "source": [
    "#author identity not included\n",
    "#all_soups_s[forum_index][thread_index][page_index] > page html\n",
    "#title_lists"
   ]
  },
  {
   "cell_type": "code",
   "execution_count": 6,
   "metadata": {
    "hidden": true
   },
   "outputs": [],
   "source": [
    "def grab_a_thread(url,n_pages = 30):\n",
    "    post_entry_text = []\n",
    "    page = 1\n",
    "    title = \"\"\n",
    "    while page <= n_pages:\n",
    "        time.sleep(1)\n",
    "        if page==1: page_url = url\n",
    "        else: page_url = url + \"page-\" + str(page)\n",
    "        fpage1 = requests.get(page_url)\n",
    "        soup1 = BeautifulSoup(fpage1.content, 'html.parser')\n",
    "        \n",
    "        new_title = soup1.find_all('title')[0].get_text()\n",
    "        if title == new_title: break\n",
    "        else: title = new_title\n",
    "        \n",
    "        post_entry_contents = soup1.find_all(class_ = 'post entry-content ')\n",
    "        for content in post_entry_contents:\n",
    "            for parag in content.find_all('p'):\n",
    "                post_entry_text.append(parag.get_text())\n",
    "        page += 1\n",
    "    return post_entry_text\n",
    "\n",
    "def soup_a_thread(url,n_pages = 30, wait_time = 1):\n",
    "    soups = []\n",
    "    page = 1\n",
    "    title = \"\"\n",
    "    while page <= n_pages:\n",
    "        time.sleep(wait_time)\n",
    "        if page==1: page_url = url\n",
    "        else: page_url = url + \"page-\" + str(page)\n",
    "        fpage1 = requests.get(page_url)\n",
    "        soup1 = BeautifulSoup(fpage1.content, 'html.parser')\n",
    "        \n",
    "        new_title = soup1.find_all('title')[0].get_text()\n",
    "        if title == new_title: break\n",
    "        else: title = new_title\n",
    "        \n",
    "        soups.append(soup1)\n",
    "        page += 1\n",
    "    return soups"
   ]
  },
  {
   "cell_type": "code",
   "execution_count": 7,
   "metadata": {
    "hidden": true
   },
   "outputs": [],
   "source": [
    "def text_cleaning(string):\n",
    "    string += \"Edited by\"\n",
    "    string = string[:string.index(\"Edited by\")].replace(\"\\xa0\",\"\").replace(\"\\n\",\"\").replace(\"\\t\",\"\").replace(\"\\r\",\"\")\n",
    "    string = re.sub('\\s+', ' ', string).strip()\n",
    "    return string.replace(\" .\",\"\").lstrip(\".\").lstrip(\" \").rstrip().replace(\"...\",\".\").replace(\"..\",\".\")\n",
    "\n",
    "def replace_urls(string):\n",
    "    try:\n",
    "        url_index = string.index(\"http\")\n",
    "        string_after = string[url_index:]+\" \"\n",
    "        next_space_index = string_after.index(\" \")\n",
    "        string_after = replace_urls(string_after[next_space_index:])\n",
    "        return (string[:url_index]+' URL '+ string_after).rstrip()\n",
    "    except: return string\n",
    "\n",
    "def has_image(post):\n",
    "    return not post.find(class_ = 'resized_img')==None\n",
    "\n",
    "def n_images(post):\n",
    "    imgs = post.find_all(class_ = 'resized_img')\n",
    "    if imgs == None: return 0\n",
    "    else: return len(imgs)\n",
    "    \n",
    "def count_likes(like_text):\n",
    "    if like_text == \"\": return 0\n",
    "    elif not 'and' in like_text: return 1\n",
    "    elif not ',' in like_text: return 2\n",
    "    elif not 'other' in like_text: return 3\n",
    "    else: \n",
    "        index = like_text.index(\" other\")\n",
    "        return 3+int(like_text[index-2:index])\n",
    "\n",
    "def n_likes(post):\n",
    "    '''Input: beautiful soup object class post_body'''\n",
    "    '''Output: number of likes to this post'''\n",
    "    like_info = post.find(class_ = \"ipsLikeBar_info\")\n",
    "    if  like_info == None: return 0\n",
    "    else: \n",
    "        like_text = like_info.get_text().replace(\"\\n\",\"\").replace(\"\\t\",\"\")\n",
    "        return count_likes(like_text)\n",
    "    \n",
    "def extract_title_from_thread_url(a_url):\n",
    "    right_half = a_url[a_url.index(\"-\")+1:-1].replace(\"-\",\" \")\n",
    "    return right_half[:re.search(\"/|$\", right_half).start()]\n",
    "\n",
    "def emojis(post):\n",
    "    '''Input: beautiful soup object class post_body'''\n",
    "    '''Output: list of emojis as strings such as [':lol:','lol.gif']'''\n",
    "    post_entry_content = post.find(class_=\"post entry-content \")\n",
    "    content_list = list(post_entry_content.children)\n",
    "    \n",
    "    all_emojis = []\n",
    "    for parts in content_list:\n",
    "        if parts.name == 'blockquote': continue\n",
    "        elif parts.name == 'img':\n",
    "            try: \n",
    "                if parts['class'][0]=='bbc_emoticon': all_emojis.append(parts['alt'])\n",
    "                elif parts['class'][0]=='bbc_img': all_emojis.append(parts['title'])\n",
    "            except: pass\n",
    "        else: \n",
    "            try: \n",
    "                for ele in parts.find_all(class_=re.compile('bbc_img'|'bbc_emot*')):\n",
    "                    try: all_emojis.append(ele[\"title\"]) \n",
    "                    except: \n",
    "                        try: all_emojis.append(ele[\"alt\"]) \n",
    "                        except: pass\n",
    "            except: pass\n",
    "                    \n",
    "    return all_emojis\n",
    "\n",
    "def post_to_text(post):\n",
    "    '''Input: beautiful soup object class post_body'''\n",
    "    '''Output: cleaned post text'''\n",
    "    post_entry_content = post.find(class_=\"post entry-content \")\n",
    "    content_list = list(post_entry_content.children)\n",
    "    a_comment = \"\"\n",
    "    for parts in content_list:\n",
    "        if parts.name == 'p': a_comment+=\". \"+parts.get_text()\n",
    "        elif type(parts) == bs4.element.NavigableString:a_comment+=\". \"+parts\n",
    "\n",
    "    return replace_urls(text_cleaning(a_comment).lower())\n",
    "\n",
    "\n",
    "def all_info_from_a_souped_thread(a_souped_thread):\n",
    "    all_info = []\n",
    "    for page in a_souped_thread:\n",
    "        posts = page.find_all(class_=\"post_body\")\n",
    "        for post in posts:\n",
    "            n_i = n_images(post)\n",
    "            text_record = text_cleaning(\" \".join(emojis(post))+\" \"+ \" \".join([\"IMG\"]*n_i)+\". \"+ post_to_text(post))\n",
    "            all_info.append([text_record,n_likes(post),n_i])\n",
    "    return all_info\n",
    "\n",
    "def nltk_sentiment(sentence):\n",
    "    nltk_sentiment = SentimentIntensityAnalyzer()\n",
    "    score = nltk_sentiment.polarity_scores(sentence)\n",
    "    return score"
   ]
  },
  {
   "cell_type": "code",
   "execution_count": 1204,
   "metadata": {
    "hidden": true
   },
   "outputs": [],
   "source": [
    "#def post_entry_content_to_text(post_entry_content):\n",
    "#    content_list = list(post_entry_content.children)\n",
    "#    a_comment = \"\"\n",
    "#    for parts in content_list:\n",
    "#        if parts.name == 'p': a_comment+=\". \"+parts.get_text()\n",
    "#        elif type(parts) == bs4.element.NavigableString:a_comment+=\". \"+parts\n",
    "#\n",
    "#    return text_cleaning(a_comment)\n",
    "\n",
    "\n",
    "#def has_image(post):\n",
    "#    return not post.find(class_ = 'resized_img')==None\n",
    "\n",
    "#def n_images(post):\n",
    "#    imgs = post.find_all(class_ = 'resized_img')\n",
    "#    if imgs == None: return 0\n",
    "#    else: return len(imgs)\n",
    "\n",
    "#def emojis(post):\n",
    "#    post_entry_content = post.find(class_=\"post entry-content \")\n",
    "#    content_list = list(post_entry_content.children)\n",
    "    \n",
    "#    all_emojis = []\n",
    "#    for parts in content_list:\n",
    "#        if parts.name == 'blockquote': continue\n",
    "#        if parts.name == 'img':\n",
    "#            if parts['class'][0]=='bbc_emoticon':\n",
    "#                 all_emojis.append(parts['alt'])\n",
    "#    return all_emojis\n",
    "    \n",
    "\n",
    "\n",
    "\n",
    "\n",
    "#def all_comments_from_a_souped_thread(a_souped_thread):\n",
    "#    all_comments = []\n",
    "#    for page in a_souped_thread:\n",
    "#        page_contents = page.find_all(class_=\"post entry-content \")\n",
    "#        all_comments += [post_entry_content_to_text(a_content) for a_content in page_contents]\n",
    "#    return all_comments\n",
    "\n",
    "#def text_a_class_in_soup(soup,cls = 'post entry-content '):\n",
    "#    text_res = []\n",
    "#    contents = soup.find_all(class_ = cls)\n",
    "#    for content in contents:\n",
    "#        for parag in content.find_all('p'):\n",
    "#            text_res.append(parag.get_text())\n",
    "#    return text_res"
   ]
  },
  {
   "cell_type": "code",
   "execution_count": 9,
   "metadata": {
    "hidden": true
   },
   "outputs": [],
   "source": [
    "with open ('filtered_url_lists', 'rb') as fp:\n",
    "     filtered_url_lists = pickle.load(fp)\n",
    "\n",
    "filtered_url_lists_short = [url_list[:25] for url_list in filtered_url_lists] "
   ]
  },
  {
   "cell_type": "code",
   "execution_count": 223,
   "metadata": {
    "hidden": true
   },
   "outputs": [
    {
     "name": "stdout",
     "output_type": "stream",
     "text": [
      "souping url list 0\n",
      "souping url list 1\n",
      "souping url list 2\n",
      "souping url list 3\n",
      "souping url list 4\n",
      "souping url list 5\n",
      "souping url list 6\n"
     ]
    }
   ],
   "source": [
    "#all_soups_s = []\n",
    "#for i,filtered_url_list_short in enumerate(filtered_url_lists_short):\n",
    "#    print(\"souping url list\",i)\n",
    "#    all_soups_s.append([soup_a_thread(thread,n_pages = 50,wait_time = 0.8) for thread in filtered_url_list_short])"
   ]
  },
  {
   "cell_type": "code",
   "execution_count": 10,
   "metadata": {
    "hidden": true
   },
   "outputs": [],
   "source": [
    "#This generate a very big file but apparently works\n",
    "#import sys\n",
    "\n",
    "#sys.setrecursionlimit(40000)\n",
    "\n",
    "#with open('all_soups_s', 'wb') as fp:\n",
    "#     pickle.dump(all_soups_s, fp)\n",
    "\n",
    "#with open ('all_soups_s', 'rb') as fp:\n",
    "#     all_soups_s = pickle.load(fp)"
   ]
  },
  {
   "cell_type": "code",
   "execution_count": 13,
   "metadata": {
    "hidden": true
   },
   "outputs": [
    {
     "data": {
      "text/plain": [
       "25"
      ]
     },
     "execution_count": 13,
     "metadata": {},
     "output_type": "execute_result"
    }
   ],
   "source": [
    "len(filtered_url_lists_short[1])"
   ]
  },
  {
   "cell_type": "code",
   "execution_count": 16,
   "metadata": {
    "hidden": true
   },
   "outputs": [],
   "source": [
    "#all_soups_s[1].pop(0)\n",
    "#filtered_url_lists[1].pop(0)\n",
    "#print(len(all_soups_s[1]),len(filtered_url_lists[1]),len(title_lists[1]))\n",
    "\n",
    "#with open('filtered_url_lists', 'wb') as fp:\n",
    "#     pickle.dump(filtered_url_lists, fp)"
   ]
  },
  {
   "cell_type": "code",
   "execution_count": 434,
   "metadata": {
    "hidden": true
   },
   "outputs": [],
   "source": [
    "title_lists = [[extract_title_from_thread_url(url) for url in url_list] for url_list in filtered_url_lists]"
   ]
  },
  {
   "cell_type": "code",
   "execution_count": 1310,
   "metadata": {
    "hidden": true
   },
   "outputs": [
    {
     "name": "stdout",
     "output_type": "stream",
     "text": [
      "processing forum: 0\n",
      "processing forum: 1\n",
      "processing forum: 2\n",
      "processing forum: 3\n",
      "processing forum: 4\n",
      "processing forum: 5\n",
      "processing forum: 6\n"
     ]
    }
   ],
   "source": [
    "#Obtain all info\n",
    "#info_all_threads_all_forums = []\n",
    "#for i,soups in enumerate(all_soups_s):\n",
    "#    print(\"processing forum:\",i)\n",
    "#    info_all_threads_all_forums.append([all_info_from_a_souped_thread(soup) for soup in soups])\n",
    "    \n",
    "#with open('info_all_threads_all_forums', 'wb') as fp:\n",
    "#     pickle.dump(info_all_threads_all_forums, fp)\n",
    "        \n",
    "with open ('info_all_threads_all_forums', 'rb') as fp:\n",
    "     info_all_threads_all_forums = pickle.load(fp)"
   ]
  },
  {
   "cell_type": "code",
   "execution_count": 1317,
   "metadata": {
    "hidden": true
   },
   "outputs": [
    {
     "data": {
      "text/plain": [
       "'refractors'"
      ]
     },
     "execution_count": 1317,
     "metadata": {},
     "output_type": "execute_result"
    }
   ],
   "source": [
    " extract_title_from_thread_url(forum_page_urls[0])"
   ]
  },
  {
   "cell_type": "code",
   "execution_count": 1334,
   "metadata": {
    "hidden": true
   },
   "outputs": [
    {
     "data": {
      "text/plain": [
       "['https://www.cloudynights.com/forum/67-refractors/?prune_day=100&sort_by=Z-A&sort_key=posts&topicfilter=all']"
      ]
     },
     "execution_count": 1334,
     "metadata": {},
     "output_type": "execute_result"
    }
   ],
   "source": [
    "forum_page_urls"
   ]
  },
  {
   "cell_type": "code",
   "execution_count": 1354,
   "metadata": {
    "hidden": true
   },
   "outputs": [],
   "source": [
    "none_product_oriented_threads = ['takitis',\n",
    "                                 'if aperture rules why is it that refractors are so popular',\n",
    "                                 'is an 80mm good for planetary',\n",
    "                                 'aperture vs focal ratio',\n",
    "                                 'is astro physics going to release the new stowaway',\n",
    "                                 'top 10 eyepieces of all time',\n",
    "                                 'are televue eyepieces overpriced',\n",
    "                                 'who has resisted es sale temptation',\n",
    "                                 'eofb the new eyepiece disease for neurotics',\n",
    "                                 'abbe vs plossl',\n",
    "                                 'the stage is set eyepiece resolution world cup',\n",
    "                                 'tele vue eyepieces only',\n",
    "                                 'es eyepiece sale',\n",
    "                                 'favorite hand held astro binos',\n",
    "                                 'the plot thickens meade takeover',\n",
    "                                 'maksutov versus schmidt',\n",
    "                                 '1 inch apo vs 12 inch sct',\n",
    "                                 'why do people even buy scts',\n",
    "                                 'how many really good scts are out there',\n",
    "                                 'why are there so many people who hates sct´s',\n",
    "                                 'scts the perennial bridesmaid',\n",
    "                                 'where are the maksutov cassegain people',\n",
    "                                 '10 dk vs sct',\n",
    "                                 'insulation jacket for mak',\n",
    "                                 'is there a way to fix sct mirror shift',\n",
    "                                 'what happens if meade disappears',\n",
    "                                 'do cats have premium optics',\n",
    "                                 'scts dont make good planetary scopes',\n",
    "                                 '8 sct versus 5apo',\n",
    "                                 'mach1 vs myt on performance operational issues',\n",
    "                                 'telescope drive master the truth of the matter',\n",
    "                                 'is a premium mirror worth it in mediocre seeing eg zambuto vs gso',\n",
    "                                 'shopping for a 12 dob what should i avoid',\n",
    "                                 'jupiter appears like half circle',\n",
    "                                 'catseye vs howie glatter and blug',\n",
    "                                 'c14 better than a zambuto',\n",
    "                                 'does mirror quality matter',\n",
    "                                 'gso vs lightholder vs zamubto at the eyepiece',\n",
    "                                 'why the rush to large aperture',\n",
    "                                 'the future of newtonians short',\n",
    "                                 'obsession 25 f4 vs orion 10 f47 expectations',\n",
    "                                 'large dobs is there a point of diminishing returns',\n",
    "                                 'whats the biggest dob that would be good for me',\n",
    "                                 'does goto blunt human intelligence',\n",
    "                                 'are binoviewers just as great on dsos',\n",
    "                                 'binoviewing experiences with various eyepiece pairs',\n",
    "                                 'binoviewer difference optically',\n",
    "                                 'baader mark v vs denkmeier binotron binoviewer',\n",
    "                                 'what is the best binoviewer for planetlunar viewing',\n",
    "                                ]"
   ]
  },
  {
   "cell_type": "code",
   "execution_count": 1488,
   "metadata": {
    "hidden": true
   },
   "outputs": [],
   "source": [
    "'''data_df now contains much more info including hand labels. Directly read data_df.csv to load these data.\n",
    "#Saving the results as a pandas dataframe\n",
    "data_df=pd.DataFrame(columns=['forum_name','thread_name','text', 'n_likes', 'n_images'])\n",
    "for forum_index in range(len(info_all_threads_all_forums)):\n",
    "    for thread_index in range(len(info_all_threads_all_forums[forum_index])):\n",
    "        df = pd.DataFrame(info_all_threads_all_forums[forum_index][thread_index], \n",
    "                          columns =['text', 'n_likes', 'n_images']) \n",
    "        thread_name = extract_title_from_thread_url(filtered_url_lists[forum_index][thread_index])\n",
    "        df['forum_name']=[extract_title_from_thread_url(forum_page_urls[forum_index])]*len(df)\n",
    "        df['thread_name']=[thread_name]*len(df)\n",
    "        df['thread_total_likes']=[int(np.sum(df['n_likes'].values))]*len(df)\n",
    "        df['product_oriented']=[not thread_name in none_product_oriented_threads]*len(df)\n",
    "        df['forum_index']=[forum_index]*len(df)\n",
    "        df['thread_index']=[thread_index]*len(df)\n",
    "        df['post_index']=np.arange(len(df))\n",
    "        df['post_id'] = [str(forum_index)+\"_\"+str(thread_index)+\"_\"+str(i) for i in range(len(df))]\n",
    "        df[\"sentiment\"] = [-1]*len(df)\n",
    "        df[\"relevance\"] = [-1]*len(df)\n",
    "        df[\"hand_labeled\"] = [False]*len(df)\n",
    "        data_df = data_df.append(df)\n",
    "del df\n",
    "\n",
    "data_df = data_df.set_index('post_id')\n",
    "\n",
    "\n",
    "for index, row in data_df.iterrows():\n",
    "    q_res = data1_extra[data1_extra['post_id']==index]\n",
    "    if len(q_res)>0:\n",
    "        data_df.at[index, 'hand_labeled'] = True\n",
    "        data_df.at[index, 'sentiment'] = q_res.iloc[0]['sentiment']\n",
    "        data_df.at[index, 'relevance'] = q_res.iloc[0]['relevance']\n",
    "\n",
    "#data_df.to_csv(\"data_df.csv\")\n",
    "'''"
   ]
  },
  {
   "cell_type": "code",
   "execution_count": 17,
   "metadata": {
    "hidden": true
   },
   "outputs": [],
   "source": [
    "data_df = pd.read_csv(\"data_df.csv\")"
   ]
  },
  {
   "cell_type": "code",
   "execution_count": 25,
   "metadata": {
    "hidden": true
   },
   "outputs": [
    {
     "data": {
      "text/plain": [
       "Index(['post_id', 'forum_index', 'forum_name', 'hand_labeled', 'n_images',\n",
       "       'n_likes', 'post_index', 'product_oriented', 'relevance', 'sentiment',\n",
       "       'text', 'thread_index', 'thread_name', 'thread_total_likes'],\n",
       "      dtype='object')"
      ]
     },
     "execution_count": 25,
     "metadata": {},
     "output_type": "execute_result"
    }
   ],
   "source": [
    "data_df.columns"
   ]
  },
  {
   "cell_type": "markdown",
   "metadata": {
    "heading_collapsed": true
   },
   "source": [
    "## Sraping Dev"
   ]
  },
  {
   "cell_type": "code",
   "execution_count": 1279,
   "metadata": {
    "hidden": true
   },
   "outputs": [],
   "source": [
    "#page_url = \"https://www.cloudynights.com/topic/466960-takitis/\"\n",
    "#page_url = \"https://www.cloudynights.com/topic/466960-takitis/page-119\"\n",
    "#page_url = \"https://www.cloudynights.com/topic/466960-takitis/page-3\"\n",
    "page_url = \"https://www.cloudynights.com/topic/511998-review-binoviewers-zeiss-baader-william-optics-siebert-denkmeier/page-3\"\n",
    "fpage1 = requests.get(page_url)\n",
    "soup1 = BeautifulSoup(fpage1.content, 'html.parser')"
   ]
  },
  {
   "cell_type": "code",
   "execution_count": 1267,
   "metadata": {
    "hidden": true
   },
   "outputs": [
    {
     "name": "stdout",
     "output_type": "stream",
     "text": [
      "0\n",
      "[]\n",
      "i've just discovered this review. once again, it's very interesting denis!. can you elaborate on the coatings of the baader maxbright? you think that it probably comes from the same factoryas other chinese binoviewers, but the coatings are obviously different. this is visible in the link in your signature: the maxbright has blue coatings in your pictures, whereas other chinese binoviewers exhibit deep green coatings.howwould you rate the brightness of the maxbright compared to other binoviewers?. also, i read several years ago that cheap binoviewers have different color rendition on each side. did you notice such effects (i know that the baader mark v is almost perfect in this regard, with very neutral colors on each side.). edit: i've found a recent topic on this subject:. http://www.cloudynig.rence-in-binos/. i hope you will complete this review with the new maxbright, when it will be available.\n"
     ]
    }
   ],
   "source": [
    "posts = soup1.find_all(class_=\"post_body\")\n",
    "\n",
    "post_index = 8\n",
    "\n",
    "post = posts[post_index]\n",
    "\n",
    "print(n_likes(post))\n",
    "print(emojis(post))\n",
    "\n",
    "\n",
    "\n",
    "def post_to_text(post):\n",
    "    '''Input: beautiful soup object class post_body'''\n",
    "    '''Output: cleaned post text'''\n",
    "    post_entry_content = post.find(class_=\"post entry-content \")\n",
    "    content_list = list(post_entry_content.children)\n",
    "    a_comment = \"\"\n",
    "    for parts in content_list:\n",
    "        if parts.name == 'p': a_comment+=\". \"+parts.get_text()\n",
    "        elif type(parts) == bs4.element.NavigableString:a_comment+=\". \"+parts\n",
    "\n",
    "    return text_cleaning(a_comment)\n",
    "\n",
    "print(post_to_text(post))\n",
    "\n"
   ]
  },
  {
   "cell_type": "markdown",
   "metadata": {
    "heading_collapsed": true
   },
   "source": [
    "## Content Recommendation"
   ]
  },
  {
   "cell_type": "code",
   "execution_count": 748,
   "metadata": {
    "hidden": true
   },
   "outputs": [],
   "source": [
    "def ranking(post_info):\n",
    "    return post_info[1]+len(post_info[0])/1000\n",
    "\n",
    "def suggest_post(forum,thread,n_posts=5):\n",
    "    #print(filtered_url_lists[forum][thread])\n",
    "    thread1 = info_all_threads_all_forums[forum][thread].copy()\n",
    "    return sorted(thread1,key = ranking,reverse=True)[:n_posts]"
   ]
  },
  {
   "cell_type": "code",
   "execution_count": 723,
   "metadata": {
    "hidden": true,
    "scrolled": true
   },
   "outputs": [
    {
     "name": "stdout",
     "output_type": "stream",
     "text": [
      "https://www.cloudynights.com/topic/576269-at60ed-something-small-from-our-sponsors/\n"
     ]
    },
    {
     "data": {
      "text/plain": [
       "[['I posted this over in the EAA forum but it probably belongs here as well.... My AT60ED was delivered yesterday. I had a chance to use it last night. I purchased this scope to replace my 50mm repurposed guide scope. I can’t use a diagonal with that set up and my neck doesn’t like looking straight up for long periods like it used to.. The AT60ED is well constructed, a touch heavy (actually a tad heavier than my 4” F5 refractor) but very compact. I had to tighten up the focuser just a tad and that seems to keep the focuser from slipping with the 2-inch diagonal. The scope rides well on all my alt/az mounts including: the very light Bogen tripod with the light UA Dwarfstar head and is rock solid on the UA Macrostar. The AT60 can be mounted on the left or right side. The AT60ED and the NVD Micro with accessories all fit in my padded case.. The daytime views are all crisp, color free, and very nice. At 100x (the highest power I used) color was not seen during the day. Spider webs some distance off came into sharp view.. With a low, first quarter moon and in average seeing, the lunar views were crisp and color free at 120x. In better seeing, the scope should be able to take more power. However, the star test reveals somewhat obvious SA at maybe ¼ wave. This did not impact daytime performance and didn’t seem to hurt lunar viewing at the powers used and will have no impact on low power NV viewing. IMO The AT60ED is just too small for lunar/planetary viewing anyway. With just a couple of 90mm exceptions, with refractors, I like 100mm as a minimum for planetary viewing. But I didn’t buy the scope for lunar or planetary viewing.. Used with the NVD Micro and7, 2-inch reducer with a 6nm Ha filter and 685 pass filter, the field was sharp nearly to the edge with only the last 10% or so getting a touch softer – hardly noticeable unless you look for it. At 250mm FL (with the reducer) the field is about twice as large as with my 500mm FL F5 refractor. Using an Astro-Physics diagonal, and screwing the 2-inch7 reducer into the bottom of the 1.25 to 2-inch AP short adapter (which I like better than the Astrostuff 2-inch to C-mount adapter), my Micro comes to focus with about 3mm to spare.. Although I used the scope without a finder and without too much difficulty at that, I think a red dot finder will be added as soon as Astronomics gets finder shoes for this scope in stock.. With a first quarter moon out, a touch of moisture in the sky, and observing from my location in a gray zone just outside of Philadelphia, PA the complete North American Nebula including the Pelican fit comfortably in the field. The NA Nebula was bright, easy, with delineated edges and quite a sight. The complete Veil Nebula just fits in the field as well. The Veil was spotted easily with the brightest arc well seen and even the very dim “middle section” was not too difficult to spot. I knocked-off about 20 other nebula and all were picked up easily including a very low in the sky California Nebula that ran from the top to the bottom in the field of view.The big surprise was picking up a nebula that I had never seen before. While I was scanning the area around the Dumbbell Nebula, I spotted a dim but obvious, somewhat large, round glow nearby. After checking my atlas, this nebula turned out to be Sh2-90. So the first night out, and after observing the Dumbbell Nebula for 4 decades, I found a Nebula that I had never seen before! Of course this has more to do with the power of the Image Intensifier than the AT60 but it was still impressive to see under my bright sky conditions and with only a 60mm telescope.. The scope, tripod, mount head, and Micro can all be taken out as one unit and used without a chair for night vision, low power, grab-and go-viewing for those 20-minute ultra-wide filed views of the Horsehead, Flame, Orion, or the Rosetta Nebula on clear but freezing February nights or scanning Sagittarius on late summer nights before going to bed. With that use in mind this scope should do just fine.. Bob.',\n",
       "  15],\n",
       " ['Very pleased to find that the AT60ED has plenty of back focus for the Baader Herschel wedge, and that the fov is large enough to capture the entire solar disk with an ASI-224MC camera.. Here is a pic I just took and ran through Registax..',\n",
       "  18],\n",
       " ['Final Production Photo..', 14],\n",
       " [\"Just an update on second light. I took the AT60ED back outside last night to see how it performed on my AT Voyager mount. For high power viewing on Saturn again, it was much preferred over the photo tripod setup. Vibrations were dampened much quicker, and the slow motion controls were invaluable. Even with the relatively narrow field of view of the Nagler 3-6 zoom, it was easy to track at max magnification. Despite physics, it actually felt like the little scope had more to give, but I'm unlikely to push it any higher than 120X. Unfortunately, the winds kicked up and seeing wasn't too great, but I was very encouraged with this combo. Also, I picked up an Amazon Basics camera backpack for about $20 from Amazon. The scope easily fits in the backpack with room for the diagonal and a few eyepieces. It is designed for a camera, so it isn't perfect, but I really like the portability so I can just throw it on my back, grab the mount and head out the door to find a spot to stargaze.\",\n",
       "  12],\n",
       " ['Finally got my AT60ED and my SmartEQ Pro up and running last night.. First ever decent photo!.',\n",
       "  12]]"
      ]
     },
     "execution_count": 723,
     "metadata": {},
     "output_type": "execute_result"
    }
   ],
   "source": [
    "suggest_post(forum=0,thread=9,n_posts=5)"
   ]
  },
  {
   "cell_type": "markdown",
   "metadata": {
    "heading_collapsed": true
   },
   "source": [
    "## Star rating"
   ]
  },
  {
   "cell_type": "code",
   "execution_count": 758,
   "metadata": {
    "hidden": true
   },
   "outputs": [
    {
     "name": "stdout",
     "output_type": "stream",
     "text": [
      "https://www.cloudynights.com/topic/657675-new-william-optics-binoviewer-on-the-way/\n",
      "I'm very much looking forward to joining the ranks of binoviewer users 4 4.9755\n",
      "I had a most enjoyable evening last night using my C-11 with WO binovi 1 4.9831666666666665\n",
      "Here's an update on my binoviewer adventure. So far here's what has be 1 4.993833333333333\n",
      "Before I forget, the William Optics binoviewers are very good opticall 3 4.8615\n",
      "Hi Bob,. That's great that we have had some clear nights lately. Even  0 4.996666666666667\n",
      "It remained clear tonight with Milky Way faintly visible from Cygnus d 0 4.9875\n",
      "Wait until you look at the moon at high magnification. It's not just t 3 4.049166666666667\n",
      "The new WO Binoviewer showed up today.It is clear tonight to test on a 2 2.3136666666666663\n",
      "I had a most enjoyable evening last night using my C-11 with WO binovi 0 4.974333333333333\n",
      "The 217 mm optical path is not the minimum. There is another 35 mm tha 2 4.867166666666667\n",
      "Well I ran into a problem right from the start, even before getting ou 1 4.897666666666667\n",
      "Testing last night using the 10-inch f/5 GSO Dobson-mount reflector, t 1 4.925666666666667\n",
      "Good for you Russ !. You are in for a treat with the BVer. The moon &  2 4.8975\n",
      "Here is the present iteration of the bino viewer setup:. As indicated  0 4.822333333333333\n",
      "Looking on-line at the William Optics 2X OSC I noticed in its descript 2 4.7525\n",
      "Yes, you are quite right - the filter will be necessary. Also a night  0 4.956833333333333\n",
      "Hi Russ,. The eyepieces I use with my WO binoviewer are Sirius Plossls 1 4.960166666666666\n",
      "I have the WO now for 5 years and still works great! I can use it in m 2 4.811\n",
      "My location in Oregon is at 43-1/3° latitude. So Jupiter culminates at 0 4.927\n",
      "The thread in the WO nose piece is not a T2 but the camera adapter tha 2 2.7848333333333333\n"
     ]
    }
   ],
   "source": [
    "def star_rating(forum,thread,model='nltk_vader',n_posts=20,verbose=False):    \n",
    "    best_posts = suggest_post(forum=forum,thread=thread,n_posts=n_posts)\n",
    "    average_star_rating = 0\n",
    "    \n",
    "    if model == 'nltk_vader':\n",
    "        nltk_sentiment = SentimentIntensityAnalyzer()\n",
    "        for post in best_posts: \n",
    "            post_senti = nltk_sentiment.polarity_scores(post[0])['compound']\n",
    "            star_rating = (post_senti + 2)*5/3\n",
    "            average_star_rating += star_rating/n_posts\n",
    "            post.append(star_rating)\n",
    "    \n",
    "    if verbose:\n",
    "        print(filtered_url_lists[forum][thread])\n",
    "        for post in best_posts:\n",
    "            print(post[0][:70],post[1],post[2])\n",
    "    \n",
    "    return average_star_rating, best_posts\n",
    "\n",
    "results = star_rating(forum=6,thread=4,model='nltk_vader',n_posts=20,verbose=True)"
   ]
  },
  {
   "cell_type": "markdown",
   "metadata": {
    "heading_collapsed": true
   },
   "source": [
    "## Flair"
   ]
  },
  {
   "cell_type": "code",
   "execution_count": null,
   "metadata": {
    "hidden": true
   },
   "outputs": [],
   "source": [
    "#"
   ]
  },
  {
   "cell_type": "code",
   "execution_count": 348,
   "metadata": {
    "hidden": true
   },
   "outputs": [],
   "source": [
    "from flair.data import Sentence\n",
    "from flair.models import TextClassifier"
   ]
  },
  {
   "cell_type": "code",
   "execution_count": 350,
   "metadata": {
    "hidden": true
   },
   "outputs": [
    {
     "name": "stdout",
     "output_type": "stream",
     "text": [
      "2019-09-17 16:09:41,551 https://s3.eu-central-1.amazonaws.com/alan-nlp/resources/models-v0.4/classy-imdb-en-rnn-cuda%3A0/imdb-v0.4.pt not found in cache, downloading to /var/folders/wl/71241skj6sz0crzrns9v7k4w0000gn/T/tmpnmi8c4qq\n"
     ]
    },
    {
     "name": "stderr",
     "output_type": "stream",
     "text": [
      "100%|██████████| 1501979561/1501979561 [02:55<00:00, 8571210.85B/s] "
     ]
    },
    {
     "name": "stdout",
     "output_type": "stream",
     "text": [
      "2019-09-17 16:12:37,280 copying /var/folders/wl/71241skj6sz0crzrns9v7k4w0000gn/T/tmpnmi8c4qq to cache at /Users/daliangli/.flair/models/imdb-v0.4.pt\n"
     ]
    },
    {
     "name": "stderr",
     "output_type": "stream",
     "text": [
      "\n"
     ]
    },
    {
     "name": "stdout",
     "output_type": "stream",
     "text": [
      "2019-09-17 16:12:42,193 removing temp file /var/folders/wl/71241skj6sz0crzrns9v7k4w0000gn/T/tmpnmi8c4qq\n",
      "2019-09-17 16:12:42,429 loading file /Users/daliangli/.flair/models/imdb-v0.4.pt\n"
     ]
    }
   ],
   "source": [
    "classifier = TextClassifier.load('en-sentiment')"
   ]
  },
  {
   "cell_type": "code",
   "execution_count": 369,
   "metadata": {
    "hidden": true
   },
   "outputs": [
    {
     "name": "stdout",
     "output_type": "stream",
     "text": [
      "https://www.cloudynights.com/topic/497406-delite-eyepieces/\n",
      "Tried them out today, and the coatings are the normal Televue level of excellence the eye relief is great, but there was a fair bit of pincushion to my eye (Danny heard me get the Televue guys spun up).... I personally will stick with 24 Panoptics, 17 UWANs, and smaller Naglers for my bino viewing, especially considering the price point. I think they are 100 dollars rich to the price point.. I did ask Al about my personal desire, which is a very high polish Televue quality Ortho, and the response I got was that the Delite would be a better eyepiece. That still doesnt satisfy the desire for an ultra high quality Ortho for me.... Maybe Zeiss, or Nikon, will introduce some..\n",
      "[POSITIVE (0.6714904308319092)]\n"
     ]
    }
   ],
   "source": [
    "i_forum, i_thread = 1,9\n",
    "\n",
    "print(filtered_url_lists_short[i_forum][i_thread])\n",
    "\n",
    "string = comments_all_threads_all_forums[i_forum][i_thread][278]\n",
    "\n",
    "print(string)\n",
    "\n",
    "sentence = Sentence(string)\n",
    "# predict NER tags\n",
    "classifier.predict(sentence)\n",
    "\n",
    "# print sentence with predicted labels\n",
    "print(sentence.labels)"
   ]
  },
  {
   "cell_type": "code",
   "execution_count": 370,
   "metadata": {
    "hidden": true
   },
   "outputs": [],
   "source": [
    "from flair.data_fetcher import NLPTaskDataFetcher\n",
    "from flair.embeddings import WordEmbeddings, FlairEmbeddings, DocumentLSTMEmbeddings\n",
    "from flair.models import TextClassifier\n",
    "from flair.trainers import ModelTrainer\n",
    "from pathlib import Path"
   ]
  },
  {
   "cell_type": "code",
   "execution_count": 460,
   "metadata": {
    "hidden": true
   },
   "outputs": [
    {
     "data": {
      "text/html": [
       "<div>\n",
       "<style scoped>\n",
       "    .dataframe tbody tr th:only-of-type {\n",
       "        vertical-align: middle;\n",
       "    }\n",
       "\n",
       "    .dataframe tbody tr th {\n",
       "        vertical-align: top;\n",
       "    }\n",
       "\n",
       "    .dataframe thead th {\n",
       "        text-align: right;\n",
       "    }\n",
       "</style>\n",
       "<table border=\"1\" class=\"dataframe\">\n",
       "  <thead>\n",
       "    <tr style=\"text-align: right;\">\n",
       "      <th></th>\n",
       "      <th>label</th>\n",
       "      <th>text</th>\n",
       "    </tr>\n",
       "  </thead>\n",
       "  <tbody>\n",
       "    <tr>\n",
       "      <td>192</td>\n",
       "      <td>__label__3</td>\n",
       "      <td>If you don't mind, let's put this into context...</td>\n",
       "    </tr>\n",
       "    <tr>\n",
       "      <td>337</td>\n",
       "      <td>__label__2</td>\n",
       "      <td>Euhm sure but 8\" is no 12\" again that's a big ...</td>\n",
       "    </tr>\n",
       "    <tr>\n",
       "      <td>592</td>\n",
       "      <td>__label__1</td>\n",
       "      <td>Here's the long and the short of it (pun inten...</td>\n",
       "    </tr>\n",
       "    <tr>\n",
       "      <td>674</td>\n",
       "      <td>__label__5</td>\n",
       "      <td>Me, too! I was looking at the rille near Arist...</td>\n",
       "    </tr>\n",
       "    <tr>\n",
       "      <td>130</td>\n",
       "      <td>__label__2</td>\n",
       "      <td>Thanks Don. Actually I signed up for CN just t...</td>\n",
       "    </tr>\n",
       "    <tr>\n",
       "      <td>...</td>\n",
       "      <td>...</td>\n",
       "      <td>...</td>\n",
       "    </tr>\n",
       "    <tr>\n",
       "      <td>117</td>\n",
       "      <td>__label__4</td>\n",
       "      <td>And I got another set (I have 2x23mm and 2x10m...</td>\n",
       "    </tr>\n",
       "    <tr>\n",
       "      <td>314</td>\n",
       "      <td>__label__1</td>\n",
       "      <td>\"Young people don't kill civilizations, old pe...</td>\n",
       "    </tr>\n",
       "    <tr>\n",
       "      <td>585</td>\n",
       "      <td>__label__5</td>\n",
       "      <td>Here you go. Single focus frames, enlarged 2x,...</td>\n",
       "    </tr>\n",
       "    <tr>\n",
       "      <td>651</td>\n",
       "      <td>__label__2</td>\n",
       "      <td>That's great news!. Looking forward to reading...</td>\n",
       "    </tr>\n",
       "    <tr>\n",
       "      <td>201</td>\n",
       "      <td>__label__4</td>\n",
       "      <td>You can see M31 with direct vision naked eye, ...</td>\n",
       "    </tr>\n",
       "  </tbody>\n",
       "</table>\n",
       "<p>694 rows × 2 columns</p>\n",
       "</div>"
      ],
      "text/plain": [
       "          label                                               text\n",
       "192  __label__3  If you don't mind, let's put this into context...\n",
       "337  __label__2  Euhm sure but 8\" is no 12\" again that's a big ...\n",
       "592  __label__1  Here's the long and the short of it (pun inten...\n",
       "674  __label__5  Me, too! I was looking at the rille near Arist...\n",
       "130  __label__2  Thanks Don. Actually I signed up for CN just t...\n",
       "..          ...                                                ...\n",
       "117  __label__4  And I got another set (I have 2x23mm and 2x10m...\n",
       "314  __label__1  \"Young people don't kill civilizations, old pe...\n",
       "585  __label__5  Here you go. Single focus frames, enlarged 2x,...\n",
       "651  __label__2  That's great news!. Looking forward to reading...\n",
       "201  __label__4  You can see M31 with direct vision naked eye, ...\n",
       "\n",
       "[694 rows x 2 columns]"
      ]
     },
     "execution_count": 460,
     "metadata": {},
     "output_type": "execute_result"
    }
   ],
   "source": [
    "data"
   ]
  },
  {
   "cell_type": "code",
   "execution_count": 727,
   "metadata": {
    "hidden": true
   },
   "outputs": [
    {
     "data": {
      "text/plain": [
       "array([[<matplotlib.axes._subplots.AxesSubplot object at 0x1c3a1ca7f0>]],\n",
       "      dtype=object)"
      ]
     },
     "execution_count": 727,
     "metadata": {},
     "output_type": "execute_result"
    },
    {
     "data": {
      "image/png": "[encoded data removed]",
      "text/plain": [
       "<Figure size 1080x432 with 1 Axes>"
      ]
     },
     "metadata": {
      "needs_background": "light"
     },
     "output_type": "display_data"
    },
    {
     "data": {
      "image/png": "[encoded data removed]",
      "text/plain": [
       "<Figure size 1080x432 with 1 Axes>"
      ]
     },
     "metadata": {
      "needs_background": "light"
     },
     "output_type": "display_data"
    }
   ],
   "source": [
    "data_exp = pd.read_csv(\"./data1_hand_labeled_sentiment.csv\", encoding='latin-1').sample(frac=1).drop_duplicates()\n",
    "data_exp.hist()\n",
    "\n",
    "for i in range(len(data_exp['v1'].values)):\n",
    "    data_exp['v1'].values[i] = int(data_exp['v1'].values[i]>3)\n",
    "data_exp.hist()"
   ]
  },
  {
   "cell_type": "code",
   "execution_count": 729,
   "metadata": {
    "hidden": true
   },
   "outputs": [
    {
     "name": "stdout",
     "output_type": "stream",
     "text": [
      "2019-09-18 23:28:34,524 Reading data from .\n",
      "2019-09-18 23:28:34,525 Train: train.csv\n",
      "2019-09-18 23:28:34,526 Dev: dev.csv\n",
      "2019-09-18 23:28:34,528 Test: test.csv\n"
     ]
    },
    {
     "name": "stderr",
     "output_type": "stream",
     "text": [
      "/anaconda3/lib/python3.7/site-packages/ipykernel_launcher.py:15: DeprecationWarning: Call to deprecated function (or staticmethod) load_classification_corpus. (Use 'flair.datasets' instead.) -- Deprecated since version 0.4.1.\n",
      "  from ipykernel import kernelapp as app\n",
      "/anaconda3/lib/python3.7/site-packages/flair/data_fetcher.py:447: DeprecationWarning: Call to deprecated function (or staticmethod) read_text_classification_file. (Use 'flair.datasets' instead.) -- Deprecated since version 0.4.1.\n",
      "  max_tokens_per_doc=max_tokens_per_doc,\n",
      "/anaconda3/lib/python3.7/site-packages/flair/data_fetcher.py:454: DeprecationWarning: Call to deprecated function (or staticmethod) read_text_classification_file. (Use 'flair.datasets' instead.) -- Deprecated since version 0.4.1.\n",
      "  max_tokens_per_doc=max_tokens_per_doc,\n",
      "/anaconda3/lib/python3.7/site-packages/flair/data_fetcher.py:463: DeprecationWarning: Call to deprecated function (or staticmethod) read_text_classification_file. (Use 'flair.datasets' instead.) -- Deprecated since version 0.4.1.\n",
      "  max_tokens_per_doc=max_tokens_per_doc,\n"
     ]
    },
    {
     "name": "stdout",
     "output_type": "stream",
     "text": [
      "2019-09-18 23:28:36,295 Computing label dictionary. Progress:\n"
     ]
    },
    {
     "name": "stderr",
     "output_type": "stream",
     "text": [
      "/anaconda3/lib/python3.7/site-packages/ipykernel_launcher.py:22: DeprecationWarning: Call to deprecated class DocumentLSTMEmbeddings. (The functionality of this class is moved to 'DocumentRNNEmbeddings') -- Deprecated since version 0.4.\n",
      "100%|██████████| 554/554 [00:00<00:00, 241819.59it/s]"
     ]
    },
    {
     "name": "stdout",
     "output_type": "stream",
     "text": [
      "2019-09-18 23:28:36,300 [b'1', b'0']\n",
      "2019-09-18 23:28:36,303 ----------------------------------------------------------------------------------------------------\n",
      "2019-09-18 23:28:36,305 Model: \"TextClassifier(\n",
      "  (document_embeddings): DocumentLSTMEmbeddings(\n",
      "    (embeddings): StackedEmbeddings(\n",
      "      (list_embedding_0): WordEmbeddings('glove')\n",
      "      (list_embedding_1): FlairEmbeddings(\n",
      "        (lm): LanguageModel(\n",
      "          (drop): Dropout(p=0.25)\n",
      "          (encoder): Embedding(275, 100)\n",
      "          (rnn): LSTM(100, 1024)\n",
      "          (decoder): Linear(in_features=1024, out_features=275, bias=True)\n",
      "        )\n",
      "      )\n",
      "      (list_embedding_2): FlairEmbeddings(\n",
      "        (lm): LanguageModel(\n",
      "          (drop): Dropout(p=0.25)\n",
      "          (encoder): Embedding(275, 100)\n",
      "          (rnn): LSTM(100, 1024)\n",
      "          (decoder): Linear(in_features=1024, out_features=275, bias=True)\n",
      "        )\n",
      "      )\n",
      "    )\n",
      "    (word_reprojection_map): Linear(in_features=2148, out_features=256, bias=True)\n",
      "    (rnn): GRU(256, 512)\n",
      "    (dropout): Dropout(p=0.5)\n",
      "  )\n",
      "  (decoder): Linear(in_features=512, out_features=2, bias=True)\n",
      "  (loss_function): CrossEntropyLoss()\n",
      ")\"\n",
      "2019-09-18 23:28:36,306 ----------------------------------------------------------------------------------------------------\n",
      "2019-09-18 23:28:36,307 Corpus: \"Corpus: 554 train + 70 dev + 69 test sentences\"\n",
      "2019-09-18 23:28:36,307 ----------------------------------------------------------------------------------------------------\n",
      "2019-09-18 23:28:36,308 Parameters:\n",
      "2019-09-18 23:28:36,309  - learning_rate: \"0.02\"\n",
      "2019-09-18 23:28:36,310  - mini_batch_size: \"32\"\n",
      "2019-09-18 23:28:36,311  - patience: \"2\"\n",
      "2019-09-18 23:28:36,312  - anneal_factor: \"0.5\"\n",
      "2019-09-18 23:28:36,312  - max_epochs: \"10\"\n",
      "2019-09-18 23:28:36,314  - shuffle: \"True\"\n",
      "2019-09-18 23:28:36,315  - train_with_dev: \"False\"\n",
      "2019-09-18 23:28:36,315 ----------------------------------------------------------------------------------------------------\n",
      "2019-09-18 23:28:36,316 Model training base path: \".\"\n",
      "2019-09-18 23:28:36,317 ----------------------------------------------------------------------------------------------------\n",
      "2019-09-18 23:28:36,318 Device: cpu\n",
      "2019-09-18 23:28:36,319 ----------------------------------------------------------------------------------------------------\n",
      "2019-09-18 23:28:36,320 Embeddings storage mode: cpu\n",
      "2019-09-18 23:28:36,322 ----------------------------------------------------------------------------------------------------\n"
     ]
    },
    {
     "name": "stderr",
     "output_type": "stream",
     "text": [
      "\n"
     ]
    },
    {
     "name": "stdout",
     "output_type": "stream",
     "text": [
      "2019-09-18 23:29:27,404 epoch 1 - iter 0/18 - loss 0.71400088 - samples/sec: 0.63\n",
      "2019-09-18 23:29:48,378 epoch 1 - iter 1/18 - loss 0.68190268 - samples/sec: 1.53\n",
      "2019-09-18 23:30:10,861 epoch 1 - iter 2/18 - loss 0.67633055 - samples/sec: 1.43\n",
      "2019-09-18 23:30:24,569 epoch 1 - iter 3/18 - loss 0.67751384 - samples/sec: 2.34\n",
      "2019-09-18 23:30:36,163 epoch 1 - iter 4/18 - loss 0.64865047 - samples/sec: 2.77\n",
      "2019-09-18 23:31:26,648 epoch 1 - iter 5/18 - loss 0.63283836 - samples/sec: 0.63\n",
      "2019-09-18 23:31:39,983 epoch 1 - iter 6/18 - loss 0.62593441 - samples/sec: 2.41\n",
      "2019-09-18 23:32:15,294 epoch 1 - iter 7/18 - loss 0.61041076 - samples/sec: 0.91\n",
      "2019-09-18 23:32:34,487 epoch 1 - iter 8/18 - loss 0.61244635 - samples/sec: 1.67\n",
      "2019-09-18 23:32:45,612 epoch 1 - iter 9/18 - loss 0.62242081 - samples/sec: 2.89\n",
      "2019-09-18 23:32:51,603 epoch 1 - iter 10/18 - loss 0.61978322 - samples/sec: 5.38\n",
      "2019-09-18 23:33:01,984 epoch 1 - iter 11/18 - loss 0.62273251 - samples/sec: 3.10\n",
      "2019-09-18 23:33:14,220 epoch 1 - iter 12/18 - loss 0.61926172 - samples/sec: 2.62\n",
      "2019-09-18 23:33:25,147 epoch 1 - iter 13/18 - loss 0.62393346 - samples/sec: 2.94\n",
      "2019-09-18 23:33:37,701 epoch 1 - iter 14/18 - loss 0.62224191 - samples/sec: 2.56\n",
      "2019-09-18 23:33:49,679 epoch 1 - iter 15/18 - loss 0.62475662 - samples/sec: 2.68\n",
      "2019-09-18 23:34:03,090 epoch 1 - iter 16/18 - loss 0.62988190 - samples/sec: 2.39\n",
      "2019-09-18 23:34:24,943 epoch 1 - iter 17/18 - loss 0.62637551 - samples/sec: 1.47\n",
      "2019-09-18 23:34:24,980 ----------------------------------------------------------------------------------------------------\n",
      "2019-09-18 23:34:24,982 EPOCH 1 done: loss 0.6264 - lr 0.0200\n",
      "2019-09-18 23:34:47,983 DEV : loss 0.5523255467414856 - score 0.7714\n",
      "2019-09-18 23:34:48,018 BAD EPOCHS (no improvement): 0\n",
      "2019-09-18 23:34:51,788 ----------------------------------------------------------------------------------------------------\n",
      "2019-09-18 23:34:54,897 epoch 2 - iter 0/18 - loss 0.52530295 - samples/sec: 10.30\n",
      "2019-09-18 23:35:00,676 epoch 2 - iter 1/18 - loss 0.55444869 - samples/sec: 5.57\n",
      "2019-09-18 23:35:03,267 epoch 2 - iter 2/18 - loss 0.57184831 - samples/sec: 12.55\n",
      "2019-09-18 23:35:11,983 epoch 2 - iter 3/18 - loss 0.58761559 - samples/sec: 3.69\n",
      "2019-09-18 23:35:15,913 epoch 2 - iter 4/18 - loss 0.60415951 - samples/sec: 8.24\n",
      "2019-09-18 23:35:18,648 epoch 2 - iter 5/18 - loss 0.60214206 - samples/sec: 11.87\n",
      "2019-09-18 23:35:21,302 epoch 2 - iter 6/18 - loss 0.60533062 - samples/sec: 12.24\n",
      "2019-09-18 23:35:22,872 epoch 2 - iter 7/18 - loss 0.60286776 - samples/sec: 20.88\n",
      "2019-09-18 23:35:24,588 epoch 2 - iter 8/18 - loss 0.61285899 - samples/sec: 19.09\n",
      "2019-09-18 23:35:28,191 epoch 2 - iter 9/18 - loss 0.60960942 - samples/sec: 8.98\n",
      "2019-09-18 23:35:35,491 epoch 2 - iter 10/18 - loss 0.59937119 - samples/sec: 4.41\n",
      "2019-09-18 23:35:39,200 epoch 2 - iter 11/18 - loss 0.60268485 - samples/sec: 8.71\n",
      "2019-09-18 23:35:43,510 epoch 2 - iter 12/18 - loss 0.61304120 - samples/sec: 7.49\n",
      "2019-09-18 23:35:47,183 epoch 2 - iter 13/18 - loss 0.62176193 - samples/sec: 8.81\n",
      "2019-09-18 23:35:56,100 epoch 2 - iter 14/18 - loss 0.62434253 - samples/sec: 3.60\n",
      "2019-09-18 23:36:07,712 epoch 2 - iter 15/18 - loss 0.62130677 - samples/sec: 2.76\n",
      "2019-09-18 23:36:12,523 epoch 2 - iter 16/18 - loss 0.61675964 - samples/sec: 6.72\n",
      "2019-09-18 23:36:14,876 epoch 2 - iter 17/18 - loss 0.62234390 - samples/sec: 13.84\n",
      "2019-09-18 23:36:14,913 ----------------------------------------------------------------------------------------------------\n",
      "2019-09-18 23:36:14,914 EPOCH 2 done: loss 0.6223 - lr 0.0200\n",
      "2019-09-18 23:36:16,025 DEV : loss 0.5580019950866699 - score 0.7714\n",
      "2019-09-18 23:36:16,062 BAD EPOCHS (no improvement): 1\n",
      "2019-09-18 23:36:19,547 ----------------------------------------------------------------------------------------------------\n",
      "2019-09-18 23:36:22,847 epoch 3 - iter 0/18 - loss 0.54315543 - samples/sec: 9.70\n",
      "2019-09-18 23:36:27,834 epoch 3 - iter 1/18 - loss 0.50121097 - samples/sec: 6.48\n",
      "2019-09-18 23:36:31,071 epoch 3 - iter 2/18 - loss 0.49188414 - samples/sec: 10.01\n",
      "2019-09-18 23:36:44,652 epoch 3 - iter 3/18 - loss 0.53073853 - samples/sec: 2.36\n",
      "2019-09-18 23:36:48,499 epoch 3 - iter 4/18 - loss 0.58279678 - samples/sec: 8.42\n",
      "2019-09-18 23:36:54,380 epoch 3 - iter 5/18 - loss 0.58463039 - samples/sec: 5.48\n",
      "2019-09-18 23:36:56,991 epoch 3 - iter 6/18 - loss 0.59387326 - samples/sec: 12.45\n",
      "2019-09-18 23:36:59,296 epoch 3 - iter 7/18 - loss 0.59283786 - samples/sec: 14.12\n",
      "2019-09-18 23:37:03,614 epoch 3 - iter 8/18 - loss 0.59267432 - samples/sec: 7.48\n",
      "2019-09-18 23:37:12,429 epoch 3 - iter 9/18 - loss 0.60356416 - samples/sec: 3.65\n",
      "2019-09-18 23:37:17,846 epoch 3 - iter 10/18 - loss 0.60969148 - samples/sec: 5.96\n",
      "2019-09-18 23:37:25,812 epoch 3 - iter 11/18 - loss 0.61191334 - samples/sec: 4.04\n",
      "2019-09-18 23:37:30,482 epoch 3 - iter 12/18 - loss 0.61320198 - samples/sec: 6.91\n",
      "2019-09-18 23:37:38,245 epoch 3 - iter 13/18 - loss 0.61719649 - samples/sec: 4.14\n",
      "2019-09-18 23:37:42,022 epoch 3 - iter 14/18 - loss 0.62072964 - samples/sec: 8.57\n",
      "2019-09-18 23:37:44,863 epoch 3 - iter 15/18 - loss 0.61274241 - samples/sec: 11.43\n",
      "2019-09-18 23:37:50,907 epoch 3 - iter 16/18 - loss 0.61899256 - samples/sec: 5.33\n",
      "2019-09-18 23:37:52,509 epoch 3 - iter 17/18 - loss 0.61872076 - samples/sec: 20.46\n",
      "2019-09-18 23:37:52,550 ----------------------------------------------------------------------------------------------------\n",
      "2019-09-18 23:37:52,552 EPOCH 3 done: loss 0.6187 - lr 0.0200\n",
      "2019-09-18 23:37:53,842 DEV : loss 0.5446627140045166 - score 0.7714\n",
      "2019-09-18 23:37:53,876 BAD EPOCHS (no improvement): 2\n",
      "2019-09-18 23:37:57,882 ----------------------------------------------------------------------------------------------------\n",
      "2019-09-18 23:38:00,132 epoch 4 - iter 0/18 - loss 0.46297792 - samples/sec: 14.23\n",
      "2019-09-18 23:38:09,442 epoch 4 - iter 1/18 - loss 0.53453349 - samples/sec: 3.45\n",
      "2019-09-18 23:38:11,639 epoch 4 - iter 2/18 - loss 0.58056328 - samples/sec: 14.84\n",
      "2019-09-18 23:38:17,800 epoch 4 - iter 3/18 - loss 0.60689927 - samples/sec: 5.23\n",
      "2019-09-18 23:38:20,939 epoch 4 - iter 4/18 - loss 0.61302962 - samples/sec: 10.34\n",
      "2019-09-18 23:38:24,087 epoch 4 - iter 5/18 - loss 0.61115299 - samples/sec: 10.30\n",
      "2019-09-18 23:38:28,071 epoch 4 - iter 6/18 - loss 0.59950035 - samples/sec: 8.13\n",
      "2019-09-18 23:38:31,215 epoch 4 - iter 7/18 - loss 0.60882508 - samples/sec: 10.31\n",
      "2019-09-18 23:38:40,092 epoch 4 - iter 8/18 - loss 0.60793647 - samples/sec: 3.62\n",
      "2019-09-18 23:38:44,048 epoch 4 - iter 9/18 - loss 0.60770471 - samples/sec: 8.17\n",
      "2019-09-18 23:38:46,869 epoch 4 - iter 10/18 - loss 0.60811699 - samples/sec: 11.54\n",
      "2019-09-18 23:38:50,437 epoch 4 - iter 11/18 - loss 0.60965331 - samples/sec: 9.07\n",
      "2019-09-18 23:38:58,925 epoch 4 - iter 12/18 - loss 0.60601833 - samples/sec: 3.79\n",
      "2019-09-18 23:39:02,448 epoch 4 - iter 13/18 - loss 0.60829826 - samples/sec: 9.19\n",
      "2019-09-18 23:39:07,127 epoch 4 - iter 14/18 - loss 0.60604131 - samples/sec: 6.90\n",
      "2019-09-18 23:39:18,861 epoch 4 - iter 15/18 - loss 0.60446327 - samples/sec: 2.74\n",
      "2019-09-18 23:39:21,730 epoch 4 - iter 16/18 - loss 0.60800451 - samples/sec: 11.33\n",
      "2019-09-18 23:39:23,374 epoch 4 - iter 17/18 - loss 0.61400921 - samples/sec: 20.02\n",
      "2019-09-18 23:39:23,422 ----------------------------------------------------------------------------------------------------\n",
      "2019-09-18 23:39:23,423 EPOCH 4 done: loss 0.6140 - lr 0.0200\n",
      "2019-09-18 23:39:24,579 DEV : loss 0.548086941242218 - score 0.7714\n",
      "Epoch     3: reducing learning rate of group 0 to 1.0000e-02.\n",
      "2019-09-18 23:39:24,617 BAD EPOCHS (no improvement): 3\n",
      "2019-09-18 23:39:28,189 ----------------------------------------------------------------------------------------------------\n",
      "2019-09-18 23:39:30,997 epoch 5 - iter 0/18 - loss 0.57225221 - samples/sec: 11.40\n",
      "2019-09-18 23:39:38,147 epoch 5 - iter 1/18 - loss 0.54044926 - samples/sec: 4.50\n",
      "2019-09-18 23:39:41,697 epoch 5 - iter 2/18 - loss 0.53274874 - samples/sec: 9.12\n",
      "2019-09-18 23:39:44,828 epoch 5 - iter 3/18 - loss 0.54445961 - samples/sec: 10.38\n",
      "2019-09-18 23:39:49,277 epoch 5 - iter 4/18 - loss 0.57360312 - samples/sec: 7.27\n",
      "2019-09-18 23:39:51,052 epoch 5 - iter 5/18 - loss 0.57901619 - samples/sec: 18.49\n"
     ]
    },
    {
     "name": "stdout",
     "output_type": "stream",
     "text": [
      "2019-09-18 23:39:52,405 epoch 5 - iter 6/18 - loss 0.56753873 - samples/sec: 24.40\n",
      "2019-09-18 23:39:59,674 epoch 5 - iter 7/18 - loss 0.55884052 - samples/sec: 4.44\n",
      "2019-09-18 23:40:04,950 epoch 5 - iter 8/18 - loss 0.56607845 - samples/sec: 6.13\n",
      "2019-09-18 23:40:10,312 epoch 5 - iter 9/18 - loss 0.58030796 - samples/sec: 6.04\n",
      "2019-09-18 23:40:18,389 epoch 5 - iter 10/18 - loss 0.59164259 - samples/sec: 3.99\n",
      "2019-09-18 23:40:22,239 epoch 5 - iter 11/18 - loss 0.59339044 - samples/sec: 8.42\n",
      "2019-09-18 23:40:36,777 epoch 5 - iter 12/18 - loss 0.59335987 - samples/sec: 2.21\n",
      "2019-09-18 23:40:41,816 epoch 5 - iter 13/18 - loss 0.60458683 - samples/sec: 6.42\n",
      "2019-09-18 23:40:48,223 epoch 5 - iter 14/18 - loss 0.59890784 - samples/sec: 5.04\n",
      "2019-09-18 23:40:59,450 epoch 5 - iter 15/18 - loss 0.60480230 - samples/sec: 2.86\n",
      "2019-09-18 23:41:02,256 epoch 5 - iter 16/18 - loss 0.60305980 - samples/sec: 11.62\n",
      "2019-09-18 23:41:03,027 epoch 5 - iter 17/18 - loss 0.60561051 - samples/sec: 44.56\n",
      "2019-09-18 23:41:03,082 ----------------------------------------------------------------------------------------------------\n",
      "2019-09-18 23:41:03,083 EPOCH 5 done: loss 0.6056 - lr 0.0100\n",
      "2019-09-18 23:41:04,221 DEV : loss 0.5464146733283997 - score 0.7714\n",
      "2019-09-18 23:41:04,255 BAD EPOCHS (no improvement): 1\n",
      "2019-09-18 23:41:08,036 ----------------------------------------------------------------------------------------------------\n",
      "2019-09-18 23:41:16,703 epoch 6 - iter 0/18 - loss 0.56621742 - samples/sec: 3.69\n",
      "2019-09-18 23:41:19,831 epoch 6 - iter 1/18 - loss 0.56844473 - samples/sec: 10.40\n",
      "2019-09-18 23:41:30,916 epoch 6 - iter 2/18 - loss 0.56037084 - samples/sec: 2.90\n",
      "2019-09-18 23:41:39,031 epoch 6 - iter 3/18 - loss 0.55678588 - samples/sec: 3.96\n",
      "2019-09-18 23:41:41,735 epoch 6 - iter 4/18 - loss 0.56759121 - samples/sec: 12.03\n",
      "2019-09-18 23:41:47,229 epoch 6 - iter 5/18 - loss 0.57227943 - samples/sec: 5.87\n",
      "2019-09-18 23:41:50,323 epoch 6 - iter 6/18 - loss 0.58227658 - samples/sec: 10.51\n",
      "2019-09-18 23:41:56,864 epoch 6 - iter 7/18 - loss 0.61029583 - samples/sec: 4.93\n",
      "2019-09-18 23:42:01,071 epoch 6 - iter 8/18 - loss 0.61655900 - samples/sec: 7.70\n",
      "2019-09-18 23:42:04,998 epoch 6 - iter 9/18 - loss 0.61983935 - samples/sec: 8.25\n",
      "2019-09-18 23:42:08,088 epoch 6 - iter 10/18 - loss 0.61711482 - samples/sec: 10.52\n",
      "2019-09-18 23:42:09,920 epoch 6 - iter 11/18 - loss 0.61619255 - samples/sec: 17.92\n",
      "2019-09-18 23:42:17,702 epoch 6 - iter 12/18 - loss 0.61324474 - samples/sec: 4.14\n",
      "2019-09-18 23:42:22,363 epoch 6 - iter 13/18 - loss 0.61105554 - samples/sec: 6.93\n",
      "2019-09-18 23:42:24,798 epoch 6 - iter 14/18 - loss 0.61161165 - samples/sec: 13.44\n",
      "2019-09-18 23:42:29,280 epoch 6 - iter 15/18 - loss 0.60668430 - samples/sec: 7.21\n",
      "2019-09-18 23:42:33,489 epoch 6 - iter 16/18 - loss 0.60603554 - samples/sec: 7.68\n",
      "2019-09-18 23:42:34,972 epoch 6 - iter 17/18 - loss 0.60070277 - samples/sec: 22.25\n",
      "2019-09-18 23:42:35,014 ----------------------------------------------------------------------------------------------------\n",
      "2019-09-18 23:42:35,016 EPOCH 6 done: loss 0.6007 - lr 0.0100\n",
      "2019-09-18 23:42:36,023 DEV : loss 0.536916196346283 - score 0.7714\n",
      "2019-09-18 23:42:36,053 BAD EPOCHS (no improvement): 2\n",
      "2019-09-18 23:42:39,560 ----------------------------------------------------------------------------------------------------\n",
      "2019-09-18 23:42:41,533 epoch 7 - iter 0/18 - loss 0.52249551 - samples/sec: 16.23\n",
      "2019-09-18 23:42:45,782 epoch 7 - iter 1/18 - loss 0.61758325 - samples/sec: 7.60\n",
      "2019-09-18 23:42:50,106 epoch 7 - iter 2/18 - loss 0.58682368 - samples/sec: 7.47\n",
      "2019-09-18 23:42:59,091 epoch 7 - iter 3/18 - loss 0.60491893 - samples/sec: 3.58\n",
      "2019-09-18 23:43:04,813 epoch 7 - iter 4/18 - loss 0.60931852 - samples/sec: 5.64\n",
      "2019-09-18 23:43:08,895 epoch 7 - iter 5/18 - loss 0.60676440 - samples/sec: 7.93\n",
      "2019-09-18 23:43:18,264 epoch 7 - iter 6/18 - loss 0.60539582 - samples/sec: 3.44\n",
      "2019-09-18 23:43:22,687 epoch 7 - iter 7/18 - loss 0.60723188 - samples/sec: 7.31\n",
      "2019-09-18 23:43:25,931 epoch 7 - iter 8/18 - loss 0.60926983 - samples/sec: 10.01\n",
      "2019-09-18 23:43:33,119 epoch 7 - iter 9/18 - loss 0.60872898 - samples/sec: 4.48\n",
      "2019-09-18 23:43:37,613 epoch 7 - iter 10/18 - loss 0.60395372 - samples/sec: 7.20\n",
      "2019-09-18 23:43:39,220 epoch 7 - iter 11/18 - loss 0.60052951 - samples/sec: 20.46\n",
      "2019-09-18 23:43:44,156 epoch 7 - iter 12/18 - loss 0.59866577 - samples/sec: 6.54\n",
      "2019-09-18 23:43:47,727 epoch 7 - iter 13/18 - loss 0.59790330 - samples/sec: 9.09\n",
      "2019-09-18 23:43:52,441 epoch 7 - iter 14/18 - loss 0.59566842 - samples/sec: 6.85\n",
      "2019-09-18 23:43:55,269 epoch 7 - iter 15/18 - loss 0.60144124 - samples/sec: 11.48\n",
      "2019-09-18 23:44:06,167 epoch 7 - iter 16/18 - loss 0.60420062 - samples/sec: 2.95\n",
      "2019-09-18 23:44:07,727 epoch 7 - iter 17/18 - loss 0.61086078 - samples/sec: 21.11\n",
      "2019-09-18 23:44:07,767 ----------------------------------------------------------------------------------------------------\n",
      "2019-09-18 23:44:07,768 EPOCH 7 done: loss 0.6109 - lr 0.0100\n",
      "2019-09-18 23:44:08,858 DEV : loss 0.5466352701187134 - score 0.7714\n",
      "Epoch     6: reducing learning rate of group 0 to 5.0000e-03.\n",
      "2019-09-18 23:44:08,892 BAD EPOCHS (no improvement): 3\n",
      "2019-09-18 23:44:12,407 ----------------------------------------------------------------------------------------------------\n",
      "2019-09-18 23:44:18,734 epoch 8 - iter 0/18 - loss 0.46988088 - samples/sec: 5.06\n",
      "2019-09-18 23:44:22,704 epoch 8 - iter 1/18 - loss 0.50128099 - samples/sec: 8.14\n",
      "2019-09-18 23:44:31,728 epoch 8 - iter 2/18 - loss 0.55110562 - samples/sec: 3.56\n",
      "2019-09-18 23:44:39,924 epoch 8 - iter 3/18 - loss 0.59269139 - samples/sec: 3.92\n",
      "2019-09-18 23:44:40,905 epoch 8 - iter 4/18 - loss 0.58579620 - samples/sec: 34.50\n",
      "2019-09-18 23:44:47,099 epoch 8 - iter 5/18 - loss 0.58569629 - samples/sec: 5.20\n",
      "2019-09-18 23:44:54,330 epoch 8 - iter 6/18 - loss 0.59802878 - samples/sec: 4.45\n",
      "2019-09-18 23:44:59,688 epoch 8 - iter 7/18 - loss 0.60779531 - samples/sec: 6.02\n",
      "2019-09-18 23:45:04,315 epoch 8 - iter 8/18 - loss 0.60811164 - samples/sec: 6.98\n",
      "2019-09-18 23:45:08,619 epoch 8 - iter 9/18 - loss 0.60786790 - samples/sec: 7.50\n",
      "2019-09-18 23:45:10,949 epoch 8 - iter 10/18 - loss 0.60575410 - samples/sec: 13.97\n",
      "2019-09-18 23:45:12,954 epoch 8 - iter 11/18 - loss 0.59897838 - samples/sec: 16.28\n",
      "2019-09-18 23:45:17,045 epoch 8 - iter 12/18 - loss 0.59673143 - samples/sec: 7.90\n",
      "2019-09-18 23:45:21,185 epoch 8 - iter 13/18 - loss 0.59858264 - samples/sec: 7.80\n",
      "2019-09-18 23:45:24,525 epoch 8 - iter 14/18 - loss 0.60759730 - samples/sec: 9.71\n",
      "2019-09-18 23:45:26,524 epoch 8 - iter 15/18 - loss 0.60726391 - samples/sec: 16.36\n",
      "2019-09-18 23:45:28,960 epoch 8 - iter 16/18 - loss 0.60824281 - samples/sec: 13.37\n",
      "2019-09-18 23:45:33,258 epoch 8 - iter 17/18 - loss 0.60255611 - samples/sec: 7.52\n",
      "2019-09-18 23:45:33,303 ----------------------------------------------------------------------------------------------------\n",
      "2019-09-18 23:45:33,305 EPOCH 8 done: loss 0.6026 - lr 0.0050\n",
      "2019-09-18 23:45:34,415 DEV : loss 0.5404000282287598 - score 0.7714\n",
      "2019-09-18 23:45:34,449 BAD EPOCHS (no improvement): 1\n",
      "2019-09-18 23:45:38,016 ----------------------------------------------------------------------------------------------------\n",
      "2019-09-18 23:45:43,028 epoch 9 - iter 0/18 - loss 0.56245327 - samples/sec: 6.39\n",
      "2019-09-18 23:45:48,795 epoch 9 - iter 1/18 - loss 0.52849084 - samples/sec: 5.60\n",
      "2019-09-18 23:45:53,458 epoch 9 - iter 2/18 - loss 0.59664222 - samples/sec: 6.93\n",
      "2019-09-18 23:45:57,109 epoch 9 - iter 3/18 - loss 0.58496675 - samples/sec: 8.86\n",
      "2019-09-18 23:46:05,702 epoch 9 - iter 4/18 - loss 0.59313991 - samples/sec: 3.74\n",
      "2019-09-18 23:46:07,975 epoch 9 - iter 5/18 - loss 0.61069717 - samples/sec: 14.40\n",
      "2019-09-18 23:46:08,930 epoch 9 - iter 6/18 - loss 0.59478172 - samples/sec: 35.56\n",
      "2019-09-18 23:46:22,725 epoch 9 - iter 7/18 - loss 0.59342298 - samples/sec: 2.33\n",
      "2019-09-18 23:46:28,703 epoch 9 - iter 8/18 - loss 0.60375795 - samples/sec: 5.40\n",
      "2019-09-18 23:46:33,817 epoch 9 - iter 9/18 - loss 0.59702796 - samples/sec: 6.32\n",
      "2019-09-18 23:46:37,523 epoch 9 - iter 10/18 - loss 0.60152512 - samples/sec: 8.76\n",
      "2019-09-18 23:46:44,383 epoch 9 - iter 11/18 - loss 0.61094493 - samples/sec: 4.70\n"
     ]
    },
    {
     "name": "stdout",
     "output_type": "stream",
     "text": [
      "2019-09-18 23:46:47,890 epoch 9 - iter 12/18 - loss 0.60365036 - samples/sec: 9.24\n",
      "2019-09-18 23:46:51,141 epoch 9 - iter 13/18 - loss 0.60164602 - samples/sec: 9.97\n",
      "2019-09-18 23:46:54,106 epoch 9 - iter 14/18 - loss 0.60416816 - samples/sec: 10.95\n",
      "2019-09-18 23:47:00,818 epoch 9 - iter 15/18 - loss 0.60166852 - samples/sec: 4.80\n",
      "2019-09-18 23:47:10,025 epoch 9 - iter 16/18 - loss 0.61018569 - samples/sec: 3.49\n",
      "2019-09-18 23:47:10,636 epoch 9 - iter 17/18 - loss 0.61202749 - samples/sec: 56.56\n",
      "2019-09-18 23:47:10,680 ----------------------------------------------------------------------------------------------------\n",
      "2019-09-18 23:47:10,681 EPOCH 9 done: loss 0.6120 - lr 0.0050\n",
      "2019-09-18 23:47:11,899 DEV : loss 0.5410113334655762 - score 0.7714\n",
      "2019-09-18 23:47:11,932 BAD EPOCHS (no improvement): 2\n",
      "2019-09-18 23:47:15,704 ----------------------------------------------------------------------------------------------------\n",
      "2019-09-18 23:47:23,525 epoch 10 - iter 0/18 - loss 0.71868998 - samples/sec: 4.09\n",
      "2019-09-18 23:47:27,199 epoch 10 - iter 1/18 - loss 0.62347138 - samples/sec: 8.87\n",
      "2019-09-18 23:47:34,719 epoch 10 - iter 2/18 - loss 0.62870516 - samples/sec: 4.28\n",
      "2019-09-18 23:47:38,999 epoch 10 - iter 3/18 - loss 0.61115783 - samples/sec: 7.55\n",
      "2019-09-18 23:47:42,257 epoch 10 - iter 4/18 - loss 0.58963529 - samples/sec: 9.97\n",
      "2019-09-18 23:47:53,726 epoch 10 - iter 5/18 - loss 0.58325764 - samples/sec: 2.80\n",
      "2019-09-18 23:47:56,638 epoch 10 - iter 6/18 - loss 0.59870632 - samples/sec: 11.16\n",
      "2019-09-18 23:48:05,531 epoch 10 - iter 7/18 - loss 0.58628849 - samples/sec: 3.62\n",
      "2019-09-18 23:48:08,545 epoch 10 - iter 8/18 - loss 0.59595457 - samples/sec: 10.79\n",
      "2019-09-18 23:48:14,546 epoch 10 - iter 9/18 - loss 0.59187574 - samples/sec: 5.40\n",
      "2019-09-18 23:48:16,896 epoch 10 - iter 10/18 - loss 0.60439144 - samples/sec: 13.91\n",
      "2019-09-18 23:48:21,410 epoch 10 - iter 11/18 - loss 0.60377157 - samples/sec: 7.16\n",
      "2019-09-18 23:48:24,155 epoch 10 - iter 12/18 - loss 0.61216705 - samples/sec: 11.85\n",
      "2019-09-18 23:48:30,144 epoch 10 - iter 13/18 - loss 0.61832914 - samples/sec: 5.38\n",
      "2019-09-18 23:48:33,178 epoch 10 - iter 14/18 - loss 0.61268471 - samples/sec: 10.72\n",
      "2019-09-18 23:48:37,047 epoch 10 - iter 15/18 - loss 0.61356098 - samples/sec: 8.39\n",
      "2019-09-18 23:48:41,752 epoch 10 - iter 16/18 - loss 0.60840314 - samples/sec: 6.86\n",
      "2019-09-18 23:48:42,543 epoch 10 - iter 17/18 - loss 0.60674495 - samples/sec: 42.96\n",
      "2019-09-18 23:48:42,586 ----------------------------------------------------------------------------------------------------\n",
      "2019-09-18 23:48:42,587 EPOCH 10 done: loss 0.6067 - lr 0.0050\n",
      "2019-09-18 23:48:43,638 DEV : loss 0.5395873188972473 - score 0.7714\n",
      "Epoch     9: reducing learning rate of group 0 to 2.5000e-03.\n",
      "2019-09-18 23:48:43,670 BAD EPOCHS (no improvement): 3\n",
      "2019-09-18 23:48:50,368 ----------------------------------------------------------------------------------------------------\n",
      "2019-09-18 23:48:50,370 Testing using best model ...\n",
      "2019-09-18 23:48:50,391 loading file best-model.pt\n"
     ]
    },
    {
     "name": "stderr",
     "output_type": "stream",
     "text": [
      "/anaconda3/lib/python3.7/site-packages/torch/serialization.py:574: DeprecationWarning: Call to deprecated class DocumentLSTMEmbeddings. (The functionality of this class is moved to 'DocumentRNNEmbeddings') -- Deprecated since version 0.4.\n",
      "  result = unpickler.load()\n"
     ]
    },
    {
     "name": "stdout",
     "output_type": "stream",
     "text": [
      "2019-09-18 23:49:07,883 0.6957\t0.6957\t0.6957\n",
      "2019-09-18 23:49:07,884 \n",
      "MICRO_AVG: acc 0.5333 - f1-score 0.6957\n",
      "MACRO_AVG: acc 0.3478 - f1-score 0.41025\n",
      "0          tp: 0 - fp: 0 - fn: 21 - tn: 48 - precision: 0.0000 - recall: 0.0000 - accuracy: 0.0000 - f1-score: 0.0000\n",
      "1          tp: 48 - fp: 21 - fn: 0 - tn: 0 - precision: 0.6957 - recall: 1.0000 - accuracy: 0.6957 - f1-score: 0.8205\n",
      "2019-09-18 23:49:07,885 ----------------------------------------------------------------------------------------------------\n"
     ]
    },
    {
     "data": {
      "text/plain": [
       "{'test_score': 0.6957,\n",
       " 'dev_score_history': [0.7714,\n",
       "  0.7714,\n",
       "  0.7714,\n",
       "  0.7714,\n",
       "  0.7714,\n",
       "  0.7714,\n",
       "  0.7714,\n",
       "  0.7714,\n",
       "  0.7714,\n",
       "  0.7714],\n",
       " 'train_loss_history': [0.6263755096329583,\n",
       "  0.6223439011308882,\n",
       "  0.6187207599480947,\n",
       "  0.6140092064936956,\n",
       "  0.6056105064021217,\n",
       "  0.6007027692264981,\n",
       "  0.610860781537162,\n",
       "  0.6025561061170366,\n",
       "  0.6120274894767337,\n",
       "  0.6067449450492859],\n",
       " 'dev_loss_history': [tensor(0.5523),\n",
       "  tensor(0.5580),\n",
       "  tensor(0.5447),\n",
       "  tensor(0.5481),\n",
       "  tensor(0.5464),\n",
       "  tensor(0.5369),\n",
       "  tensor(0.5466),\n",
       "  tensor(0.5404),\n",
       "  tensor(0.5410),\n",
       "  tensor(0.5396)]}"
      ]
     },
     "execution_count": 729,
     "metadata": {},
     "output_type": "execute_result"
    }
   ],
   "source": [
    "threshold = 2\n",
    "\n",
    "data = pd.read_csv(\"./data1_hand_labeled_sentiment.csv\", encoding='latin-1').sample(frac=1).drop_duplicates()\n",
    "for i in range(len(data['v1'].values)): data['v1'].values[i] = int(data['v1'].values[i]>threshold)\n",
    "data = data[['v1', 'v2']].rename(columns={\"v1\":\"label\", \"v2\":\"text\"})\n",
    " \n",
    "data['label'] = '__label__' + data['label'].astype(str)\n",
    "data.iloc[0:int(len(data)*0.8)].to_csv('train.csv', sep='\\t', index = False, header = False)\n",
    "data.iloc[int(len(data)*0.8):int(len(data)*0.9)].to_csv('test.csv', sep='\\t', index = False, header = False)\n",
    "data.iloc[int(len(data)*0.9):].to_csv('dev.csv', sep='\\t', index = False, header = False);\n",
    "\n",
    "corpus = NLPTaskDataFetcher.load_classification_corpus(Path('./'), \n",
    "                                                       test_file='test.csv', \n",
    "                                                       dev_file='dev.csv', \n",
    "                                                       train_file='train.csv')\n",
    "word_embeddings = [WordEmbeddings('glove'), \n",
    "                   FlairEmbeddings('news-forward-fast'), \n",
    "                   FlairEmbeddings('news-backward-fast')]\n",
    "document_embeddings = DocumentLSTMEmbeddings(word_embeddings, \n",
    "                                             hidden_size=512, \n",
    "                                             reproject_words=True, \n",
    "                                             reproject_words_dimension=256)\n",
    "classifier_c_senti = TextClassifier(document_embeddings, \n",
    "                            label_dictionary=corpus.make_label_dictionary(), \n",
    "                            multi_label=False)\n",
    "trainer = ModelTrainer(classifier_c_senti, corpus)\n",
    "trainer.train('./', max_epochs=10,learning_rate=0.02,patience = 2)"
   ]
  },
  {
   "cell_type": "code",
   "execution_count": 730,
   "metadata": {
    "hidden": true
   },
   "outputs": [
    {
     "name": "stdout",
     "output_type": "stream",
     "text": [
      "2019-09-18 23:49:08,120 Reading data from .\n",
      "2019-09-18 23:49:08,122 Train: train_r.csv\n",
      "2019-09-18 23:49:08,123 Dev: dev_r.csv\n",
      "2019-09-18 23:49:08,124 Test: test_r.csv\n"
     ]
    },
    {
     "name": "stderr",
     "output_type": "stream",
     "text": [
      "/anaconda3/lib/python3.7/site-packages/ipykernel_launcher.py:15: DeprecationWarning: Call to deprecated function (or staticmethod) load_classification_corpus. (Use 'flair.datasets' instead.) -- Deprecated since version 0.4.1.\n",
      "  from ipykernel import kernelapp as app\n",
      "/anaconda3/lib/python3.7/site-packages/flair/data_fetcher.py:447: DeprecationWarning: Call to deprecated function (or staticmethod) read_text_classification_file. (Use 'flair.datasets' instead.) -- Deprecated since version 0.4.1.\n",
      "  max_tokens_per_doc=max_tokens_per_doc,\n",
      "/anaconda3/lib/python3.7/site-packages/flair/data_fetcher.py:454: DeprecationWarning: Call to deprecated function (or staticmethod) read_text_classification_file. (Use 'flair.datasets' instead.) -- Deprecated since version 0.4.1.\n",
      "  max_tokens_per_doc=max_tokens_per_doc,\n",
      "/anaconda3/lib/python3.7/site-packages/flair/data_fetcher.py:463: DeprecationWarning: Call to deprecated function (or staticmethod) read_text_classification_file. (Use 'flair.datasets' instead.) -- Deprecated since version 0.4.1.\n",
      "  max_tokens_per_doc=max_tokens_per_doc,\n"
     ]
    },
    {
     "name": "stdout",
     "output_type": "stream",
     "text": [
      "2019-09-18 23:49:10,752 Computing label dictionary. Progress:\n"
     ]
    },
    {
     "name": "stderr",
     "output_type": "stream",
     "text": [
      "/anaconda3/lib/python3.7/site-packages/ipykernel_launcher.py:22: DeprecationWarning: Call to deprecated class DocumentLSTMEmbeddings. (The functionality of this class is moved to 'DocumentRNNEmbeddings') -- Deprecated since version 0.4.\n",
      "100%|██████████| 554/554 [00:00<00:00, 172415.55it/s]"
     ]
    },
    {
     "name": "stdout",
     "output_type": "stream",
     "text": [
      "2019-09-18 23:49:10,762 [b'0', b'1']\n"
     ]
    },
    {
     "name": "stderr",
     "output_type": "stream",
     "text": [
      "\n"
     ]
    },
    {
     "name": "stdout",
     "output_type": "stream",
     "text": [
      "2019-09-18 23:49:10,974 ----------------------------------------------------------------------------------------------------\n",
      "2019-09-18 23:49:10,975 Model: \"TextClassifier(\n",
      "  (document_embeddings): DocumentLSTMEmbeddings(\n",
      "    (embeddings): StackedEmbeddings(\n",
      "      (list_embedding_0): WordEmbeddings('glove')\n",
      "      (list_embedding_1): FlairEmbeddings(\n",
      "        (lm): LanguageModel(\n",
      "          (drop): Dropout(p=0.25)\n",
      "          (encoder): Embedding(275, 100)\n",
      "          (rnn): LSTM(100, 1024)\n",
      "          (decoder): Linear(in_features=1024, out_features=275, bias=True)\n",
      "        )\n",
      "      )\n",
      "      (list_embedding_2): FlairEmbeddings(\n",
      "        (lm): LanguageModel(\n",
      "          (drop): Dropout(p=0.25)\n",
      "          (encoder): Embedding(275, 100)\n",
      "          (rnn): LSTM(100, 1024)\n",
      "          (decoder): Linear(in_features=1024, out_features=275, bias=True)\n",
      "        )\n",
      "      )\n",
      "    )\n",
      "    (word_reprojection_map): Linear(in_features=2148, out_features=256, bias=True)\n",
      "    (rnn): GRU(256, 512)\n",
      "    (dropout): Dropout(p=0.5)\n",
      "  )\n",
      "  (decoder): Linear(in_features=512, out_features=2, bias=True)\n",
      "  (loss_function): CrossEntropyLoss()\n",
      ")\"\n",
      "2019-09-18 23:49:10,976 ----------------------------------------------------------------------------------------------------\n",
      "2019-09-18 23:49:10,977 Corpus: \"Corpus: 554 train + 70 dev + 69 test sentences\"\n",
      "2019-09-18 23:49:10,978 ----------------------------------------------------------------------------------------------------\n",
      "2019-09-18 23:49:10,980 Parameters:\n",
      "2019-09-18 23:49:10,982  - learning_rate: \"0.02\"\n",
      "2019-09-18 23:49:10,983  - mini_batch_size: \"32\"\n",
      "2019-09-18 23:49:10,985  - patience: \"2\"\n",
      "2019-09-18 23:49:10,986  - anneal_factor: \"0.5\"\n",
      "2019-09-18 23:49:10,987  - max_epochs: \"10\"\n",
      "2019-09-18 23:49:10,988  - shuffle: \"True\"\n",
      "2019-09-18 23:49:10,990  - train_with_dev: \"False\"\n",
      "2019-09-18 23:49:10,991 ----------------------------------------------------------------------------------------------------\n",
      "2019-09-18 23:49:10,991 Model training base path: \".\"\n",
      "2019-09-18 23:49:10,992 ----------------------------------------------------------------------------------------------------\n",
      "2019-09-18 23:49:10,993 Device: cpu\n",
      "2019-09-18 23:49:10,995 ----------------------------------------------------------------------------------------------------\n",
      "2019-09-18 23:49:10,996 Embeddings storage mode: cpu\n",
      "2019-09-18 23:49:11,003 ----------------------------------------------------------------------------------------------------\n",
      "2019-09-18 23:49:34,329 epoch 1 - iter 0/18 - loss 0.69943660 - samples/sec: 1.37\n",
      "2019-09-18 23:50:01,745 ----------------------------------------------------------------------------------------------------\n",
      "2019-09-18 23:50:01,748 Exiting from training early.\n",
      "2019-09-18 23:50:01,750 Saving model ...\n",
      "2019-09-18 23:50:05,442 Done.\n",
      "2019-09-18 23:50:05,459 ----------------------------------------------------------------------------------------------------\n",
      "2019-09-18 23:50:05,460 Testing using best model ...\n",
      "2019-09-18 23:50:05,461 loading file best-model.pt\n"
     ]
    },
    {
     "name": "stderr",
     "output_type": "stream",
     "text": [
      "/anaconda3/lib/python3.7/site-packages/torch/serialization.py:574: DeprecationWarning: Call to deprecated class DocumentLSTMEmbeddings. (The functionality of this class is moved to 'DocumentRNNEmbeddings') -- Deprecated since version 0.4.\n",
      "  result = unpickler.load()\n"
     ]
    },
    {
     "name": "stdout",
     "output_type": "stream",
     "text": [
      "2019-09-18 23:50:57,213 0.1739\t0.1739\t0.1739\n",
      "2019-09-18 23:50:57,215 \n",
      "MICRO_AVG: acc 0.0952 - f1-score 0.1739\n",
      "MACRO_AVG: acc 0.0869 - f1-score 0.14815\n",
      "0          tp: 0 - fp: 0 - fn: 57 - tn: 12 - precision: 0.0000 - recall: 0.0000 - accuracy: 0.0000 - f1-score: 0.0000\n",
      "1          tp: 12 - fp: 57 - fn: 0 - tn: 0 - precision: 0.1739 - recall: 1.0000 - accuracy: 0.1739 - f1-score: 0.2963\n",
      "2019-09-18 23:50:57,216 ----------------------------------------------------------------------------------------------------\n"
     ]
    },
    {
     "data": {
      "text/plain": [
       "{'test_score': 0.1739,\n",
       " 'dev_score_history': [],\n",
       " 'train_loss_history': [],\n",
       " 'dev_loss_history': []}"
      ]
     },
     "execution_count": 730,
     "metadata": {},
     "output_type": "execute_result"
    }
   ],
   "source": [
    "threshold = 3\n",
    "\n",
    "data = pd.read_csv(\"./data1_hand_labeled_relevance.csv\", encoding='latin-1').sample(frac=1).drop_duplicates()\n",
    "for i in range(len(data['v1'].values)): data['v1'].values[i] = int(data['v1'].values[i]>threshold)\n",
    "data = data[['v1', 'v2']].rename(columns={\"v1\":\"label\", \"v2\":\"text\"})\n",
    " \n",
    "data['label'] = '__label__' + data['label'].astype(str)\n",
    "data.iloc[0:int(len(data)*0.8)].to_csv('train_r.csv', sep='\\t', index = False, header = False)\n",
    "data.iloc[int(len(data)*0.8):int(len(data)*0.9)].to_csv('test_r.csv', sep='\\t', index = False, header = False)\n",
    "data.iloc[int(len(data)*0.9):].to_csv('dev_r.csv', sep='\\t', index = False, header = False);\n",
    "\n",
    "corpus = NLPTaskDataFetcher.load_classification_corpus(Path('./'), \n",
    "                                                       test_file='test_r.csv', \n",
    "                                                       dev_file='dev_r.csv', \n",
    "                                                       train_file='train_r.csv')\n",
    "word_embeddings = [WordEmbeddings('glove'), \n",
    "                   FlairEmbeddings('news-forward-fast'), \n",
    "                   FlairEmbeddings('news-backward-fast')]\n",
    "document_embeddings = DocumentLSTMEmbeddings(word_embeddings, \n",
    "                                             hidden_size=512, \n",
    "                                             reproject_words=True, \n",
    "                                             reproject_words_dimension=256)\n",
    "classifier_c_senti = TextClassifier(document_embeddings, \n",
    "                            label_dictionary=corpus.make_label_dictionary(), \n",
    "                            multi_label=False)\n",
    "trainer = ModelTrainer(classifier_c_senti, corpus)\n",
    "trainer.train('./', max_epochs=10,learning_rate=0.02,patience = 2)"
   ]
  },
  {
   "cell_type": "code",
   "execution_count": 551,
   "metadata": {
    "hidden": true
   },
   "outputs": [
    {
     "data": {
      "text/html": [
       "<div>\n",
       "<style scoped>\n",
       "    .dataframe tbody tr th:only-of-type {\n",
       "        vertical-align: middle;\n",
       "    }\n",
       "\n",
       "    .dataframe tbody tr th {\n",
       "        vertical-align: top;\n",
       "    }\n",
       "\n",
       "    .dataframe thead th {\n",
       "        text-align: right;\n",
       "    }\n",
       "</style>\n",
       "<table border=\"1\" class=\"dataframe\">\n",
       "  <thead>\n",
       "    <tr style=\"text-align: right;\">\n",
       "      <th></th>\n",
       "      <th>label</th>\n",
       "      <th>text</th>\n",
       "    </tr>\n",
       "  </thead>\n",
       "  <tbody>\n",
       "    <tr>\n",
       "      <td>404</td>\n",
       "      <td>0</td>\n",
       "      <td>Thanks, guys.  I've checked Paul's Youtube Cha...</td>\n",
       "    </tr>\n",
       "    <tr>\n",
       "      <td>381</td>\n",
       "      <td>0</td>\n",
       "      <td>This.. I'm a little bit of an audiophile, and ...</td>\n",
       "    </tr>\n",
       "    <tr>\n",
       "      <td>235</td>\n",
       "      <td>1</td>\n",
       "      <td>Factory solution is to replace the aperture st...</td>\n",
       "    </tr>\n",
       "    <tr>\n",
       "      <td>699</td>\n",
       "      <td>0</td>\n",
       "      <td>Johnny, Jeff is correct!  The Barlow \"Slider\" ...</td>\n",
       "    </tr>\n",
       "    <tr>\n",
       "      <td>93</td>\n",
       "      <td>0</td>\n",
       "      <td>Heya Jim. The 6.5mm backfocus spec for the ASI...</td>\n",
       "    </tr>\n",
       "    <tr>\n",
       "      <td>...</td>\n",
       "      <td>...</td>\n",
       "      <td>...</td>\n",
       "    </tr>\n",
       "    <tr>\n",
       "      <td>304</td>\n",
       "      <td>0</td>\n",
       "      <td>Thanks Mike! Yo, I'm from Joysey!. Who's Voila...</td>\n",
       "    </tr>\n",
       "    <tr>\n",
       "      <td>542</td>\n",
       "      <td>0</td>\n",
       "      <td>John said, \"The focus tube should not protrude...</td>\n",
       "    </tr>\n",
       "    <tr>\n",
       "      <td>493</td>\n",
       "      <td>0</td>\n",
       "      <td>OK I guess the club has membership levels- I'm...</td>\n",
       "    </tr>\n",
       "    <tr>\n",
       "      <td>593</td>\n",
       "      <td>0</td>\n",
       "      <td>Due to my Christmas generosity, I will volunte...</td>\n",
       "    </tr>\n",
       "    <tr>\n",
       "      <td>605</td>\n",
       "      <td>0</td>\n",
       "      <td>diameter of beamsplitter....</td>\n",
       "    </tr>\n",
       "  </tbody>\n",
       "</table>\n",
       "<p>70 rows × 2 columns</p>\n",
       "</div>"
      ],
      "text/plain": [
       "    label                                               text\n",
       "404     0  Thanks, guys.  I've checked Paul's Youtube Cha...\n",
       "381     0  This.. I'm a little bit of an audiophile, and ...\n",
       "235     1  Factory solution is to replace the aperture st...\n",
       "699     0  Johnny, Jeff is correct!  The Barlow \"Slider\" ...\n",
       "93      0  Heya Jim. The 6.5mm backfocus spec for the ASI...\n",
       "..    ...                                                ...\n",
       "304     0  Thanks Mike! Yo, I'm from Joysey!. Who's Voila...\n",
       "542     0  John said, \"The focus tube should not protrude...\n",
       "493     0  OK I guess the club has membership levels- I'm...\n",
       "593     0  Due to my Christmas generosity, I will volunte...\n",
       "605     0                       diameter of beamsplitter....\n",
       "\n",
       "[70 rows x 2 columns]"
      ]
     },
     "execution_count": 551,
     "metadata": {},
     "output_type": "execute_result"
    }
   ],
   "source": [
    "test_data = data.iloc[int(len(data)*0.9):]\n",
    "for i,label in enumerate(test_data[\"label\"].values): test_data[\"label\"].values[i] = int(label[-1])\n",
    "\n",
    "test_data"
   ]
  },
  {
   "cell_type": "code",
   "execution_count": 733,
   "metadata": {
    "hidden": true
   },
   "outputs": [],
   "source": [
    "def predict_all(predictor,texts):\n",
    "    result = []\n",
    "    for text in texts:\n",
    "        sentence = Sentence(text)\n",
    "        predictor.predict(sentence)\n",
    "        result.append([int(sentence.labels[0].value),sentence.labels[0].score])\n",
    "        \n",
    "    return result\n",
    "\n",
    "c_pred = predict_all(classifier_c_senti,test_data[\"text\"].values)"
   ]
  },
  {
   "cell_type": "code",
   "execution_count": 734,
   "metadata": {
    "hidden": true
   },
   "outputs": [
    {
     "data": {
      "text/plain": [
       "[[0, 0.5345116853713989],\n",
       " [0, 0.526680052280426],\n",
       " [0, 0.5459133982658386],\n",
       " [0, 0.5391666889190674],\n",
       " [0, 0.5461491346359253],\n",
       " [0, 0.5679156184196472],\n",
       " [0, 0.5424973368644714],\n",
       " [0, 0.5630432367324829],\n",
       " [0, 0.5425291657447815],\n",
       " [0, 0.5251601338386536],\n",
       " [0, 0.5700692534446716],\n",
       " [0, 0.5357963442802429],\n",
       " [0, 0.5359060764312744],\n",
       " [0, 0.5413738489151001],\n",
       " [0, 0.5477930903434753],\n",
       " [0, 0.5480183959007263],\n",
       " [0, 0.5451238751411438],\n",
       " [0, 0.542252779006958],\n",
       " [0, 0.5351614356040955],\n",
       " [0, 0.5269732475280762],\n",
       " [0, 0.5613128542900085],\n",
       " [0, 0.5102181434631348],\n",
       " [0, 0.5250135064125061],\n",
       " [0, 0.5248228311538696],\n",
       " [0, 0.5328991413116455],\n",
       " [0, 0.5307643413543701],\n",
       " [0, 0.518776535987854],\n",
       " [0, 0.5409107804298401],\n",
       " [0, 0.5305058360099792],\n",
       " [0, 0.5254279375076294],\n",
       " [0, 0.6011669635772705],\n",
       " [0, 0.5555381178855896],\n",
       " [0, 0.5547741651535034],\n",
       " [0, 0.5690692067146301],\n",
       " [0, 0.540546715259552],\n",
       " [0, 0.538185179233551],\n",
       " [0, 0.5366004109382629],\n",
       " [0, 0.5647025108337402],\n",
       " [0, 0.568665623664856],\n",
       " [0, 0.5618948340415955],\n",
       " [0, 0.5409197211265564],\n",
       " [0, 0.5591055154800415],\n",
       " [0, 0.5578171610832214],\n",
       " [0, 0.5583696365356445],\n",
       " [0, 0.5553680062294006],\n",
       " [0, 0.5224707126617432],\n",
       " [0, 0.5318350195884705],\n",
       " [0, 0.5700890421867371],\n",
       " [0, 0.5499301552772522],\n",
       " [0, 0.5336215496063232],\n",
       " [0, 0.5521471500396729],\n",
       " [0, 0.5241882801055908],\n",
       " [0, 0.5449854135513306],\n",
       " [0, 0.5575798153877258],\n",
       " [0, 0.5445002317428589],\n",
       " [0, 0.5446675419807434],\n",
       " [0, 0.5560969710350037],\n",
       " [0, 0.558139979839325],\n",
       " [0, 0.5424960255622864],\n",
       " [0, 0.5518509745597839],\n",
       " [0, 0.552170991897583],\n",
       " [0, 0.5351961255073547],\n",
       " [0, 0.5233888030052185],\n",
       " [1, 0.500743567943573],\n",
       " [0, 0.525610089302063],\n",
       " [0, 0.5514816045761108],\n",
       " [0, 0.5360074043273926],\n",
       " [0, 0.5645122528076172],\n",
       " [0, 0.5300909280776978],\n",
       " [0, 0.5339001417160034]]"
      ]
     },
     "execution_count": 734,
     "metadata": {},
     "output_type": "execute_result"
    }
   ],
   "source": [
    "c_pred"
   ]
  },
  {
   "cell_type": "code",
   "execution_count": 554,
   "metadata": {
    "hidden": true
   },
   "outputs": [],
   "source": [
    "precision = np.mean(np.array(c_pred).T[0] == test_data[\"label\"].values) "
   ]
  },
  {
   "cell_type": "code",
   "execution_count": 560,
   "metadata": {
    "hidden": true
   },
   "outputs": [
    {
     "data": {
      "text/plain": [
       "array([0., 0., 0., 0., 0., 0., 0., 0., 0., 0., 0., 0., 0., 0., 0., 0., 0.,\n",
       "       0., 0., 0., 0., 0., 0., 0., 0., 0., 0., 0., 0., 0., 0., 0., 0., 0.,\n",
       "       0., 0., 0., 0., 0., 0., 0., 0., 0., 0., 0., 0., 0., 0., 0., 0., 0.,\n",
       "       0., 0., 0., 0., 0., 0., 0., 0., 0., 0., 0., 0., 0., 0., 0., 0., 0.,\n",
       "       0., 0.])"
      ]
     },
     "execution_count": 560,
     "metadata": {},
     "output_type": "execute_result"
    }
   ],
   "source": [
    "np.array(c_pred).T[0][list(test_data[\"label\"].values)]"
   ]
  },
  {
   "cell_type": "code",
   "execution_count": null,
   "metadata": {
    "hidden": true
   },
   "outputs": [],
   "source": [
    "np.array(c_pred).T"
   ]
  },
  {
   "cell_type": "code",
   "execution_count": 540,
   "metadata": {
    "hidden": true
   },
   "outputs": [
    {
     "data": {
      "text/plain": [
       "'0'"
      ]
     },
     "execution_count": 540,
     "metadata": {},
     "output_type": "execute_result"
    }
   ],
   "source": [
    "sentence.labels[0].value"
   ]
  },
  {
   "cell_type": "code",
   "execution_count": 377,
   "metadata": {
    "hidden": true
   },
   "outputs": [
    {
     "name": "stdout",
     "output_type": "stream",
     "text": [
      "https://www.cloudynights.com/topic/497406-delite-eyepieces/\n",
      "Tried them out today, and the coatings are the normal Televue level of excellence the eye relief is great, but there was a fair bit of pincushion to my eye (Danny heard me get the Televue guys spun up).... I personally will stick with 24 Panoptics, 17 UWANs, and smaller Naglers for my bino viewing, especially considering the price point. I think they are 100 dollars rich to the price point.. I did ask Al about my personal desire, which is a very high polish Televue quality Ortho, and the response I got was that the Delite would be a better eyepiece. That still doesnt satisfy the desire for an ultra high quality Ortho for me.... Maybe Zeiss, or Nikon, will introduce some..\n",
      "[ham (0.9998044371604919)]\n"
     ]
    }
   ],
   "source": [
    "i_forum, i_thread = 1,9\n",
    "\n",
    "print(filtered_url_lists_short[i_forum][i_thread])\n",
    "\n",
    "string = comments_all_threads_all_forums[i_forum][i_thread][278]\n",
    "\n",
    "print(string)\n",
    "\n",
    "sentence = Sentence(string)\n",
    "# predict NER tags\n",
    "classifier_c.predict(sentence)\n",
    "\n",
    "# print sentence with predicted labels\n",
    "print(sentence.labels)"
   ]
  },
  {
   "cell_type": "markdown",
   "metadata": {
    "heading_collapsed": true
   },
   "source": [
    "## Hand labeling data"
   ]
  },
  {
   "cell_type": "code",
   "execution_count": 814,
   "metadata": {
    "hidden": true,
    "scrolled": true
   },
   "outputs": [],
   "source": [
    "#Select subset for hand labeling\n",
    "#hand_labeled_sample = []\n",
    "\n",
    "#for j,forum in enumerate(comments_all_threads_all_forums):\n",
    "    #print(\"forum\", j)\n",
    "#    for i in range(10):\n",
    "        #print(len(forum[i]))\n",
    "#        current_samples = random.sample(forum[i], 10)\n",
    "#        for sample in current_samples:\n",
    "#                hand_labeled_sample.append([title_lists[j][i],sample])\n",
    "\n",
    "#pd.DataFrame(hand_labeled_sample).to_csv('data1.csv', index = True, header = False)\n",
    "\n",
    "def isNaN(num):\n",
    "    return num != num\n",
    "\n",
    "def find_substring_in_list(list_of_strings,sub_string):\n",
    "    for i,comment in enumerate(list_of_strings):\n",
    "        if sub_string in comment: return i,comment\n",
    "\n",
    "\n",
    "#data1_hand = pd.read_csv('data1_hand_labeled.csv',header = None)\n",
    "\n",
    "#Remove nan, add forum and thread index\n",
    "#records = []\n",
    "#index = 0\n",
    "#for row in data1_hand.iterrows():\n",
    "#    if not isNaN(row[1][2]): \n",
    "#        i_forum = int(index/100)\n",
    "#        i_thread = int((index%100)/10)\n",
    "#        i_post,post = find_substring_in_list(comments_all_threads_all_forums[i_forum][i_thread],\n",
    "#                                             sub_string = row[1][2][:80])\n",
    "#        records.append([i_forum,i_thread,i_post,row[1][1],post,\n",
    "#                        info_all_threads_all_forums[i_forum][i_thread][i_post][1],row[1][3],row[1][4]])\n",
    "#    index += 1\n",
    "    \n",
    "\n",
    "#pd_records = pd.DataFrame(records)\n",
    "#pd_records.columns = [\"forum\", \"thread\", \"post\",\"thread_title\",\"text\",\"n_likes\",\"sentiment\",\"relevance\"]\n",
    "#pd_records.to_csv('data1_extra.csv', index = False, header = True)"
   ]
  },
  {
   "cell_type": "code",
   "execution_count": 936,
   "metadata": {
    "hidden": true
   },
   "outputs": [],
   "source": [
    "!cd ..   #change to the dir you want "
   ]
  },
  {
   "cell_type": "code",
   "execution_count": 937,
   "metadata": {
    "hidden": true
   },
   "outputs": [
    {
     "data": {
      "text/plain": [
       "'/Users/daliangli/Dropbox/Insight/NLP_project/web_app/flaskexample'"
      ]
     },
     "execution_count": 937,
     "metadata": {},
     "output_type": "execute_result"
    }
   ],
   "source": [
    "pwd"
   ]
  },
  {
   "cell_type": "code",
   "execution_count": 952,
   "metadata": {
    "hidden": true
   },
   "outputs": [
    {
     "data": {
      "text/plain": [
       "array([[<matplotlib.axes._subplots.AxesSubplot object at 0x1c6a06f748>]],\n",
       "      dtype=object)"
      ]
     },
     "execution_count": 952,
     "metadata": {},
     "output_type": "execute_result"
    },
    {
     "data": {
      "image/png": "[encoded data removed]",
      "text/plain": [
       "<Figure size 1080x432 with 1 Axes>"
      ]
     },
     "metadata": {
      "needs_background": "light"
     },
     "output_type": "display_data"
    },
    {
     "data": {
      "image/png": "[encoded data removed]",
      "text/plain": [
       "<Figure size 1080x432 with 1 Axes>"
      ]
     },
     "metadata": {
      "needs_background": "light"
     },
     "output_type": "display_data"
    },
    {
     "data": {
      "image/png": "[encoded data removed]",
      "text/plain": [
       "<Figure size 1080x432 with 1 Axes>"
      ]
     },
     "metadata": {
      "needs_background": "light"
     },
     "output_type": "display_data"
    }
   ],
   "source": [
    "data1_extra = pd.read_csv('data1_extra.csv')\n",
    "\n",
    "data1_extra.hist(column = 'sentiment')\n",
    "data1_extra.hist(column = 'nltk_senti')\n",
    "data1_extra.hist(column = 'n_likes')"
   ]
  },
  {
   "cell_type": "code",
   "execution_count": 899,
   "metadata": {
    "hidden": true
   },
   "outputs": [
    {
     "data": {
      "text/html": [
       "<div>\n",
       "<style scoped>\n",
       "    .dataframe tbody tr th:only-of-type {\n",
       "        vertical-align: middle;\n",
       "    }\n",
       "\n",
       "    .dataframe tbody tr th {\n",
       "        vertical-align: top;\n",
       "    }\n",
       "\n",
       "    .dataframe thead th {\n",
       "        text-align: right;\n",
       "    }\n",
       "</style>\n",
       "<table border=\"1\" class=\"dataframe\">\n",
       "  <thead>\n",
       "    <tr style=\"text-align: right;\">\n",
       "      <th></th>\n",
       "      <th>forum</th>\n",
       "      <th>thread</th>\n",
       "      <th>post</th>\n",
       "      <th>thread_title</th>\n",
       "      <th>text</th>\n",
       "      <th>n_likes</th>\n",
       "      <th>sentiment</th>\n",
       "      <th>relevance</th>\n",
       "      <th>nltk_senti</th>\n",
       "    </tr>\n",
       "  </thead>\n",
       "  <tbody>\n",
       "    <tr>\n",
       "      <td>0</td>\n",
       "      <td>0</td>\n",
       "      <td>0</td>\n",
       "      <td>933</td>\n",
       "      <td>takitis</td>\n",
       "      <td>Sorry, my bad.. However, OPT has the TOA 150B ...</td>\n",
       "      <td>0</td>\n",
       "      <td>3</td>\n",
       "      <td>1</td>\n",
       "      <td>2</td>\n",
       "    </tr>\n",
       "    <tr>\n",
       "      <td>1</td>\n",
       "      <td>0</td>\n",
       "      <td>0</td>\n",
       "      <td>474</td>\n",
       "      <td>takitis</td>\n",
       "      <td>You're absolutely correct. I don't believe tha...</td>\n",
       "      <td>0</td>\n",
       "      <td>3</td>\n",
       "      <td>1</td>\n",
       "      <td>2</td>\n",
       "    </tr>\n",
       "    <tr>\n",
       "      <td>2</td>\n",
       "      <td>0</td>\n",
       "      <td>0</td>\n",
       "      <td>1233</td>\n",
       "      <td>takitis</td>\n",
       "      <td>Same here Scott. I rarely get the 102 out sinc...</td>\n",
       "      <td>1</td>\n",
       "      <td>5</td>\n",
       "      <td>2</td>\n",
       "      <td>2</td>\n",
       "    </tr>\n",
       "    <tr>\n",
       "      <td>3</td>\n",
       "      <td>0</td>\n",
       "      <td>0</td>\n",
       "      <td>280</td>\n",
       "      <td>takitis</td>\n",
       "      <td>Actually they are pretty close as far as I am ...</td>\n",
       "      <td>8</td>\n",
       "      <td>3</td>\n",
       "      <td>3</td>\n",
       "      <td>4</td>\n",
       "    </tr>\n",
       "    <tr>\n",
       "      <td>4</td>\n",
       "      <td>0</td>\n",
       "      <td>0</td>\n",
       "      <td>325</td>\n",
       "      <td>takitis</td>\n",
       "      <td>I got my FC76 used from Japan, and it still ha...</td>\n",
       "      <td>0</td>\n",
       "      <td>4</td>\n",
       "      <td>1</td>\n",
       "      <td>1</td>\n",
       "    </tr>\n",
       "    <tr>\n",
       "      <td>...</td>\n",
       "      <td>...</td>\n",
       "      <td>...</td>\n",
       "      <td>...</td>\n",
       "      <td>...</td>\n",
       "      <td>...</td>\n",
       "      <td>...</td>\n",
       "      <td>...</td>\n",
       "      <td>...</td>\n",
       "      <td>...</td>\n",
       "    </tr>\n",
       "    <tr>\n",
       "      <td>688</td>\n",
       "      <td>6</td>\n",
       "      <td>9</td>\n",
       "      <td>37</td>\n",
       "      <td>denk binotron first light</td>\n",
       "      <td>Right on..and Aloha! Nice report, nothing like...</td>\n",
       "      <td>0</td>\n",
       "      <td>5</td>\n",
       "      <td>3</td>\n",
       "      <td>4</td>\n",
       "    </tr>\n",
       "    <tr>\n",
       "      <td>689</td>\n",
       "      <td>6</td>\n",
       "      <td>9</td>\n",
       "      <td>76</td>\n",
       "      <td>denk binotron first light</td>\n",
       "      <td>Jan 15 for me Bruce, with no extra bits, just ...</td>\n",
       "      <td>0</td>\n",
       "      <td>4</td>\n",
       "      <td>2</td>\n",
       "      <td>2</td>\n",
       "    </tr>\n",
       "    <tr>\n",
       "      <td>690</td>\n",
       "      <td>6</td>\n",
       "      <td>9</td>\n",
       "      <td>38</td>\n",
       "      <td>denk binotron first light</td>\n",
       "      <td>Mine shipped today!.</td>\n",
       "      <td>0</td>\n",
       "      <td>5</td>\n",
       "      <td>2</td>\n",
       "      <td>2</td>\n",
       "    </tr>\n",
       "    <tr>\n",
       "      <td>691</td>\n",
       "      <td>6</td>\n",
       "      <td>9</td>\n",
       "      <td>59</td>\n",
       "      <td>denk binotron first light</td>\n",
       "      <td>The ZAOs were not necessarily bested but they ...</td>\n",
       "      <td>0</td>\n",
       "      <td>4</td>\n",
       "      <td>5</td>\n",
       "      <td>5</td>\n",
       "    </tr>\n",
       "    <tr>\n",
       "      <td>692</td>\n",
       "      <td>6</td>\n",
       "      <td>9</td>\n",
       "      <td>72</td>\n",
       "      <td>denk binotron first light</td>\n",
       "      <td>Johnny, Jeff is correct!  The Barlow \"Slider\" ...</td>\n",
       "      <td>0</td>\n",
       "      <td>4</td>\n",
       "      <td>3</td>\n",
       "      <td>3</td>\n",
       "    </tr>\n",
       "  </tbody>\n",
       "</table>\n",
       "<p>693 rows × 9 columns</p>\n",
       "</div>"
      ],
      "text/plain": [
       "     forum  thread  post               thread_title  \\\n",
       "0        0       0   933                    takitis   \n",
       "1        0       0   474                    takitis   \n",
       "2        0       0  1233                    takitis   \n",
       "3        0       0   280                    takitis   \n",
       "4        0       0   325                    takitis   \n",
       "..     ...     ...   ...                        ...   \n",
       "688      6       9    37  denk binotron first light   \n",
       "689      6       9    76  denk binotron first light   \n",
       "690      6       9    38  denk binotron first light   \n",
       "691      6       9    59  denk binotron first light   \n",
       "692      6       9    72  denk binotron first light   \n",
       "\n",
       "                                                  text  n_likes  sentiment  \\\n",
       "0    Sorry, my bad.. However, OPT has the TOA 150B ...        0          3   \n",
       "1    You're absolutely correct. I don't believe tha...        0          3   \n",
       "2    Same here Scott. I rarely get the 102 out sinc...        1          5   \n",
       "3    Actually they are pretty close as far as I am ...        8          3   \n",
       "4    I got my FC76 used from Japan, and it still ha...        0          4   \n",
       "..                                                 ...      ...        ...   \n",
       "688  Right on..and Aloha! Nice report, nothing like...        0          5   \n",
       "689  Jan 15 for me Bruce, with no extra bits, just ...        0          4   \n",
       "690                               Mine shipped today!.        0          5   \n",
       "691  The ZAOs were not necessarily bested but they ...        0          4   \n",
       "692  Johnny, Jeff is correct!  The Barlow \"Slider\" ...        0          4   \n",
       "\n",
       "     relevance  nltk_senti  \n",
       "0            1           2  \n",
       "1            1           2  \n",
       "2            2           2  \n",
       "3            3           4  \n",
       "4            1           1  \n",
       "..         ...         ...  \n",
       "688          3           4  \n",
       "689          2           2  \n",
       "690          2           2  \n",
       "691          5           5  \n",
       "692          3           3  \n",
       "\n",
       "[693 rows x 9 columns]"
      ]
     },
     "execution_count": 899,
     "metadata": {},
     "output_type": "execute_result"
    }
   ],
   "source": [
    "data1_extra"
   ]
  },
  {
   "cell_type": "code",
   "execution_count": 905,
   "metadata": {
    "hidden": true
   },
   "outputs": [
    {
     "name": "stdout",
     "output_type": "stream",
     "text": [
      "0.5526695526695526\n",
      "0.5613275613275613\n",
      "0.6277056277056277\n"
     ]
    }
   ],
   "source": [
    "data1_senti_bi = data1_extra['sentiment'].values < 4\n",
    "data1_nltk_senti_bi = data1_extra['nltk_senti'].values < 4\n",
    "print(1-np.mean(data1_senti_bi))\n",
    "print(1-np.mean(data1_nltk_senti_bi))\n",
    "print(np.mean(data1_nltk_senti_bi == data1_senti_bi))"
   ]
  },
  {
   "cell_type": "code",
   "execution_count": 849,
   "metadata": {
    "hidden": true
   },
   "outputs": [],
   "source": [
    "#calculate NLTK sentiment and add that to the datafame\n",
    "nltk_sentiment = SentimentIntensityAnalyzer()\n",
    "\n",
    "def nltk_star(string):\n",
    "    senti = nltk_sentiment.polarity_scores(string)['compound']\n",
    "    if senti<-0.5: return 1\n",
    "    elif senti < 0.1: return 2\n",
    "    elif senti < 0.4: return 3\n",
    "    elif senti < 0.95: return 4\n",
    "    else: return 5\n",
    "\n",
    "data1_extra.iloc[0][4]\n",
    "data1_extra['nltk_senti'] = data1_extra.apply(lambda row: nltk_star(row['text']), axis=1)\n",
    "\n",
    "data1_extra.to_csv('data1_extra_processed.csv', index = False, header = True)"
   ]
  },
  {
   "cell_type": "code",
   "execution_count": 853,
   "metadata": {
    "hidden": true
   },
   "outputs": [
    {
     "name": "stdout",
     "output_type": "stream",
     "text": [
      "nltk has sentiment loss: 0.9812409812409812 benchmark has sentiment loss: 0.8744588744588745\n"
     ]
    }
   ],
   "source": [
    "hand_senti = data1_extra['sentiment'].values\n",
    "nltk_sent = data1_extra['nltk_senti'].values\n",
    "\n",
    "bench_mark = np.ones(len(data1_extra))*4\n",
    "\n",
    "nltk_senti_absolute_loss = np.mean(np.abs(hand_senti-nltk_sent))\n",
    "bench_mark_senti_absolute_loss = np.mean(np.abs(hand_senti-bench_mark))\n",
    "\n",
    "print(\"nltk has sentiment loss:\",nltk_senti_absolute_loss,\n",
    "      \"benchmark has sentiment loss:\",bench_mark_senti_absolute_loss)"
   ]
  },
  {
   "cell_type": "markdown",
   "metadata": {},
   "source": [
    "## Prepare data for model_zoo"
   ]
  },
  {
   "cell_type": "code",
   "execution_count": 31,
   "metadata": {},
   "outputs": [],
   "source": [
    "df_no_comas = pd.read_csv('df-no-comas.csv')"
   ]
  },
  {
   "cell_type": "code",
   "execution_count": 32,
   "metadata": {},
   "outputs": [],
   "source": [
    "#remove comas\n",
    "#df_no_comas.text = [text_cleaning(text.replace(',',' ')) for text in df_no_comas.text.values if text == text]\n",
    "#df_no_comas.thread_name = [text_cleaning(text.replace(',',' ')) for text in df_no_comas.thread_name.values if text == text]\n",
    "#df_no_comas.forum_name = [text_cleaning(text.replace(',',' ')) for text in df_no_comas.forum_name.values if text == text]\n",
    "\n",
    "#df_no_comas.to_csv(\"df-no-comas.csv\")"
   ]
  },
  {
   "cell_type": "code",
   "execution_count": 33,
   "metadata": {},
   "outputs": [
    {
     "name": "stdout",
     "output_type": "stream",
     "text": [
      "Bert_test.ipynb                       filtered_url_lists\r\n",
      "NLP_project.ipynb                     final-model.pt\r\n",
      "Project.ipynb                         \u001b[34mfront_end_mvp\u001b[m\u001b[m\r\n",
      "ReadMe                                info_all_threads_all_forums\r\n",
      "all_soups_s                           loss.tsv\r\n",
      "\u001b[34mapplication\u001b[m\u001b[m                           \u001b[34mmodel_zoo\u001b[m\u001b[m\r\n",
      "best-model.pt                         \u001b[34mpresentation\u001b[m\u001b[m\r\n",
      "business value statement.rtf          \u001b[31mspam.csv\u001b[m\u001b[m\r\n",
      "comments_all_threads_all_forums       takitis.csv\r\n",
      "data1.csv                             test.csv\r\n",
      "data1_extra.csv                       test.tsv\r\n",
      "data1_extra_processed.csv             test_r.csv\r\n",
      "data1_hand_extra.csv                  train.csv\r\n",
      "data1_hand_labeled.csv                train_r.csv\r\n",
      "data1_hand_labeled_relevance.csv      training.log\r\n",
      "data1_hand_labeled_sentiment.csv      \u001b[34mtwitter-sentiment-analysis-master\u001b[m\u001b[m\r\n",
      "data_df.csv                           twitter-sentiment-analysis-master.zip\r\n",
      "data_df_prod_has_likes.csv            \u001b[34mweb_app\u001b[m\u001b[m\r\n",
      "dev.csv                               \u001b[34mweb_app_aws\u001b[m\u001b[m\r\n",
      "dev_r.csv                             \u001b[34mweb_app_aws_test\u001b[m\u001b[m\r\n",
      "df-no-comas.csv                       \u001b[34mweb_app_aws_wrong\u001b[m\u001b[m\r\n",
      "df_hand.csv                           weights.txt\r\n"
     ]
    }
   ],
   "source": [
    "!ls"
   ]
  },
  {
   "cell_type": "code",
   "execution_count": 34,
   "metadata": {},
   "outputs": [],
   "source": [
    "import pickle\n",
    "\n",
    "with open('model_zoo/df-no-comas-service-linear-freqdist.pkl', 'rb') as pkl_file:\n",
    "     freq_dist = pickle.load(pkl_file)"
   ]
  },
  {
   "cell_type": "code",
   "execution_count": 37,
   "metadata": {},
   "outputs": [
    {
     "data": {
      "text/plain": [
       "473"
      ]
     },
     "execution_count": 37,
     "metadata": {},
     "output_type": "execute_result"
    }
   ],
   "source": [
    "freq_dist.get('explor')"
   ]
  },
  {
   "cell_type": "code",
   "execution_count": 44,
   "metadata": {},
   "outputs": [],
   "source": [
    "thread_name_proceesed = [preprocess_tweet(text) for text in df_no_comas.thread_name.unique()]"
   ]
  },
  {
   "cell_type": "code",
   "execution_count": 52,
   "metadata": {},
   "outputs": [
    {
     "name": "stdout",
     "output_type": "stream",
     "text": [
      "[3, 6, 6, 6, 9, 11, 13, 13, 13, 13, 13, 13, 13, 13, 13, 14, 14, 14, 15, 15, 15, 15, 15, 16, 16, 16, 17, 17, 17, 17, 17, 17, 17, 18, 18, 18, 18, 18, 18, 18, 18, 18, 18, 19, 19, 19, 20, 20, 20, 20, 20, 20, 21, 21, 21, 21, 21, 21, 21, 21, 21, 21, 21, 21, 21, 21, 21, 21, 22, 22, 22, 22, 22, 22, 22, 22, 22, 23, 23, 24, 24, 24, 24, 24, 25, 25, 25, 25, 25, 25, 25, 26, 26, 26, 26, 26, 26, 26, 26, 27, 27, 27, 27, 27, 27, 27, 27, 27, 27, 28, 28, 28, 28, 28, 29, 29, 29, 29, 30, 30, 30, 30, 30, 30, 30, 30, 30, 31, 31, 31, 32, 32, 32, 33, 33, 33, 34, 34, 34, 35, 35, 35, 35, 35, 35, 35, 35, 35, 36, 37, 38, 38, 38, 39, 40, 40, 41, 42, 42, 42, 42, 42, 43, 43, 43, 44, 44, 45, 45, 48, 48, 50, 60, 68]\n"
     ]
    }
   ],
   "source": [
    "lengths = [len(text) for text in thread_name_proceesed]\n",
    "lengths.sort()\n",
    "\n",
    "print(lengths)"
   ]
  },
  {
   "cell_type": "markdown",
   "metadata": {},
   "source": [
    "## Transfer learning dataset = hand label or (product_oriented and thread_total_likes>0)"
   ]
  },
  {
   "cell_type": "code",
   "execution_count": 1725,
   "metadata": {},
   "outputs": [],
   "source": [
    "df_hand = df_no_comas[df_no_comas['hand_labeled']==True]\n",
    "df_hand.to_csv('model_zoo/df_hand.csv')"
   ]
  },
  {
   "cell_type": "code",
   "execution_count": 1670,
   "metadata": {},
   "outputs": [],
   "source": [
    "data_df_prod = df_no_comas[df_no_comas['product_oriented']==True]\n",
    "data_df_prod_has_likes = data_df_prod[data_df_prod['thread_total_likes'] != 0]\n",
    "data_df_prod_has_likes.to_csv(\"model_zoo/data_df_prod_has_likes.csv\")"
   ]
  },
  {
   "cell_type": "code",
   "execution_count": 1753,
   "metadata": {},
   "outputs": [],
   "source": [
    "res1 = df_hand[df_hand['n_likes']>2].relevance.value_counts(normalize=True)\n",
    "\n",
    "res2 = df_hand[df_hand['n_likes']==0].relevance.value_counts(normalize=True)"
   ]
  },
  {
   "cell_type": "code",
   "execution_count": 1754,
   "metadata": {},
   "outputs": [
    {
     "data": {
      "text/plain": [
       "693"
      ]
     },
     "execution_count": 1754,
     "metadata": {},
     "output_type": "execute_result"
    }
   ],
   "source": [
    "len(df_hand)"
   ]
  },
  {
   "cell_type": "code",
   "execution_count": 1755,
   "metadata": {},
   "outputs": [
    {
     "data": {
      "text/plain": [
       "[<matplotlib.lines.Line2D at 0x1cc2822630>]"
      ]
     },
     "execution_count": 1755,
     "metadata": {},
     "output_type": "execute_result"
    },
    {
     "data": {
      "image/png": "[encoded data removed]",
      "text/plain": [
       "<Figure size 1080x432 with 1 Axes>"
      ]
     },
     "metadata": {
      "needs_background": "light"
     },
     "output_type": "display_data"
    }
   ],
   "source": [
    "plt.plot(res2.values)\n",
    "plt.plot(res1.values)"
   ]
  },
  {
   "cell_type": "code",
   "execution_count": 1729,
   "metadata": {},
   "outputs": [
    {
     "data": {
      "text/plain": [
       "<matplotlib.collections.PathCollection at 0x1cb1c3ca90>"
      ]
     },
     "execution_count": 1729,
     "metadata": {},
     "output_type": "execute_result"
    },
    {
     "data": {
      "image/png": "[encoded data removed]",
      "text/plain": [
       "<Figure size 1080x432 with 1 Axes>"
      ]
     },
     "metadata": {
      "needs_background": "light"
     },
     "output_type": "display_data"
    }
   ],
   "source": [
    "plt.scatter(df_hand.n_likes.values,df_hand.relevance.values)"
   ]
  },
  {
   "cell_type": "markdown",
   "metadata": {
    "heading_collapsed": true
   },
   "source": [
    "### Hand labeled"
   ]
  },
  {
   "cell_type": "code",
   "execution_count": 945,
   "metadata": {
    "hidden": true
   },
   "outputs": [],
   "source": [
    "post_index = []\n",
    "post_text=[]\n",
    "for index, row in data1_extra.iterrows():\n",
    "    post_index.append('_'.join([str(row['forum']),str(row['thread']),str(row['post'])]))\n",
    "    post_text.append(row['text'].replace(',',' '))\n",
    "    \n",
    "data1_extra['post_id'] = np.array(post_index)\n",
    "data1_extra['text'] = np.array(post_text)\n",
    "\n",
    "data1_extra.to_csv('data1_extra_model.csv', index = False, header = True)\n",
    "\n",
    "del data1_extra"
   ]
  },
  {
   "cell_type": "code",
   "execution_count": 1396,
   "metadata": {
    "hidden": true,
    "scrolled": true
   },
   "outputs": [
    {
     "data": {
      "text/html": [
       "<div>\n",
       "<style scoped>\n",
       "    .dataframe tbody tr th:only-of-type {\n",
       "        vertical-align: middle;\n",
       "    }\n",
       "\n",
       "    .dataframe tbody tr th {\n",
       "        vertical-align: top;\n",
       "    }\n",
       "\n",
       "    .dataframe thead th {\n",
       "        text-align: right;\n",
       "    }\n",
       "</style>\n",
       "<table border=\"1\" class=\"dataframe\">\n",
       "  <thead>\n",
       "    <tr style=\"text-align: right;\">\n",
       "      <th></th>\n",
       "      <th>forum</th>\n",
       "      <th>thread</th>\n",
       "      <th>post</th>\n",
       "      <th>thread_title</th>\n",
       "      <th>text</th>\n",
       "      <th>n_likes</th>\n",
       "      <th>sentiment</th>\n",
       "      <th>relevance</th>\n",
       "      <th>nltk_senti</th>\n",
       "      <th>post_id</th>\n",
       "    </tr>\n",
       "  </thead>\n",
       "  <tbody>\n",
       "    <tr>\n",
       "      <td>0</td>\n",
       "      <td>0</td>\n",
       "      <td>0</td>\n",
       "      <td>933</td>\n",
       "      <td>takitis</td>\n",
       "      <td>Sorry, my bad.. However, OPT has the TOA 150B ...</td>\n",
       "      <td>0</td>\n",
       "      <td>3</td>\n",
       "      <td>1</td>\n",
       "      <td>2</td>\n",
       "      <td>0_0_933</td>\n",
       "    </tr>\n",
       "    <tr>\n",
       "      <td>1</td>\n",
       "      <td>0</td>\n",
       "      <td>0</td>\n",
       "      <td>474</td>\n",
       "      <td>takitis</td>\n",
       "      <td>You're absolutely correct. I don't believe tha...</td>\n",
       "      <td>0</td>\n",
       "      <td>3</td>\n",
       "      <td>1</td>\n",
       "      <td>2</td>\n",
       "      <td>0_0_474</td>\n",
       "    </tr>\n",
       "    <tr>\n",
       "      <td>2</td>\n",
       "      <td>0</td>\n",
       "      <td>0</td>\n",
       "      <td>1233</td>\n",
       "      <td>takitis</td>\n",
       "      <td>Same here Scott. I rarely get the 102 out sinc...</td>\n",
       "      <td>1</td>\n",
       "      <td>5</td>\n",
       "      <td>2</td>\n",
       "      <td>2</td>\n",
       "      <td>0_0_1233</td>\n",
       "    </tr>\n",
       "    <tr>\n",
       "      <td>3</td>\n",
       "      <td>0</td>\n",
       "      <td>0</td>\n",
       "      <td>280</td>\n",
       "      <td>takitis</td>\n",
       "      <td>Actually they are pretty close as far as I am ...</td>\n",
       "      <td>8</td>\n",
       "      <td>3</td>\n",
       "      <td>3</td>\n",
       "      <td>4</td>\n",
       "      <td>0_0_280</td>\n",
       "    </tr>\n",
       "    <tr>\n",
       "      <td>4</td>\n",
       "      <td>0</td>\n",
       "      <td>0</td>\n",
       "      <td>325</td>\n",
       "      <td>takitis</td>\n",
       "      <td>I got my FC76 used from Japan, and it still ha...</td>\n",
       "      <td>0</td>\n",
       "      <td>4</td>\n",
       "      <td>1</td>\n",
       "      <td>1</td>\n",
       "      <td>0_0_325</td>\n",
       "    </tr>\n",
       "    <tr>\n",
       "      <td>...</td>\n",
       "      <td>...</td>\n",
       "      <td>...</td>\n",
       "      <td>...</td>\n",
       "      <td>...</td>\n",
       "      <td>...</td>\n",
       "      <td>...</td>\n",
       "      <td>...</td>\n",
       "      <td>...</td>\n",
       "      <td>...</td>\n",
       "      <td>...</td>\n",
       "    </tr>\n",
       "    <tr>\n",
       "      <td>688</td>\n",
       "      <td>6</td>\n",
       "      <td>9</td>\n",
       "      <td>37</td>\n",
       "      <td>denk binotron first light</td>\n",
       "      <td>Right on..and Aloha! Nice report, nothing like...</td>\n",
       "      <td>0</td>\n",
       "      <td>5</td>\n",
       "      <td>3</td>\n",
       "      <td>4</td>\n",
       "      <td>6_9_37</td>\n",
       "    </tr>\n",
       "    <tr>\n",
       "      <td>689</td>\n",
       "      <td>6</td>\n",
       "      <td>9</td>\n",
       "      <td>76</td>\n",
       "      <td>denk binotron first light</td>\n",
       "      <td>Jan 15 for me Bruce, with no extra bits, just ...</td>\n",
       "      <td>0</td>\n",
       "      <td>4</td>\n",
       "      <td>2</td>\n",
       "      <td>2</td>\n",
       "      <td>6_9_76</td>\n",
       "    </tr>\n",
       "    <tr>\n",
       "      <td>690</td>\n",
       "      <td>6</td>\n",
       "      <td>9</td>\n",
       "      <td>38</td>\n",
       "      <td>denk binotron first light</td>\n",
       "      <td>Mine shipped today!.</td>\n",
       "      <td>0</td>\n",
       "      <td>5</td>\n",
       "      <td>2</td>\n",
       "      <td>2</td>\n",
       "      <td>6_9_38</td>\n",
       "    </tr>\n",
       "    <tr>\n",
       "      <td>691</td>\n",
       "      <td>6</td>\n",
       "      <td>9</td>\n",
       "      <td>59</td>\n",
       "      <td>denk binotron first light</td>\n",
       "      <td>The ZAOs were not necessarily bested but they ...</td>\n",
       "      <td>0</td>\n",
       "      <td>4</td>\n",
       "      <td>5</td>\n",
       "      <td>5</td>\n",
       "      <td>6_9_59</td>\n",
       "    </tr>\n",
       "    <tr>\n",
       "      <td>692</td>\n",
       "      <td>6</td>\n",
       "      <td>9</td>\n",
       "      <td>72</td>\n",
       "      <td>denk binotron first light</td>\n",
       "      <td>Johnny, Jeff is correct!  The Barlow \"Slider\" ...</td>\n",
       "      <td>0</td>\n",
       "      <td>4</td>\n",
       "      <td>3</td>\n",
       "      <td>3</td>\n",
       "      <td>6_9_72</td>\n",
       "    </tr>\n",
       "  </tbody>\n",
       "</table>\n",
       "<p>693 rows × 10 columns</p>\n",
       "</div>"
      ],
      "text/plain": [
       "     forum  thread  post               thread_title  \\\n",
       "0        0       0   933                    takitis   \n",
       "1        0       0   474                    takitis   \n",
       "2        0       0  1233                    takitis   \n",
       "3        0       0   280                    takitis   \n",
       "4        0       0   325                    takitis   \n",
       "..     ...     ...   ...                        ...   \n",
       "688      6       9    37  denk binotron first light   \n",
       "689      6       9    76  denk binotron first light   \n",
       "690      6       9    38  denk binotron first light   \n",
       "691      6       9    59  denk binotron first light   \n",
       "692      6       9    72  denk binotron first light   \n",
       "\n",
       "                                                  text  n_likes  sentiment  \\\n",
       "0    Sorry, my bad.. However, OPT has the TOA 150B ...        0          3   \n",
       "1    You're absolutely correct. I don't believe tha...        0          3   \n",
       "2    Same here Scott. I rarely get the 102 out sinc...        1          5   \n",
       "3    Actually they are pretty close as far as I am ...        8          3   \n",
       "4    I got my FC76 used from Japan, and it still ha...        0          4   \n",
       "..                                                 ...      ...        ...   \n",
       "688  Right on..and Aloha! Nice report, nothing like...        0          5   \n",
       "689  Jan 15 for me Bruce, with no extra bits, just ...        0          4   \n",
       "690                               Mine shipped today!.        0          5   \n",
       "691  The ZAOs were not necessarily bested but they ...        0          4   \n",
       "692  Johnny, Jeff is correct!  The Barlow \"Slider\" ...        0          4   \n",
       "\n",
       "     relevance  nltk_senti   post_id  \n",
       "0            1           2   0_0_933  \n",
       "1            1           2   0_0_474  \n",
       "2            2           2  0_0_1233  \n",
       "3            3           4   0_0_280  \n",
       "4            1           1   0_0_325  \n",
       "..         ...         ...       ...  \n",
       "688          3           4    6_9_37  \n",
       "689          2           2    6_9_76  \n",
       "690          2           2    6_9_38  \n",
       "691          5           5    6_9_59  \n",
       "692          3           3    6_9_72  \n",
       "\n",
       "[693 rows x 10 columns]"
      ]
     },
     "execution_count": 1396,
     "metadata": {},
     "output_type": "execute_result"
    }
   ],
   "source": [
    "data1_extra"
   ]
  },
  {
   "cell_type": "code",
   "execution_count": 1416,
   "metadata": {
    "hidden": true
   },
   "outputs": [
    {
     "data": {
      "text/html": [
       "<div>\n",
       "<style scoped>\n",
       "    .dataframe tbody tr th:only-of-type {\n",
       "        vertical-align: middle;\n",
       "    }\n",
       "\n",
       "    .dataframe tbody tr th {\n",
       "        vertical-align: top;\n",
       "    }\n",
       "\n",
       "    .dataframe thead th {\n",
       "        text-align: right;\n",
       "    }\n",
       "</style>\n",
       "<table border=\"1\" class=\"dataframe\">\n",
       "  <thead>\n",
       "    <tr style=\"text-align: right;\">\n",
       "      <th></th>\n",
       "      <th>forum_index</th>\n",
       "      <th>forum_name</th>\n",
       "      <th>n_images</th>\n",
       "      <th>n_likes</th>\n",
       "      <th>post_index</th>\n",
       "      <th>product_oriented</th>\n",
       "      <th>text</th>\n",
       "      <th>thread_index</th>\n",
       "      <th>thread_name</th>\n",
       "      <th>thread_total_likes</th>\n",
       "      <th>hand_labeled</th>\n",
       "    </tr>\n",
       "  </thead>\n",
       "  <tbody>\n",
       "    <tr>\n",
       "      <td>0</td>\n",
       "      <td>0.0</td>\n",
       "      <td>refractors</td>\n",
       "      <td>0</td>\n",
       "      <td>4</td>\n",
       "      <td>0.0</td>\n",
       "      <td>False</td>\n",
       "      <td>:jawdrop: :jump: :rainbow: no, it's not an inf...</td>\n",
       "      <td>0.0</td>\n",
       "      <td>takitis</td>\n",
       "      <td>2413.0</td>\n",
       "      <td>False</td>\n",
       "    </tr>\n",
       "    <tr>\n",
       "      <td>1</td>\n",
       "      <td>0.0</td>\n",
       "      <td>refractors</td>\n",
       "      <td>0</td>\n",
       "      <td>0</td>\n",
       "      <td>1.0</td>\n",
       "      <td>False</td>\n",
       "      <td>:dalek: :dalek: :dalek: :dalek: :dalek: :dalek...</td>\n",
       "      <td>0.0</td>\n",
       "      <td>takitis</td>\n",
       "      <td>2413.0</td>\n",
       "      <td>False</td>\n",
       "    </tr>\n",
       "    <tr>\n",
       "      <td>2</td>\n",
       "      <td>0.0</td>\n",
       "      <td>refractors</td>\n",
       "      <td>0</td>\n",
       "      <td>1</td>\n",
       "      <td>2.0</td>\n",
       "      <td>False</td>\n",
       "      <td>how does the fs-102 only have an 1.25\" visual ...</td>\n",
       "      <td>0.0</td>\n",
       "      <td>takitis</td>\n",
       "      <td>2413.0</td>\n",
       "      <td>False</td>\n",
       "    </tr>\n",
       "    <tr>\n",
       "      <td>3</td>\n",
       "      <td>0.0</td>\n",
       "      <td>refractors</td>\n",
       "      <td>0</td>\n",
       "      <td>1</td>\n",
       "      <td>3.0</td>\n",
       "      <td>False</td>\n",
       "      <td>tr, all the early taks came with a 1.25\" eyepi...</td>\n",
       "      <td>0.0</td>\n",
       "      <td>takitis</td>\n",
       "      <td>2413.0</td>\n",
       "      <td>False</td>\n",
       "    </tr>\n",
       "    <tr>\n",
       "      <td>4</td>\n",
       "      <td>0.0</td>\n",
       "      <td>refractors</td>\n",
       "      <td>0</td>\n",
       "      <td>2</td>\n",
       "      <td>4.0</td>\n",
       "      <td>False</td>\n",
       "      <td>rex.you are responsible for my tak addiction. ...</td>\n",
       "      <td>0.0</td>\n",
       "      <td>takitis</td>\n",
       "      <td>2413.0</td>\n",
       "      <td>False</td>\n",
       "    </tr>\n",
       "    <tr>\n",
       "      <td>...</td>\n",
       "      <td>...</td>\n",
       "      <td>...</td>\n",
       "      <td>...</td>\n",
       "      <td>...</td>\n",
       "      <td>...</td>\n",
       "      <td>...</td>\n",
       "      <td>...</td>\n",
       "      <td>...</td>\n",
       "      <td>...</td>\n",
       "      <td>...</td>\n",
       "      <td>...</td>\n",
       "    </tr>\n",
       "    <tr>\n",
       "      <td>62</td>\n",
       "      <td>6.0</td>\n",
       "      <td>binoviewers</td>\n",
       "      <td>0</td>\n",
       "      <td>2</td>\n",
       "      <td>62.0</td>\n",
       "      <td>True</td>\n",
       "      <td>in the past when i was mono viewing only, my d...</td>\n",
       "      <td>24.0</td>\n",
       "      <td>considering abandoning mono viewing entirely</td>\n",
       "      <td>114.0</td>\n",
       "      <td>False</td>\n",
       "    </tr>\n",
       "    <tr>\n",
       "      <td>63</td>\n",
       "      <td>6.0</td>\n",
       "      <td>binoviewers</td>\n",
       "      <td>0</td>\n",
       "      <td>1</td>\n",
       "      <td>63.0</td>\n",
       "      <td>True</td>\n",
       "      <td>if i want lunar detail, it's my williams binos...</td>\n",
       "      <td>24.0</td>\n",
       "      <td>considering abandoning mono viewing entirely</td>\n",
       "      <td>114.0</td>\n",
       "      <td>False</td>\n",
       "    </tr>\n",
       "    <tr>\n",
       "      <td>64</td>\n",
       "      <td>6.0</td>\n",
       "      <td>binoviewers</td>\n",
       "      <td>0</td>\n",
       "      <td>0</td>\n",
       "      <td>64.0</td>\n",
       "      <td>True</td>\n",
       "      <td>i’ve been using my nikon converted microscope ...</td>\n",
       "      <td>24.0</td>\n",
       "      <td>considering abandoning mono viewing entirely</td>\n",
       "      <td>114.0</td>\n",
       "      <td>False</td>\n",
       "    </tr>\n",
       "    <tr>\n",
       "      <td>65</td>\n",
       "      <td>6.0</td>\n",
       "      <td>binoviewers</td>\n",
       "      <td>0</td>\n",
       "      <td>1</td>\n",
       "      <td>65.0</td>\n",
       "      <td>True</td>\n",
       "      <td>this has been a very informative thread. i fin...</td>\n",
       "      <td>24.0</td>\n",
       "      <td>considering abandoning mono viewing entirely</td>\n",
       "      <td>114.0</td>\n",
       "      <td>False</td>\n",
       "    </tr>\n",
       "    <tr>\n",
       "      <td>66</td>\n",
       "      <td>6.0</td>\n",
       "      <td>binoviewers</td>\n",
       "      <td>0</td>\n",
       "      <td>1</td>\n",
       "      <td>66.0</td>\n",
       "      <td>True</td>\n",
       "      <td>good points, grant!. around this area, dsos ar...</td>\n",
       "      <td>24.0</td>\n",
       "      <td>considering abandoning mono viewing entirely</td>\n",
       "      <td>114.0</td>\n",
       "      <td>False</td>\n",
       "    </tr>\n",
       "  </tbody>\n",
       "</table>\n",
       "<p>75594 rows × 11 columns</p>\n",
       "</div>"
      ],
      "text/plain": [
       "    forum_index   forum_name n_images n_likes  post_index product_oriented  \\\n",
       "0           0.0   refractors        0       4         0.0            False   \n",
       "1           0.0   refractors        0       0         1.0            False   \n",
       "2           0.0   refractors        0       1         2.0            False   \n",
       "3           0.0   refractors        0       1         3.0            False   \n",
       "4           0.0   refractors        0       2         4.0            False   \n",
       "..          ...          ...      ...     ...         ...              ...   \n",
       "62          6.0  binoviewers        0       2        62.0             True   \n",
       "63          6.0  binoviewers        0       1        63.0             True   \n",
       "64          6.0  binoviewers        0       0        64.0             True   \n",
       "65          6.0  binoviewers        0       1        65.0             True   \n",
       "66          6.0  binoviewers        0       1        66.0             True   \n",
       "\n",
       "                                                 text  thread_index  \\\n",
       "0   :jawdrop: :jump: :rainbow: no, it's not an inf...           0.0   \n",
       "1   :dalek: :dalek: :dalek: :dalek: :dalek: :dalek...           0.0   \n",
       "2   how does the fs-102 only have an 1.25\" visual ...           0.0   \n",
       "3   tr, all the early taks came with a 1.25\" eyepi...           0.0   \n",
       "4   rex.you are responsible for my tak addiction. ...           0.0   \n",
       "..                                                ...           ...   \n",
       "62  in the past when i was mono viewing only, my d...          24.0   \n",
       "63  if i want lunar detail, it's my williams binos...          24.0   \n",
       "64  i’ve been using my nikon converted microscope ...          24.0   \n",
       "65  this has been a very informative thread. i fin...          24.0   \n",
       "66  good points, grant!. around this area, dsos ar...          24.0   \n",
       "\n",
       "                                     thread_name  thread_total_likes  \\\n",
       "0                                        takitis              2413.0   \n",
       "1                                        takitis              2413.0   \n",
       "2                                        takitis              2413.0   \n",
       "3                                        takitis              2413.0   \n",
       "4                                        takitis              2413.0   \n",
       "..                                           ...                 ...   \n",
       "62  considering abandoning mono viewing entirely               114.0   \n",
       "63  considering abandoning mono viewing entirely               114.0   \n",
       "64  considering abandoning mono viewing entirely               114.0   \n",
       "65  considering abandoning mono viewing entirely               114.0   \n",
       "66  considering abandoning mono viewing entirely               114.0   \n",
       "\n",
       "    hand_labeled  \n",
       "0          False  \n",
       "1          False  \n",
       "2          False  \n",
       "3          False  \n",
       "4          False  \n",
       "..           ...  \n",
       "62         False  \n",
       "63         False  \n",
       "64         False  \n",
       "65         False  \n",
       "66         False  \n",
       "\n",
       "[75594 rows x 11 columns]"
      ]
     },
     "execution_count": 1416,
     "metadata": {},
     "output_type": "execute_result"
    }
   ],
   "source": [
    "data_df"
   ]
  },
  {
   "cell_type": "markdown",
   "metadata": {},
   "source": [
    "### n_likes data"
   ]
  },
  {
   "cell_type": "code",
   "execution_count": 1390,
   "metadata": {},
   "outputs": [],
   "source": [
    "#remove comas\n",
    "data_df_prod_has_likes.text = [text_cleaning(text.replace(',',' ')) for text in data_df_prod_has_likes.text.values]\n",
    "data_df_prod_has_likes.thread_name = [text_cleaning(text.replace(',',' ')) for text in data_df_prod_has_likes.thread_name.values]\n",
    "data_df_prod_has_likes.forum_name = [text_cleaning(text.replace(',',' ')) for text in data_df_prod_has_likes.forum_name.values]\n",
    "\n",
    "data_df_prod_has_likes.to_csv(\"likes_data.csv\")"
   ]
  },
  {
   "cell_type": "code",
   "execution_count": 1393,
   "metadata": {},
   "outputs": [
    {
     "data": {
      "text/plain": [
       "0     0.653165\n",
       "1     0.182284\n",
       "2     0.076652\n",
       "3     0.031544\n",
       "4     0.018074\n",
       "5     0.010288\n",
       "6     0.007786\n",
       "7     0.005530\n",
       "8     0.003522\n",
       "9     0.002441\n",
       "10    0.001792\n",
       "11    0.001359\n",
       "13    0.001329\n",
       "12    0.001050\n",
       "14    0.000618\n",
       "15    0.000556\n",
       "17    0.000463\n",
       "16    0.000278\n",
       "18    0.000278\n",
       "19    0.000216\n",
       "25    0.000185\n",
       "20    0.000124\n",
       "22    0.000093\n",
       "21    0.000062\n",
       "24    0.000062\n",
       "26    0.000062\n",
       "37    0.000031\n",
       "23    0.000031\n",
       "27    0.000031\n",
       "32    0.000031\n",
       "33    0.000031\n",
       "38    0.000031\n",
       "Name: n_likes, dtype: float64"
      ]
     },
     "execution_count": 1393,
     "metadata": {},
     "output_type": "execute_result"
    }
   ],
   "source": [
    "data_df_prod_has_likes.n_likes.value_counts(normalize=True)"
   ]
  },
  {
   "cell_type": "code",
   "execution_count": 1394,
   "metadata": {},
   "outputs": [
    {
     "data": {
      "text/plain": [
       "1.8571428571428574"
      ]
     },
     "execution_count": 1394,
     "metadata": {},
     "output_type": "execute_result"
    }
   ],
   "source": [
    "0.65/(1-0.65)"
   ]
  },
  {
   "cell_type": "markdown",
   "metadata": {
    "heading_collapsed": true
   },
   "source": [
    "## External model"
   ]
  },
  {
   "cell_type": "code",
   "execution_count": 1619,
   "metadata": {
    "hidden": true
   },
   "outputs": [],
   "source": [
    "from sklearn.model_selection import StratifiedShuffleSplit\n",
    "from sklearn.linear_model import LogisticRegression\n",
    "from sklearn.linear_model import LinearRegression\n",
    "from sklearn.metrics import precision_recall_curve\n",
    "from sklearn.metrics import average_precision_score  \n",
    "from sklearn.metrics import mean_absolute_error\n",
    "from sklearn.metrics import explained_variance_score\n",
    "import xgboost\n",
    "\n",
    "def train_test_shuffle_split(X,y, test_split=0.1,random_seed = 42):\n",
    "    shuffled_indices = np.arange(len(X))\n",
    "    random.Random(random_seed).shuffle(shuffled_indices)\n",
    "    split_pos = int((1 - test_split) * len(X))\n",
    "    Xs = X[shuffled_indices]\n",
    "    ys = y[shuffled_indices]\n",
    "    return Xs[:split_pos], ys[:split_pos],Xs[split_pos:], ys[split_pos:]\n",
    "\n",
    "def stratifiedSplit(X,y,test_size=0.1,random_state=42):\n",
    "    sss = StratifiedShuffleSplit(test_size=test_size,random_state=random_state,n_splits = 1)\n",
    "    sss.get_n_splits(X,y)\n",
    "    \n",
    "    for train_id, test_id in sss.split(X, y):\n",
    "        X_train_val,y_train_val = X[train_id], y[train_id]\n",
    "        X_test,y_test = X[test_id], y[test_id]\n",
    "    \n",
    "    return X_train_val, y_train_val, X_test, y_test\n",
    "\n",
    "def accuracy(y_test,y_score): return np.mean(y_test == (y_score>0.5))\n",
    "\n",
    "def evaluate_model_pred(y_test,y_score,model_name):\n",
    "    print(model_name+\" has AP:\", average_precision_score(y_test, y_score), \n",
    "      \"accuracy\", accuracy(y_test,y_score))\n",
    "    precision_recall(y_test,y_score)\n",
    "    \n",
    "def precision_recall(y_test,y_score,color='b'):\n",
    "    average_precision = average_precision_score(y_test, y_score)\n",
    "    precision, recall, _ = precision_recall_curve(y_test, y_score)\n",
    "    \n",
    "    # In matplotlib < 1.5, plt.fill_between does not have a 'step' argument\n",
    "    step_kwargs = ({'step': 'post'}\n",
    "               if 'step' in signature(plt.fill_between).parameters\n",
    "               else {})\n",
    "    plt.step(recall, precision, color=color, alpha=0.6,\n",
    "         where='post')\n",
    "    #plt.fill_between(recall, precision, alpha=0.2, color='b', **step_kwargs)\n",
    "\n",
    "    plt.xlabel('Recall')\n",
    "    plt.ylabel('Precision')\n",
    "    plt.ylim([0.0, 1.05])\n",
    "    plt.xlim([0.0, 1.0])\n",
    "    plt.title('2-class Precision-Recall curve: AP={0:0.2f}'.format(average_precision))"
   ]
  },
  {
   "cell_type": "code",
   "execution_count": 1570,
   "metadata": {
    "hidden": true
   },
   "outputs": [],
   "source": [
    "random_seed = 33\n",
    "#random_seed = 7\n",
    "\n",
    "y_lks = data_df_prod_has_likes.n_likes.values>0\n",
    "X_lks = np.array([data_df_prod_has_likes.forum_index.values,\n",
    "         data_df_prod_has_likes.thread_index.values,\n",
    "         data_df_prod_has_likes.post_index.values,\n",
    "         list(map(len,data_df_prod_has_likes.thread_name.values)),\n",
    "         list(map(len,data_df_prod_has_likes.text.values)),\n",
    "         data_df_prod_has_likes.n_images.values]).T\n",
    "\n",
    "X_train_val,y_train_val,X_test, y_test = stratifiedSplit(X_lks,y_lks,test_size = 0.1, random_state = random_seed)\n",
    "X_train,y_train,X_val, y_val = stratifiedSplit(X_train_val,y_train_val,test_size = 0.1, random_state = random_seed+1)"
   ]
  },
  {
   "cell_type": "code",
   "execution_count": 1552,
   "metadata": {
    "hidden": true
   },
   "outputs": [
    {
     "name": "stderr",
     "output_type": "stream",
     "text": [
      "/anaconda3/lib/python3.7/site-packages/sklearn/linear_model/logistic.py:758: ConvergenceWarning: lbfgs failed to converge. Increase the number of iterations.\n",
      "  and otherwise selects 'multinomial'.\n"
     ]
    },
    {
     "name": "stdout",
     "output_type": "stream",
     "text": [
      "0.6824579471335394\n",
      "logistic has AP: 0.5058604860998263 accuracy 0.6808773555761508\n"
     ]
    },
    {
     "data": {
      "image/png": "[encoded data removed]",
      "text/plain": [
       "<Figure size 1080x432 with 1 Axes>"
      ]
     },
     "metadata": {
      "needs_background": "light"
     },
     "output_type": "display_data"
    }
   ],
   "source": [
    "logistic = LogisticRegression(random_state=0, solver='lbfgs')\n",
    "\n",
    "logistic.fit(X_train, y_train)\n",
    "\n",
    "pred_val_logistic = logistic.predict_proba(X_val)[:,1]\n",
    "\n",
    "print(np.mean((pred_val_logistic>0.5) == y_val))\n",
    "\n",
    "y_score_logistic = logistic.predict_proba(X_test)[:,1]\n",
    "evaluate_model_pred(y_test,y_score_logistic,model_name='logistic')"
   ]
  },
  {
   "cell_type": "code",
   "execution_count": 1572,
   "metadata": {
    "hidden": true
   },
   "outputs": [
    {
     "name": "stdout",
     "output_type": "stream",
     "text": [
      "[-1.56245555e-01  5.58133607e-03 -3.38908248e-04  5.67950974e-03\n",
      "  5.56214703e-04  9.84904226e-01]\n",
      "[-0.50323035  0.05384591 -0.11561351  0.16894446  0.21421789  1.47320313]\n",
      "[-0.21325848  0.03572372 -0.09798156  0.06679328  0.29368314  1.00921797]\n"
     ]
    }
   ],
   "source": [
    "print(logistic.coef_[0])\n",
    "mean_val = [np.mean(column[column!=0])  for column in X_train.T]\n",
    "print(mean_val * logistic.coef_[0])\n",
    "std_val = [np.std(column[column!=0])  for column in X_train.T]\n",
    "print(std_val * logistic.coef_[0])"
   ]
  },
  {
   "cell_type": "code",
   "execution_count": 1621,
   "metadata": {
    "hidden": true
   },
   "outputs": [
    {
     "name": "stdout",
     "output_type": "stream",
     "text": [
      "0.11460431730927367\n",
      "0.11464503843413831\n",
      "[-1.68853821e-01  3.35059465e-03 -2.11127731e-04 -1.12978696e-04\n",
      "  6.71021602e-04  9.80413695e-01]\n",
      "[-0.54383863  0.03232484 -0.07202309 -0.0033607   0.25843408  1.46648627]\n",
      "[-0.23046742  0.02144571 -0.06103901 -0.00132867  0.35430155  1.00461658]\n"
     ]
    }
   ],
   "source": [
    "y_n_lks = data_df_prod_has_likes.n_likes.values\n",
    "X_train,y_n_train,X_test, y_n_test = train_test_shuffle_split(X_lks,y_lks,0.2,random_seed = random_seed)\n",
    "\n",
    "linear_lks = LinearRegression().fit(X_train, y_n_train)\n",
    "pred_linear = linear_lks.predict(X_test)\n",
    "\n",
    "print(linear_lks.score(X_test, y_n_test))\n",
    "print(explained_variance_score(y_test,pred_linear))\n",
    "print(linear_lks.coef_)\n",
    "print(mean_val * linear_lks.coef_)\n",
    "print(std_val * linear_lks.coef_)"
   ]
  },
  {
   "cell_type": "code",
   "execution_count": 1627,
   "metadata": {
    "hidden": true
   },
   "outputs": [
    {
     "name": "stdout",
     "output_type": "stream",
     "text": [
      "[10:00:58] WARNING: src/objective/regression_obj.cu:152: reg:linear is now deprecated in favor of reg:squarederror.\n"
     ]
    },
    {
     "data": {
      "text/plain": [
       "XGBRegressor(base_score=0.5, booster='gbtree', colsample_bylevel=1,\n",
       "       colsample_bynode=1, colsample_bytree=1, gamma=0,\n",
       "       importance_type='gain', learning_rate=0.08, max_delta_step=0,\n",
       "       max_depth=7, min_child_weight=1, missing=None, n_estimators=100,\n",
       "       n_jobs=1, nthread=None, objective='reg:linear', random_state=0,\n",
       "       reg_alpha=0, reg_lambda=1, scale_pos_weight=1, seed=None,\n",
       "       silent=None, subsample=0.75, verbosity=1)"
      ]
     },
     "execution_count": 1627,
     "metadata": {},
     "output_type": "execute_result"
    }
   ],
   "source": [
    "xgb = xgboost.XGBRegressor(n_estimators=100, \n",
    "                           learning_rate=0.08, \n",
    "                           gamma=0, \n",
    "                           subsample=0.75,\n",
    "                           colsample_bytree=1, \n",
    "                           max_depth=7)\n",
    "\n",
    "xgb.fit(X_train,y_train,verbose=True)"
   ]
  },
  {
   "cell_type": "code",
   "execution_count": 1622,
   "metadata": {
    "hidden": true
   },
   "outputs": [
    {
     "name": "stdout",
     "output_type": "stream",
     "text": [
      "0.3317620886797239\n"
     ]
    }
   ],
   "source": [
    "pred_xgb = xgb.predict(X_test)\n",
    "print(explained_variance_score(y_test,pred_xgb))"
   ]
  },
  {
   "cell_type": "markdown",
   "metadata": {
    "heading_collapsed": true
   },
   "source": [
    "## Feature Engineering"
   ]
  },
  {
   "cell_type": "code",
   "execution_count": 1636,
   "metadata": {
    "hidden": true
   },
   "outputs": [],
   "source": [
    "import re\n",
    "\n",
    "def text_cleaning(string):\n",
    "    string += \"Edited by\"\n",
    "    string = string[:string.index(\"Edited by\")].replace(\"\\xa0\",\"\").replace(\"\\n\",\"\").replace(\"\\t\",\"\").replace(\"\\r\",\"\")\n",
    "    string = re.sub('\\s+', ' ', string).strip()\n",
    "    return string.replace(\" .\",\"\").lstrip(\".\").lstrip(\" \").rstrip().replace(\"...\",\".\").replace(\"..\",\".\")\n",
    "\n",
    "def replace_urls(string):\n",
    "    try:\n",
    "        url_index = string.index(\"http\")\n",
    "        string_after = string[url_index:]+\" \"\n",
    "        next_space_index = string_after.index(\" \")\n",
    "        string_after = replace_urls(string_after[next_space_index:])\n",
    "        return (string[:url_index]+' URL '+ string_after).rstrip()\n",
    "    except: return string\n",
    "\n",
    "def preprocessing(sentence):\n",
    "    tweet = text_cleaning(replace_urls(sentence).replace(',',' ')).lower()\n",
    "    tweet = re.sub(r'((www\\.[\\S]+)|(https?://[\\S]+))', ' URL ', tweet)\n",
    "    # Replace @handle with the word USER_MENTION\n",
    "    # Replace 2+ dots with space\n",
    "    tweet = re.sub(r'\\.{2,}', ' ', tweet)\n",
    "    tweet = re.sub('\\.',' ',tweet)\n",
    "    # Strip space, \" and ' from tweet\n",
    "    tweet = tweet.strip(' \"\\'')\n",
    "    # Replace multiple spaces with a single space\n",
    "    tweet = re.sub(r'\\s+', ' ', tweet)\n",
    "            \n",
    "    return tweet.lstrip().rstrip()\n",
    "\n",
    "def get_feature_vector(tweet):\n",
    "    uni_feature_vector = []\n",
    "    bi_feature_vector = []\n",
    "    words = tweet.split()\n",
    "    for i in range(len(words) - 1):\n",
    "        word = words[i]\n",
    "        next_word = words[i + 1]\n",
    "        if unigrams.get(word):\n",
    "            uni_feature_vector.append(word)        \n",
    "        if bigrams.get((word, next_word)):\n",
    "            bi_feature_vector.append((word, next_word))\n",
    "    if len(words) >= 1:\n",
    "        if unigrams.get(words[-1]):\n",
    "            uni_feature_vector.append(words[-1])\n",
    "    return uni_feature_vector, bi_feature_vector\n",
    "\n",
    "def sentence_to_vec(sentence):\n",
    "    #unigrams and bigrams are externally defined dictionaries\n",
    "    s_words,s_bigrams = get_feature_vector(sentence)\n",
    "    features = np.zeros(VOCAB_SIZE)\n",
    "    for word in s_words:\n",
    "        idx = unigrams.get(word)\n",
    "        if idx: features[idx] += 1\n",
    "    for bigr in s_bigrams:\n",
    "        idx = bigrams.get(word)\n",
    "        if idx: features[UNIGRAM_SIZE + idx] += 1\n",
    "    return features"
   ]
  },
  {
   "cell_type": "code",
   "execution_count": 1642,
   "metadata": {
    "hidden": true
   },
   "outputs": [
    {
     "name": "stdout",
     "output_type": "stream",
     "text": [
      ":jawdrop: :jump: :rainbow: no it's not an inflammation of your takahashi! instead i picked up a used fs-102 on amart and will be doing visual comparisons against my sv-105t as soon as i can. the tak should arrive today/tomorrow. i have a mt pro and i'll see if i can mount both scopes together for doing side-by-sides! only issue is that the fs has only 1.25\" visual back and i only have a 2\" diagonal. oh well i might have to view straight through to compare. stay tuned. pics will be provided when i can.\n"
     ]
    },
    {
     "ename": "NameError",
     "evalue": "name 'unigrams' is not defined",
     "output_type": "error",
     "traceback": [
      "\u001b[0;31m---------------------------------------------------------------------------\u001b[0m",
      "\u001b[0;31mNameError\u001b[0m                                 Traceback (most recent call last)",
      "\u001b[0;32m<ipython-input-1642-360096e48f83>\u001b[0m in \u001b[0;36m<module>\u001b[0;34m\u001b[0m\n\u001b[1;32m      2\u001b[0m \u001b[0mprint\u001b[0m\u001b[0;34m(\u001b[0m\u001b[0msentence\u001b[0m\u001b[0;34m)\u001b[0m\u001b[0;34m\u001b[0m\u001b[0;34m\u001b[0m\u001b[0m\n\u001b[1;32m      3\u001b[0m \u001b[0mpreprocessing\u001b[0m\u001b[0;34m(\u001b[0m\u001b[0msentence\u001b[0m\u001b[0;34m)\u001b[0m\u001b[0;34m\u001b[0m\u001b[0;34m\u001b[0m\u001b[0m\n\u001b[0;32m----> 4\u001b[0;31m \u001b[0mget_feature_vector\u001b[0m\u001b[0;34m(\u001b[0m\u001b[0msentence\u001b[0m\u001b[0;34m)\u001b[0m\u001b[0;34m\u001b[0m\u001b[0;34m\u001b[0m\u001b[0m\n\u001b[0m",
      "\u001b[0;32m<ipython-input-1636-dc3d19650ca6>\u001b[0m in \u001b[0;36mget_feature_vector\u001b[0;34m(tweet)\u001b[0m\n\u001b[1;32m     37\u001b[0m         \u001b[0mword\u001b[0m \u001b[0;34m=\u001b[0m \u001b[0mwords\u001b[0m\u001b[0;34m[\u001b[0m\u001b[0mi\u001b[0m\u001b[0;34m]\u001b[0m\u001b[0;34m\u001b[0m\u001b[0;34m\u001b[0m\u001b[0m\n\u001b[1;32m     38\u001b[0m         \u001b[0mnext_word\u001b[0m \u001b[0;34m=\u001b[0m \u001b[0mwords\u001b[0m\u001b[0;34m[\u001b[0m\u001b[0mi\u001b[0m \u001b[0;34m+\u001b[0m \u001b[0;36m1\u001b[0m\u001b[0;34m]\u001b[0m\u001b[0;34m\u001b[0m\u001b[0;34m\u001b[0m\u001b[0m\n\u001b[0;32m---> 39\u001b[0;31m         \u001b[0;32mif\u001b[0m \u001b[0munigrams\u001b[0m\u001b[0;34m.\u001b[0m\u001b[0mget\u001b[0m\u001b[0;34m(\u001b[0m\u001b[0mword\u001b[0m\u001b[0;34m)\u001b[0m\u001b[0;34m:\u001b[0m\u001b[0;34m\u001b[0m\u001b[0;34m\u001b[0m\u001b[0m\n\u001b[0m\u001b[1;32m     40\u001b[0m             \u001b[0muni_feature_vector\u001b[0m\u001b[0;34m.\u001b[0m\u001b[0mappend\u001b[0m\u001b[0;34m(\u001b[0m\u001b[0mword\u001b[0m\u001b[0;34m)\u001b[0m\u001b[0;34m\u001b[0m\u001b[0;34m\u001b[0m\u001b[0m\n\u001b[1;32m     41\u001b[0m         \u001b[0;32mif\u001b[0m \u001b[0mbigrams\u001b[0m\u001b[0;34m.\u001b[0m\u001b[0mget\u001b[0m\u001b[0;34m(\u001b[0m\u001b[0;34m(\u001b[0m\u001b[0mword\u001b[0m\u001b[0;34m,\u001b[0m \u001b[0mnext_word\u001b[0m\u001b[0;34m)\u001b[0m\u001b[0;34m)\u001b[0m\u001b[0;34m:\u001b[0m\u001b[0;34m\u001b[0m\u001b[0;34m\u001b[0m\u001b[0m\n",
      "\u001b[0;31mNameError\u001b[0m: name 'unigrams' is not defined"
     ]
    }
   ],
   "source": [
    "sentence = df_no_comas.iloc[0].text\n",
    "print(sentence)\n",
    "preprocessing(sentence)\n",
    "get_feature_vector(sentence)"
   ]
  },
  {
   "cell_type": "code",
   "execution_count": 1662,
   "metadata": {
    "hidden": true
   },
   "outputs": [
    {
     "data": {
      "text/plain": [
       "\"The sun shines, that's fine [not for everyone] and if it rains, it Will Be better.\""
      ]
     },
     "execution_count": 1662,
     "metadata": {},
     "output_type": "execute_result"
    }
   ],
   "source": [
    "Variable = \"The sun shines, that's fine [not, for, everyone] and if it rains, it Will Be better.\"\n",
    "Variable1 = re.sub(\"\\[[^]]*\\]\", lambda x:x.group(0).replace(',',''), Variable)\n",
    "Variable1"
   ]
  },
  {
   "cell_type": "code",
   "execution_count": 1666,
   "metadata": {
    "hidden": true
   },
   "outputs": [
    {
     "data": {
      "text/plain": [
       "' cc/15 f15'"
      ]
     },
     "execution_count": 1666,
     "metadata": {},
     "output_type": "execute_result"
    }
   ],
   "source": [
    "re.sub('f/\\d*',lambda x:x.group(0).replace('/',''),\" cc/15 f/15\")"
   ]
  },
  {
   "cell_type": "code",
   "execution_count": 1672,
   "metadata": {
    "hidden": true
   },
   "outputs": [
    {
     "data": {
      "text/plain": [
       "'man s '"
      ]
     },
     "execution_count": 1672,
     "metadata": {},
     "output_type": "execute_result"
    }
   ],
   "source": [
    "re.sub('\\'',' ',\"man\\'s'\")"
   ]
  },
  {
   "cell_type": "code",
   "execution_count": 1682,
   "metadata": {
    "hidden": true
   },
   "outputs": [
    {
     "data": {
      "text/plain": [
       "'word*^&D'"
      ]
     },
     "execution_count": 1682,
     "metadata": {},
     "output_type": "execute_result"
    }
   ],
   "source": [
    "\"word*^&D;:\".strip('\\'\"?!,.():;')"
   ]
  },
  {
   "cell_type": "code",
   "execution_count": 1691,
   "metadata": {
    "hidden": true
   },
   "outputs": [
    {
     "name": "stdout",
     "output_type": "stream",
     "text": [
      "a\\b\n"
     ]
    }
   ],
   "source": [
    "print(\"a\\\\b\")"
   ]
  },
  {
   "cell_type": "code",
   "execution_count": 1705,
   "metadata": {
    "hidden": true
   },
   "outputs": [],
   "source": [
    "test_dict = {}\n",
    "tset = set(['a','a','b'])\n",
    "\n",
    "for key in tset:\n",
    "    if test_dict.get(key): test_dict[key]+=1\n",
    "    else: test_dict[key]=1"
   ]
  },
  {
   "cell_type": "code",
   "execution_count": 1706,
   "metadata": {
    "hidden": true
   },
   "outputs": [
    {
     "data": {
      "text/plain": [
       "{'b': 1, 'a': 1}"
      ]
     },
     "execution_count": 1706,
     "metadata": {},
     "output_type": "execute_result"
    }
   ],
   "source": [
    "test_dict"
   ]
  },
  {
   "cell_type": "markdown",
   "metadata": {
    "heading_collapsed": true
   },
   "source": [
    "## CSV files for web_app"
   ]
  },
  {
   "cell_type": "code",
   "execution_count": 861,
   "metadata": {
    "hidden": true
   },
   "outputs": [
    {
     "data": {
      "text/plain": [
       "['No, it\\'s not an inflammation of your Takahashi!   Instead, I picked up a used FS-102 on AMart and will be doing visual comparisons against my SV-105T as soon as I can.  The Tak should arrive today/tomorrow.  I have a MT Pro and I\\'ll see if I can mount both scopes together for doing side-by-sides!     Only issue is that the FS has only 1.25\" visual back and I only have a 2\" diagonal.   Oh well, I might have to view straight through to compare.   Stay tuned.. pics will be provided when I can..',\n",
       " 4]"
      ]
     },
     "execution_count": 861,
     "metadata": {},
     "output_type": "execute_result"
    }
   ],
   "source": [
    "info_all_threads_all_forums[forum_index][thread_index][0]"
   ]
  },
  {
   "cell_type": "code",
   "execution_count": null,
   "metadata": {
    "hidden": true
   },
   "outputs": [],
   "source": [
    "title"
   ]
  },
  {
   "cell_type": "code",
   "execution_count": 867,
   "metadata": {
    "hidden": true
   },
   "outputs": [],
   "source": [
    "for line in info_all_threads_all_forums[forum_index][thread_index]:\n",
    "    if len(line)>2: print(line)"
   ]
  },
  {
   "cell_type": "code",
   "execution_count": 950,
   "metadata": {
    "hidden": true
   },
   "outputs": [
    {
     "name": "stdout",
     "output_type": "stream",
     "text": [
      "baader hyperion 8 24mm zoom\n"
     ]
    }
   ],
   "source": [
    "forum_index = 1\n",
    "thread_index = 6\n",
    "\n",
    "print(title_lists[forum_index][thread_index])\n",
    "\n",
    "pd_test = None\n",
    "\n",
    "pd_test = pd.DataFrame(info_all_threads_all_forums[forum_index][thread_index])\n",
    "\n",
    "pd_test.columns = [\"text\", \"n_likes\"]\n",
    "\n",
    "pd_test.to_csv(title_lists[forum_index][thread_index]+'.csv', index = False, header = True)"
   ]
  },
  {
   "cell_type": "code",
   "execution_count": 1711,
   "metadata": {
    "hidden": true,
    "scrolled": true
   },
   "outputs": [
    {
     "data": {
      "text/plain": [
       "array(['takitis',\n",
       "       'if aperture rules why is it that refractors are so popular',\n",
       "       'the new ap stowaway is coming along',\n",
       "       'new astro tech at80 at115 at130 edts', 'the at92',\n",
       "       '102mm achro for cheap', 'at102ed on sale has anyone used one',\n",
       "       'new a p stowaway first lights reviews and shootouts',\n",
       "       'update on my sw ed150 order',\n",
       "       'at60ed something small from our sponsors',\n",
       "       'new takahashi fc 100dl', 'at 130 and at 115 the second wave',\n",
       "       'sw150ed and the truth comes out',\n",
       "       'cheapest ed apo yet barska magnus',\n",
       "       'discontinued celestron c 4 advanced refractor',\n",
       "       'is an 80mm good for planetary', 'starwave 102ed f11 yes ed',\n",
       "       'explore scientific ar 4 achromatic thoughts',\n",
       "       'aperture vs focal ratio', 'skywatcher ed150 doublet coming',\n",
       "       'skywatcher 150 apo on pre order', 'ap 175',\n",
       "       'is astro physics going to release the new stowaway',\n",
       "       'new 152 mm apm apo in the house',\n",
       "       'tec 140 the greatest consumer telescope in history',\n",
       "       'brandons limited 50th anniv run', 'vite 23m aspheric',\n",
       "       'televue apollo 11', 'top 10 eyepieces of all time',\n",
       "       'astronomics sale on meade swa eps',\n",
       "       'are televue eyepieces overpriced', 'baader hyperion 8 24mm zoom',\n",
       "       'nikon nav 17 hw with eic 14 102 deg afov', 'delite eyepieces',\n",
       "       'new baader mark iv 8 24mm zoom eyepiece',\n",
       "       'rke 28mm on the way what to expect vs 27 36mms',\n",
       "       'explore scientific winter event first impressions',\n",
       "       'new es 62 degree line', 'who has resisted es sale temptation',\n",
       "       'til i saw her face now im a believer',\n",
       "       'eofb the new eyepiece disease for neurotics', 'abbe vs plossl',\n",
       "       'docter uwa 125mm', 'new televue line of eyepieces called delos',\n",
       "       'the stage is set eyepiece resolution world cup',\n",
       "       'tele vue eyepieces only', 'general purpose morpheus thread',\n",
       "       'a really f u n eyepiece my new 28mm rke', 'es eyepiece sale',\n",
       "       'vixen sg 21x42 widefield binoculars', 'nikon wx testing',\n",
       "       'apm 120mm ed apo binoculars', 'mrbills new apm apos',\n",
       "       'are the new apms worth it', 'loa 3d binocular',\n",
       "       'new apm 100 90° semi apo w fork mount unboxing',\n",
       "       'kowa highlander prominar versus apm 100 45 ed',\n",
       "       'new bt series from oberwerk', 'celestron binoculars',\n",
       "       'garrett bt70 90 mk iis arrived',\n",
       "       'visionking 5x25 ultra wide field', 'apm 150ed review',\n",
       "       'the best binoculars ive ever looked through',\n",
       "       'advice on nikon aculon 7x35 7x50 and 8x42',\n",
       "       'i have an itching for a docter aspectem 80500 40x uwa am i crazy',\n",
       "       'the swarovski cl pocket 8x25 and zeiss terra ed pocket 8x25 a review',\n",
       "       'mr ludes just posted on 150 bino',\n",
       "       'findings with celestron skymaster 15x70 binoculars',\n",
       "       'a new review of the nikon wx 10x50s', '127mm f55 binocular',\n",
       "       'looking for panstarr', 'compact roof binoculars 500 700 range',\n",
       "       'new apm 100 mm 90 degree ed apo binocular',\n",
       "       'favorite hand held astro binos',\n",
       "       'something for nothing celestron c90',\n",
       "       'the plot thickens meade takeover', 'at6rc backorder',\n",
       "       'is lx200 acf 12 is right for me please help', 'meades new lx800',\n",
       "       'maksutov versus schmidt', 'do i need a tak mewlon 210 yes',\n",
       "       'astro physics 10 mak cass', '1 inch apo vs 12 inch sct',\n",
       "       'why do people even buy scts',\n",
       "       'how many really good scts are out there',\n",
       "       'why are there so many people who hates sct´s',\n",
       "       'orion 127 maksutov back focus and aperture',\n",
       "       '925 sct it aint no planet scope', 'scts the perennial bridesmaid',\n",
       "       'where are the maksutov cassegain people', '10 dk vs sct',\n",
       "       'insulation jacket for mak',\n",
       "       'is there a way to fix sct mirror shift',\n",
       "       'what happens if meade disappears', 'do cats have premium optics',\n",
       "       'scts dont make good planetary scopes', 'planet killer sct',\n",
       "       '8 sct versus 5apo', 'lets talk about the meade sn 6 schmidt newt',\n",
       "       'ioptron zeq25 initial impressions',\n",
       "       'new skywatcher az gti goto wifi mount', 'lx80 ra tracking',\n",
       "       'celestron starsense', 'ioptron cem60 first impressions',\n",
       "       'cgx rollout thread', 'ill wait for the new meade lx80 mounts',\n",
       "       'ieq45 an evaluation', 'new paramount mighty mount',\n",
       "       '10micron arrived', 'lx 800',\n",
       "       'rainbowastro rst 135 review the ideal imaging mount',\n",
       "       'ioptron cem120 mount is imminent', 'cem60 or cem60 ec',\n",
       "       'celestron cgx', 'return of the lxd 75',\n",
       "       'new ioptron az mount pro', 'losmandy alaz mount',\n",
       "       'cem40ec ipolar review', 'general comment on new cgxcgx l',\n",
       "       'meade lx70 199', 'encoder based pe correction on the cheap',\n",
       "       'ap mach2gto at neaf',\n",
       "       'mach1 vs myt on performance operational issues',\n",
       "       'telescope drive master the truth of the matter',\n",
       "       'orions new monster dobs', 'celestron powerseeker 127eq',\n",
       "       'is a premium mirror worth it in mediocre seeing eg zambuto vs gso',\n",
       "       'shopping for a 12 dob what should i avoid',\n",
       "       'jupiter appears like half circle',\n",
       "       'pull no punches webster c32 review',\n",
       "       'first light on my 20 f3 lockwoodjp astrocraft',\n",
       "       'orion xx14i mirror quality', 'skywatcher’s 20 goto truss dob',\n",
       "       'catseye vs howie glatter and blug', 'c14 better than a zambuto',\n",
       "       'does mirror quality matter',\n",
       "       'gso vs lightholder vs zamubto at the eyepiece',\n",
       "       'why the rush to large aperture', 'the future of newtonians short',\n",
       "       '32 f33 sdmlockwood', 'astronomics astro tech 16 dob has landed',\n",
       "       'obsession 25 f4 vs orion 10 f47 expectations',\n",
       "       'lets talk about the hubble optics ul16',\n",
       "       'large dobs is there a point of diminishing returns',\n",
       "       'obsession is it really',\n",
       "       'the only thing to fear about f275 is fear itself',\n",
       "       'whats the biggest dob that would be good for me',\n",
       "       'does goto blunt human intelligence',\n",
       "       'zhumell z100 100mm f4 newtonian',\n",
       "       'review binoviewers zeiss baader william optics siebert denkmeier',\n",
       "       'loa 21 3d observing', 'are binoviewers just as great on dsos',\n",
       "       'custom made adapter denkmeier to baader t 2',\n",
       "       'new william optics binoviewer on the way', 'loa 21s on the way',\n",
       "       'denkmeier deepview 7 at chiefland this friday night',\n",
       "       'binoviewers omg binoviewers',\n",
       "       'custom smooth barrel adapter for baader hyperion mk iii',\n",
       "       'denk binotron first light',\n",
       "       'baader maxbright replacement forthcoming', 'loa disappointment',\n",
       "       'denkmeier deepview 7', 'binoviewer and solar white light do this',\n",
       "       'why binoviewers are a prescription for bad observation',\n",
       "       'binoviewing experiences with various eyepiece pairs',\n",
       "       'bought an arcturus binoviewer couldn’t be happier',\n",
       "       'binoviewer difference optically',\n",
       "       'baader mark v vs denkmeier binotron binoviewer',\n",
       "       'binoviewers are they worth getting what to expect',\n",
       "       'why i bought bvs',\n",
       "       'what is the best binoviewer for planetlunar viewing',\n",
       "       'moon binoviewedwow', '13mm naglers in binoviewers',\n",
       "       'considering abandoning mono viewing entirely'], dtype=object)"
      ]
     },
     "execution_count": 1711,
     "metadata": {},
     "output_type": "execute_result"
    }
   ],
   "source": []
  },
  {
   "cell_type": "code",
   "execution_count": 1722,
   "metadata": {
    "hidden": true
   },
   "outputs": [],
   "source": [
    "for thread_name in df_no_comas.thread_name.unique():\n",
    "    res = df_no_comas[df_no_comas.thread_name==thread_name]\n",
    "    res[['text','n_likes']].to_csv('./data/'+thread_name+'.csv',index = False, header = True)\n",
    "    \n",
    "del res"
   ]
  },
  {
   "cell_type": "code",
   "execution_count": 1723,
   "metadata": {
    "hidden": true
   },
   "outputs": [
    {
     "data": {
      "text/plain": [
       "2"
      ]
     },
     "execution_count": 1723,
     "metadata": {},
     "output_type": "execute_result"
    }
   ],
   "source": [
    "round(1.5)"
   ]
  },
  {
   "cell_type": "markdown",
   "metadata": {
    "heading_collapsed": true
   },
   "source": [
    "## Precision-recall"
   ]
  },
  {
   "cell_type": "code",
   "execution_count": 915,
   "metadata": {
    "hidden": true
   },
   "outputs": [
    {
     "ename": "NameError",
     "evalue": "name 'average_precision' is not defined",
     "output_type": "error",
     "traceback": [
      "\u001b[0;31m---------------------------------------------------------------------------\u001b[0m",
      "\u001b[0;31mNameError\u001b[0m                                 Traceback (most recent call last)",
      "\u001b[0;32m<ipython-input-915-9aab2a8cf3d4>\u001b[0m in \u001b[0;36m<module>\u001b[0;34m\u001b[0m\n\u001b[1;32m     19\u001b[0m \u001b[0mplt\u001b[0m\u001b[0;34m.\u001b[0m\u001b[0mxlim\u001b[0m\u001b[0;34m(\u001b[0m\u001b[0;34m[\u001b[0m\u001b[0;36m0.0\u001b[0m\u001b[0;34m,\u001b[0m \u001b[0;36m1.0\u001b[0m\u001b[0;34m]\u001b[0m\u001b[0;34m)\u001b[0m\u001b[0;34m\u001b[0m\u001b[0;34m\u001b[0m\u001b[0m\n\u001b[1;32m     20\u001b[0m plt.title('2-class Precision-Recall curve: AP={0:0.2f}'.format(\n\u001b[0;32m---> 21\u001b[0;31m           average_precision))\n\u001b[0m",
      "\u001b[0;31mNameError\u001b[0m: name 'average_precision' is not defined"
     ]
    },
    {
     "data": {
      "image/png": "[encoded data removed]",
      "text/plain": [
       "<Figure size 1080x432 with 1 Axes>"
      ]
     },
     "metadata": {
      "needs_background": "light"
     },
     "output_type": "display_data"
    }
   ],
   "source": [
    "from sklearn.metrics import precision_recall_curve\n",
    "from inspect import signature\n",
    "\n",
    "nltk_score = data1_extra.apply(lambda row: (nltk_sentiment.polarity_scores(row['text'])['compound']+1)/2, axis=1).values\n",
    "\n",
    "precision, recall, thresholds = precision_recall_curve(y_true=data1_senti_bi, probas_pred=nltk_score)\n",
    "\n",
    "# In matplotlib < 1.5, plt.fill_between does not have a 'step' argument\n",
    "step_kwargs = ({'step': 'post'}\n",
    "               if 'step' in signature(plt.fill_between).parameters\n",
    "               else {})\n",
    "plt.step(recall, precision, color='b', alpha=0.2,\n",
    "         where='post')\n",
    "plt.fill_between(recall, precision, alpha=0.2, color='b', **step_kwargs)\n",
    "\n",
    "plt.xlabel('Recall')\n",
    "plt.ylabel('Precision')\n",
    "plt.ylim([0.0, 1.05])\n",
    "plt.xlim([0.0, 1.0])\n",
    "plt.title('2-class Precision-Recall curve: AP={0:0.2f}'.format(average_precision))\n"
   ]
  },
  {
   "cell_type": "markdown",
   "metadata": {
    "heading_collapsed": true
   },
   "source": [
    "## Thread Loader"
   ]
  },
  {
   "cell_type": "code",
   "execution_count": 943,
   "metadata": {
    "hidden": true
   },
   "outputs": [
    {
     "data": {
      "text/plain": [
       "'/Users/daliangli/Dropbox/Insight/NLP_project'"
      ]
     },
     "execution_count": 943,
     "metadata": {},
     "output_type": "execute_result"
    }
   ],
   "source": [
    "#pwd"
   ]
  },
  {
   "cell_type": "code",
   "execution_count": 894,
   "metadata": {
    "hidden": true
   },
   "outputs": [
    {
     "data": {
      "text/plain": [
       "'No, it\\'s not an inflammation of your Takahashi!   Instead, I picked up a used FS-102 on AMart and will be doing visual comparisons against my SV-105T as soon as I can.  The Tak should arrive today/tomorrow.  I have a MT Pro and I\\'ll see if I can mount both scopes together for doing side-by-sides!     Only issue is that the FS has only 1.25\" visual back and I only have a 2\" diagonal.   Oh well, I might have to view straight through to compare.   Stay tuned.. pics will be provided when I can..'"
      ]
     },
     "execution_count": 894,
     "metadata": {},
     "output_type": "execute_result"
    }
   ],
   "source": [
    "import glob, os\n",
    "import pandas as pd\n",
    "\n",
    "def thread_loader(thread_name_substring):\n",
    "    for file in glob.glob(\"./static/data/\"+thread_name_substring+\"*.csv\"):\n",
    "        return pd.read_csv(file)\n",
    "    \n",
    "thread_pd = thread_loader(\"tak\")\n",
    "\n",
    "thread_pd.iloc[0][\"text\"]"
   ]
  },
  {
   "cell_type": "markdown",
   "metadata": {},
   "source": [
    "## Tests"
   ]
  },
  {
   "cell_type": "code",
   "execution_count": 252,
   "metadata": {},
   "outputs": [],
   "source": [
    "comments_all_threads = [all_comments_from_a_souped_thread(soup) for soup in soups]\n",
    "sentiment_all_threads = [np.array([nltk_sentiment(comment)['compound'] for comment in comments]) \n",
    "                         for comments in comments_all_threads]"
   ]
  },
  {
   "cell_type": "code",
   "execution_count": 278,
   "metadata": {},
   "outputs": [],
   "source": [
    "#ids_to_delete = [7,10,13,14,15]\n",
    "\n",
    "#for i,ids in enumerate(ids_to_delete): del useful_threads[ids-i] \n",
    "#for i,ids in enumerate(ids_to_delete): del comments_all_threads[ids-i]  \n",
    "#for i,ids in enumerate(ids_to_delete): del sentiment_all_threads[ids-i]  \n",
    "#for i,ids in enumerate(ids_to_delete): del hours[ids-i] "
   ]
  },
  {
   "cell_type": "code",
   "execution_count": 289,
   "metadata": {},
   "outputs": [
    {
     "data": {
      "image/png": "[encoded data removed]",
      "text/plain": [
       "<Figure size 1080x432 with 1 Axes>"
      ]
     },
     "metadata": {
      "needs_background": "light"
     },
     "output_type": "display_data"
    }
   ],
   "source": [
    "sorted_hours = np.sort(hours)[::-1]\n",
    "\n",
    "x = np.arange(len(sorted_hours))\n",
    "plt.bar(x, height= sorted_hours)\n",
    "plt.xticks(x+.5)\n",
    "plt.show()"
   ]
  },
  {
   "cell_type": "code",
   "execution_count": 285,
   "metadata": {},
   "outputs": [
    {
     "data": {
      "image/png": "[encoded data removed]",
      "text/plain": [
       "<Figure size 1080x432 with 1 Axes>"
      ]
     },
     "metadata": {
      "needs_background": "light"
     },
     "output_type": "display_data"
    }
   ],
   "source": [
    "# Generate a word cloud image\n",
    "wordcloud = WordCloud(background_color=\"white\").generate(\" \".join(comments_all_threads[-5]))\n",
    "\n",
    "# Display the generated image:\n",
    "# the matplotlib way:\n",
    "plt.imshow(wordcloud, interpolation='bilinear')\n",
    "plt.axis(\"off\")\n",
    "plt.show()"
   ]
  },
  {
   "cell_type": "code",
   "execution_count": 265,
   "metadata": {},
   "outputs": [
    {
     "data": {
      "text/plain": [
       "0.0"
      ]
     },
     "execution_count": 265,
     "metadata": {},
     "output_type": "execute_result"
    }
   ],
   "source": [
    "def thread_statistics(all_comments_in_a_thread):\n",
    "    total_string = \"\".join(all_comments_in_a_thread)\n",
    "    return total_string.count(\" \")\n",
    "    \n",
    "hours = [thread_statistics(thread)/250/60 for thread in comments_all_threads]\n",
    "\n",
    "hours[7]"
   ]
  },
  {
   "cell_type": "code",
   "execution_count": 272,
   "metadata": {},
   "outputs": [
    {
     "data": {
      "text/plain": [
       "[<div class=\"post entry-content \" itemprop=\"commentText\">\n",
       " <!--cached-Thu, 05 Sep 2019 07:50:18 +0000--><p>ANYBODY HAVE ONE OF THESE NIKON NAV 17 HW with EiC-14  102 deg AFOV, OR HAD A CHANCE TO LOOK THROUGH ONE?  WHAT WERE THE VIEWS LIKE?</p>\n",
       " <br/>\n",
       " </div>, <div class=\"post entry-content \" itemprop=\"commentText\">\n",
       " <!--cached-Thu, 05 Sep 2019 07:50:18 +0000--><p>Just got mine about four hour ago.</p>\n",
       " <p> </p>\n",
       " <p>It's excellent. I'm finding that the 102 degrees is slightly easier to take in than the 100 degrees in the 17 ethos. It also appears to be very sharp indeed, but it is early days for making comparisons.</p>\n",
       " <p> </p>\n",
       " <p>The views appear equally sharp at 14mm as they are at 17.</p>\n",
       " <br/>\n",
       " </div>, <div class=\"post entry-content \" itemprop=\"commentText\">\n",
       " <!--cached-Thu, 05 Sep 2019 07:50:18 +0000--><p>It is an awesome eyepiece - flat flat flat across the entire field (ap178/tmb175/tec180 refractors). The best view I have had of the double cluster - unforgettable. Go get one. </p>\n",
       " <br/>\n",
       " <p class=\"edit\">\n",
       " <strong>Edited by stevenwav, 28 October 2016 - 10:36 PM.</strong>\n",
       " </p>\n",
       " </div>, <div class=\"post entry-content \" itemprop=\"commentText\">\n",
       " <!--cached-Thu, 05 Sep 2019 07:50:18 +0000--><blockquote class=\"ipsBlockquote\" data-author=\"faackanders2\" data-cid=\"7509575\" data-time=\"1477709778\">\n",
       " <div>\n",
       " <p>ANYBODY HAVE ONE OF THESE NIKON NAV 17 HW with EiC-14  102 deg AFOV, OR HAD A CHANCE TO LOOK THROUGH ONE?  WHAT WERE THE VIEWS LIKE?</p>\n",
       " </div>\n",
       " </blockquote>\n",
       " <p>I have one.  I bought both it and a 17mm Ethos, and compared the two side by side before returning the Ethos.  The Nikon seemed less \"lively\".  Probably just a slightly different attenuation profile on account of differences in glass types and coatings.  Both were excellent, but I liked the less scintillating, more clinical appearance of stars in the Nikon unit so that's the one I kept.</p>\n",
       " <p> </p>\n",
       " <p>Regards,</p>\n",
       " <p> </p>\n",
       " <p>Jim</p>\n",
       " <br/>\n",
       " </div>, <div class=\"post entry-content \" itemprop=\"commentText\">\n",
       " <!--cached-Thu, 05 Sep 2019 07:50:19 +0000--><blockquote class=\"ipsBlockquote\" data-author=\"stevenwav\" data-cid=\"7509618\" data-time=\"1477711870\">\n",
       " <div>\n",
       " <p>It is an awesome eyepiece - flat flat flat across the entire field (ap178/tmb175/tec180 refractors). The best view I have had of the double cluster - unforgettable. Go get one. </p>\n",
       " </div>\n",
       " </blockquote>\n",
       " <p> </p>\n",
       " <p>Today I've been looking around the mountains from my balcony in my 80mm F6 and Televue 101, and I am finding that the Nikon accommodates almost all of the field curvature in the 80mm scope (with 14 EiC in place), whereas my 13 ethos needs a tweak to get focus in center vs. edge. In 17mm mode there's more evidence of curvature in the Nikon, but a touch less than I see in the 17 ethos.</p>\n",
       " <p> </p>\n",
       " <p>The ethos and Nikon are sharp and in focus all the way across in the Televue 101. When I compare 13 and 17 ethos' to the Nikon in 14/17 modes, the Nikon may be--possibly--a tiny bit sharper but I wouldn't bet any money on it.</p>\n",
       " <p> </p>\n",
       " <p>My main take away is the extra little bit of ease seeing the field stop makes for a slightly more immersive and enjoyable view than the Ethos. But this is all real hair splitting. These are both great eyepieces and no sane person would miss the other when they decided what to keep and what to sell on.  </p>\n",
       " <br/>\n",
       " </div>, <div class=\"post entry-content \" itemprop=\"commentText\">\n",
       " <!--cached-Thu, 05 Sep 2019 07:50:19 +0000--><blockquote class=\"ipsBlockquote\" data-author=\"areyoukiddingme\" data-cid=\"7510829\" data-time=\"1477785533\">\n",
       " <div>\n",
       " <p> </p>\n",
       " <blockquote class=\"ipsBlockquote\" data-author=\"stevenwav\" data-cid=\"7509618\" data-time=\"1477711870\">\n",
       " <div>\n",
       " <p>It is an awesome eyepiece - flat flat flat across the entire field (ap178/tmb175/tec180 refractors). The best view I have had of the double cluster - unforgettable. Go get one. </p>\n",
       " </div>\n",
       " </blockquote>\n",
       " <p> </p>\n",
       " <p>Today I've been looking around the mountains from my balcony in my 80mm F6 and Televue 101, and I am finding that the Nikon accommodates almost all of the field curvature in the 80mm scope (with 14 EiC in place), whereas my 13 ethos needs a tweak to get focus in center vs. edge. In 17mm mode there's more evidence of curvature in the Nikon, but a touch less than I see in the 17 ethos.</p>\n",
       " <p> </p>\n",
       " <p>The ethos and Nikon are sharp and in focus all the way across in the Televue 101. When I compare 13 and 17 ethos' to the Nikon in 14/17 modes, the Nikon may be--possibly--a tiny bit sharper but I wouldn't bet any money on it.</p>\n",
       " <p> </p>\n",
       " <p>My main take away is the extra little bit of ease seeing the field stop makes for a slightly more immersive and enjoyable view than the Ethos. But this is all real hair splitting. These are both great eyepieces and no sane person would miss the other when they decided what to keep and what to sell on.  </p>\n",
       " <p> </p>\n",
       " </div>\n",
       " </blockquote>\n",
       " <p>I'd be more interested in the Nikon if more focal lengths were available, and if they were more readily obtainable.  Even Cuban cigars are easier to get now! <img alt=\":lol:\" class=\"bbc_emoticon\" src=\"https://www.cloudynights.com//public/style_emoticons/default/lol.gif\"/> Also doesn't sound like there is enough of a difference in performance to warrant selling my 17mm Ethos to get the Nikon.  I'd still love to try one though...</p>\n",
       " <br/>\n",
       " </div>, <div class=\"post entry-content \" itemprop=\"commentText\">\n",
       " <!--cached-Thu, 05 Sep 2019 07:50:19 +0000--><p>The more I play with the Nikon the more I like it. I need to get it out to dark skies, but even playing around in the day and taking a quick look between clouds from my light polluted balcony has me entertaining the thought of replacing my 13 and 17 ethos.</p>\n",
       " <p> </p>\n",
       " <p>Also, given the nature of the world economy, my guess is that the yen is going to continue to fall relative to the USD. Keep an eye on it and on Amazon Japan. . . </p>\n",
       " <br/>\n",
       " </div>, <div class=\"post entry-content \" itemprop=\"commentText\">\n",
       " <!--cached-Thu, 05 Sep 2019 07:50:19 +0000--><blockquote class=\"ipsBlockquote\" data-author=\"turtle86\" data-cid=\"7513330\" data-time=\"1477940847\">\n",
       " <div>\n",
       " <p> </p>\n",
       " <blockquote class=\"ipsBlockquote\" data-author=\"areyoukiddingme\" data-cid=\"7510829\" data-time=\"1477785533\">\n",
       " <div>\n",
       " <p> </p>\n",
       " <blockquote class=\"ipsBlockquote\" data-author=\"stevenwav\" data-cid=\"7509618\" data-time=\"1477711870\">\n",
       " <div>\n",
       " <p>It is an awesome eyepiece - flat flat flat across the entire field (ap178/tmb175/tec180 refractors). The best view I have had of the double cluster - unforgettable. Go get one. </p>\n",
       " </div>\n",
       " </blockquote>\n",
       " <p> </p>\n",
       " <p>Today I've been looking around the mountains from my balcony in my 80mm F6 and Televue 101, and I am finding that the Nikon accommodates almost all of the field curvature in the 80mm scope (with 14 EiC in place), whereas my 13 ethos needs a tweak to get focus in center vs. edge. In 17mm mode there's more evidence of curvature in the Nikon, but a touch less than I see in the 17 ethos.</p>\n",
       " <p> </p>\n",
       " <p>The ethos and Nikon are sharp and in focus all the way across in the Televue 101. When I compare 13 and 17 ethos' to the Nikon in 14/17 modes, the Nikon may be--possibly--a tiny bit sharper but I wouldn't bet any money on it.</p>\n",
       " <p> </p>\n",
       " <p>My main take away is the extra little bit of ease seeing the field stop makes for a slightly more immersive and enjoyable view than the Ethos. But this is all real hair splitting. These are both great eyepieces and no sane person would miss the other when they decided what to keep and what to sell on.  </p>\n",
       " <p> </p>\n",
       " </div>\n",
       " </blockquote>\n",
       " <p>I'd be more interested in the Nikon if more focal lengths were available, and if they were more readily obtainable.  Even Cuban cigars are easier to get now! <img alt=\":lol:\" class=\"bbc_emoticon\" src=\"https://www.cloudynights.com//public/style_emoticons/default/lol.gif\"/> Also doesn't sound like there is enough of a difference in performance to warrant selling my 17mm Ethos to get the Nikon.  I'd still love to try one though...</p>\n",
       " <p> </p>\n",
       " </div>\n",
       " </blockquote>\n",
       " <p>It is a two-fer, both 17mm &amp; 14mm in one eyepiece.</p>\n",
       " <br/>\n",
       " </div>, <div class=\"post entry-content \" itemprop=\"commentText\">\n",
       " <!--cached-Thu, 05 Sep 2019 07:50:19 +0000--><blockquote class=\"ipsBlockquote\" data-author=\"faackanders2\" data-cid=\"7509575\" data-time=\"1477709778\">\n",
       " <div>\n",
       " <p>ANYBODY HAVE ONE OF THESE NIKON NAV 17 HW with EiC-14  102 deg AFOV, OR HAD A CHANCE TO LOOK THROUGH ONE?  WHAT WERE THE VIEWS LIKE?</p>\n",
       " </div>\n",
       " </blockquote>\n",
       " <p>In my opinion, the Nikon is the finest hyperwide in the world in its focal class. Images are highly corrected, eye relief is excellent and images are completely neautral. </p>\n",
       " <br/>\n",
       " <p class=\"edit\">\n",
       " <strong>Edited by Daniel Mounsey, 01 November 2016 - 05:24 PM.</strong>\n",
       " </p>\n",
       " </div>, <div class=\"post entry-content \" itemprop=\"commentText\">\n",
       " <!--cached-Thu, 05 Sep 2019 07:50:19 +0000--><blockquote class=\"ipsBlockquote\" data-author=\"faackanders2\" data-cid=\"7513876\" data-time=\"1477965395\">\n",
       " <div>\n",
       " <p> </p>\n",
       " <blockquote class=\"ipsBlockquote\" data-author=\"turtle86\" data-cid=\"7513330\" data-time=\"1477940847\">\n",
       " <div>\n",
       " <p> </p>\n",
       " <blockquote class=\"ipsBlockquote\" data-author=\"areyoukiddingme\" data-cid=\"7510829\" data-time=\"1477785533\">\n",
       " <div>\n",
       " <p> </p>\n",
       " <blockquote class=\"ipsBlockquote\" data-author=\"stevenwav\" data-cid=\"7509618\" data-time=\"1477711870\">\n",
       " <div>\n",
       " <p>It is an awesome eyepiece - flat flat flat across the entire field (ap178/tmb175/tec180 refractors). The best view I have had of the double cluster - unforgettable. Go get one. </p>\n",
       " </div>\n",
       " </blockquote>\n",
       " <p> </p>\n",
       " <p>Today I've been looking around the mountains from my balcony in my 80mm F6 and Televue 101, and I am finding that the Nikon accommodates almost all of the field curvature in the 80mm scope (with 14 EiC in place), whereas my 13 ethos needs a tweak to get focus in center vs. edge. In 17mm mode there's more evidence of curvature in the Nikon, but a touch less than I see in the 17 ethos.</p>\n",
       " <p> </p>\n",
       " <p>The ethos and Nikon are sharp and in focus all the way across in the Televue 101. When I compare 13 and 17 ethos' to the Nikon in 14/17 modes, the Nikon may be--possibly--a tiny bit sharper but I wouldn't bet any money on it.</p>\n",
       " <p> </p>\n",
       " <p>My main take away is the extra little bit of ease seeing the field stop makes for a slightly more immersive and enjoyable view than the Ethos. But this is all real hair splitting. These are both great eyepieces and no sane person would miss the other when they decided what to keep and what to sell on.  </p>\n",
       " <p> </p>\n",
       " </div>\n",
       " </blockquote>\n",
       " <p>I'd be more interested in the Nikon if more focal lengths were available, and if they were more readily obtainable.  Even Cuban cigars are easier to get now! <img alt=\":lol:\" class=\"bbc_emoticon\" src=\"https://www.cloudynights.com//public/style_emoticons/default/lol.gif\"/> Also doesn't sound like there is enough of a difference in performance to warrant selling my 17mm Ethos to get the Nikon.  I'd still love to try one though...</p>\n",
       " <p> </p>\n",
       " </div>\n",
       " </blockquote>\n",
       " <p>It is a two-fer, both 17mm &amp; 14mm in one eyepiece.</p>\n",
       " <p> </p>\n",
       " </div>\n",
       " </blockquote>\n",
       " <p>I know that, but it would nice if there were at least a 20-21mm and a few choices at 10mm and below.  It's not like Nikon is a small mom-and-pop operation. <img alt=\":lol:\" class=\"bbc_emoticon\" src=\"https://www.cloudynights.com//public/style_emoticons/default/lol.gif\"/></p>\n",
       " <br/>\n",
       " </div>, <div class=\"post entry-content \" itemprop=\"commentText\">\n",
       " <!--cached-Thu, 05 Sep 2019 07:50:19 +0000--><p>The lack of other focal lengths really is odd. I can only imagine that they have not sold well. Mine has serial number 100061; all those zeros seems to imply they were planning to sell more. </p>\n",
       " <br/>\n",
       " </div>, <div class=\"post entry-content \" itemprop=\"commentText\">\n",
       " <!--cached-Thu, 05 Sep 2019 07:50:19 +0000--><p>They make a 12.5/10mm version as well. Limited but then again, how many sizes does Docter make? </p>\n",
       " <br/>\n",
       " </div>, <div class=\"post entry-content \" itemprop=\"commentText\">\n",
       " <!--cached-Thu, 05 Sep 2019 07:50:19 +0000--><blockquote class=\"ipsBlockquote\" data-author=\"areyoukiddingme\" data-cid=\"7514492\" data-time=\"1478015704\">\n",
       " <div>\n",
       " <p>The lack of other focal lengths really is odd. I can only imagine that they have not sold well. Mine has serial number 100061; all those zeros seems to imply they were planning to sell more. </p>\n",
       " </div>\n",
       " </blockquote>\n",
       " <p>hoping.  Easy to start off with zeros.  Harder to add them later like odometers.</p>\n",
       " <br/>\n",
       " </div>, <div class=\"post entry-content \" itemprop=\"commentText\">\n",
       " <!--cached-Thu, 05 Sep 2019 07:50:19 +0000--><blockquote class=\"ipsBlockquote\" data-author=\"stevenwav\" data-cid=\"7514789\" data-time=\"1478028468\">\n",
       " <div>\n",
       " <p>They make a 12.5/10mm version as well. Limited but then again, how many sizes does Docter make? </p>\n",
       " </div>\n",
       " </blockquote>\n",
       " <p> </p>\n",
       " <p>It's a little odd that Nikon went with 12.5/10mm and 17/14mm. 12.5 and 14mm seem too close together.</p>\n",
       " <p> </p>\n",
       " <p>Hmm, wonder how the Nikon at 12.5 would stack up to the Docter? </p>\n",
       " <br/>\n",
       " </div>, <div class=\"post entry-content \" itemprop=\"commentText\">\n",
       " <!--cached-Thu, 05 Sep 2019 07:50:19 +0000--><p>IIRC, don't these Nikon NAV HW's have significant RD, or was it AMD?</p>\n",
       " <p> </p>\n",
       " <p>Mike</p>\n",
       " <br/>\n",
       " <p class=\"edit\">\n",
       " <strong>Edited by Sarkikos, 02 November 2016 - 10:39 AM.</strong>\n",
       " </p>\n",
       " </div>, <div class=\"post entry-content \" itemprop=\"commentText\">\n",
       " <!--cached-Thu, 05 Sep 2019 07:50:19 +0000--><blockquote class=\"ipsBlockquote\" data-author=\"Sarkikos\" data-cid=\"7516145\" data-time=\"1478100557\">\n",
       " <div>\n",
       " <p>IIRC, don't these Nikon NAV HW's have significant RD, or was it AMD?</p>\n",
       " <p> </p>\n",
       " <p>Mike</p>\n",
       " </div>\n",
       " </blockquote>\n",
       " <p> </p>\n",
       " <p>I am unable to keep track of all these AMD/RD etc. distortions. However, if they are there, they are not bothering me.</p>\n",
       " <p> </p>\n",
       " <p>There's pincushion in the Nikon, but less than I see in the Ethos.</p>\n",
       " <br/>\n",
       " </div>, <div class=\"post entry-content \" itemprop=\"commentText\">\n",
       " <!--cached-Thu, 05 Sep 2019 07:50:19 +0000--><p>Have they ever had a sale on this Nikon 17mm/14mm 102 AFOV eyepiece?</p>\n",
       " <br/>\n",
       " </div>, <div class=\"post entry-content \" itemprop=\"commentText\">\n",
       " <!--cached-Thu, 05 Sep 2019 07:50:19 +0000--><p>No</p>\n",
       " <br/>\n",
       " </div>, <div class=\"post entry-content \" itemprop=\"commentText\">\n",
       " <!--cached-Thu, 05 Sep 2019 07:50:19 +0000--><p>Best prices I could find are from Japan. I got mine from Amazon Japan (shipped to the U.S), but it has since gone up in price quite a bit.</p>\n",
       " <p> </p>\n",
       " <p>There are other Japanese retailers where it should be possible to get one though.</p>\n",
       " <br/>\n",
       " </div>, <div class=\"post entry-content \" itemprop=\"commentText\">\n",
       " <!--cached-Thu, 05 Sep 2019 07:50:19 +0000--><blockquote class=\"ipsBlockquote\" data-author=\"jrbarnett\" data-cid=\"7509640\" data-time=\"1477712921\"><p></p><blockquote class=\"ipsBlockquote\" data-author=\"faackanders2\" data-cid=\"7509575\" data-time=\"1477709778\"><p><br/>\n",
       " ANYBODY HAVE ONE OF THESE NIKON NAV 17 HW with EiC-14  102 deg AFOV, OR HAD A CHANCE TO LOOK THROUGH ONE?  WHAT WERE THE VIEWS LIKE?</p></blockquote>\n",
       " I have one.  I bought both it and a 17mm Ethos, and compared the two side by side before returning the Ethos.  The Nikon seemed less \"lively\".  Probably just a slightly different attenuation profile on account of differences in glass types and coatings.  Both were excellent, but I liked the less scintillating, more clinical appearance of stars in the Nikon unit so that's the one I kept.<br/><br/>\n",
       " Regards,<br/><br/>\n",
       " Jim</blockquote>\n",
       " <br/>\n",
       " Would you also agree with others here the extra mm of eye relief makes a noticeable difference in ease of view of the field, if not the whole field?  \n",
       " \t\t\t\t\t\n",
       " \t\t\t\t\t<br>\n",
       " </br></div>, <div class=\"post entry-content \" itemprop=\"commentText\">\n",
       " <!--cached-Thu, 05 Sep 2019 07:50:19 +0000--><p>It's the Nikon NAV-SW that has some reported AMD at the edge, not the HW.</p>\n",
       " <p>The HWs are very different.</p>\n",
       " <p>The SWs may have been spotting scope-oriented, where the HWs obviously were not.</p>\n",
       " <p> </p>\n",
       " <p>I note that this is one eyepiece that impressed Tele Vue with its quality.</p>\n",
       " <p>They appear more expensive than the equivalent Tele Vues until you realize there are 2 focal lengths in one with the simple add-on.</p>\n",
       " <p>How that affects light scatter, baffling, spherical aberration, etc, I don't know.  But a ~1.2 magnification factor is pretty small to have much effect.</p>\n",
       " <p> </p>\n",
       " <p>Eye relief is always a personal thing.  I find the 15mm on the Ethos a bit too long, so 16mm in the Nikon isn't great for me, either.</p>\n",
       " <p>But, for many, every mm counts, which explains why the new long eye relief 92° eyepieces from ES are getting so many posts.</p>\n",
       " <p> </p>\n",
       " <p>Just note that any/all series of eyepieces with constant eye relief will be slightly different internally in each focal length in order to accomplish that.</p>\n",
       " <p>And often have different numbers of lenses, varying according to focal length (one example: Pentax XWs, which have from 6 to 8 elements).</p>\n",
       " <p>In each series of eyepieces I've ever compared, one to 3 of the focal lengths stood out as better optically than the others.</p>\n",
       " <p>That's common, and goes a long way toward explaining why some reactions to a line are so very different than some others.</p>\n",
       " <p> </p>\n",
       " <p>Nikon's quoted field stop diameters are consistent with a 102° (101-103°) apparent field, as well.</p>\n",
       " <p>Will they come out with more focal lengths?  Shorter ones should be OK--maybe 8mm?<span rel=\"lightbox\"><img alt=\"fingerscrossed.gif\" class=\"bbc_img\" src=\"https://www.cloudynights.com//public/style_emoticons/default/fingerscrossed.gif\"/></span></p>\n",
       " <br>\n",
       " </br></div>, <div class=\"post entry-content \" itemprop=\"commentText\">\n",
       " <!--cached-Thu, 05 Sep 2019 07:50:19 +0000--><blockquote class=\"ipsBlockquote\" data-author=\"areyoukiddingme\" data-cid=\"7514492\" data-time=\"1478015704\">\n",
       " <div>\n",
       " <p>The lack of other focal lengths really is odd. I can only imagine that they have not sold well. Mine has serial number 100061; all those zeros seems to imply they were planning to sell more. </p>\n",
       " </div>\n",
       " </blockquote>\n",
       " <p>Like Nikon cameras, they likely aren't exactly flying off the shelves these days.</p>\n",
       " <br>\n",
       " </br></div>, <div class=\"post entry-content \" itemprop=\"commentText\">\n",
       " <!--cached-Thu, 05 Sep 2019 07:50:19 +0000--><blockquote class=\"ipsBlockquote\" data-author=\"RichA\" data-cid=\"7819668\" data-time=\"1492070771\">\n",
       " <div>\n",
       " <p> </p>\n",
       " <blockquote class=\"ipsBlockquote\" data-author=\"areyoukiddingme\" data-cid=\"7514492\" data-time=\"1478015704\">\n",
       " <div>\n",
       " <p>The lack of other focal lengths really is odd. I can only imagine that they have not sold well. Mine has serial number 100061; all those zeros seems to imply they were planning to sell more. </p>\n",
       " </div>\n",
       " </blockquote>\n",
       " <p>Like Nikon cameras, they likely aren't exactly flying off the shelves these days.</p>\n",
       " <p> </p>\n",
       " </div>\n",
       " </blockquote>\n",
       " <p> </p>\n",
       " <p>I don't know much of anything about cameras, but this eyepiece is a keeper.</p>\n",
       " <p> </p>\n",
       " <p>Very high contrast, well corrected, easy views to take in. Now that I've had a couple dozen hours with it, I'm loving it in my refractors and reflector.</p>\n",
       " <p> </p>\n",
       " <p>The EiC 1.21x barlow is proving to be very handy. I've screwed it into the bottom of a 2\"-1.25\" adapter and find it works very well with many eyepieces--Leica zoom, XWs, and ethos. Been using it on planetary in my 6\" refractor to get different powers out of 10, 8, and 6 Ethos, and it works great.</p>\n",
       " <p> </p>\n",
       " <p>17 Ethos sold, and 13 is next . . . </p>\n",
       " <br>\n",
       " </br></div>, <div class=\"post entry-content \" itemprop=\"commentText\">\n",
       " <!--cached-Thu, 05 Sep 2019 07:50:19 +0000--><blockquote class=\"ipsBlockquote\" data-author=\"RichA\" data-cid=\"7819668\" data-time=\"1492070771\"><br/><div>\n",
       " <p> </p>\n",
       " <blockquote class=\"ipsBlockquote\" data-author=\"areyoukiddingme\" data-cid=\"7514492\" data-time=\"1478015704\">\n",
       " <div>\n",
       " <p>The lack of other focal lengths really is odd. I can only imagine that they have not sold well. Mine has serial number 100061; all those zeros seems to imply they were planning to sell more. </p>\n",
       " </div>\n",
       " </blockquote>\n",
       " </div>\n",
       " </blockquote>\n",
       " <p>Costs nothing to add zeros in the middle.  Having to redo the tool to add an extra digit later costs money.  Better to be optimistic than pessimistic.</p>\n",
       " <br>\n",
       " </br></div>, <div class=\"post entry-content \" itemprop=\"commentText\">\n",
       " <!--cached-Thu, 05 Sep 2019 07:50:19 +0000--><p>Unless the serial number implies \"Series 100, unit 061\", in which case they could have been pessimistic.</p>\n",
       " <br>\n",
       " </br></div>]"
      ]
     },
     "execution_count": 272,
     "metadata": {},
     "output_type": "execute_result"
    }
   ],
   "source": [
    "soups[0][0].find_all(class_=\"post entry-content \")"
   ]
  },
  {
   "cell_type": "code",
   "execution_count": 271,
   "metadata": {},
   "outputs": [
    {
     "data": {
      "text/plain": [
       "[<div class=\"post entry-content \" itemprop=\"commentText\">\n",
       " <!--cached-Thu, 05 Sep 2019 08:21:10 +0000-->I got a letter from VernonScope yesterday. It did not say \"don't tell anyone\", so I'm telling.<br/><br/>Don Yeier is issuing a limited run of 50th Anniversary Brandon sets (limited to 100 sets). Six Brandons (6,8,12,16,24,32mm), gold anodized, in the fancy presentation case (which I can tell you is *very* nice). This is the same set I have, except mine are black, and these don't seem to have eyecups (but I could be wrong about that). <br/><br/>The price is VERY good. If you're contemplating spending Ethos-type money on eyepieces, look into a set of Brandons instead. They won't be available forever, and I'd bet this set won't last long at all.<br/><br/>Brandons are the *only* all-American-made eyepieces (optics, housing, everything), and are among the very finest eyepieces you can get. Eventually Don will retire, and Brandons will either disappear or the brand name will get bought up and probably outsourced overseas. They're available now. I'd jump on this if I didn't already have a set. Since I got them, my whole box of Naglers almost never gets used. They're that good. <br/><br/>(I'm not affiliated with VS in any way except for being crazy about their products).\n",
       " \t\t\t\t\t\n",
       " \t\t\t\t\t<br/>\n",
       " </div>, <div class=\"post entry-content \" itemprop=\"commentText\">\n",
       " <!--cached-Thu, 05 Sep 2019 08:21:10 +0000-->I notice there is a 6mm. I've heard the 8mm is very tight on eye relief.  Is the 6mm even useable in this regard?<br/><br/>Rob\n",
       " \t\t\t\t\t\n",
       " \t\t\t\t\t<br/>\n",
       " </div>, <div class=\"post entry-content \" itemprop=\"commentText\">\n",
       " <!--cached-Thu, 05 Sep 2019 08:21:10 +0000-->In my set, the 6mm is a flat-top, while the 8mm has an eyecup. The 6mm is easier to use, and is actually my favorite planetary eyepiece. The 8mm is tight, but only because the eye lens is recessed because of the cup. The eyecups on Brandons unscrew, so that would probably solve the difficulty.  I don't observe with glasses, so it doesn't bother me.\n",
       " \t\t\t\t\t\n",
       " \t\t\t\t\t<br/>\n",
       " </div>, <div class=\"post entry-content \" itemprop=\"commentText\">\n",
       " <!--cached-Thu, 05 Sep 2019 08:21:10 +0000-->Yes it is tight...but no tighter in feel than a 5mm XO or 5mm UO HD, probably.<br/><br/>I measured it for 6mm Planetary Comparison I did.  Extracted table is below for all the various 6mm EPs.\n",
       " \t\t\t\t\t<div class=\"clearfix\" id=\"attach_wrap\">\n",
       " <h4>Attached Thumbnails</h4>\n",
       " <ul>\n",
       " <li class=\"\">\n",
       " <a class=\"resized_img\" href=\"https://www.cloudynights.com/uploads/monthly_12_2009/post-20508-1407301383463.jpg\" id=\"ipb-attach-url-220791-0-53371300-1568320231\" rel=\"lightbox[3140470]\" title=\"3477706-6mm ER Chart.JPG - Size: 35.44KB\"><img alt=\"3477706-6mm ER Chart.JPG\" class=\"attach\" id=\"ipb-attach-img-220791-0-53371300-1568320231\" itemprop=\"image\" src=\"https://www.cloudynights.com/uploads/monthly_12_2009/post-20508-1407301383463_thumb.jpg\" style=\"max-width:345;width:100%\"/></a>\n",
       " <!-- -->\n",
       " <!-- -->\n",
       " </li>\n",
       " </ul>\n",
       " </div>\n",
       " <br/>\n",
       " </div>, <div class=\"post entry-content \" itemprop=\"commentText\">\n",
       " <!--cached-Thu, 05 Sep 2019 08:21:10 +0000-->Look nice.  I actually like the look of the black originals better though. <br/><br/>Rob\n",
       " \t\t\t\t\t\n",
       " \t\t\t\t\t<br/>\n",
       " </div>, <div class=\"post entry-content \" itemprop=\"commentText\">\n",
       " <!--cached-Thu, 05 Sep 2019 08:21:10 +0000--><blockquote class=\"ipsBlockquote\" data-author=\"BillP\"><p>Yes it is tight...but no tighter in feel than a 5mm XO or 5mm UO HD, probably.<br/></p></blockquote>\n",
       " <br/>\n",
       " Patient:  Will it hurt?<br/>\n",
       " Doctor:  Yes it will hurt, but probably not more than having a fingernail slowly torn off.<br/>\n",
       " <br/>\n",
       " <img alt=\":grin:\" class=\"bbc_emoticon\" src=\"https://www.cloudynights.com//public/style_emoticons/default/grin.gif\"/>  Just kidding.\n",
       " \t\t\t\t\t\n",
       " \t\t\t\t\t<br/>\n",
       " </div>, <div class=\"post entry-content \" itemprop=\"commentText\">\n",
       " <!--cached-Thu, 05 Sep 2019 08:21:10 +0000-->I thought most of the time the doctor says it won't hurt, then you end up screaming like...heck  <img alt=\":lol:\" class=\"bbc_emoticon\" src=\"https://www.cloudynights.com//public/style_emoticons/default/lol.gif\"/>\n",
       " <br/>\n",
       " </div>, <div class=\"post entry-content \" itemprop=\"commentText\">\n",
       " <!--cached-Thu, 05 Sep 2019 08:21:10 +0000-->Well, once you look through a Brandon, you might be screaming about all the time you could have been using them... <img alt=\":D\" class=\"bbc_emoticon\" src=\"https://www.cloudynights.com//public/style_emoticons/default/laugh.gif\"/>\n",
       " <br/>\n",
       " </div>, <div class=\"post entry-content \" itemprop=\"commentText\">\n",
       " <!--cached-Thu, 05 Sep 2019 08:21:10 +0000-->I wish you guys would stop making me think I need to buy more eyepieces.  <img alt=\":lol:\" class=\"bbc_emoticon\" src=\"https://www.cloudynights.com//public/style_emoticons/default/lol.gif\"/><br/><br/>I  really need to stay away from this forum!   <img alt=\":tonofbricks:\" class=\"bbc_emoticon\" src=\"https://www.cloudynights.com//public/style_emoticons/default/tonofbricks.gif\"/>\n",
       " <br/>\n",
       " </div>, <div class=\"post entry-content \" itemprop=\"commentText\">\n",
       " <!--cached-Thu, 05 Sep 2019 08:21:10 +0000--><blockquote class=\"ipsBlockquote\" data-author=\"BillP\"><p>I thought most of the time the doctor says it won't hurt, then you end up screaming like...heck  <img alt=\":lol:\" class=\"bbc_emoticon\" src=\"https://www.cloudynights.com//public/style_emoticons/default/lol.gif\"/></p></blockquote>\n",
       " <br/>\n",
       " That's because when the doctor says it won't hurt, he isn't talking about you. It won't hurt him.  <img alt=\":roflmao:\" class=\"bbc_emoticon\" src=\"https://www.cloudynights.com//public/style_emoticons/default/roflmao.gif\"/><br/>\n",
       " <br/>\n",
       " I was planning to scarf up a set of Brandons next year at NEAF. Looks like I'll have to check the piggy bank right now.  <img alt=\":cool:\" class=\"bbc_emoticon\" src=\"https://www.cloudynights.com//public/style_emoticons/default/cool.gif\"/><br/>\n",
       " <br/>\n",
       " Thanks, Rick.<br/>\n",
       " <br/>\n",
       " Ron\n",
       " \t\t\t\t\t\n",
       " \t\t\t\t\t<br/>\n",
       " </div>, <div class=\"post entry-content \" itemprop=\"commentText\">\n",
       " <!--cached-Thu, 05 Sep 2019 08:21:10 +0000-->Did he give any indications on availability on the 48 mm?\n",
       " \t\t\t\t\t\n",
       " \t\t\t\t\t<br/>\n",
       " </div>, <div class=\"post entry-content \" itemprop=\"commentText\">\n",
       " <!--cached-Thu, 05 Sep 2019 08:21:10 +0000--><blockquote class=\"ipsBlockquote\" data-author=\"Jeff Morgan\"><p>Did he give any indications on availability on the 48 mm?</p></blockquote>\n",
       " <br/>\n",
       " I spoke with Don in the spring about the 48mm Brandon.  His lense grinders have been waiting for 2 years for a new pour of the glass needed for grinding the lenses.\n",
       " \t\t\t\t\t\n",
       " \t\t\t\t\t<br/>\n",
       " </div>, <div class=\"post entry-content \" itemprop=\"commentText\">\n",
       " <!--cached-Thu, 05 Sep 2019 08:21:10 +0000-->The flyer I got did not mention the 48mm.\n",
       " \t\t\t\t\t\n",
       " \t\t\t\t\t<br/>\n",
       " </div>, <div class=\"post entry-content \" itemprop=\"commentText\">\n",
       " <!--cached-Thu, 05 Sep 2019 08:21:10 +0000-->For once, a purportedly alluring premium-class EP to which I am totally IMMUNE.  I don't care how crystal-sharp and transmissively clear the Brandons purportedly are, if I ever get the urge to view through a high-class soda straw, I'll get me a much less expensive Ortho just to have ONE in my collection.\n",
       " <br/> <br/>But hey, if Brandons are your thing, go knock yourselves out and enjoy!\n",
       " \t\t\t\t\t\n",
       " \t\t\t\t\t<br/>\n",
       " </div>, <div class=\"post entry-content \" itemprop=\"commentText\">\n",
       " <!--cached-Thu, 05 Sep 2019 08:21:10 +0000-->Nothing on the website yet.  I bought a set of ZAOs, but Brandons are available in longer focal lengths and are not so expensive to preclude pairs for BVing.\n",
       " \t\t\t\t\t\n",
       " \t\t\t\t\t<br/>\n",
       " </div>, <div class=\"post entry-content \" itemprop=\"commentText\">\n",
       " <!--cached-Thu, 05 Sep 2019 08:21:11 +0000--> :)Hey, what is there web sight? i'am interested in set. thanks,john <img alt=\":jump:\" class=\"bbc_emoticon\" src=\"https://www.cloudynights.com//public/style_emoticons/default/jump.gif\"/>\n",
       " <br/>\n",
       " </div>, <div class=\"post entry-content \" itemprop=\"commentText\">\n",
       " <!--cached-Thu, 05 Sep 2019 08:21:11 +0000--><a class=\"bbc_url\" href=\"http://www.vernonscope.com\" rel=\"nofollow external\" title=\"External link\">www.vernonscope.com</a><br/>\n",
       " <br/>\n",
       " But it doesn't show up there. You may have to call.\n",
       " \t\t\t\t\t\n",
       " \t\t\t\t\t<br/>\n",
       " </div>, <div class=\"post entry-content \" itemprop=\"commentText\">\n",
       " <!--cached-Thu, 05 Sep 2019 08:21:11 +0000-->I understand the barrels are a hard-finished brushed gold anodization.  Are the top housings remaining black or is it all gold?\n",
       " \t\t\t\t\t\n",
       " \t\t\t\t\t<br/>\n",
       " </div>, <div class=\"post entry-content \" itemprop=\"commentText\">\n",
       " <!--cached-Thu, 05 Sep 2019 08:21:11 +0000-->Wow, all six sizes too.  The ZAO-II's only came in four sizes 4, 6, 10 and 16.  With their or anyone else's 2x barlow, you get 2,3,5 and 8.  So, there's no 4mm Brandon, but there is a 24 and a 32.  And their 2.4mm Daikin Barlow really gives a wide range.<br/><br/>I have to say I did a nose to nose comparison on Jupiter between the 16 Brandon and ZAO-II.  The contrast might have been a little better on the Brandons.  The seeing did not allow a comparison on fine detail.  This was a 8\" f/6 driven dob with a high quality mirror and a 3x TV Barlow.\n",
       " \t\t\t\t\t\n",
       " \t\t\t\t\t<br/>\n",
       " </div>, <div class=\"post entry-content \" itemprop=\"commentText\">\n",
       " <!--cached-Thu, 05 Sep 2019 08:21:11 +0000-->I dunno.  50-degree AFOV is not really \"soda straw\" compared to the typical Orthoscopic (which ranges from 40-45 degrees AFOV).<br/><br/>Also, I guess I see no advantage whatsoever of using wider field eyepieces on certain classes of targets.  Planets, for example.  Since observing occurs generally on-axis, and the target itself benefits greatly from maximum contrast, sharpness and resolution, I would think that the best eyepiece for the job is the one with the best image and not extraneous (to this class of target) field of view.<br/><br/>Double stars can be nice with a little field context, but like planets I would trade 15 degrees of extra AFOV and no split shown gladly for an eyepieces that can consistently render a tough split.<br/><br/>I guess there are folks that just love hammers no matter what the job, but I've generally found screwdrivers to be more effective than hammers for inserting screws.  <img alt=\":lol:\" class=\"bbc_emoticon\" src=\"https://www.cloudynights.com//public/style_emoticons/default/lol.gif\"/><br/><br/>Regards,<br/><br/>Jim\n",
       " \t\t\t\t\t\n",
       " \t\t\t\t\t<br/>\n",
       " </div>, <div class=\"post entry-content \" itemprop=\"commentText\">\n",
       " <!--cached-Thu, 05 Sep 2019 08:21:11 +0000-->65-70 degrees seems to be the limit for my \"paying attention\" range regardless of the target.  When I was observing M42 at Black Forest SP last Sept., the best view I had was through the 16mm ZAO-II unfiltered.  The 27 Pan. showed a lot more of it, but more detail and contrast was apparent on the higher-power, simple EP.\n",
       " \t\t\t\t\t\n",
       " \t\t\t\t\t<br/>\n",
       " </div>, <div class=\"post entry-content \" itemprop=\"commentText\">\n",
       " <!--cached-Thu, 05 Sep 2019 08:21:11 +0000-->As I think I've said before, it's all good to me, and I find the 43 degrees of the 6mm ZAO-II not too confining.  It's just a question of what do I want in what focal lengths for what purposes.\n",
       " \t\t\t\t\t\n",
       " \t\t\t\t\t<br/>\n",
       " </div>, <div class=\"post entry-content \" itemprop=\"commentText\">\n",
       " <!--cached-Thu, 05 Sep 2019 08:21:11 +0000--><blockquote class=\"ipsBlockquote\" data-author=\"FirstSight\"><p>For once, a purportedly alluring premium-class EP to which I am totally IMMUNE.  I don't care how crystal-sharp and transmissively clear the Brandons purportedly are, if I ever get the urge to view through a high-class soda straw, I'll get me a much less expensive Ortho just to have ONE in my collection.<br/>\n",
       " <br/>\n",
       " But hey, if Brandons are your thing, go knock yourselves out and enjoy!</p></blockquote>\n",
       " <br/>\n",
       " Certainly a matter of personal preference.  You need to spend a few nights observing with one to understand why a 50 degree AFOV eyepiece can be of such interest in this era of premium wide field eyepieces.   <br/>\n",
       " <br/>\n",
       " There is something remarkable about the way the stars seem suspended in the sky when observing with a Brandon.  You really get a 3rd dimension with them that I haven't seen with any other eyepieces -- including my outstanding Pentax XW's.\n",
       " \t\t\t\t\t\n",
       " \t\t\t\t\t<br/>\n",
       " </div>, <div class=\"post entry-content \" itemprop=\"commentText\">\n",
       " <!--cached-Thu, 05 Sep 2019 08:21:11 +0000--> :)Thanks Rick, i'll contact them. I see they sell a 2\" 48mm eyepiece. Anyone have that and how do you like?? I have a brandon 94mm telescope f-7 with 2\" diagonal recently bought from a cloudy night person. Thanks, john\n",
       " \t\t\t\t\t\n",
       " \t\t\t\t\t<br/>\n",
       " </div>, <div class=\"post entry-content \" itemprop=\"commentText\">\n",
       " <!--cached-Thu, 05 Sep 2019 08:21:11 +0000-->Hi all,\n",
       " <br/> <br/>I can only say that even though I have 2 complete sets of Brandons as well as the incredible 48mm, 6mm, and a special 4mm, I will call Don and inquire about the 50th set. What a great commemoration -- Thanks for he heads-up Rick.\n",
       " <br/> <br/>Many of you know that I have been obviously evangelical about Brandons since I joined this wonderful community here on CN. I have always been a proponent of these terrific eps' for all the reasons so eloquently stated by so many of you above.\n",
       " <br/> <br/>For me -- it's always been that remarkable contrast and clarity and the sheer image depth -- that astonishing quality dimensionality, that set these eyepieces as a unique class apart from everything else I've ever used. \n",
       " <br/> <br/>I use Brandons in my Binoviewer and this configuration is extraordinarily far more than the simple sum of the two and I use them for virtually all my observing needs. Oh -- and the FOV -- the ~50 deg FOV is PLENTY. Observing M42 in the 32 mm with my 10\"LX200R is a \"fall-into-it\" experience and the subtle \"mottled cloud\" detail of this nebula and others so apparent in these ep's is hard or invisible in others. A really fine view with any ep is to pull out the Trap e and f stars on a good night. It's thrilling, but with a 16 mm Brandon barlowed at ~315X we have seen the Trap g star on a really good night as well.\n",
       " <br/> <br/>Deep sky: In a 17.5 inch f/4 Dob with the 8 mm Brandon we still had all of M51 and it's companion in the field completely -- the subtle bridge was a glowing knotty mist between the two.\n",
       " <br/> <br/>I could go on but I know I'm preaching to the choir so I will only say to those readers who have not had the opportunity to observe with these ep's -- try one. You will be amazed at the way you will SEE with this \"old fashioned\" eyepiece.\n",
       " <br/> <br/>Just my 2-cents.\n",
       " <br/> <br/>Clear skies,\n",
       " <br/>Howard\n",
       " \t\t\t\t\t\n",
       " \t\t\t\t\t<br/>\n",
       " </div>]"
      ]
     },
     "execution_count": 271,
     "metadata": {},
     "output_type": "execute_result"
    }
   ],
   "source": [
    "soups[7][0].find_all(class_=\"post entry-content \")"
   ]
  },
  {
   "cell_type": "code",
   "execution_count": 267,
   "metadata": {},
   "outputs": [
    {
     "data": {
      "text/plain": [
       "['',\n",
       " '',\n",
       " '',\n",
       " '',\n",
       " '',\n",
       " '',\n",
       " '',\n",
       " '',\n",
       " '',\n",
       " '',\n",
       " '',\n",
       " '',\n",
       " '',\n",
       " '',\n",
       " '',\n",
       " '',\n",
       " '',\n",
       " '',\n",
       " '',\n",
       " '',\n",
       " '',\n",
       " '',\n",
       " '',\n",
       " '',\n",
       " '',\n",
       " '',\n",
       " '',\n",
       " '',\n",
       " '',\n",
       " '',\n",
       " '',\n",
       " '',\n",
       " '',\n",
       " '',\n",
       " '',\n",
       " '',\n",
       " '',\n",
       " '',\n",
       " '',\n",
       " '',\n",
       " '',\n",
       " '',\n",
       " '',\n",
       " '',\n",
       " '',\n",
       " '',\n",
       " '',\n",
       " '',\n",
       " '',\n",
       " '',\n",
       " '',\n",
       " '',\n",
       " '',\n",
       " '',\n",
       " '',\n",
       " '',\n",
       " '',\n",
       " '',\n",
       " '',\n",
       " '',\n",
       " '',\n",
       " '',\n",
       " '',\n",
       " '',\n",
       " '',\n",
       " '',\n",
       " '',\n",
       " '',\n",
       " '',\n",
       " '',\n",
       " '',\n",
       " '',\n",
       " '',\n",
       " '',\n",
       " '',\n",
       " '',\n",
       " '',\n",
       " '',\n",
       " '',\n",
       " '',\n",
       " '',\n",
       " '',\n",
       " '',\n",
       " '',\n",
       " '',\n",
       " '',\n",
       " '',\n",
       " '',\n",
       " '',\n",
       " '',\n",
       " '',\n",
       " '',\n",
       " '',\n",
       " '',\n",
       " '',\n",
       " '',\n",
       " '',\n",
       " '',\n",
       " '',\n",
       " '',\n",
       " '',\n",
       " '',\n",
       " '',\n",
       " '',\n",
       " '',\n",
       " '',\n",
       " '',\n",
       " '',\n",
       " '',\n",
       " '',\n",
       " '',\n",
       " '',\n",
       " '',\n",
       " '',\n",
       " '',\n",
       " '',\n",
       " '',\n",
       " '',\n",
       " '',\n",
       " '',\n",
       " '',\n",
       " '',\n",
       " '',\n",
       " '',\n",
       " '',\n",
       " '',\n",
       " '',\n",
       " '',\n",
       " '',\n",
       " '',\n",
       " '',\n",
       " '',\n",
       " '',\n",
       " '',\n",
       " '',\n",
       " '',\n",
       " '',\n",
       " '',\n",
       " '',\n",
       " '',\n",
       " '',\n",
       " '',\n",
       " '',\n",
       " '',\n",
       " '',\n",
       " '',\n",
       " '',\n",
       " '',\n",
       " '',\n",
       " '',\n",
       " '',\n",
       " '',\n",
       " '',\n",
       " '',\n",
       " '',\n",
       " '',\n",
       " '',\n",
       " '',\n",
       " '',\n",
       " '',\n",
       " '',\n",
       " '',\n",
       " '',\n",
       " '',\n",
       " '',\n",
       " '',\n",
       " '',\n",
       " '',\n",
       " '',\n",
       " '',\n",
       " '',\n",
       " '',\n",
       " '',\n",
       " '',\n",
       " '',\n",
       " '',\n",
       " '',\n",
       " '',\n",
       " '',\n",
       " '',\n",
       " '',\n",
       " '',\n",
       " '',\n",
       " '',\n",
       " '',\n",
       " '',\n",
       " '',\n",
       " '',\n",
       " '',\n",
       " '',\n",
       " '',\n",
       " '',\n",
       " '',\n",
       " '',\n",
       " '',\n",
       " '',\n",
       " '',\n",
       " '',\n",
       " '',\n",
       " '',\n",
       " '',\n",
       " '',\n",
       " '',\n",
       " '',\n",
       " '',\n",
       " '',\n",
       " '',\n",
       " '',\n",
       " '',\n",
       " '',\n",
       " '',\n",
       " '',\n",
       " '',\n",
       " '',\n",
       " '',\n",
       " '',\n",
       " '',\n",
       " '',\n",
       " '',\n",
       " '',\n",
       " '',\n",
       " '',\n",
       " '',\n",
       " '',\n",
       " '',\n",
       " '',\n",
       " '',\n",
       " '',\n",
       " '',\n",
       " '',\n",
       " '',\n",
       " '',\n",
       " '',\n",
       " '',\n",
       " '',\n",
       " '',\n",
       " '',\n",
       " '',\n",
       " '',\n",
       " '',\n",
       " '',\n",
       " '',\n",
       " '',\n",
       " '',\n",
       " '',\n",
       " '',\n",
       " '',\n",
       " '',\n",
       " '',\n",
       " '',\n",
       " '',\n",
       " '',\n",
       " '',\n",
       " '',\n",
       " '',\n",
       " '',\n",
       " '',\n",
       " '',\n",
       " '',\n",
       " '',\n",
       " '',\n",
       " '',\n",
       " '',\n",
       " '',\n",
       " '',\n",
       " '',\n",
       " '',\n",
       " '',\n",
       " '',\n",
       " '',\n",
       " '',\n",
       " '',\n",
       " '',\n",
       " '',\n",
       " '',\n",
       " '',\n",
       " '',\n",
       " '',\n",
       " '',\n",
       " '',\n",
       " '',\n",
       " '',\n",
       " '',\n",
       " '',\n",
       " '',\n",
       " '',\n",
       " '',\n",
       " '',\n",
       " '',\n",
       " '',\n",
       " '',\n",
       " '',\n",
       " '',\n",
       " '',\n",
       " '',\n",
       " '',\n",
       " '',\n",
       " '',\n",
       " '',\n",
       " '',\n",
       " '',\n",
       " '',\n",
       " '',\n",
       " '',\n",
       " '',\n",
       " '',\n",
       " '',\n",
       " '',\n",
       " '',\n",
       " '',\n",
       " '',\n",
       " '',\n",
       " '',\n",
       " '',\n",
       " '',\n",
       " '',\n",
       " '',\n",
       " '',\n",
       " '',\n",
       " '',\n",
       " '',\n",
       " '',\n",
       " '',\n",
       " '',\n",
       " '',\n",
       " '',\n",
       " '',\n",
       " '',\n",
       " '',\n",
       " '',\n",
       " '',\n",
       " '',\n",
       " '',\n",
       " '',\n",
       " '',\n",
       " '',\n",
       " '',\n",
       " '',\n",
       " '',\n",
       " '',\n",
       " '',\n",
       " '',\n",
       " '',\n",
       " '',\n",
       " '',\n",
       " '',\n",
       " '',\n",
       " '',\n",
       " '',\n",
       " '',\n",
       " '',\n",
       " '',\n",
       " '',\n",
       " '',\n",
       " '',\n",
       " '',\n",
       " '',\n",
       " '',\n",
       " '',\n",
       " '',\n",
       " '',\n",
       " '',\n",
       " '',\n",
       " '',\n",
       " '',\n",
       " '',\n",
       " '',\n",
       " '',\n",
       " '',\n",
       " '',\n",
       " '',\n",
       " '',\n",
       " '',\n",
       " '',\n",
       " '',\n",
       " '',\n",
       " '',\n",
       " '',\n",
       " '',\n",
       " '',\n",
       " '',\n",
       " '',\n",
       " '',\n",
       " '',\n",
       " '',\n",
       " '',\n",
       " '',\n",
       " '',\n",
       " '',\n",
       " '',\n",
       " '',\n",
       " '',\n",
       " '',\n",
       " '',\n",
       " '',\n",
       " '',\n",
       " '',\n",
       " '',\n",
       " '',\n",
       " '',\n",
       " '',\n",
       " '',\n",
       " '',\n",
       " '',\n",
       " '',\n",
       " '',\n",
       " '',\n",
       " '',\n",
       " '',\n",
       " '',\n",
       " '',\n",
       " '',\n",
       " '',\n",
       " '',\n",
       " '',\n",
       " '',\n",
       " '',\n",
       " '',\n",
       " '',\n",
       " '',\n",
       " '',\n",
       " '',\n",
       " '',\n",
       " '',\n",
       " '',\n",
       " '',\n",
       " '',\n",
       " '',\n",
       " '',\n",
       " '',\n",
       " '',\n",
       " '',\n",
       " '',\n",
       " '',\n",
       " '',\n",
       " '',\n",
       " '',\n",
       " '',\n",
       " '',\n",
       " '',\n",
       " '',\n",
       " '',\n",
       " '',\n",
       " '',\n",
       " '',\n",
       " '',\n",
       " '',\n",
       " '',\n",
       " '',\n",
       " '',\n",
       " '',\n",
       " '',\n",
       " '',\n",
       " '',\n",
       " '',\n",
       " '',\n",
       " '',\n",
       " '',\n",
       " '',\n",
       " '',\n",
       " '',\n",
       " '',\n",
       " '',\n",
       " '',\n",
       " '',\n",
       " '',\n",
       " '',\n",
       " '',\n",
       " '',\n",
       " '',\n",
       " '',\n",
       " '',\n",
       " '',\n",
       " '',\n",
       " '',\n",
       " '',\n",
       " '',\n",
       " '',\n",
       " '',\n",
       " '',\n",
       " '',\n",
       " '',\n",
       " '',\n",
       " '',\n",
       " '',\n",
       " '',\n",
       " '',\n",
       " '',\n",
       " '',\n",
       " '',\n",
       " '',\n",
       " '',\n",
       " '',\n",
       " '',\n",
       " '',\n",
       " '',\n",
       " '',\n",
       " '',\n",
       " '',\n",
       " '',\n",
       " '',\n",
       " '',\n",
       " '',\n",
       " '',\n",
       " '',\n",
       " '',\n",
       " '',\n",
       " '',\n",
       " '',\n",
       " '',\n",
       " '',\n",
       " '',\n",
       " '',\n",
       " '',\n",
       " '',\n",
       " '',\n",
       " '',\n",
       " '',\n",
       " '',\n",
       " '',\n",
       " '',\n",
       " '',\n",
       " '',\n",
       " '',\n",
       " '',\n",
       " '',\n",
       " '',\n",
       " '',\n",
       " '',\n",
       " '',\n",
       " '',\n",
       " '',\n",
       " '',\n",
       " '',\n",
       " '',\n",
       " '',\n",
       " '',\n",
       " '',\n",
       " '',\n",
       " '',\n",
       " '',\n",
       " '',\n",
       " '',\n",
       " '',\n",
       " '',\n",
       " '',\n",
       " '',\n",
       " '',\n",
       " '',\n",
       " '',\n",
       " '',\n",
       " '',\n",
       " '',\n",
       " '',\n",
       " '',\n",
       " '',\n",
       " '',\n",
       " '',\n",
       " '',\n",
       " '',\n",
       " '',\n",
       " '',\n",
       " '',\n",
       " '',\n",
       " '',\n",
       " '',\n",
       " '',\n",
       " '',\n",
       " '',\n",
       " '',\n",
       " '',\n",
       " '',\n",
       " '',\n",
       " '',\n",
       " '',\n",
       " '',\n",
       " '',\n",
       " '',\n",
       " '',\n",
       " '',\n",
       " '',\n",
       " '',\n",
       " '',\n",
       " '',\n",
       " '',\n",
       " '',\n",
       " '',\n",
       " '',\n",
       " '',\n",
       " '',\n",
       " '',\n",
       " '',\n",
       " '',\n",
       " '',\n",
       " '',\n",
       " '',\n",
       " '',\n",
       " '',\n",
       " '',\n",
       " '',\n",
       " '',\n",
       " '',\n",
       " '',\n",
       " '',\n",
       " '',\n",
       " '',\n",
       " '',\n",
       " '',\n",
       " '',\n",
       " '',\n",
       " '',\n",
       " '',\n",
       " '',\n",
       " '',\n",
       " '',\n",
       " '',\n",
       " '',\n",
       " '',\n",
       " '',\n",
       " '',\n",
       " '',\n",
       " '',\n",
       " '',\n",
       " '',\n",
       " '',\n",
       " '',\n",
       " '',\n",
       " '',\n",
       " '',\n",
       " '',\n",
       " '',\n",
       " '',\n",
       " '',\n",
       " '',\n",
       " '',\n",
       " '',\n",
       " '',\n",
       " '',\n",
       " '',\n",
       " '',\n",
       " '',\n",
       " '',\n",
       " '',\n",
       " '',\n",
       " '',\n",
       " '',\n",
       " '',\n",
       " '',\n",
       " '',\n",
       " '',\n",
       " '',\n",
       " '',\n",
       " '',\n",
       " '',\n",
       " '',\n",
       " '',\n",
       " '',\n",
       " '',\n",
       " '',\n",
       " '',\n",
       " '',\n",
       " '',\n",
       " '',\n",
       " '',\n",
       " '',\n",
       " '',\n",
       " '',\n",
       " '',\n",
       " '',\n",
       " '',\n",
       " '',\n",
       " '',\n",
       " '',\n",
       " '',\n",
       " '',\n",
       " '',\n",
       " '',\n",
       " '',\n",
       " '',\n",
       " '',\n",
       " '',\n",
       " '',\n",
       " '',\n",
       " '',\n",
       " '',\n",
       " '',\n",
       " '',\n",
       " '',\n",
       " '',\n",
       " '',\n",
       " '',\n",
       " '',\n",
       " '',\n",
       " '',\n",
       " '',\n",
       " '',\n",
       " '',\n",
       " '',\n",
       " '',\n",
       " '',\n",
       " '',\n",
       " '',\n",
       " '',\n",
       " '',\n",
       " '',\n",
       " '',\n",
       " '',\n",
       " '']"
      ]
     },
     "execution_count": 267,
     "metadata": {},
     "output_type": "execute_result"
    }
   ],
   "source": [
    "comments_all_threads[7]"
   ]
  },
  {
   "cell_type": "code",
   "execution_count": 241,
   "metadata": {},
   "outputs": [],
   "source": [
    "#a_soup = soup_a_thread(\"https://www.cloudynights.com/topic/550599-new-es-62-degree-line/\")\n",
    "all_comments_ES62 = all_comments_from_a_souped_thread(a_soup)\n",
    "sentiments_ES62 = np.array([nltk_sentiment(comment)['compound'] for comment in all_comments_ES62])"
   ]
  },
  {
   "cell_type": "code",
   "execution_count": 290,
   "metadata": {},
   "outputs": [
    {
     "data": {
      "text/plain": [
       "[<matplotlib.lines.Line2D at 0x1a621470b8>]"
      ]
     },
     "execution_count": 290,
     "metadata": {},
     "output_type": "execute_result"
    },
    {
     "data": {
      "image/png": "[encoded data removed]",
      "text/plain": [
       "<Figure size 1080x432 with 1 Axes>"
      ]
     },
     "metadata": {
      "needs_background": "light"
     },
     "output_type": "display_data"
    }
   ],
   "source": [
    "plt.plot(sentiments_ES62)"
   ]
  },
  {
   "cell_type": "code",
   "execution_count": 294,
   "metadata": {},
   "outputs": [
    {
     "name": "stdout",
     "output_type": "stream",
     "text": [
      "39\n",
      "-0.34\n",
      ". Yes, I could pick them up but they were attached to the display bench with a short metal wire so, aside from the weight, it was difficult to judge anything else. The black ring at the bottom of the barrel is possibly part of the anti-theft lock: there weren't any filters attached to it that I remember.. \n",
      "Edited by Marcsabb, 22 September 2016 - 11:30 AM.\n",
      "\n",
      "43\n",
      "-0.2732\n",
      ". No information yet.  Still waiting for field stop widths, exact eye reliefs, weights, element and group counts.\n",
      "51\n",
      "-0.5859\n",
      ". Except they say 1.25\", which means 62 degrees is wrong...   .  . Obviously, it can't be both 1.25 and 62.  One of the two numbers is a \"cut and haste\" error.  I was simply pointing out there is another potential explanation.  I've seen plenty of 1.25 40mm plossls labeled as 52s when they can't be...\n",
      "64\n",
      "-0.5267\n",
      ". So are these eyepieces actually going to be available in 2 days?  There is still nothing anywhere about them.  No pictures other than those posted on this thread.  No specs. .  . Just curious if there will be a delay.\n",
      "72\n",
      "-0.296\n",
      ". Still no specs on the new ES ep's?\n",
      "129\n",
      "-0.296\n",
      ". One is the 26mm.  The other, I forget, sorry.\n",
      "134\n",
      "-0.3612\n",
      ". I'm hoping for something from Don soon about clearing his pre-orders. I gotta start ignoring ES' new product announcements. The supplier that cried wolf, y'know.. The email seems a step in the right direction anyway. Maybe they'll include them on their website soon.\n",
      "135\n",
      "-0.296\n",
      ". It's January, still no word...\n",
      "143\n",
      "-0.3182\n",
      ".  . Might also work the other way round - people might buy something else cos they're fed up waiting.  Difference is that the ES are so cheap that they'll sell out regardless..  . I find it odd that ES can't (or won't) even provide pictures and specs this close to launch.  One can imagine Scott Roberts opening the boxes in a few weeks and saying \"Ah, so that's what they look like\".\n",
      "146\n",
      "-0.4939\n",
      ". I see it comes with stealth invisible paint  .  . On a serious note, the lack of any photos other than the ones at the beginning of this thread is cause for serious frustration....\n",
      "156\n",
      "-0.4981\n",
      ". Between the shortages of the 82 degree line, the delays in the release of the new Dobsonians, and now this delay, I have to wonder what is going on with ES's logistics / manufacturing.  \n",
      "158\n",
      "-0.5012\n",
      ". Interesting.  I don't remember seeing such delays / shortages with such frequency in the past.  Maybe I just haven't paid close enough attention - but something seems to have changed.  And ordering issues wouldn't explain the huge delays (and manufacturing issues) seen in the dobsonians, which were delayed, not sold out... \n",
      "163\n",
      "-0.7738\n",
      ". There is no mention of them over here in the UK  and earlier I was looking around for a shortish eyepiece and checked the ES.de site and the Bresser site. Not a word about them at all..  . Did locate one option, but it could mean asking the retailer to order one in with the remainder of their periodic order from the manufacturer and not sure they can, could or would do that. One eyepiece is not a significant requirement..  . However as it started out = No sign or mention of ES 62's at all from anyone.\n",
      "175\n",
      "-0.7272\n",
      ". Let's hope B&H are completely wrong here since neither 14.8mm or 10.4mm is \"long eye relief\". If these are accurate specs then it'll be an epic fail. .  . Also not encouraged by Don's calculations that the 20mm will have ~16mm ER.  \n",
      "198\n",
      "-0.2023\n",
      ". The eye-relief specs in that overview are identical to that of those of the Bresser 60° /Meade 5000 \"Plössl\"-series for all focal length between 40mm-14mm. Only the 9mm and 5.5mm are higher spec'd..  . \n",
      "There were some speculations earlier that some vendors had used the specs from the Bresser 60° /Meade –line (which comes in the exact same fl) while waiting for the info from ES. A bit strange then that the two shortest have deviating ER specs.\n",
      "202\n",
      "-0.2382\n",
      ". Hi, Augustus..  . How did you come to a conclusion that the ES FirstLight telescopes are simply rebranded Bresser stuff?.  . Let's take the FL-AR1271200MAZ01 as an example. Well, ES claims that it comes with a 2.5\" Hexagonal focuser but the picture available on the company web page does seem to prove that. When we look at the focuser of the FL-AR1021000EQ3, it is clear that it comes with a regular rack-and-pinion and, in my humble opinion, it seems identical to the one from the FL-AR127. The description says something totally different from what my eyes can show me. Besides, there is no carry handle either. Unfortunately, I can't find any piece of information about the optical design. If the FL-AR127 is just a doublet, then, it is not equivalent to the Bresser Messier AR127. \n",
      "204\n",
      "-0.5574\n",
      ". Hi..  . I've just checked the specs of the Bresser Messier AR127L and it seems to be a doublet. My mistake. No specific information at all about the lens construction so we can infer that that the ES FL-AR1271200 is the old version of the Bresser telescope unless it really comes with the 2.5\" Hexagonal focuser..  . Thanks.. \n",
      "Edited by rogeriomagellan, 19 January 2017 - 07:13 PM.\n",
      "\n",
      "209\n",
      "-0.5574\n",
      ". The odd thing about this ES62 rollout is the lack of information provided ahead of their arrival.   I wouldn't characterize any of the information as \"unreliable\".   They haven't provided it yet.\n",
      "212\n",
      "-0.296\n",
      ". So an ES \"Delos equivalent\" is still missing. Neverthless I'm really looking forward for reviews about the 14mm.\n",
      "220\n",
      "-0.2755\n",
      ". The ES68/82/100 all have the same general shape/size as corresponding TV eyepieces. The pictures I've seen so far of the ES62s show that they do not look anything like the Delites. The ES62s appear to have a smaller form factor and they look a lot shorter than the corresponding Delites. This indicates that the ES62s are not copies of the Delites, and that they are based on a different optical design.    . \n",
      "Edited by dufay, 20 January 2017 - 03:04 PM.\n",
      "\n",
      "223\n",
      "-0.4881\n",
      ". There are also no Delites longer than 18.2mm because the design didn't allow it, and it looks like these go to 26mm in 1.25\" and there are 2\" versions as well.. If it ever stops raining here, I'll test the 20mm.. We've got flash flood warnings today.\n",
      "255\n",
      "-0.3064\n",
      ". Well so far we have one confirmed disappointment  (imo), and a second that looks highly likely to match the even more disappointing specs ES put on its website that we hoped were in error.   Sure, let's wait for actual tests, but it isn't looking good...\n",
      "257\n",
      "-0.5913\n",
      ". Confirmed disappointment? Used in a telescope in the field? Where ?\n",
      "266\n",
      "-0.6808\n",
      ". Noticed an image of the whole range on the ES UK website....  . https://www.explores...ies_group_9.jpg.  . It's accessible from the individual eyepiece pages and they've got them all listed now at https://www.explores...k/en/Eyepieces/ under 62º AFOV, but only the 14mm and 20mm seem to be available. .  . The quoted ER for 20mm down does seem to be mid to low teens? I guess only use in the field will sort this one out. Also the 14mm does appear to be the odd one out from a stylistic point of view..  . James\n",
      "279\n",
      "-0.5106\n",
      ". Where is the logic in copying a failed line?  \n",
      "281\n",
      "-0.296\n",
      ". That would be the question - maybe just trying to offer a line at a lower price point than the ES68's?\n",
      "287\n",
      "-0.5362\n",
      ". These?.  . http://www.opticspla...mage=1c53a27c84.  . I'm reading that Meade didn't sell enough and that edge performance is poor in faster scopes..  . Considering that my fastest scope is f/8, though, maybe I'll buy the 26mm when it's released and I have the money..  . Also, the rest of the line I'm assuming went over to ES? They have identical focal lengths.. \n",
      "Edited by Augustus, 07 February 2017 - 04:03 PM.\n",
      "\n",
      "299\n",
      "-0.2411\n",
      ". Not in the 70° series, alas.. The 58° series, however, is available from a variety of sources in 2.5mm, 3.2mm, 4mm, 4.5mm, 5mm, 6mm, 7mm, 8mm, 9mm, 15mm, 20mm, 25mm. Only one company imports ALL the focal lengths, and it isn't Olivon.. Eye reliefs on the 58° series average 19mm..  . I will repeat, though, that the 20mm 62° Explore Scientific is NOT a Plossl and does NOT have a Plossl's eye relief.. And it remains to be seen what the others in the series will measure.  The jury is still out.. Are they these? http://www.apm-teles...scientific.html. \n",
      "Edited by Starman1, 16 February 2017 - 06:10 PM.\n",
      "\n",
      "311\n",
      "-0.6249\n",
      ". Franky, I find difficult to discriminate between what's true and what's false if what seems to be the official description of these eyepieces states that:.  . people wearing glasses very often have the problem to see the entire field of view when they are using eyepieces with large apparent fields. This problem is now history.  . We are really in a post-truth society .  . For that reason, Starman, in this specific case I can't rely on what the producer says.\n",
      "316\n",
      "-0.5267\n",
      ". Maybe I missed it, but I didn't see it mentioned yet. The ES website, finally has a section for the 62 degree eyepieces. However, at this moment there are no eyepieces listed..  . https://explorescien...eries-eyepieces.  . Also, somewhat off-topic. I read a post in another thread that ES is rumored to be releasing a 2\" 3x focal extender, is that what anyone else has heard?. \n",
      "Edited by vipergts2207, 03 March 2017 - 02:39 AM.\n",
      "\n",
      "320\n",
      "-0.3724\n",
      ". The 2\" 3X Focal Extender is expected in October. Retail $229.99.  . As for the 62° Series, specs have changed since the initial information from Explore Scientific.. Here is what ES says today:. They are NOT a long eye relief series of eyepieces.  Only the 26mm, 32mm, and 40mm will be glasses-friendly and have 20mm or more of eye relief.. Arrival information in the US is as follows:. 5.5mm, 9mm--June 2017. 14mm, 32mm, 40mm--April 2017. 20mm--in stock now. 26mm--coming imminently (in QC and shipping expected momentarily)\n",
      "331\n",
      "-0.5598\n",
      ". The 26mm are undergoing QC right now, so I'll soon have that focal length to test.. The 20mm was different than their specs (it had 1.4mm more eye relief), so I distrust the currently-published figures.\n",
      "365\n",
      "-0.3182\n",
      ". Anything over about 40° will have either some rectilinear distortion (in the form, usually, of pincushion distortion) or angular magnification distortion.. The eyepieces being discussed all have some pincushion distortion, so if you prefer the absence of distortion, keep to narrower fields of view.. Getting a wider apparent field is a valid reason to switch, if that is your preference, but don't think you're going to avoid distortion by doing so.\n",
      "381\n",
      "-0.3291\n",
      ". Field lens may be negative, I can see pixel on my smartphone looking through the field lens but not in the normal way looking through the eye lens.. . Eye lens is between 15/16mm diameter.. \n",
      "Edited by lylver, 18 June 2017 - 04:25 PM.\n",
      "\n",
      "382\n",
      "-0.4098\n",
      ". It looks like a negative lens but... a singlet???\n",
      "385\n",
      "-0.9215\n",
      ". I guess some observers tolerate reflections more than others.. Yes, you can move the ghost away from the main image when looking at Jupiter, but I find it difficult to hold my eyes still in one position, so the reflection keeps on dancing around the field anyway as I move my eyes. I find that very distracting even if it's not on top of the planet image.. Some eyepieces show the reflection more than others. It really depends how bad it is in this eyepiece.. Between the (budget) eyepieces I tried out in the 60-70 degree range, the only one that has a tolerably small amount of eyeball reflection, for my taste, is the Hyperion. Which by the way has more lenses than than the other designs I tried.. \n",
      "Edited by Andy-di-Notte, 20 June 2017 - 12:26 PM.\n",
      "\n",
      "392\n",
      "-0.2263\n",
      ". Just as people suspected. \n"
     ]
    }
   ],
   "source": [
    "for i in range(len(all_comments_ES62)):\n",
    "    if sentiments_ES62[i] <-0.2:\n",
    "        print(i)\n",
    "        print(sentiments_ES62[i])\n",
    "        print(all_comments_ES62[i])"
   ]
  },
  {
   "cell_type": "code",
   "execution_count": 297,
   "metadata": {},
   "outputs": [
    {
     "name": "stdout",
     "output_type": "stream",
     "text": [
      "0.9631\n",
      ". https://explorescien...2-32mm-eyepiece. and length 101mm, weight 419.6g, field stop 33.6mm, eye relief 22.2mm. In my f/7 refractor, it was sharp to about the 50° field point and the last 6° on each side with a fair amount of astigmatism.. The 31mm Hyperion deteriorated at about 10-11° from the edge of the field, making the center 50° fairly sharp.. So they are fairly equivalent but for the fact the Hyperion is 10° wider in apparent field (38mm field stop). The ES has noticeably more eye relief..  . Which one is appropriate will depend a lot on the focal length of the scope.. In my 714mm refractor, True fields are 2.7° and 3.0° respectively, which covers the same objects quite well.. But if the f/7 scope were an 8\". then true fields would be 1.35° and 1.53° respectively and you might want to go for the wider true field for larger objects.. \n",
      "Edited by Starman1, 06 August 2017 - 03:28 PM.\n",
      "\n"
     ]
    }
   ],
   "source": [
    "i=391\n",
    "print(sentiments_ES62[i])\n",
    "print(all_comments_ES62[i])"
   ]
  },
  {
   "cell_type": "code",
   "execution_count": 292,
   "metadata": {},
   "outputs": [
    {
     "data": {
      "text/plain": [
       "(403,)"
      ]
     },
     "execution_count": 292,
     "metadata": {},
     "output_type": "execute_result"
    }
   ],
   "source": [
    "sentiments_ES62.shape"
   ]
  },
  {
   "cell_type": "code",
   "execution_count": 53,
   "metadata": {},
   "outputs": [],
   "source": [
    "comment1 = \"Tried them out today, and the coatings are the normal Televue level of excellence the eye relief is great, but there was a fair bit of pincushion to my eye (Danny heard me get the Televue guys spun up).... I personally will stick with 24 Panoptics, 17 UWANs, and smaller Naglers for my bino viewing, especially considering the price point. I think they are 100 dollars rich to the price point. I did ask Al about my personal desire, which is a very high polish Televue quality Ortho, and the response I got was that the Delite would be a better eyepiece.  That still doesnt satisfy the desire for an ultra high quality Ortho for me....  Maybe Zeiss, or Nikon, will introduce some.\""
   ]
  },
  {
   "cell_type": "code",
   "execution_count": 54,
   "metadata": {},
   "outputs": [
    {
     "data": {
      "text/plain": [
       "{'neg': 0.024, 'neu': 0.786, 'pos': 0.191, 'compound': 0.971}"
      ]
     },
     "execution_count": 54,
     "metadata": {},
     "output_type": "execute_result"
    }
   ],
   "source": [
    "nltk_sentiment(comment1)"
   ]
  },
  {
   "cell_type": "code",
   "execution_count": 64,
   "metadata": {},
   "outputs": [
    {
     "data": {
      "text/plain": [
       "{'neg': 0.0, 'neu': 1.0, 'pos': 0.0, 'compound': 0.0}"
      ]
     },
     "execution_count": 64,
     "metadata": {},
     "output_type": "execute_result"
    }
   ],
   "source": [
    "nltk_sentiment(\"quality\")"
   ]
  },
  {
   "cell_type": "code",
   "execution_count": null,
   "metadata": {},
   "outputs": [],
   "source": []
  }
 ],
 "metadata": {
  "kernelspec": {
   "display_name": "Python 3",
   "language": "python",
   "name": "python3"
  },
  "language_info": {
   "codemirror_mode": {
    "name": "ipython",
    "version": 3
   },
   "file_extension": ".py",
   "mimetype": "text/x-python",
   "name": "python",
   "nbconvert_exporter": "python",
   "pygments_lexer": "ipython3",
   "version": "3.7.3"
  }
 },
 "nbformat": 4,
 "nbformat_minor": 1
}
