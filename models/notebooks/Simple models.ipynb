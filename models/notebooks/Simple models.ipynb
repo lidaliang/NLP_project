{
 "cells": [
  {
   "cell_type": "markdown",
   "metadata": {
    "heading_collapsed": true
   },
   "source": [
    "## Definitions"
   ]
  },
  {
   "cell_type": "code",
   "execution_count": 227,
   "metadata": {
    "hidden": true
   },
   "outputs": [],
   "source": [
    "FREQ_DIST_FILE = '../df-no-comas-service-linear-freqdist.pkl'\n",
    "BI_FREQ_DIST_FILE = '../df-no-comas-service-linear-freqdist-bi.pkl'\n",
    "FREQ_DIST_FILE_GLOVE = '../df-no-comas-original-linear-freqdist.pkl'\n",
    "BI_FREQ_DIST_FILE_GLOVE = '../df-no-comas-original-linear-freqdist-bi.pkl'\n",
    "DOC_FREQ_DIST_FILE = '../df-no-comas-service-linear-freqdist-doc.pkl'\n",
    "DOC_BI_FREQ_DIST_FILE = '../df-no-comas-service-linear-freqdist-doc-bi.pkl'\n",
    "TRAIN_PROCESSED_FILE = '../data_df_prod_has_likes-service-linear.csv'\n",
    "TRAIN_PROCESSED_FILE = '../data_df_prod_has_likes-3-linear.csv'\n",
    "#TRAIN_PROCESSED_FILE_GLOVE = '../data_df_prod_has_likes-original-linear.csv'\n",
    "\n",
    "EXTERNAL_VAL_FILE = '../data_df_prod_no_likes-service-linear.csv'\n",
    "#TEST_PROCESSED_FILE = 'test-2-processed.csv'\n",
    "\n",
    "GLOVE_FILE = '../glove.6B.50d.txt'\n",
    "DIM=50\n",
    "\n",
    "TRAIN = True\n",
    "UNIGRAM_SIZE = 10000\n",
    "VOCAB_SIZE = UNIGRAM_SIZE\n",
    "USE_BIGRAMS = True\n",
    "if USE_BIGRAMS:\n",
    "    BIGRAM_SIZE = 5000\n",
    "    VOCAB_SIZE = UNIGRAM_SIZE + BIGRAM_SIZE\n",
    "FEAT_TYPE = 'naive_count'#'tfidf'"
   ]
  },
  {
   "cell_type": "code",
   "execution_count": 88,
   "metadata": {
    "hidden": true
   },
   "outputs": [],
   "source": [
    "from keras.models import Sequential, load_model\n",
    "from keras.layers import Dense,Dropout, Activation, TimeDistributed, LSTM, Embedding, Flatten, Masking\n",
    "from keras.regularizers import l1,l2\n",
    "from keras.optimizers import Adam\n",
    "from keras.preprocessing.sequence import pad_sequences\n",
    "import keras.backend as K\n",
    "import sys\n",
    "import utils\n",
    "import random\n",
    "import numpy as np\n",
    "import pandas as pd\n",
    "import re\n",
    "import pickle\n",
    "\n",
    "from sklearn.linear_model import LogisticRegression\n",
    "from sklearn.model_selection import StratifiedShuffleSplit\n",
    "\n",
    "from sklearn.metrics import precision_recall_curve\n",
    "import matplotlib.pyplot as plt\n",
    "from inspect import signature\n",
    "\n",
    "from sklearn.metrics import average_precision_score\n",
    "\n",
    "from nltk.sentiment.vader import SentimentIntensityAnalyzer\n",
    "\n",
    "# Performs classification using Logistic Regression.\n",
    "\n",
    "\n",
    "def get_feature_vector(tweet):\n",
    "    uni_feature_vector = []\n",
    "    bi_feature_vector = []\n",
    "    words = tweet.split()\n",
    "    for i in range(len(words) - 1):\n",
    "        word = words[i]\n",
    "        next_word = words[i + 1]\n",
    "        if unigrams.get(word):\n",
    "            uni_feature_vector.append(word)\n",
    "        if USE_BIGRAMS:\n",
    "            if bigrams.get((word, next_word)):\n",
    "                bi_feature_vector.append((word, next_word))\n",
    "    if len(words) >= 1:\n",
    "        if unigrams.get(words[-1]):\n",
    "            uni_feature_vector.append(words[-1])\n",
    "    return uni_feature_vector, bi_feature_vector\n",
    "\n",
    "\n",
    "def extract_features(tweets, batch_size=500, test_file=True, feat_type='presence'):\n",
    "    num_batches = int(np.ceil(len(tweets) / float(batch_size)))\n",
    "    for i in range(num_batches):\n",
    "        batch = tweets[i * batch_size: (i + 1) * batch_size]\n",
    "        features = np.zeros((batch_size, VOCAB_SIZE))\n",
    "        labels = np.zeros(batch_size)\n",
    "        for j, tweet in enumerate(batch):\n",
    "            if test_file:\n",
    "                tweet_words = tweet[1][0]\n",
    "                tweet_bigrams = tweet[1][1]\n",
    "            else:\n",
    "                tweet_words = tweet[2][0]\n",
    "                tweet_bigrams = tweet[2][1]\n",
    "                labels[j] = tweet[1]\n",
    "            #if feat_type == 'presence':\n",
    "            #    tweet_words = set(tweet_words)\n",
    "            #    tweet_bigrams = set(tweet_bigrams)\n",
    "            for word in tweet_words:\n",
    "                idx = unigrams.get(word)\n",
    "                if idx:\n",
    "                    features[j, idx] += 1\n",
    "            if USE_BIGRAMS:\n",
    "                for bigram in tweet_bigrams:\n",
    "                    idx = bigrams.get(bigram)\n",
    "                    if idx:\n",
    "                        features[j, UNIGRAM_SIZE + idx] += 1\n",
    "        yield features, labels\n",
    "        \n",
    "def extract_X_y(tweets,feat_type=FEAT_TYPE):\n",
    "    #Only one iteration\n",
    "    if(FEAT_TYPE == 'naive_count'):\n",
    "        for X, y in extract_features(tweets,feat_type=feat_type, batch_size=len(tweets), test_file=False):\n",
    "            return X, y\n",
    "    elif(FEAT_TYPE == 'tfidf'):\n",
    "        features = np.zeros((len(tweets), VOCAB_SIZE))\n",
    "        labels = np.zeros(len(tweets))\n",
    "        for j, tweet in enumerate(tweets):\n",
    "            tweet_words = tweet[2][0]\n",
    "            tweet_bigrams = tweet[2][1]\n",
    "            labels[j] = tweet[1]\n",
    "            for word in tweet_words:\n",
    "                idx = unigrams.get(word)\n",
    "                if idx:\n",
    "                    features[j, idx] += inverse_doc_freq(doc_freq.get(word))/np.log(1+len(tweet_words))\n",
    "                \n",
    "            for bigram in tweet_bigrams:\n",
    "                idx = bigrams.get(bigram)\n",
    "                if idx:\n",
    "                    features[j, UNIGRAM_SIZE + idx] += inverse_doc_freq(doc_freq.get(bigram))/np.log(1+len(tweet_bigrams))\n",
    "        return features, labels\n",
    "        \n",
    "        \n",
    "def inverse_doc_freq(querry_res):\n",
    "    if querry_res == None: return np.log(1e5)\n",
    "    else: return np.log(1e5/(1+querry_res))    \n",
    "\n",
    "def sentence_to_vec(sentence):\n",
    "    #unigrams and bigrams are externally defined dictionaries\n",
    "    s_words,s_bigrams = get_feature_vector(sentence)\n",
    "    features = np.zeros(VOCAB_SIZE)\n",
    "    for word in s_words:\n",
    "        idx = unigrams.get(word)\n",
    "        if idx: features[idx] += 1\n",
    "    for bigr in s_bigrams:\n",
    "        idx = bigrams.get(word)\n",
    "        if idx: features[UNIGRAM_SIZE + idx] += 1\n",
    "    return features\n",
    "        \n",
    "        \n",
    "def process_tweets(csv_file, test_file=True):\n",
    "    tweets = []\n",
    "    print ('Generating feature vectors')\n",
    "    with open(csv_file, 'r') as csv:\n",
    "        lines = csv.readlines()\n",
    "        total = len(lines)\n",
    "        for i, line in enumerate(lines):\n",
    "            if test_file:\n",
    "                tweet_id, dummy, tweet = line.split(',')\n",
    "            else:\n",
    "                tweet_id, sentiment, tweet = line.split(',')\n",
    "            feature_vector = get_feature_vector(tweet)\n",
    "            if test_file:\n",
    "                tweets.append((tweet_id, feature_vector))\n",
    "            else:\n",
    "                tweets.append((tweet_id, int(sentiment), feature_vector))\n",
    "            utils.write_status(i + 1, total)\n",
    "    print ('\\n')\n",
    "    return tweets\n",
    "\n",
    "\n",
    "def build_model(lr=0.001):\n",
    "    model = Sequential()\n",
    "    model.add(Dropout(0.4))\n",
    "    model.add(Dense(1, #input_dim=VOCAB_SIZE,\n",
    "                    activation='sigmoid',kernel_regularizer=l1(1e-4)))#consider l2 or mixed\n",
    "    model.compile(loss='binary_crossentropy',\n",
    "                  optimizer=Adam(lr=lr), metrics=['accuracy',mean_pred])\n",
    "    return model\n",
    "\n",
    "def build_model_2(lr = 0.001, n1= 100):\n",
    "    model = Sequential()\n",
    "    model.add(Dropout(0.3))\n",
    "    model.add(Dense(n1, #input_dim=VOCAB_SIZE, \n",
    "                    activation='relu',kernel_regularizer=l1(1e-4)))\n",
    "    model.add(Dropout(0.4))\n",
    "    model.add(Dense(1, activation='sigmoid',kernel_regularizer=l1(5e-5)))\n",
    "    model.compile(loss='binary_crossentropy',\n",
    "                  optimizer=Adam(lr=lr), metrics=['accuracy',mean_pred])\n",
    "    return model\n",
    "\n",
    "def build_model_3(lr = 0.001, n1= 100, n2 = 30):\n",
    "    model = Sequential()\n",
    "    model.add(Dropout(0.3))\n",
    "    model.add(Dense(n1, input_dim=VOCAB_SIZE, activation='relu',kernel_regularizer=l1(1e-5)))\n",
    "    model.add(Dropout(0.4))\n",
    "    model.add(Dense(n2, input_dim=VOCAB_SIZE, activation='relu',kernel_regularizer=l1(1e-4)))\n",
    "    model.add(Dropout(0.4))\n",
    "    model.add(Dense(1, activation='sigmoid',kernel_regularizer=l1(1e-5)))\n",
    "    model.compile(loss='binary_crossentropy',\n",
    "                  optimizer=Adam(lr=lr), metrics=['accuracy',mean_pred])\n",
    "    return model\n",
    "\n",
    "def build_model_4(lr = 0.001, n1 = 50, n2= 100, n3 = 30):\n",
    "    model = Sequential()\n",
    "    model.add(Dropout(0.5))\n",
    "    model.add(Dense(n1, input_dim=VOCAB_SIZE, activation='relu',kernel_regularizer=l1(1e-4)))\n",
    "    model.add(Dropout(0.2))\n",
    "    model.add(Dense(n2, input_dim=VOCAB_SIZE, activation='relu',kernel_regularizer=l1(1e-6)))\n",
    "    model.add(Dropout(0.2))\n",
    "    model.add(Dense(n3, input_dim=VOCAB_SIZE, activation='relu',kernel_regularizer=l1(1e-6)))\n",
    "    model.add(Dropout(0.2))\n",
    "    model.add(Dense(1, activation='sigmoid',kernel_regularizer=l1(1e-5)))\n",
    "    model.compile(loss='binary_crossentropy',\n",
    "                  optimizer=Adam(lr=lr), metrics=['accuracy',mean_pred])\n",
    "    return model\n",
    "\n",
    "\n",
    "#def evaluate_model(model, val_tweets):\n",
    "#    correct, total = 0, len(val_tweets)\n",
    "#    for val_set_X, val_set_y in extract_features(val_tweets, feat_type=FEAT_TYPE, test_file=False):\n",
    "#        prediction = model.predict_on_batch(val_set_X)\n",
    "#        prediction = np.round(prediction)\n",
    "#        correct += np.sum(prediction == val_set_y[:, None])\n",
    "#    return float(correct) / total\n",
    "\n",
    "def evaluate_model(model, val_tweets):\n",
    "    correct, total = 0, len(val_tweets)\n",
    "    for val_set_X, val_set_y in extract_features(val_tweets,batch_size=total, feat_type=FEAT_TYPE, test_file=False):\n",
    "        prediction = model.predict_on_batch(val_set_X)\n",
    "        prediction = np.round(prediction)\n",
    "        correct += np.sum(prediction == val_set_y[:, None])\n",
    "\n",
    "        pred = prediction\n",
    "        truth = val_set_y\n",
    "\n",
    "    save_to_file = open('compare-bi.csv', 'a')\n",
    "    save_to_file.write('pred,truth\\n')\n",
    "    for i in range(len(pred)):\n",
    "        save_to_file.write('%d,%d\\n' % (pred[i],truth[i]))\n",
    "        \n",
    "    return float(correct) / total\n",
    "\n",
    "\n",
    "def mean_pred(y_true, y_pred):\n",
    "    return K.mean(y_pred)\n",
    "\n",
    "\n",
    "\n",
    "def shuffle_split_data(tweets, validation_split=0.1,random_seed = 42):\n",
    "    \"\"\"Split the data into training and validation sets\n",
    "\n",
    "    Args:\n",
    "        tweets (list): list of tuples\n",
    "        validation_split (float, optional): validation split %\n",
    "\n",
    "    Returns:\n",
    "        (list, list): training-set, validation-set\n",
    "    \"\"\"\n",
    "    index = int((1 - validation_split) * len(tweets))\n",
    "    random.Random(random_seed).shuffle(tweets)\n",
    "    return tweets[:index], tweets[index:]\n",
    "        \n",
    "    \n",
    "def stratifiedSplit(X,y,test_size=0.1,random_state=42):\n",
    "    sss = StratifiedShuffleSplit(test_size=test_size,random_state=random_state,n_splits = 1)\n",
    "    sss.get_n_splits(X,y)\n",
    "    \n",
    "    for train_id, test_id in sss.split(X, y):\n",
    "        X_train_val,y_train_val = X[train_id], y[train_id]\n",
    "        X_test,y_test = X[test_id], y[test_id]\n",
    "    \n",
    "    return X_train_val, y_train_val, X_test, y_test\n",
    "\n",
    "def precision_recall(y_test,y_score,color='b'):\n",
    "    average_precision = average_precision_score(y_test, y_score)\n",
    "    precision, recall, _ = precision_recall_curve(y_test, y_score)\n",
    "    \n",
    "    # In matplotlib < 1.5, plt.fill_between does not have a 'step' argument\n",
    "    step_kwargs = ({'step': 'post'}\n",
    "               if 'step' in signature(plt.fill_between).parameters\n",
    "               else {})\n",
    "    plt.step(recall, precision, color=color, alpha=0.6,\n",
    "         where='post')\n",
    "    #plt.fill_between(recall, precision, alpha=0.2, color='b', **step_kwargs)\n",
    "\n",
    "    plt.xlabel('Recall')\n",
    "    plt.ylabel('Precision')\n",
    "    plt.ylim([0.0, 1.05])\n",
    "    plt.xlim([0.0, 1.0])\n",
    "    plt.title('2-class Precision-Recall curve: AP={0:0.2f}'.format(average_precision))\n",
    "    \n",
    "def accuracy(y_test,y_score): return np.mean(y_test == (y_score>0.5))\n",
    "\n",
    "def evaluate_model_pred(y_test,y_score,model_name):\n",
    "    print(model_name+\" has AP:\", average_precision_score(y_test, y_score), \n",
    "      \"accuracy\", accuracy(y_test,y_score))\n",
    "    precision_recall(y_test,y_score)\n",
    "    \n",
    "def show_significant_words(coeff,method='naive', length = 100):\n",
    "    df_uni = pd.DataFrame.from_dict(unigrams,orient='index')\n",
    "    df_bi = pd.DataFrame.from_dict(bigrams,orient='index')\n",
    "    df_dict = pd.concat([df_uni, df_bi])\n",
    "    big_pos_coeff = coeff.argsort()[-length:][::-1]\n",
    "    big_neg_coeff = coeff.argsort()[:length]\n",
    "    pos_res = []\n",
    "    print(coeff[big_pos_coeff][0],coeff[big_pos_coeff][-1])\n",
    "    print(coeff[big_neg_coeff][0],coeff[big_neg_coeff][-1])\n",
    "    print('positive words are:')\n",
    "    print([df_dict.iloc[idx].name for idx in big_pos_coeff] )\n",
    "    print('negative words are:')\n",
    "    print([df_dict.iloc[idx].name for idx in big_neg_coeff])\n",
    "    \n",
    "def precision_at_k(y_test,y_pred):\n",
    "    y_pred = y_pred.reshape(-1)\n",
    "    y_test_sorted = y_test[np.argsort(y_pred)]\n",
    "    return [np.mean(y_test_sorted[-k-1:]) for k in np.arange(len(y_test))]"
   ]
  },
  {
   "cell_type": "markdown",
   "metadata": {},
   "source": [
    "## Random Seed"
   ]
  },
  {
   "cell_type": "code",
   "execution_count": 3,
   "metadata": {},
   "outputs": [],
   "source": [
    "#np.random.seed(1337)\n",
    "random_seed = 33\n",
    "np.random.seed(random_seed)"
   ]
  },
  {
   "cell_type": "markdown",
   "metadata": {
    "heading_collapsed": true
   },
   "source": [
    "## Glove embedding"
   ]
  },
  {
   "cell_type": "code",
   "execution_count": 5,
   "metadata": {
    "hidden": true
   },
   "outputs": [],
   "source": [
    "def get_glove_vectors(vocab):\n",
    "    print('Looking for GLOVE vectors')\n",
    "    glove_vectors = {}\n",
    "    found = 0\n",
    "    with open(GLOVE_FILE, 'r') as glove_file:\n",
    "        for i, line in enumerate(glove_file):\n",
    "            #utils.write_status(i + 1, 0)\n",
    "            tokens = line.split()\n",
    "            word = tokens[0]\n",
    "            if vocab.get(word):\n",
    "                vector = [float(e) for e in tokens[1:]]\n",
    "                glove_vectors[word] = np.array(vector)\n",
    "                found += 1\n",
    "    print('\\n')\n",
    "    print('Found %d words in GLOVE' % found)\n",
    "    return glove_vectors\n",
    "\n",
    "\n",
    "def get_feature_vector_w2i(tweet):\n",
    "    words = tweet.split()\n",
    "    feature_vector = []\n",
    "    for i in range(len(words) - 1):\n",
    "        word = words[i]\n",
    "        if vocab.get(word) is not None:\n",
    "            feature_vector.append(vocab.get(word))\n",
    "        else: \n",
    "            feature_vector.append(vocab.get('404MISSINGWORD404')) \n",
    "    if len(words) >= 1:\n",
    "        if vocab.get(words[-1]) is not None:\n",
    "            feature_vector.append(vocab.get(words[-1]))\n",
    "    return feature_vector\n",
    "\n",
    "def get_feature_vector_w2v(tweet):\n",
    "    words = tweet.split()\n",
    "    feature_vector = []\n",
    "    for i in range(len(words)):\n",
    "        word = words[i]\n",
    "        if type(glove_vectors.get(word))!=type(None):\n",
    "            feature_vector.append(glove_vectors.get(word))\n",
    "        else: \n",
    "            feature_vector.append(glove_vectors.get('404MISSINGWORD404')) \n",
    "    #if len(words) >= 1:\n",
    "    #    if vocab.get(words[-1]) is not None:\n",
    "    #        feature_vector.append(vocab.get(words[-1]))\n",
    "    return feature_vector\n",
    "\n",
    "\n",
    "def process_tweets_w2i(csv_file, test_file=True):\n",
    "    tweets = []\n",
    "    labels = []\n",
    "    print('Generating feature vectors')\n",
    "    with open(csv_file, 'r') as csv:\n",
    "        lines = csv.readlines()\n",
    "        total = len(lines)\n",
    "        for i, line in enumerate(lines):\n",
    "            if test_file:\n",
    "                tweet_id, dummy, tweet = line.split(',')\n",
    "            else:\n",
    "                tweet_id, sentiment, tweet = line.split(',')\n",
    "            feature_vector = get_feature_vector_w2v(tweet)\n",
    "            if test_file:\n",
    "                tweets.append(feature_vector)\n",
    "            else:\n",
    "                tweets.append(feature_vector)\n",
    "                labels.append(int(sentiment))\n",
    "            #utils.write_status(i + 1, total)\n",
    "    print('\\n')\n",
    "    return tweets, np.array(labels)\n",
    "\n",
    "def process_tweets_w2v(csv_file, test_file=True):\n",
    "    tweets = []\n",
    "    labels = []\n",
    "    print('Generating feature vectors')\n",
    "    with open(csv_file, 'r') as csv:\n",
    "        lines = csv.readlines()\n",
    "        total = len(lines)\n",
    "        for i, line in enumerate(lines):\n",
    "            if test_file:\n",
    "                tweet_id, dummy, tweet = line.split(',')\n",
    "            else:\n",
    "                tweet_id, sentiment, tweet = line.split(',')\n",
    "            feature_vector = get_feature_vector_w2v(tweet)\n",
    "            if test_file:\n",
    "                tweets.append(feature_vector)\n",
    "            else:\n",
    "                tweets.append(feature_vector)\n",
    "                labels.append(int(sentiment))\n",
    "            #utils.write_status(i + 1, total)\n",
    "    print('\\n')\n",
    "    return tweets, np.array(labels) \n",
    "\n",
    "def pad_vec_tweets(tweets, max_length):\n",
    "    result = []\n",
    "    for tweet in tweets:\n",
    "        tweet = np.array(tweet)\n",
    "        #print(tweet.shape)\n",
    "        if len(tweet) == 0:\n",
    "            result.append(np.zeros((max_length,DIM)))\n",
    "        elif len(tweet)<max_length:\n",
    "            padding = np.zeros((max_length-len(tweet),DIM))\n",
    "            padded_tweet = np.concatenate([tweet,padding])\n",
    "            result.append(padded_tweet)\n",
    "        else:\n",
    "            result.append(tweet[:max_length])\n",
    "    return np.array(result)"
   ]
  },
  {
   "cell_type": "code",
   "execution_count": 7,
   "metadata": {
    "hidden": true
   },
   "outputs": [
    {
     "name": "stdout",
     "output_type": "stream",
     "text": [
      "Looking for GLOVE vectors\n",
      "\n",
      "\n",
      "Found 36502 words in GLOVE\n"
     ]
    }
   ],
   "source": [
    "train = True\n",
    "np.random.seed(1337)\n",
    "#np.random.seed(42)\n",
    "vocab_size = 54488 + 1\n",
    "batch_size = 500\n",
    "max_length = 100\n",
    "filters = 600\n",
    "kernel_size = 3\n",
    "\n",
    "vocab = utils.top_n_words(FREQ_DIST_FILE_GLOVE, vocab_size-1, shift=1)\n",
    "glove_vectors = get_glove_vectors(vocab)\n",
    "#Handle unkown words\n",
    "\n",
    "vocab['404MISSINGWORD404'] = vocab_size\n",
    "glove_vectors['404MISSINGWORD404']=np.mean([v for _,v in glove_vectors.items()],axis = 0)"
   ]
  },
  {
   "cell_type": "code",
   "execution_count": 99,
   "metadata": {
    "hidden": true
   },
   "outputs": [],
   "source": [
    "def word2vec(word, glove_vectors=glove_vectors):\n",
    "    if type(glove_vectors.get(word.lower()))!=type(None): \n",
    "        return glove_vectors[word.lower()]\n",
    "    else: \n",
    "        return glove_vectors['404MISSINGWORD404']\n",
    "    \n",
    "def sentence2vec(sentence, glove_vectors=glove_vectors):\n",
    "    return np.sum([word2vec(word,glove_vectors=glove_vectors) for word in sentence.split()],axis=0)"
   ]
  },
  {
   "cell_type": "markdown",
   "metadata": {
    "heading_collapsed": true,
    "hidden": true
   },
   "source": [
    "### Bag of words type embedding"
   ]
  },
  {
   "cell_type": "code",
   "execution_count": 11,
   "metadata": {
    "hidden": true
   },
   "outputs": [
    {
     "name": "stdout",
     "output_type": "stream",
     "text": [
      "Generating feature vectors\n",
      "Processing 2726/32367"
     ]
    },
    {
     "name": "stderr",
     "output_type": "stream",
     "text": [
      "IOPub message rate exceeded.\n",
      "The notebook server will temporarily stop sending output\n",
      "to the client in order to avoid crashing it.\n",
      "To change this limit, set the config variable\n",
      "`--NotebookApp.iopub_msg_rate_limit`.\n",
      "\n",
      "Current values:\n",
      "NotebookApp.iopub_msg_rate_limit=1000.0 (msgs/sec)\n",
      "NotebookApp.rate_limit_window=3.0 (secs)\n",
      "\n"
     ]
    },
    {
     "name": "stdout",
     "output_type": "stream",
     "text": [
      "Processing 7270/32367"
     ]
    },
    {
     "name": "stderr",
     "output_type": "stream",
     "text": [
      "IOPub message rate exceeded.\n",
      "The notebook server will temporarily stop sending output\n",
      "to the client in order to avoid crashing it.\n",
      "To change this limit, set the config variable\n",
      "`--NotebookApp.iopub_msg_rate_limit`.\n",
      "\n",
      "Current values:\n",
      "NotebookApp.iopub_msg_rate_limit=1000.0 (msgs/sec)\n",
      "NotebookApp.rate_limit_window=3.0 (secs)\n",
      "\n"
     ]
    },
    {
     "name": "stdout",
     "output_type": "stream",
     "text": [
      "Processing 32367/32367\n",
      "\n"
     ]
    }
   ],
   "source": [
    "#use bag of words together with embedding\n",
    "unigrams_org = utils.top_n_words(FREQ_DIST_FILE_GLOVE, UNIGRAM_SIZE)\n",
    "bigrams_org = utils.top_n_bigrams(BI_FREQ_DIST_FILE_GLOVE, BIGRAM_SIZE)\n",
    "\n",
    "unigrams = unigrams_org\n",
    "bigrams = bigrams_org\n",
    "\n",
    "tweets = process_tweets(TRAIN_PROCESSED_FILE_GLOVE, test_file=False)\n",
    "X,y = extract_X_y(tweets,feat_type=FEAT_TYPE)\n",
    "\n",
    "del unigrams\n",
    "del bigrams"
   ]
  },
  {
   "cell_type": "code",
   "execution_count": 43,
   "metadata": {
    "hidden": true
   },
   "outputs": [
    {
     "data": {
      "text/plain": [
       "(5000, 100)"
      ]
     },
     "execution_count": 43,
     "metadata": {},
     "output_type": "execute_result"
    }
   ],
   "source": [
    "#glove_matrix_uni = []\n",
    "#for key in unigrams_org:\n",
    "#    if(unigrams_org[key]!=len(glove_matrix_uni)): \n",
    "#        print('error')\n",
    "#        break\n",
    "#    glove_matrix_uni.append(word2vec(key))\n",
    "#glove_matrix_uni = np.array(glove_matrix_uni)\n",
    "glove_matrix_uni = np.array([word2vec(key) for key in unigrams_org])\n",
    "glove_matrix_uni.shape\n",
    "\n",
    "glove_matrix_bi = np.array([np.concatenate([word2vec(key[0]),word2vec(key[1])]) for key in bigrams_org])\n",
    "glove_matrix_bi.shape"
   ]
  },
  {
   "cell_type": "code",
   "execution_count": 50,
   "metadata": {
    "hidden": true
   },
   "outputs": [
    {
     "data": {
      "text/plain": [
       "(32367, 150)"
      ]
     },
     "execution_count": 50,
     "metadata": {},
     "output_type": "execute_result"
    }
   ],
   "source": [
    "#Embeded version of the bag of words\n",
    "X_emb = np.concatenate([X[:,:UNIGRAM_SIZE]@glove_matrix_uni, X[:,UNIGRAM_SIZE:]@glove_matrix_bi],axis = 1)\n",
    "\n",
    "X_emb.shape"
   ]
  },
  {
   "cell_type": "code",
   "execution_count": 51,
   "metadata": {
    "hidden": true
   },
   "outputs": [
    {
     "name": "stdout",
     "output_type": "stream",
     "text": [
      "26217 2913 3237\n",
      "0.34683602242819545 0.3467215928595949 0.34692616620327466\n"
     ]
    }
   ],
   "source": [
    "X=X_emb\n",
    "\n",
    "X_train_val,y_train_val,X_test, y_test = stratifiedSplit(X,y,test_size = 0.1, random_state = random_seed)\n",
    "X_train,y_train,X_val, y_val = stratifiedSplit(X_train_val,y_train_val,test_size = 0.1, random_state = random_seed+1)\n",
    "\n",
    "print(len(y_train),len(y_val),len(y_test))\n",
    "print(np.mean(y_train == 1),np.mean(y_val == 1),np.mean(y_test == 1))\n",
    "\n",
    "del X,X_emb,y"
   ]
  },
  {
   "cell_type": "code",
   "execution_count": 53,
   "metadata": {
    "hidden": true
   },
   "outputs": [
    {
     "name": "stderr",
     "output_type": "stream",
     "text": [
      "[Parallel(n_jobs=1)]: Using backend SequentialBackend with 1 concurrent workers.\n",
      "/anaconda3/lib/python3.7/site-packages/sklearn/linear_model/logistic.py:947: ConvergenceWarning: lbfgs failed to converge. Increase the number of iterations.\n",
      "  \"of iterations.\", ConvergenceWarning)\n",
      "[Parallel(n_jobs=1)]: Done   1 out of   1 | elapsed:    0.4s finished\n"
     ]
    },
    {
     "name": "stdout",
     "output_type": "stream",
     "text": [
      "0.6738757294884998\n",
      "logistic has AP: 0.47957045199038895 accuracy 0.6784059314179796\n"
     ]
    },
    {
     "data": {
      "image/png": "[encoded data removed]",
      "text/plain": [
       "<Figure size 432x288 with 1 Axes>"
      ]
     },
     "metadata": {
      "needs_background": "light"
     },
     "output_type": "display_data"
    }
   ],
   "source": [
    "logistic = LogisticRegression(random_state=0,verbose=1,solver='lbfgs')\n",
    "logistic.fit(X_train, y_train)\n",
    "\n",
    "pred_val_logistic = logistic.predict_proba(X_val)[:,1]\n",
    "print(np.mean((pred_val_logistic>0.5) == y_val))\n",
    "\n",
    "y_score_logistic = logistic.predict_proba(X_test)[:,1]\n",
    "evaluate_model_pred(y_test,y_score_logistic,model_name='logistic')"
   ]
  },
  {
   "cell_type": "code",
   "execution_count": 54,
   "metadata": {
    "hidden": true
   },
   "outputs": [
    {
     "name": "stderr",
     "output_type": "stream",
     "text": [
      "WARNING: Logging before flag parsing goes to stderr.\n",
      "W0929 22:28:11.550383 4559943104 deprecation_wrapper.py:119] From /anaconda3/lib/python3.7/site-packages/keras/backend/tensorflow_backend.py:74: The name tf.get_default_graph is deprecated. Please use tf.compat.v1.get_default_graph instead.\n",
      "\n",
      "W0929 22:28:11.744082 4559943104 deprecation_wrapper.py:119] From /anaconda3/lib/python3.7/site-packages/keras/optimizers.py:790: The name tf.train.Optimizer is deprecated. Please use tf.compat.v1.train.Optimizer instead.\n",
      "\n"
     ]
    }
   ],
   "source": [
    "model = build_model(lr = 0.001)"
   ]
  },
  {
   "cell_type": "code",
   "execution_count": 55,
   "metadata": {
    "hidden": true
   },
   "outputs": [
    {
     "name": "stderr",
     "output_type": "stream",
     "text": [
      "W0929 22:28:16.795151 4559943104 deprecation_wrapper.py:119] From /anaconda3/lib/python3.7/site-packages/keras/backend/tensorflow_backend.py:517: The name tf.placeholder is deprecated. Please use tf.compat.v1.placeholder instead.\n",
      "\n",
      "W0929 22:28:16.803641 4559943104 deprecation_wrapper.py:119] From /anaconda3/lib/python3.7/site-packages/keras/backend/tensorflow_backend.py:133: The name tf.placeholder_with_default is deprecated. Please use tf.compat.v1.placeholder_with_default instead.\n",
      "\n",
      "W0929 22:28:16.813122 4559943104 deprecation.py:506] From /anaconda3/lib/python3.7/site-packages/keras/backend/tensorflow_backend.py:3445: calling dropout (from tensorflow.python.ops.nn_ops) with keep_prob is deprecated and will be removed in a future version.\n",
      "Instructions for updating:\n",
      "Please use `rate` instead of `keep_prob`. Rate should be set to `rate = 1 - keep_prob`.\n",
      "W0929 22:28:16.836168 4559943104 deprecation_wrapper.py:119] From /anaconda3/lib/python3.7/site-packages/keras/backend/tensorflow_backend.py:4138: The name tf.random_uniform is deprecated. Please use tf.random.uniform instead.\n",
      "\n",
      "W0929 22:28:16.861327 4559943104 deprecation_wrapper.py:119] From /anaconda3/lib/python3.7/site-packages/keras/backend/tensorflow_backend.py:3376: The name tf.log is deprecated. Please use tf.math.log instead.\n",
      "\n",
      "W0929 22:28:16.865291 4559943104 deprecation.py:323] From /anaconda3/lib/python3.7/site-packages/tensorflow/python/ops/nn_impl.py:180: add_dispatch_support.<locals>.wrapper (from tensorflow.python.ops.array_ops) is deprecated and will be removed in a future version.\n",
      "Instructions for updating:\n",
      "Use tf.where in 2.0, which has the same broadcast rule as np.where\n"
     ]
    },
    {
     "name": "stdout",
     "output_type": "stream",
     "text": [
      "Train on 26217 samples, validate on 2913 samples\n",
      "Epoch 1/10\n",
      "26217/26217 [==============================] - 2s 78us/step - loss: 2.2365 - acc: 0.5592 - mean_pred: 0.3703 - val_loss: 1.0045 - val_acc: 0.6069 - val_mean_pred: 0.3144\n",
      "Epoch 2/10\n",
      "26217/26217 [==============================] - 1s 42us/step - loss: 1.0418 - acc: 0.5836 - mean_pred: 0.4101 - val_loss: 0.7099 - val_acc: 0.6519 - val_mean_pred: 0.3494\n",
      "Epoch 3/10\n",
      "26217/26217 [==============================] - 1s 42us/step - loss: 0.7124 - acc: 0.6320 - mean_pred: 0.4040 - val_loss: 0.6645 - val_acc: 0.6560 - val_mean_pred: 0.3381\n",
      "Epoch 4/10\n",
      "26217/26217 [==============================] - 1s 41us/step - loss: 0.6593 - acc: 0.6534 - mean_pred: 0.3820 - val_loss: 0.6455 - val_acc: 0.6588 - val_mean_pred: 0.3378\n",
      "Epoch 5/10\n",
      "26217/26217 [==============================] - 1s 41us/step - loss: 0.6545 - acc: 0.6570 - mean_pred: 0.3727 - val_loss: 0.6402 - val_acc: 0.6660 - val_mean_pred: 0.3736\n",
      "Epoch 6/10\n",
      "26217/26217 [==============================] - 1s 41us/step - loss: 0.6457 - acc: 0.6607 - mean_pred: 0.3617 - val_loss: 0.6326 - val_acc: 0.6680 - val_mean_pred: 0.3641\n",
      "Epoch 7/10\n",
      "26217/26217 [==============================] - 1s 41us/step - loss: 0.6418 - acc: 0.6634 - mean_pred: 0.3585 - val_loss: 0.6306 - val_acc: 0.6687 - val_mean_pred: 0.3392\n",
      "Epoch 8/10\n",
      "26217/26217 [==============================] - 1s 41us/step - loss: 0.6566 - acc: 0.6563 - mean_pred: 0.3553 - val_loss: 0.6400 - val_acc: 0.6646 - val_mean_pred: 0.3866\n",
      "Epoch 9/10\n",
      "26217/26217 [==============================] - 1s 41us/step - loss: 0.6521 - acc: 0.6591 - mean_pred: 0.3488 - val_loss: 0.6334 - val_acc: 0.6660 - val_mean_pred: 0.3759\n",
      "Epoch 10/10\n",
      "26217/26217 [==============================] - 1s 41us/step - loss: 0.6475 - acc: 0.6612 - mean_pred: 0.3509 - val_loss: 0.6427 - val_acc: 0.6605 - val_mean_pred: 0.3061\n"
     ]
    },
    {
     "data": {
      "text/plain": [
       "<keras.callbacks.History at 0x1a46698978>"
      ]
     },
     "execution_count": 55,
     "metadata": {},
     "output_type": "execute_result"
    }
   ],
   "source": [
    "model.fit(X_train, y_train, batch_size=100, epochs=10, validation_data = (X_val,y_val), shuffle=True)"
   ]
  },
  {
   "cell_type": "code",
   "execution_count": 56,
   "metadata": {
    "hidden": true
   },
   "outputs": [
    {
     "name": "stdout",
     "output_type": "stream",
     "text": [
      "1 layer has AP: 0.4459924904300185 accuracy 0.6445618504530706\n"
     ]
    },
    {
     "data": {
      "image/png": "[encoded data removed]",
      "text/plain": [
       "<Figure size 432x288 with 1 Axes>"
      ]
     },
     "metadata": {
      "needs_background": "light"
     },
     "output_type": "display_data"
    }
   ],
   "source": [
    "y_model = model.predict(X_test)\n",
    "evaluate_model_pred(y_test,y_model,model_name='1 layer')"
   ]
  },
  {
   "cell_type": "code",
   "execution_count": 80,
   "metadata": {
    "hidden": true
   },
   "outputs": [],
   "source": [
    "def build_model_2(lr = 0.001, n1= 100):\n",
    "    model = Sequential()\n",
    "    model.add(Dropout(0.1))\n",
    "    model.add(Dense(n1, #input_dim=VOCAB_SIZE, \n",
    "                    activation='relu'))#,kernel_regularizer=l1(1e-4)))\n",
    "    model.add(Dropout(0.1))\n",
    "    model.add(Dense(1, activation='sigmoid'))#,kernel_regularizer=l1(5e-5)))\n",
    "    model.compile(loss='binary_crossentropy',\n",
    "                  optimizer=Adam(lr=lr), metrics=['accuracy',mean_pred])\n",
    "    return model\n",
    "\n",
    "model_2 = build_model_2(lr = 5e-3, n1 = 100)"
   ]
  },
  {
   "cell_type": "code",
   "execution_count": 81,
   "metadata": {
    "hidden": true,
    "scrolled": true
   },
   "outputs": [
    {
     "name": "stdout",
     "output_type": "stream",
     "text": [
      "Train on 26217 samples, validate on 2913 samples\n",
      "Epoch 1/30\n",
      "26217/26217 [==============================] - 2s 80us/step - loss: 1.0701 - acc: 0.6013 - mean_pred: 0.3936 - val_loss: 0.6612 - val_acc: 0.6478 - val_mean_pred: 0.4063\n",
      "Epoch 2/30\n",
      "26217/26217 [==============================] - 1s 28us/step - loss: 0.6608 - acc: 0.6503 - mean_pred: 0.3844 - val_loss: 0.6402 - val_acc: 0.6636 - val_mean_pred: 0.3604\n",
      "Epoch 3/30\n",
      "26217/26217 [==============================] - 1s 28us/step - loss: 0.6308 - acc: 0.6667 - mean_pred: 0.3649 - val_loss: 0.6315 - val_acc: 0.6715 - val_mean_pred: 0.3860\n",
      "Epoch 4/30\n",
      "26217/26217 [==============================] - 1s 29us/step - loss: 0.6267 - acc: 0.6669 - mean_pred: 0.3606 - val_loss: 0.6279 - val_acc: 0.6619 - val_mean_pred: 0.3469\n",
      "Epoch 5/30\n",
      "26217/26217 [==============================] - 1s 28us/step - loss: 0.6195 - acc: 0.6710 - mean_pred: 0.3545 - val_loss: 0.6292 - val_acc: 0.6622 - val_mean_pred: 0.3330\n",
      "Epoch 6/30\n",
      "26217/26217 [==============================] - 1s 27us/step - loss: 0.6171 - acc: 0.6728 - mean_pred: 0.3519 - val_loss: 0.6261 - val_acc: 0.6708 - val_mean_pred: 0.3535\n",
      "Epoch 7/30\n",
      "26217/26217 [==============================] - 1s 28us/step - loss: 0.6163 - acc: 0.6730 - mean_pred: 0.3464 - val_loss: 0.6216 - val_acc: 0.6814 - val_mean_pred: 0.3649\n",
      "Epoch 8/30\n",
      "26217/26217 [==============================] - 1s 28us/step - loss: 0.6131 - acc: 0.6753 - mean_pred: 0.3499 - val_loss: 0.6235 - val_acc: 0.6715 - val_mean_pred: 0.3428\n",
      "Epoch 9/30\n",
      "26217/26217 [==============================] - 1s 28us/step - loss: 0.6121 - acc: 0.6764 - mean_pred: 0.3455 - val_loss: 0.6239 - val_acc: 0.6732 - val_mean_pred: 0.3456\n",
      "Epoch 10/30\n",
      "26217/26217 [==============================] - 1s 28us/step - loss: 0.6084 - acc: 0.6787 - mean_pred: 0.3457 - val_loss: 0.6251 - val_acc: 0.6732 - val_mean_pred: 0.3499\n",
      "Epoch 11/30\n",
      "26217/26217 [==============================] - 1s 29us/step - loss: 0.6074 - acc: 0.6816 - mean_pred: 0.3486 - val_loss: 0.6196 - val_acc: 0.6818 - val_mean_pred: 0.3502\n",
      "Epoch 12/30\n",
      "26217/26217 [==============================] - 1s 29us/step - loss: 0.6075 - acc: 0.6791 - mean_pred: 0.3483 - val_loss: 0.6231 - val_acc: 0.6763 - val_mean_pred: 0.3410\n",
      "Epoch 13/30\n",
      "26217/26217 [==============================] - 1s 27us/step - loss: 0.6046 - acc: 0.6815 - mean_pred: 0.3477 - val_loss: 0.6241 - val_acc: 0.6704 - val_mean_pred: 0.3328\n",
      "Epoch 14/30\n",
      "26217/26217 [==============================] - 1s 28us/step - loss: 0.6024 - acc: 0.6818 - mean_pred: 0.3458 - val_loss: 0.6244 - val_acc: 0.6742 - val_mean_pred: 0.3557\n",
      "Epoch 15/30\n",
      "26217/26217 [==============================] - 1s 28us/step - loss: 0.6001 - acc: 0.6843 - mean_pred: 0.3458 - val_loss: 0.6242 - val_acc: 0.6790 - val_mean_pred: 0.3642\n",
      "Epoch 16/30\n",
      "26217/26217 [==============================] - 1s 28us/step - loss: 0.6027 - acc: 0.6834 - mean_pred: 0.3463 - val_loss: 0.6199 - val_acc: 0.6842 - val_mean_pred: 0.3509\n",
      "Epoch 17/30\n",
      "26217/26217 [==============================] - 1s 28us/step - loss: 0.5995 - acc: 0.6846 - mean_pred: 0.3461 - val_loss: 0.6232 - val_acc: 0.6749 - val_mean_pred: 0.3507\n",
      "Epoch 18/30\n",
      "26217/26217 [==============================] - 1s 28us/step - loss: 0.5959 - acc: 0.6877 - mean_pred: 0.3488 - val_loss: 0.6269 - val_acc: 0.6739 - val_mean_pred: 0.3503\n",
      "Epoch 19/30\n",
      "26217/26217 [==============================] - 1s 28us/step - loss: 0.5971 - acc: 0.6880 - mean_pred: 0.3459 - val_loss: 0.6287 - val_acc: 0.6722 - val_mean_pred: 0.3306\n",
      "Epoch 20/30\n",
      "26217/26217 [==============================] - 1s 28us/step - loss: 0.5948 - acc: 0.6867 - mean_pred: 0.3472 - val_loss: 0.6274 - val_acc: 0.6773 - val_mean_pred: 0.3562\n",
      "Epoch 21/30\n",
      "26217/26217 [==============================] - 1s 28us/step - loss: 0.5939 - acc: 0.6885 - mean_pred: 0.3470 - val_loss: 0.6228 - val_acc: 0.6777 - val_mean_pred: 0.3436\n",
      "Epoch 22/30\n",
      "26217/26217 [==============================] - 1s 28us/step - loss: 0.5905 - acc: 0.6906 - mean_pred: 0.3477 - val_loss: 0.6336 - val_acc: 0.6722 - val_mean_pred: 0.3588\n",
      "Epoch 23/30\n",
      "26217/26217 [==============================] - 1s 28us/step - loss: 0.5914 - acc: 0.6909 - mean_pred: 0.3473 - val_loss: 0.6356 - val_acc: 0.6667 - val_mean_pred: 0.3264\n",
      "Epoch 24/30\n",
      "26217/26217 [==============================] - 1s 28us/step - loss: 0.5872 - acc: 0.6937 - mean_pred: 0.3478 - val_loss: 0.6301 - val_acc: 0.6746 - val_mean_pred: 0.3389\n",
      "Epoch 25/30\n",
      "26217/26217 [==============================] - 1s 28us/step - loss: 0.5901 - acc: 0.6908 - mean_pred: 0.3472 - val_loss: 0.6290 - val_acc: 0.6735 - val_mean_pred: 0.3545\n",
      "Epoch 26/30\n",
      "26217/26217 [==============================] - 1s 29us/step - loss: 0.5867 - acc: 0.6930 - mean_pred: 0.3439 - val_loss: 0.6314 - val_acc: 0.6725 - val_mean_pred: 0.3370\n",
      "Epoch 27/30\n",
      "26217/26217 [==============================] - 1s 28us/step - loss: 0.5854 - acc: 0.6955 - mean_pred: 0.3469 - val_loss: 0.6307 - val_acc: 0.6704 - val_mean_pred: 0.3418\n",
      "Epoch 28/30\n",
      "26217/26217 [==============================] - 1s 28us/step - loss: 0.5863 - acc: 0.6921 - mean_pred: 0.3477 - val_loss: 0.6269 - val_acc: 0.6780 - val_mean_pred: 0.3553\n",
      "Epoch 29/30\n",
      "26217/26217 [==============================] - 1s 29us/step - loss: 0.5847 - acc: 0.6925 - mean_pred: 0.3483 - val_loss: 0.6351 - val_acc: 0.6732 - val_mean_pred: 0.3613\n",
      "Epoch 30/30\n",
      "26217/26217 [==============================] - 1s 28us/step - loss: 0.5843 - acc: 0.6923 - mean_pred: 0.3446 - val_loss: 0.6384 - val_acc: 0.6639 - val_mean_pred: 0.3720\n"
     ]
    },
    {
     "data": {
      "text/plain": [
       "<keras.callbacks.History at 0x1a542bf5c0>"
      ]
     },
     "execution_count": 81,
     "metadata": {},
     "output_type": "execute_result"
    }
   ],
   "source": [
    "model_2.fit(X_train, y_train, batch_size=300, epochs=30, validation_data = (X_val,y_val), shuffle=True)"
   ]
  },
  {
   "cell_type": "code",
   "execution_count": 82,
   "metadata": {
    "hidden": true
   },
   "outputs": [
    {
     "name": "stdout",
     "output_type": "stream",
     "text": [
      "2-layer has AP: 0.47756367128470484 accuracy 0.6090952531878423\n"
     ]
    },
    {
     "data": {
      "image/png": "[encoded data removed]",
      "text/plain": [
       "<Figure size 432x288 with 1 Axes>"
      ]
     },
     "metadata": {
      "needs_background": "light"
     },
     "output_type": "display_data"
    }
   ],
   "source": [
    "y_model_2 = model_2.predict_proba(X_test)\n",
    "evaluate_model_pred(y_test,y_model_2,model_name='2-layer')"
   ]
  },
  {
   "cell_type": "code",
   "execution_count": 85,
   "metadata": {
    "hidden": true
   },
   "outputs": [],
   "source": [
    "def build_model_3(lr = 0.001, n1= 100, n2 = 30):\n",
    "    model = Sequential()\n",
    "    model.add(Dropout(0.1))\n",
    "    model.add(Dense(n1, input_dim=VOCAB_SIZE, activation='relu',kernel_regularizer=l1(1e-5)))\n",
    "    model.add(Dropout(0.1))\n",
    "    model.add(Dense(n2, input_dim=VOCAB_SIZE, activation='relu',kernel_regularizer=l1(1e-5)))\n",
    "    model.add(Dropout(0.1))\n",
    "    model.add(Dense(1, activation='sigmoid',kernel_regularizer=l1(1e-5)))\n",
    "    model.compile(loss='binary_crossentropy',\n",
    "                  optimizer=Adam(lr=lr), metrics=['accuracy',mean_pred])\n",
    "    return model\n",
    "\n",
    "model_3 = build_model_3(lr = 5e-3, n1 = 150, n2 = 100)"
   ]
  },
  {
   "cell_type": "code",
   "execution_count": 86,
   "metadata": {
    "hidden": true,
    "scrolled": true
   },
   "outputs": [
    {
     "name": "stdout",
     "output_type": "stream",
     "text": [
      "Train on 26217 samples, validate on 2913 samples\n",
      "Epoch 1/30\n",
      "26217/26217 [==============================] - 3s 118us/step - loss: 1.1193 - acc: 0.6176 - mean_pred: 0.4021 - val_loss: 0.6767 - val_acc: 0.6522 - val_mean_pred: 0.4215\n",
      "Epoch 2/30\n",
      "26217/26217 [==============================] - 1s 42us/step - loss: 0.6702 - acc: 0.6601 - mean_pred: 0.3903 - val_loss: 0.6601 - val_acc: 0.6656 - val_mean_pred: 0.3879\n",
      "Epoch 3/30\n",
      "26217/26217 [==============================] - 1s 42us/step - loss: 0.6548 - acc: 0.6638 - mean_pred: 0.3660 - val_loss: 0.6524 - val_acc: 0.6704 - val_mean_pred: 0.3696\n",
      "Epoch 4/30\n",
      "26217/26217 [==============================] - 1s 42us/step - loss: 0.6489 - acc: 0.6674 - mean_pred: 0.3594 - val_loss: 0.6477 - val_acc: 0.6711 - val_mean_pred: 0.3674\n",
      "Epoch 5/30\n",
      "26217/26217 [==============================] - 1s 42us/step - loss: 0.6455 - acc: 0.6696 - mean_pred: 0.3540 - val_loss: 0.6463 - val_acc: 0.6725 - val_mean_pred: 0.3479\n",
      "Epoch 6/30\n",
      "26217/26217 [==============================] - 1s 42us/step - loss: 0.6412 - acc: 0.6695 - mean_pred: 0.3500 - val_loss: 0.6461 - val_acc: 0.6670 - val_mean_pred: 0.3411\n",
      "Epoch 7/30\n",
      "26217/26217 [==============================] - 1s 43us/step - loss: 0.6384 - acc: 0.6730 - mean_pred: 0.3485 - val_loss: 0.6445 - val_acc: 0.6718 - val_mean_pred: 0.3293\n",
      "Epoch 8/30\n",
      "26217/26217 [==============================] - 1s 43us/step - loss: 0.6388 - acc: 0.6704 - mean_pred: 0.3483 - val_loss: 0.6428 - val_acc: 0.6708 - val_mean_pred: 0.3486\n",
      "Epoch 9/30\n",
      "26217/26217 [==============================] - 1s 43us/step - loss: 0.6360 - acc: 0.6738 - mean_pred: 0.3490 - val_loss: 0.6467 - val_acc: 0.6625 - val_mean_pred: 0.3304\n",
      "Epoch 10/30\n",
      "26217/26217 [==============================] - 1s 43us/step - loss: 0.6336 - acc: 0.6756 - mean_pred: 0.3458 - val_loss: 0.6426 - val_acc: 0.6759 - val_mean_pred: 0.3572\n",
      "Epoch 11/30\n",
      "26217/26217 [==============================] - 1s 43us/step - loss: 0.6329 - acc: 0.6752 - mean_pred: 0.3485 - val_loss: 0.6429 - val_acc: 0.6704 - val_mean_pred: 0.3494\n",
      "Epoch 12/30\n",
      "26217/26217 [==============================] - 1s 44us/step - loss: 0.6297 - acc: 0.6754 - mean_pred: 0.3434 - val_loss: 0.6429 - val_acc: 0.6739 - val_mean_pred: 0.3666\n",
      "Epoch 13/30\n",
      "26217/26217 [==============================] - 1s 44us/step - loss: 0.6267 - acc: 0.6764 - mean_pred: 0.3465 - val_loss: 0.6404 - val_acc: 0.6759 - val_mean_pred: 0.3528\n",
      "Epoch 14/30\n",
      "26217/26217 [==============================] - 1s 50us/step - loss: 0.6266 - acc: 0.6783 - mean_pred: 0.3458 - val_loss: 0.6391 - val_acc: 0.6742 - val_mean_pred: 0.3481\n",
      "Epoch 15/30\n",
      "26217/26217 [==============================] - 1s 46us/step - loss: 0.6234 - acc: 0.6810 - mean_pred: 0.3489 - val_loss: 0.6387 - val_acc: 0.6780 - val_mean_pred: 0.3389\n",
      "Epoch 16/30\n",
      "26217/26217 [==============================] - 1s 46us/step - loss: 0.6258 - acc: 0.6787 - mean_pred: 0.3460 - val_loss: 0.6409 - val_acc: 0.6643 - val_mean_pred: 0.3423\n",
      "Epoch 17/30\n",
      "26217/26217 [==============================] - 1s 49us/step - loss: 0.6227 - acc: 0.6813 - mean_pred: 0.3442 - val_loss: 0.6376 - val_acc: 0.6787 - val_mean_pred: 0.3593\n",
      "Epoch 18/30\n",
      "26217/26217 [==============================] - 1s 46us/step - loss: 0.6213 - acc: 0.6809 - mean_pred: 0.3475 - val_loss: 0.6472 - val_acc: 0.6749 - val_mean_pred: 0.3179\n",
      "Epoch 19/30\n",
      "26217/26217 [==============================] - 1s 46us/step - loss: 0.6202 - acc: 0.6823 - mean_pred: 0.3449 - val_loss: 0.6472 - val_acc: 0.6728 - val_mean_pred: 0.3753\n",
      "Epoch 20/30\n",
      "26217/26217 [==============================] - 1s 50us/step - loss: 0.6199 - acc: 0.6818 - mean_pred: 0.3458 - val_loss: 0.6444 - val_acc: 0.6732 - val_mean_pred: 0.3694\n",
      "Epoch 21/30\n",
      "26217/26217 [==============================] - 1s 47us/step - loss: 0.6173 - acc: 0.6816 - mean_pred: 0.3479 - val_loss: 0.6442 - val_acc: 0.6766 - val_mean_pred: 0.3365\n",
      "Epoch 22/30\n",
      "26217/26217 [==============================] - 1s 46us/step - loss: 0.6166 - acc: 0.6869 - mean_pred: 0.3497 - val_loss: 0.6482 - val_acc: 0.6629 - val_mean_pred: 0.3142\n",
      "Epoch 23/30\n",
      "26217/26217 [==============================] - 1s 46us/step - loss: 0.6166 - acc: 0.6843 - mean_pred: 0.3449 - val_loss: 0.6443 - val_acc: 0.6725 - val_mean_pred: 0.3437\n",
      "Epoch 24/30\n",
      "26217/26217 [==============================] - 1s 46us/step - loss: 0.6155 - acc: 0.6837 - mean_pred: 0.3476 - val_loss: 0.6495 - val_acc: 0.6632 - val_mean_pred: 0.3194\n",
      "Epoch 25/30\n",
      "26217/26217 [==============================] - 1s 47us/step - loss: 0.6179 - acc: 0.6820 - mean_pred: 0.3462 - val_loss: 0.6409 - val_acc: 0.6790 - val_mean_pred: 0.3578\n",
      "Epoch 26/30\n",
      "26217/26217 [==============================] - 1s 47us/step - loss: 0.6148 - acc: 0.6834 - mean_pred: 0.3453 - val_loss: 0.6481 - val_acc: 0.6732 - val_mean_pred: 0.3245\n",
      "Epoch 27/30\n",
      "26217/26217 [==============================] - 1s 46us/step - loss: 0.6124 - acc: 0.6849 - mean_pred: 0.3456 - val_loss: 0.6507 - val_acc: 0.6694 - val_mean_pred: 0.3472\n",
      "Epoch 28/30\n",
      "26217/26217 [==============================] - 1s 47us/step - loss: 0.6102 - acc: 0.6892 - mean_pred: 0.3487 - val_loss: 0.6536 - val_acc: 0.6749 - val_mean_pred: 0.3422\n",
      "Epoch 29/30\n",
      "26217/26217 [==============================] - 1s 46us/step - loss: 0.6079 - acc: 0.6904 - mean_pred: 0.3471 - val_loss: 0.6514 - val_acc: 0.6701 - val_mean_pred: 0.3673\n",
      "Epoch 30/30\n",
      "26217/26217 [==============================] - 1s 47us/step - loss: 0.6104 - acc: 0.6876 - mean_pred: 0.3483 - val_loss: 0.6478 - val_acc: 0.6701 - val_mean_pred: 0.3610\n"
     ]
    },
    {
     "data": {
      "text/plain": [
       "<keras.callbacks.History at 0x1a54d68160>"
      ]
     },
     "execution_count": 86,
     "metadata": {},
     "output_type": "execute_result"
    }
   ],
   "source": [
    "model_3.fit(X_train, y_train, batch_size=300, epochs=30, validation_data = (X_val,y_val), shuffle=True)"
   ]
  },
  {
   "cell_type": "code",
   "execution_count": 87,
   "metadata": {
    "hidden": true
   },
   "outputs": [
    {
     "name": "stdout",
     "output_type": "stream",
     "text": [
      "2-layer has AP: 0.48094381819647036 accuracy 0.6209174522762517\n"
     ]
    },
    {
     "data": {
      "image/png": "[encoded data removed]",
      "text/plain": [
       "<Figure size 432x288 with 1 Axes>"
      ]
     },
     "metadata": {
      "needs_background": "light"
     },
     "output_type": "display_data"
    }
   ],
   "source": [
    "y_model_3 = model_3.predict_proba(X_test)\n",
    "evaluate_model_pred(y_test,y_model_3,model_name='2-layer')"
   ]
  },
  {
   "cell_type": "markdown",
   "metadata": {
    "heading_collapsed": true,
    "hidden": true
   },
   "source": [
    "### LSTM type embedding"
   ]
  },
  {
   "cell_type": "code",
   "execution_count": 249,
   "metadata": {
    "hidden": true
   },
   "outputs": [
    {
     "name": "stdout",
     "output_type": "stream",
     "text": [
      "Generating feature vectors\n",
      "\n",
      "\n"
     ]
    },
    {
     "data": {
      "text/plain": [
       "(32367, 100, 50)"
      ]
     },
     "execution_count": 249,
     "metadata": {},
     "output_type": "execute_result"
    }
   ],
   "source": [
    "\n",
    "tweets_vec, labels = process_tweets_w2v(TRAIN_PROCESSED_FILE, test_file=False)\n",
    "tweets_vec_padded = pad_vec_tweets(tweets_vec, max_length=max_length)\n",
    "\n",
    "tweets_vec_padded.shape"
   ]
  },
  {
   "cell_type": "code",
   "execution_count": 197,
   "metadata": {
    "hidden": true
   },
   "outputs": [],
   "source": [
    "y=labels\n",
    "#X=tweets_padded.reshape(-1,DIM*max_length)\n",
    "X=tweets_vc_padded\n",
    "\n",
    "X_train_val,y_train_val,X_test, y_test = stratifiedSplit(X,y,test_size = 0.1, random_state = random_seed)\n",
    "X_train,y_train,X_val, y_val = stratifiedSplit(X_train_val,y_train_val,test_size = 0.1, random_state = random_seed+1)"
   ]
  },
  {
   "cell_type": "code",
   "execution_count": 157,
   "metadata": {
    "hidden": true
   },
   "outputs": [
    {
     "data": {
      "text/plain": [
       "<matplotlib.image.AxesImage at 0x1a5a141a58>"
      ]
     },
     "execution_count": 157,
     "metadata": {},
     "output_type": "execute_result"
    },
    {
     "data": {
      "image/png": "[encoded data removed]",
      "text/plain": [
       "<Figure size 432x288 with 1 Axes>"
      ]
     },
     "metadata": {
      "needs_background": "light"
     },
     "output_type": "display_data"
    }
   ],
   "source": [
    "plt.imshow(tweets_padded[209][:50])"
   ]
  },
  {
   "cell_type": "code",
   "execution_count": 158,
   "metadata": {
    "hidden": true
   },
   "outputs": [
    {
     "data": {
      "text/plain": [
       "<matplotlib.image.AxesImage at 0x1a63d670f0>"
      ]
     },
     "execution_count": 158,
     "metadata": {},
     "output_type": "execute_result"
    },
    {
     "data": {
      "image/png": "[encoded data removed]",
      "text/plain": [
       "<Figure size 432x288 with 1 Axes>"
      ]
     },
     "metadata": {
      "needs_background": "light"
     },
     "output_type": "display_data"
    }
   ],
   "source": [
    "plt.imshow(tweets_padded[203][:50])"
   ]
  },
  {
   "cell_type": "code",
   "execution_count": null,
   "metadata": {
    "hidden": true
   },
   "outputs": [],
   "source": [
    "tweets = process_tweets(TRAIN_PROCESSED_FILE, test_file=False)"
   ]
  },
  {
   "cell_type": "code",
   "execution_count": 226,
   "metadata": {
    "hidden": true
   },
   "outputs": [
    {
     "name": "stdout",
     "output_type": "stream",
     "text": [
      "_________________________________________________________________\n",
      "Layer (type)                 Output Shape              Param #   \n",
      "=================================================================\n",
      "masking_3 (Masking)          (None, 100, 50)           0         \n",
      "_________________________________________________________________\n",
      "lstm_41 (LSTM)               (None, 100, 40)           14560     \n",
      "_________________________________________________________________\n",
      "lstm_42 (LSTM)               (None, 10)                2040      \n",
      "_________________________________________________________________\n",
      "dense_30 (Dense)             (None, 1)                 11        \n",
      "_________________________________________________________________\n",
      "activation_18 (Activation)   (None, 1)                 0         \n",
      "=================================================================\n",
      "Total params: 16,611\n",
      "Trainable params: 16,611\n",
      "Non-trainable params: 0\n",
      "_________________________________________________________________\n",
      "None\n"
     ]
    }
   ],
   "source": [
    "lstm = Sequential()\n",
    "#lstm.add(Embedding(vocab_size + 1, DIM, weights=[embedding_matrix],mask_zero=True,trainable=True,embeddings_regularizer=l1(1e-4)))#, input_length=max_length,trainable = False))\n",
    "lstm.add(Masking(mask_value=0., input_shape=(max_length, DIM)))\n",
    "lstm.add(LSTM(40,return_sequences=True))#input_shape=(max_length,DIM)\n",
    "               #bias_regularizer=l1(5e-4),recurrent_regularizer=l1(5e-4),kernel_regularizer=l1(5e-4),dropout=0.2))\n",
    "lstm.add(LSTM(10))#input_shape=(max_length,DIM)\n",
    "#lstm.add(Flatten())\n",
    "lstm.add(Dense(1,kernel_regularizer=l1(0.00001)))\n",
    "lstm.add(Activation('sigmoid'))\n",
    "adam_opt = Adam(lr=0.01)\n",
    "lstm.compile(loss='binary_crossentropy', optimizer=adam_opt, metrics=['accuracy',mean_pred])\n",
    "print(lstm.summary())"
   ]
  },
  {
   "cell_type": "code",
   "execution_count": 240,
   "metadata": {
    "hidden": true
   },
   "outputs": [
    {
     "name": "stdout",
     "output_type": "stream",
     "text": [
      "Train on 26217 samples, validate on 2913 samples\n",
      "Epoch 1/5\n",
      "26217/26217 [==============================] - 56s 2ms/step - loss: 0.3391 - acc: 0.8499 - mean_pred: 0.3492 - val_loss: 0.9293 - val_acc: 0.6220 - val_mean_pred: 0.3704\n",
      "Epoch 2/5\n",
      "26217/26217 [==============================] - 57s 2ms/step - loss: 0.3268 - acc: 0.8570 - mean_pred: 0.3460 - val_loss: 0.9727 - val_acc: 0.5980 - val_mean_pred: 0.3893\n",
      "Epoch 3/5\n",
      "26217/26217 [==============================] - 57s 2ms/step - loss: 0.3209 - acc: 0.8590 - mean_pred: 0.3471 - val_loss: 1.0127 - val_acc: 0.6073 - val_mean_pred: 0.3804\n",
      "Epoch 4/5\n",
      "26217/26217 [==============================] - 66s 3ms/step - loss: 0.3003 - acc: 0.8717 - mean_pred: 0.3490 - val_loss: 0.9994 - val_acc: 0.6203 - val_mean_pred: 0.3548\n",
      "Epoch 5/5\n",
      "26217/26217 [==============================] - 64s 2ms/step - loss: 0.2923 - acc: 0.8727 - mean_pred: 0.3466 - val_loss: 1.0549 - val_acc: 0.6200 - val_mean_pred: 0.3520\n"
     ]
    },
    {
     "data": {
      "text/plain": [
       "<keras.callbacks.History at 0x1a96f4a860>"
      ]
     },
     "execution_count": 240,
     "metadata": {},
     "output_type": "execute_result"
    }
   ],
   "source": [
    "lstm.fit(X_train, y_train, batch_size=500, epochs=5, validation_data = (X_val,y_val), shuffle=True)"
   ]
  },
  {
   "cell_type": "code",
   "execution_count": 241,
   "metadata": {
    "hidden": true
   },
   "outputs": [
    {
     "name": "stdout",
     "output_type": "stream",
     "text": [
      "lstm has AP: 0.4636436923859387 accuracy 0.5553751805301098\n"
     ]
    },
    {
     "data": {
      "image/png": "[encoded data removed]",
      "text/plain": [
       "<Figure size 432x288 with 1 Axes>"
      ]
     },
     "metadata": {
      "needs_background": "light"
     },
     "output_type": "display_data"
    }
   ],
   "source": [
    "y_lstm = lstm.predict(X_test)\n",
    "evaluate_model_pred(y_test,y_lstm,model_name='lstm')"
   ]
  },
  {
   "cell_type": "markdown",
   "metadata": {},
   "source": [
    "## Trad embedding"
   ]
  },
  {
   "cell_type": "code",
   "execution_count": 228,
   "metadata": {
    "scrolled": true
   },
   "outputs": [
    {
     "name": "stdout",
     "output_type": "stream",
     "text": [
      "Generating feature vectors\n",
      "Processing 32260/32367Processing 31780/32367\n",
      "\n"
     ]
    }
   ],
   "source": [
    "unigrams = utils.top_n_words(FREQ_DIST_FILE, UNIGRAM_SIZE)\n",
    "bigrams = utils.top_n_bigrams(BI_FREQ_DIST_FILE, BIGRAM_SIZE)\n",
    "\n",
    "with open(DOC_FREQ_DIST_FILE, 'rb') as pkl_file:\n",
    "        doc_freq = pickle.load(pkl_file)\n",
    "with open(DOC_BI_FREQ_DIST_FILE, 'rb') as pkl_file:\n",
    "        doc_freq_bi = pickle.load(pkl_file)\n",
    "    \n",
    "tweets = process_tweets(TRAIN_PROCESSED_FILE, test_file=False)"
   ]
  },
  {
   "cell_type": "code",
   "execution_count": 306,
   "metadata": {},
   "outputs": [
    {
     "data": {
      "text/plain": [
       "(32367, 50)"
      ]
     },
     "execution_count": 306,
     "metadata": {},
     "output_type": "execute_result"
    }
   ],
   "source": [
    "'''\n",
    "#need full words instead of stemmer\n",
    "tweets_mean_vec=[]\n",
    "for a_t_vec in tweets_vec:\n",
    "    if len(a_t_vec)==0: tweets_mean_vec.append(np.zeros(DIM))\n",
    "    else: tweets_mean_vec.append(np.mean(a_t_vec,axis=0))\n",
    "tweets_mean_vec = np.array(tweets_mean_vec)\n",
    "tweets_mean_vec.shape\n",
    "'''"
   ]
  },
  {
   "cell_type": "code",
   "execution_count": 229,
   "metadata": {},
   "outputs": [
    {
     "name": "stdout",
     "output_type": "stream",
     "text": [
      "26217 2913 3237\n",
      "0.08788190868520426 0.08788190868520426 0.08804448563484708\n"
     ]
    }
   ],
   "source": [
    "X,y = extract_X_y(tweets,feat_type=FEAT_TYPE)\n",
    "#X_r = np.concatenate([X,tweets_mean_vec],axis=1)\n",
    "\n",
    "X_train_val,y_train_val,X_test, y_test = stratifiedSplit(X,y,test_size = 0.1, random_state = random_seed)\n",
    "X_train,y_train,X_val, y_val = stratifiedSplit(X_train_val,y_train_val,test_size = 0.1, random_state = random_seed+1)\n",
    "\n",
    "print(len(y_train),len(y_val),len(y_test))\n",
    "print(np.mean(y_train == 1),np.mean(y_val == 1),np.mean(y_test == 1))\n",
    "\n",
    "#del X,y"
   ]
  },
  {
   "cell_type": "markdown",
   "metadata": {
    "heading_collapsed": true
   },
   "source": [
    "## Trad embedding with title glove embedded"
   ]
  },
  {
   "cell_type": "code",
   "execution_count": 100,
   "metadata": {
    "hidden": true
   },
   "outputs": [],
   "source": [
    "df = pd.read_csv(TRAIN_PROCESSED_FILE,header=None)\n",
    "df.columns=['id','n_likes','text']\n",
    "df.set_index('id')\n",
    "\n",
    "df_titles = pd.read_csv(\"../df-no-comas-title-linear.csv\",header=None)\n",
    "df_titles.columns=['id','n_likes','title']\n",
    "df_titles.set_index('id')\n",
    "\n",
    "title_dict = dict(np.array([df_titles.id.values,df_titles.title.values]).T)\n",
    "\n",
    "titles = [title_dict[idd] for idd in df.id.values]\n",
    "\n",
    "titles_vec = np.array([sentence2vec(title) for title in titles])"
   ]
  },
  {
   "cell_type": "code",
   "execution_count": 116,
   "metadata": {
    "hidden": true
   },
   "outputs": [
    {
     "name": "stdout",
     "output_type": "stream",
     "text": [
      "Generating feature vectors\n",
      "Processing 2938/32367"
     ]
    },
    {
     "name": "stderr",
     "output_type": "stream",
     "text": [
      "IOPub message rate exceeded.\n",
      "The notebook server will temporarily stop sending output\n",
      "to the client in order to avoid crashing it.\n",
      "To change this limit, set the config variable\n",
      "`--NotebookApp.iopub_msg_rate_limit`.\n",
      "\n",
      "Current values:\n",
      "NotebookApp.iopub_msg_rate_limit=1000.0 (msgs/sec)\n",
      "NotebookApp.rate_limit_window=3.0 (secs)\n",
      "\n"
     ]
    },
    {
     "name": "stdout",
     "output_type": "stream",
     "text": [
      "Processing 32367/32367Processing 17647/32367\n",
      "\n",
      "26217 2913 3237\n",
      "0.34683602242819545 0.3467215928595949 0.34692616620327466\n"
     ]
    }
   ],
   "source": [
    "unigrams = utils.top_n_words(FREQ_DIST_FILE, UNIGRAM_SIZE)\n",
    "if USE_BIGRAMS: bigrams = utils.top_n_bigrams(BI_FREQ_DIST_FILE, BIGRAM_SIZE)\n",
    "    \n",
    "tweets = process_tweets(TRAIN_PROCESSED_FILE, test_file=False)\n",
    "X,y = extract_X_y(tweets,feat_type=FEAT_TYPE)\n",
    "\n",
    "#Add the title vectors\n",
    "#X = np.concatenate([X,titles_vec],axis=1)\n",
    "\n",
    "X_train_val,y_train_val,X_test, y_test = stratifiedSplit(X,y,test_size = 0.1, random_state = random_seed)\n",
    "X_train,y_train,X_val, y_val = stratifiedSplit(X_train_val,y_train_val,test_size = 0.1, random_state = random_seed+1)\n",
    "\n",
    "print(len(y_train),len(y_val),len(y_test))\n",
    "print(np.mean(y_train == 1),np.mean(y_val == 1),np.mean(y_test == 1))"
   ]
  },
  {
   "cell_type": "code",
   "execution_count": 117,
   "metadata": {
    "hidden": true
   },
   "outputs": [
    {
     "data": {
      "text/plain": [
       "(32367, 15000)"
      ]
     },
     "execution_count": 117,
     "metadata": {},
     "output_type": "execute_result"
    }
   ],
   "source": [
    "X.shape"
   ]
  },
  {
   "cell_type": "markdown",
   "metadata": {},
   "source": [
    "## Modeling"
   ]
  },
  {
   "cell_type": "code",
   "execution_count": 230,
   "metadata": {},
   "outputs": [
    {
     "data": {
      "text/plain": [
       "(26217, 15000)"
      ]
     },
     "execution_count": 230,
     "metadata": {},
     "output_type": "execute_result"
    }
   ],
   "source": [
    "X_train.shape"
   ]
  },
  {
   "cell_type": "code",
   "execution_count": 7,
   "metadata": {},
   "outputs": [
    {
     "name": "stderr",
     "output_type": "stream",
     "text": [
      "[Parallel(n_jobs=1)]: Using backend SequentialBackend with 1 concurrent workers.\n",
      "/anaconda3/lib/python3.7/site-packages/sklearn/linear_model/logistic.py:947: ConvergenceWarning: lbfgs failed to converge. Increase the number of iterations.\n",
      "  \"of iterations.\", ConvergenceWarning)\n",
      "[Parallel(n_jobs=1)]: Done   1 out of   1 | elapsed:   39.0s finished\n"
     ]
    },
    {
     "data": {
      "text/plain": [
       "LogisticRegression(C=1.0, class_weight=None, dual=False, fit_intercept=True,\n",
       "                   intercept_scaling=1, l1_ratio=None, max_iter=100,\n",
       "                   multi_class='warn', n_jobs=None, penalty='l2',\n",
       "                   random_state=0, solver='lbfgs', tol=0.0001, verbose=1,\n",
       "                   warm_start=False)"
      ]
     },
     "execution_count": 7,
     "metadata": {},
     "output_type": "execute_result"
    }
   ],
   "source": [
    "logistic = LogisticRegression(random_state=0,verbose=1,solver='lbfgs')\n",
    "logistic.fit(X_train, y_train)"
   ]
  },
  {
   "cell_type": "code",
   "execution_count": 8,
   "metadata": {},
   "outputs": [
    {
     "name": "stdout",
     "output_type": "stream",
     "text": [
      "0.9073120494335737\n",
      "logistic has AP: 0.2838100739565732 accuracy 0.9023787457522398\n"
     ]
    },
    {
     "data": {
      "image/png": "[encoded data removed]",
      "text/plain": [
       "<Figure size 432x288 with 1 Axes>"
      ]
     },
     "metadata": {
      "needs_background": "light"
     },
     "output_type": "display_data"
    }
   ],
   "source": [
    "pred_val_logistic = logistic.predict_proba(X_val)[:,1]\n",
    "\n",
    "print(np.mean((pred_val_logistic>0.5) == y_val))\n",
    "\n",
    "y_score_logistic = logistic.predict_proba(X_test)[:,1]\n",
    "evaluate_model_pred(y_test,y_score_logistic,model_name='logistic')"
   ]
  },
  {
   "cell_type": "code",
   "execution_count": 9,
   "metadata": {},
   "outputs": [
    {
     "name": "stderr",
     "output_type": "stream",
     "text": [
      "/anaconda3/lib/python3.7/site-packages/ipykernel_launcher.py:1: RuntimeWarning: Mean of empty slice\n",
      "  \"\"\"Entry point for launching an IPython kernel.\n"
     ]
    }
   ],
   "source": [
    "X_train_mean_excluding_0 = np.nan_to_num(np.nanmean(np.where(np.isclose(X_train,0), np.nan, X_train),axis=0))"
   ]
  },
  {
   "cell_type": "code",
   "execution_count": 10,
   "metadata": {},
   "outputs": [],
   "source": [
    "X_train_std = np.std(X_train,axis=0)"
   ]
  },
  {
   "cell_type": "code",
   "execution_count": 11,
   "metadata": {},
   "outputs": [
    {
     "name": "stdout",
     "output_type": "stream",
     "text": [
      "4.151472190065908 1.1218492535925249\n",
      "-6.535078638289743 -0.995647032903909\n",
      "positive words are:\n",
      "['col', 'img', ('num', 'ngc'), 'unbox', ('mark', 'num'), 'trailblaz', 'crater', 'bidder', 'bhz', 'perplex', 'slim', ('ngc', 'num'), 'thoma', 'rubi', 'aesthet', 'vote', ('best', 'planetari'), 'optec', 'omg', 'tast', 'warehous', 'airplan', 'trim', 'wx', 'lrgb', 'ipolar', ('num', 'owner'), 'facebook', 'platesolv', 'nz', ('see', 'c'), 'nerd', 'baggag', 'hotel', ('mm', 'version'), ('manag', 'get'), 'babi', 'dirti', ('tfov', 'num'), 'hdx', 'absurd', 'wavefront', 'planewav', ('night', 'use'), ('num', 'achromat'), 'fart', ('best', 'num'), 'covert', 'asiair', ('planetari', 'imag'), ('degre', 'tfov'), 'dent', 'tariff', 'jar', 'horsepow', 'fault', ('num', 'pro'), ('use', 'test'), ('mm', 'delo'), 'unitron', 'nah', ('make', 'one'), 'checkout', ('got', 'one'), 'edt', 'meter', 'diffract', 'rgb', 'covet', 'caldwel', 'emil', 'glp', 'pave', ('tri', 'look'), 'megrez', ('caus', 'problem'), ('differ', 'apertur'), ('need', 'know'), ('slide', 'dew'), 'tammi', ('good', 'way'), ('two', 'eye'), ('inch', 'diagon'), 'maker', ('fork', 'mount'), 'began', ('extend', 'num'), 'abb', 'collector', ('scope', 'littl'), ('num', 'first'), ('num', 'fs'), 'segment', ('num', 'er'), ('long', 'exposur'), 'fct', ('manual', 'slew'), ('good', 'c'), 'display', 'master']\n",
      "negative words are:\n",
      "['sfl', ('ht', 'num'), 'ht', ('num', 'ht'), ('img', 'img'), 'democraci', 'afv', 'pafov', 'sip', 'zeq', 'flare', '–', 'xlt', 'uhm', 'horizon', 'fluid', 'hc', 'dioptrx', 'sprocket', ('power', 'switch'), 'co', ('zeq', 'num'), 'barska', 'pao', 'spring', 'chalkboard', 'vane', 'flip', ('product', 'run'), ('num', 'nice'), ('min', 'unguid'), 'paul', 'ssa', 'ku', 'turbul', 'pupil', 'overkil', 'glad', 'modelmak', ('col', 'num'), 'peak', 'discoveri', 'trail', 'fring', ('side', 'num'), 'starsens', 'crayford', 'hardwar', 'helic', 'primarili', 'reduc', 'starwav', 'stalk', ('eq', 'num'), 'question', 'execut', 'log', 'steel', ('num', 'binocular'), 'troubl', 'l', ('realli', 'great'), 'heinz', 'tray', 'frame', 'plug', 'recal', 'bob', ('good', 'optic'), 'june', 'recess', 'oberwerk', 'loa', 'primari', ('mm', 'good'), 'lvw', 'wax', 'widebino', ('point', 'track'), ('limit', 'magnitud'), 'ptv', 'telrad', 'pronto', ('new', 'apm'), ('anoth', 'thread'), 'styrofoam', ('ship', 'num'), 'hst', 'pretend', 'bet', 'u', 'buzz', ('num', 'mm'), ('scope', 'case'), 'gloss', 'fuji', 'whilst', ('larger', 'apertur'), 'drift', ('fluid', 'head')]\n",
      "1.1942340578100705 0.07058355829158605\n",
      "-0.6298676306086232 -0.07961895456149004\n",
      "positive words are:\n",
      "['img', 'mm', ('num', 'ngc'), 'eyepiec', ('ngc', 'num'), 'ed', 'exit', 'wx', 'well', 'x', 'thoma', 'today', 'let', 'edt', '$', 'prism', 'instrument', ('num', 'c'), 'url', 'guid', 'col', 'edg', 'product', ('dew', 'shield'), 'new', 'beauti', 'crater', 'chang', 'glass', 'tonight', 'astronom', 'resolut', 'diffract', 'scope', 'set', 'everi', 'call', 'photo', 'delo', 'tammi', 'color', 'jon', 'extrem', 'gone', ('tfov', 'num'), 'time', 'speed', 'bhz', ('could', 'see'), 'zoom', 'unbox', ('first', 'light'), 'cabl', 'stowaway', 'hous', 'deliv', 'end', 'great', 'perfect', 'degre', 'cost', 'allow', 'higher', ('num', 'year'), ('best', 'num'), 'fun', 'sometim', 'piec', 'forum', 'topic', 'edit', 'market', 'area', 'object', ('mark', 'num'), 'enjoy', 'ago', 'conveni', ('first', 'time'), 'focus', 'reason', ('cem', 'num'), 'session', 'pier', ('get', 'one'), 'peopl', ('num', 'also'), 'sync', 'display', 'asiair', 'replac', 'tast', 'arriv', 'rel', 'trim', 'took', ('num', 'ed'), ('star', 'align'), 'aspher', 'dl']\n",
      "negative words are:\n",
      "[('img', 'img'), ('num', 'mm'), 'thank', 'question', 'zeq', 'c', 'hc', 'paul', 'pupil', 'control', 'reduc', ('zeq', 'num'), 'ht', ('x', 'num'), 'spring', 'starsens', 'primari', 'error', 'horizon', 'barska', 'front', 'though', 'bob', 'glad', 'adapt', ('$', 'num'), 'l', 'ye', ('ht', 'num'), 'sell', 'get', 'co', 'frame', 'hi', 'also', ('num', 'ht'), 'center', 'version', 'rotat', 'flip', 'tri', 'drift', 'bino', 'easili', 'ssa', '–', 'star', 'sip', 'problem', 'connect', 'see', 'flare', 'check', 'gso', 'inch', 'tfov', 'know', 'els', 'mirror', 'might', 'perhap', ('eq', 'num'), 'chri', 'rich', 'offer', 'paracorr', 'celestron', 'plug', 'caus', 'could', ('look', 'good'), 'mead', ('power', 'switch'), 'sure', 'troubl', 'idea', 'bought', 'happen', 'loa', 'normal', 'accessori', 'mention', 'fl', ('ap', 'num'), 'wide', 'posit', 'mag', 'hardwar', 'peak', 'appear', 'custom', 'use', 'stock', 'fluid', 'think', 'second', 'az', 'hd', 'lot', 'recal']\n"
     ]
    }
   ],
   "source": [
    "show_significant_words(logistic.coef_[0]*X_train_mean_excluding_0)\n",
    "show_significant_words(logistic.coef_[0]*X_train_std)"
   ]
  },
  {
   "cell_type": "code",
   "execution_count": 245,
   "metadata": {},
   "outputs": [],
   "source": [
    "model = build_model(lr = 0.005)"
   ]
  },
  {
   "cell_type": "code",
   "execution_count": 246,
   "metadata": {
    "scrolled": true
   },
   "outputs": [
    {
     "name": "stdout",
     "output_type": "stream",
     "text": [
      "Train on 26217 samples, validate on 2913 samples\n",
      "Epoch 1/10\n",
      "26217/26217 [==============================] - 21s 809us/step - loss: 1.2102 - acc: 0.6584 - mean_pred: 0.4652 - val_loss: 0.7152 - val_acc: 0.7192 - val_mean_pred: 0.4497\n",
      "Epoch 2/10\n",
      "26217/26217 [==============================] - 17s 665us/step - loss: 1.0555 - acc: 0.7851 - mean_pred: 0.3943 - val_loss: 0.6067 - val_acc: 0.8205 - val_mean_pred: 0.3644\n",
      "Epoch 3/10\n",
      "26217/26217 [==============================] - 18s 692us/step - loss: 1.0009 - acc: 0.8137 - mean_pred: 0.3671 - val_loss: 0.6315 - val_acc: 0.8136 - val_mean_pred: 0.3640\n",
      "Epoch 4/10\n",
      "26217/26217 [==============================] - 18s 676us/step - loss: 0.9662 - acc: 0.8304 - mean_pred: 0.3512 - val_loss: 0.6297 - val_acc: 0.8191 - val_mean_pred: 0.3530\n",
      "Epoch 5/10\n",
      "26217/26217 [==============================] - 17s 667us/step - loss: 0.9561 - acc: 0.8370 - mean_pred: 0.3410 - val_loss: 0.6464 - val_acc: 0.8181 - val_mean_pred: 0.3502\n",
      "Epoch 6/10\n",
      "26217/26217 [==============================] - 18s 687us/step - loss: 0.9497 - acc: 0.8397 - mean_pred: 0.3348 - val_loss: 0.6416 - val_acc: 0.8205 - val_mean_pred: 0.3429\n",
      "Epoch 7/10\n",
      "26217/26217 [==============================] - 18s 705us/step - loss: 0.9457 - acc: 0.8348 - mean_pred: 0.3351 - val_loss: 0.6361 - val_acc: 0.8294 - val_mean_pred: 0.3322\n",
      "Epoch 8/10\n",
      "26217/26217 [==============================] - 18s 687us/step - loss: 0.9368 - acc: 0.8420 - mean_pred: 0.3264 - val_loss: 0.6403 - val_acc: 0.8249 - val_mean_pred: 0.3283\n",
      "Epoch 9/10\n",
      "26217/26217 [==============================] - 18s 678us/step - loss: 0.9268 - acc: 0.8446 - mean_pred: 0.3234 - val_loss: 0.6416 - val_acc: 0.8297 - val_mean_pred: 0.3224\n",
      "Epoch 10/10\n",
      "26217/26217 [==============================] - 18s 674us/step - loss: 0.9380 - acc: 0.8444 - mean_pred: 0.3206 - val_loss: 0.6222 - val_acc: 0.8414 - val_mean_pred: 0.3016\n"
     ]
    },
    {
     "data": {
      "text/plain": [
       "<keras.callbacks.History at 0x1c0d88cc88>"
      ]
     },
     "execution_count": 246,
     "metadata": {},
     "output_type": "execute_result"
    }
   ],
   "source": [
    "class_weight = {0: 1.,1: 10.}\n",
    "\n",
    "model.fit(X_train, y_train, batch_size=100, \n",
    "          epochs=10, validation_data = (X_val,y_val),class_weight=class_weight, shuffle=True)"
   ]
  },
  {
   "cell_type": "code",
   "execution_count": 208,
   "metadata": {},
   "outputs": [],
   "source": [
    "#model.save('model_rele_n_like_3.h5')"
   ]
  },
  {
   "cell_type": "code",
   "execution_count": 247,
   "metadata": {},
   "outputs": [
    {
     "name": "stdout",
     "output_type": "stream",
     "text": [
      "1 layer has AP: 0.2939569406824772 accuracy 0.7829092086604063\n"
     ]
    },
    {
     "data": {
      "image/png": "[encoded data removed]",
      "text/plain": [
       "<Figure size 432x288 with 1 Axes>"
      ]
     },
     "metadata": {
      "needs_background": "light"
     },
     "output_type": "display_data"
    }
   ],
   "source": [
    "y_model = model.predict(X_test)\n",
    "evaluate_model_pred(y_test,y_model,model_name='1 layer')\n",
    "\n",
    "#show_significant_words(model.layers[1].get_weights()[0].reshape(-1)*X_train_mean_excluding_0)\n",
    "\n",
    "#show_significant_words(model.layers[1].get_weights()[0].reshape(-1)*X_train_std)"
   ]
  },
  {
   "cell_type": "code",
   "execution_count": 248,
   "metadata": {},
   "outputs": [
    {
     "data": {
      "text/plain": [
       "0.8433734939759037"
      ]
     },
     "execution_count": 248,
     "metadata": {},
     "output_type": "execute_result"
    }
   ],
   "source": [
    "np.mean(y_model<0.5)"
   ]
  },
  {
   "cell_type": "code",
   "execution_count": 249,
   "metadata": {},
   "outputs": [],
   "source": [
    "split = 10\n",
    "unit_len = int(len(y_test)/split)\n",
    "precision_at_k_all = []\n",
    "for i in range(split):\n",
    "    precision_at_k_all.append(precision_at_k(y_test[i*unit_len:(i+1)*unit_len],y_model[i*unit_len:(i+1)*unit_len]))\n",
    "precision_at_k_all = np.array(precision_at_k_all)\n",
    "precision_at_k_all.shape\n",
    "\n",
    "pr_at_k = np.mean(precision_at_k_all,axis = 0)"
   ]
  },
  {
   "cell_type": "code",
   "execution_count": 250,
   "metadata": {},
   "outputs": [
    {
     "data": {
      "image/png": "[encoded data removed]",
      "text/plain": [
       "<Figure size 432x288 with 1 Axes>"
      ]
     },
     "metadata": {
      "needs_background": "light"
     },
     "output_type": "display_data"
    }
   ],
   "source": [
    "fig = plt.figure()\n",
    "ax = fig.add_subplot(111)\n",
    "ax.scatter(np.arange(plot_len)+1,pr_at_k[:plot_len],color='limegreen',lw=4)\n",
    "ax.set_ylim([0.5, 0.9])\n",
    "ax.set_xlabel('K',fontsize=18)\n",
    "ax.set_ylabel('Precision',fontsize=18)\n",
    "#ax.set_yticklabels(['{:,.2%}'.format(x) for x in vals])\n",
    "ax.yaxis.set_ticks([0.2,0.4,0.6,0.8])\n",
    "ax.set_yticklabels(['20%','40%','60%','80%'])\n",
    "ax.xaxis.set_ticks([1,5,10,25])\n",
    "ax.set_aspect(aspect=32.9)\n",
    "plt.show()"
   ]
  },
  {
   "cell_type": "code",
   "execution_count": null,
   "metadata": {},
   "outputs": [],
   "source": [
    "ax.plot(fpr, tpr, color='limegreen',lw=lw*1.5, label='Logistic (area: %0.2f)' % roc_auc)\n",
    "ax.plot(fprb, tprb, color='grey',lw=lw/1.5, label='Vader (area: %0.2f)' % roc_aucb)\n",
    "ax.plot([0, 1], [0, 1], color='navy', lw=lw/2, linestyle='--')\n",
    "ax.set_xlim([0.0, 1.0])\n",
    "ax.set_ylim([0.0, 1.01])\n",
    "ax.xaxis.set_ticks([0,1])\n",
    "ax.yaxis.set_ticks([0,1])\n",
    "ax.set_xlabel('False Positive Rate',fontsize=13)\n",
    "ax.set_ylabel('True Positive Rate',fontsize=13)\n",
    "ax.legend(loc=\"lower right\")\n",
    "ax.set_aspect(aspect=0.9)"
   ]
  },
  {
   "cell_type": "code",
   "execution_count": 404,
   "metadata": {},
   "outputs": [],
   "source": [
    "model.save('model_pre_59.h5')"
   ]
  },
  {
   "cell_type": "code",
   "execution_count": 113,
   "metadata": {},
   "outputs": [],
   "source": [
    "model_2 = build_model_2(lr = 1e-3, n1 = 50)"
   ]
  },
  {
   "cell_type": "code",
   "execution_count": 114,
   "metadata": {},
   "outputs": [
    {
     "name": "stdout",
     "output_type": "stream",
     "text": [
      "Train on 26217 samples, validate on 2913 samples\n",
      "Epoch 1/5\n",
      "26217/26217 [==============================] - 20s 762us/step - loss: 0.7835 - acc: 0.6728 - mean_pred: 0.3828 - val_loss: 0.6557 - val_acc: 0.7024 - val_mean_pred: 0.3475\n",
      "Epoch 2/5\n",
      "26217/26217 [==============================] - 19s 707us/step - loss: 0.6538 - acc: 0.7000 - mean_pred: 0.3626 - val_loss: 0.6397 - val_acc: 0.7113 - val_mean_pred: 0.3581\n",
      "Epoch 3/5\n",
      "26217/26217 [==============================] - 19s 739us/step - loss: 0.6450 - acc: 0.7109 - mean_pred: 0.3587 - val_loss: 0.6356 - val_acc: 0.7212 - val_mean_pred: 0.3597\n",
      "Epoch 4/5\n",
      "26217/26217 [==============================] - 18s 704us/step - loss: 0.6407 - acc: 0.7125 - mean_pred: 0.3546 - val_loss: 0.6305 - val_acc: 0.7230 - val_mean_pred: 0.3555\n",
      "Epoch 5/5\n",
      "26217/26217 [==============================] - 18s 693us/step - loss: 0.6362 - acc: 0.7146 - mean_pred: 0.3526 - val_loss: 0.6303 - val_acc: 0.7226 - val_mean_pred: 0.3498\n"
     ]
    },
    {
     "data": {
      "text/plain": [
       "<keras.callbacks.History at 0x1a566fa470>"
      ]
     },
     "execution_count": 114,
     "metadata": {},
     "output_type": "execute_result"
    }
   ],
   "source": [
    "model_2.fit(X_train, y_train, batch_size=300, epochs=5, validation_data = (X_val,y_val), shuffle=True)"
   ]
  },
  {
   "cell_type": "code",
   "execution_count": 115,
   "metadata": {},
   "outputs": [
    {
     "name": "stdout",
     "output_type": "stream",
     "text": [
      "2-layer has AP: 0.6493225774080131 accuracy 0.5987862955827492\n"
     ]
    },
    {
     "data": {
      "image/png": "[encoded data removed]",
      "text/plain": [
       "<Figure size 432x288 with 1 Axes>"
      ]
     },
     "metadata": {
      "needs_background": "light"
     },
     "output_type": "display_data"
    }
   ],
   "source": [
    "y_model_2 = model_2.predict_proba(X_test)\n",
    "evaluate_model_pred(y_test,y_model_2,model_name='2-layer')"
   ]
  },
  {
   "cell_type": "code",
   "execution_count": 415,
   "metadata": {},
   "outputs": [],
   "source": [
    "model_2.save('model_2_pre.h5')"
   ]
  },
  {
   "cell_type": "code",
   "execution_count": 328,
   "metadata": {},
   "outputs": [],
   "source": [
    "model_3 = build_model_3(lr = 0.001, n1 = 100, n2 = 30)"
   ]
  },
  {
   "cell_type": "code",
   "execution_count": 344,
   "metadata": {},
   "outputs": [
    {
     "name": "stdout",
     "output_type": "stream",
     "text": [
      "Train on 26217 samples, validate on 2913 samples\n",
      "Epoch 1/2\n",
      "26217/26217 [==============================] - 54s 2ms/step - loss: 0.5166 - acc: 0.9014 - mean_pred: 0.3448 - val_loss: 1.0103 - val_acc: 0.6728 - val_mean_pred: 0.3341\n",
      "Epoch 2/2\n",
      "26217/26217 [==============================] - 52s 2ms/step - loss: 0.5077 - acc: 0.9093 - mean_pred: 0.3455 - val_loss: 1.0100 - val_acc: 0.6804 - val_mean_pred: 0.3353\n"
     ]
    },
    {
     "data": {
      "text/plain": [
       "<keras.callbacks.History at 0x1aa1c1a320>"
      ]
     },
     "execution_count": 344,
     "metadata": {},
     "output_type": "execute_result"
    }
   ],
   "source": [
    "model_3.fit(X_train, y_train, batch_size=400, epochs=2, validation_data = (X_val,y_val), shuffle=True)"
   ]
  },
  {
   "cell_type": "code",
   "execution_count": 345,
   "metadata": {},
   "outputs": [
    {
     "name": "stdout",
     "output_type": "stream",
     "text": [
      "3-layer has AP: 0.5725629347421588 accuracy 0.5659678709133247\n"
     ]
    },
    {
     "data": {
      "image/png": "[encoded data removed]",
      "text/plain": [
       "<Figure size 432x288 with 1 Axes>"
      ]
     },
     "metadata": {
      "needs_background": "light"
     },
     "output_type": "display_data"
    }
   ],
   "source": [
    "y_model_3 = model_3.predict_proba(X_test)\n",
    "evaluate_model_pred(y_test,y_model_3,model_name='3-layer')"
   ]
  },
  {
   "cell_type": "code",
   "execution_count": 347,
   "metadata": {},
   "outputs": [
    {
     "data": {
      "image/png": "[encoded data removed]",
      "text/plain": [
       "<Figure size 432x288 with 1 Axes>"
      ]
     },
     "metadata": {
      "needs_background": "light"
     },
     "output_type": "display_data"
    }
   ],
   "source": [
    "precision_recall(y_test,y_score_logistic)\n",
    "precision_recall(y_test,y_model,color='r')\n",
    "precision_recall(y_test,y_model_2,color='g')\n",
    "precision_recall(y_test,y_model_3,color='y')\n",
    "plt.show()"
   ]
  },
  {
   "cell_type": "code",
   "execution_count": 332,
   "metadata": {},
   "outputs": [],
   "source": [
    "model_4 = build_model_4(lr = 0.001, n1 = 70, n2=100, n3 = 30)"
   ]
  },
  {
   "cell_type": "code",
   "execution_count": 358,
   "metadata": {},
   "outputs": [
    {
     "name": "stdout",
     "output_type": "stream",
     "text": [
      "Train on 26217 samples, validate on 2913 samples\n",
      "Epoch 1/5\n",
      "26217/26217 [==============================] - 54s 2ms/step - loss: 0.8216 - acc: 0.7224 - mean_pred: 0.3503 - val_loss: 0.8658 - val_acc: 0.6996 - val_mean_pred: 0.3499\n",
      "Epoch 2/5\n",
      "26217/26217 [==============================] - 51s 2ms/step - loss: 0.8318 - acc: 0.7290 - mean_pred: 0.3449 - val_loss: 0.8833 - val_acc: 0.6900 - val_mean_pred: 0.3854\n",
      "Epoch 3/5\n",
      "26217/26217 [==============================] - 51s 2ms/step - loss: 0.8306 - acc: 0.7333 - mean_pred: 0.3508 - val_loss: 0.8948 - val_acc: 0.6876 - val_mean_pred: 0.3556\n",
      "Epoch 4/5\n",
      "26217/26217 [==============================] - 62s 2ms/step - loss: 0.8235 - acc: 0.7454 - mean_pred: 0.3454 - val_loss: 0.8953 - val_acc: 0.6914 - val_mean_pred: 0.3694\n",
      "Epoch 5/5\n",
      "26217/26217 [==============================] - 64s 2ms/step - loss: 0.8259 - acc: 0.7462 - mean_pred: 0.3505 - val_loss: 0.8952 - val_acc: 0.6955 - val_mean_pred: 0.3335\n"
     ]
    },
    {
     "data": {
      "text/plain": [
       "<keras.callbacks.History at 0x1aaa61a5f8>"
      ]
     },
     "execution_count": 358,
     "metadata": {},
     "output_type": "execute_result"
    }
   ],
   "source": [
    "model_4.fit(X_train, y_train, batch_size=400, epochs=5, validation_data = (X_val,y_val), shuffle=True)"
   ]
  },
  {
   "cell_type": "code",
   "execution_count": 359,
   "metadata": {},
   "outputs": [
    {
     "name": "stdout",
     "output_type": "stream",
     "text": [
      "3-layer has AP: 0.5725629347421588 accuracy 0.5659678709133247\n"
     ]
    },
    {
     "data": {
      "image/png": "[encoded data removed]",
      "text/plain": [
       "<Figure size 432x288 with 1 Axes>"
      ]
     },
     "metadata": {
      "needs_background": "light"
     },
     "output_type": "display_data"
    }
   ],
   "source": [
    "y_model_4 = model_3.predict_proba(X_test)\n",
    "evaluate_model_pred(y_test,y_model_4,model_name='4-layer')"
   ]
  },
  {
   "cell_type": "code",
   "execution_count": 360,
   "metadata": {},
   "outputs": [],
   "source": [
    "model.save('model_pre.h5')\n",
    "model_2.save('model_2_pre.h5')\n",
    "model_3.save('model_3_pre.h5')\n",
    "model_4.save('model_4_pre.h5')"
   ]
  },
  {
   "cell_type": "code",
   "execution_count": 354,
   "metadata": {},
   "outputs": [
    {
     "name": "stdout",
     "output_type": "stream",
     "text": [
      "(['astigmatism'], [])\n",
      "0.3578456\n",
      "pentax xw pairs work fine for me in every bt i've owned including the big bt100-45 from obie and the semi-apo and apo (both 45 and 90) apm binos. please note that at less than f/6, the xw 20 and 14's show some field curvature to my eyes. the outer edge and center can't be focused together. the xw10's are superb.\n",
      "0.66475457\n",
      "thanks for the post/review and congrats on the new instrument, rick. this beast sounds really incredible. i’m amazed at the power you guys are using it at. between the higher powers and the dual eyed perspective these instruments are really not giving much of anything up compared to more traditional planetary instruments. on the other hand, the light grasp and low powered sweeping are light years beyond what most other instruments will provide.\n",
      "0.22553484\n"
     ]
    }
   ],
   "source": [
    "def get_feature_vector(tweet):\n",
    "    uni_feature_vector = []\n",
    "    bi_feature_vector = []\n",
    "    words = tweet.split()\n",
    "    for i in range(len(words) - 1):\n",
    "        word = words[i]\n",
    "        next_word = words[i + 1]\n",
    "        if unigrams.get(word):\n",
    "            uni_feature_vector.append(word)\n",
    "        if USE_BIGRAMS:\n",
    "            if bigrams.get((word, next_word)):\n",
    "                bi_feature_vector.append((word, next_word))\n",
    "    if len(words) >= 1:\n",
    "        if unigrams.get(words[-1]):\n",
    "            uni_feature_vector.append(words[-1])\n",
    "    return uni_feature_vector, bi_feature_vector\n",
    "\n",
    "def sentence_to_vec(sentence):\n",
    "    #unigrams and bigrams are externally defined dictionaries\n",
    "    s_words,s_bigrams = get_feature_vector(sentence)\n",
    "    features = np.zeros(VOCAB_SIZE)\n",
    "    for word in s_words:\n",
    "        idx = unigrams.get(word)\n",
    "        if idx: features[idx] += 1\n",
    "    for bigr in s_bigrams:\n",
    "        idx = bigrams.get(word)\n",
    "        if idx: features[UNIGRAM_SIZE + idx] += 1\n",
    "    return features\n",
    "\n",
    "def model_prediction(model,sentence):\n",
    "    #from sentence to result\n",
    "    vec = sentence_to_vec(sentence)\n",
    "    return model.predict(vec.reshape(1,-1))[0][0]\n",
    "\n",
    "sentence = 'astigmatism'\n",
    "print(get_feature_vector(sentence))\n",
    "print(model_prediction(model_3,sentence))\n",
    "\n",
    "sentence = \"Pentax XW pairs work fine for me in every BT I've owned including the big BT100-45 from Obie and the semi-APO and APO (both 45 and 90) APM binos. Please note that at less than f/6, the XW 20 and 14's show some field curvature to my eyes. The outer edge and center can't be focused together. The XW10's are superb.\"\n",
    "sentence = sentence.lower()\n",
    "print(sentence)\n",
    "#print(get_feature_vector(sentence))\n",
    "print(model_prediction(model_3,sentence))\n",
    "\n",
    "sentence = \"Thanks for the post/review and congrats on the new instrument, Rick. This beast sounds really incredible. I’m amazed at the power you guys are using it at. Between the higher powers and the dual eyed perspective these instruments are really not giving much of anything up compared to more traditional planetary instruments. On the other hand, the light grasp and low powered sweeping are light years beyond what most other instruments will provide.\"\n",
    "sentence = sentence.lower()\n",
    "print(sentence)\n",
    "#print(get_feature_vector(sentence))\n",
    "print(model_prediction(model_3,sentence))"
   ]
  },
  {
   "cell_type": "markdown",
   "metadata": {},
   "source": [
    "## External Validation"
   ]
  },
  {
   "cell_type": "code",
   "execution_count": 313,
   "metadata": {},
   "outputs": [],
   "source": [
    "df = pd.read_csv('../data_df_prod_has_likes.csv')"
   ]
  },
  {
   "cell_type": "code",
   "execution_count": 317,
   "metadata": {},
   "outputs": [
    {
     "data": {
      "image/png": "[encoded data removed]",
      "text/plain": [
       "<Figure size 432x288 with 1 Axes>"
      ]
     },
     "metadata": {
      "needs_background": "light"
     },
     "output_type": "display_data"
    },
    {
     "data": {
      "text/plain": [
       "<matplotlib.collections.PathCollection at 0x1a4a186240>"
      ]
     },
     "execution_count": 317,
     "metadata": {},
     "output_type": "execute_result"
    },
    {
     "data": {
      "image/png": "[encoded data removed]",
      "text/plain": [
       "<Figure size 432x288 with 1 Axes>"
      ]
     },
     "metadata": {
      "needs_background": "light"
     },
     "output_type": "display_data"
    }
   ],
   "source": [
    "bins=  [-0.1,0.9,1.9,2.9,3.9,5.9,100]\n",
    "\n",
    "posts_grouped_by_likes = df.groupby(pd.cut(df[\"n_likes\"],bins)).mean().n_posts_by_author.values\n",
    "plt.scatter(np.arange(len(bins)-1),posts_grouped_by_likes)\n",
    "plt.show()\n",
    "\n",
    "posts_grouped_by_likes = df.groupby(pd.cut(df[\"n_likes\"],bins)).count().n_posts_by_author.values\n",
    "plt.scatter(np.arange(len(bins)-1),np.log(posts_grouped_by_likes))"
   ]
  },
  {
   "cell_type": "code",
   "execution_count": 116,
   "metadata": {},
   "outputs": [
    {
     "data": {
      "text/plain": [
       "(32367, 2)"
      ]
     },
     "execution_count": 116,
     "metadata": {},
     "output_type": "execute_result"
    }
   ],
   "source": [
    "likes_vs_n_posts = np.array([df.n_likes,df.n_posts_by_author.values]).T"
   ]
  },
  {
   "cell_type": "code",
   "execution_count": 221,
   "metadata": {},
   "outputs": [
    {
     "data": {
      "text/plain": [
       "(32367,)"
      ]
     },
     "execution_count": 221,
     "metadata": {},
     "output_type": "execute_result"
    }
   ],
   "source": [
    "n_posts_int = df.n_posts_by_author.values\n",
    "n_posts_int.shape"
   ]
  },
  {
   "cell_type": "code",
   "execution_count": 318,
   "metadata": {},
   "outputs": [
    {
     "name": "stdout",
     "output_type": "stream",
     "text": [
      "Generating feature vectors\n",
      "Processing 24584/24584Processing 24131/24584\n",
      "\n"
     ]
    }
   ],
   "source": [
    "validation_tweets = process_tweets(EXTERNAL_VAL_FILE, test_file=False)\n",
    "X_ext,n_posts_ext = extract_X_y(validation_tweets,feat_type=FEAT_TYPE)"
   ]
  },
  {
   "cell_type": "code",
   "execution_count": 319,
   "metadata": {},
   "outputs": [],
   "source": [
    "y_pred_ext = model.predict(X_ext).reshape(-1)\n",
    "y_pred_int = model.predict(X).reshape(-1)"
   ]
  },
  {
   "cell_type": "code",
   "execution_count": 320,
   "metadata": {},
   "outputs": [],
   "source": [
    "df_ext = pd.DataFrame()\n",
    "df_ext['n_posts_by_author']= n_posts_ext#n_posts_int#\n",
    "df_ext['y_pred_ext']= y_pred_ext#y_pred_int#"
   ]
  },
  {
   "cell_type": "code",
   "execution_count": 322,
   "metadata": {},
   "outputs": [
    {
     "data": {
      "text/plain": [
       "count     24584.00000\n",
       "mean       6768.53608\n",
       "std       11824.95723\n",
       "min           1.00000\n",
       "25%         979.00000\n",
       "50%        2806.00000\n",
       "75%        7388.00000\n",
       "max      115953.00000\n",
       "Name: n_posts_by_author, dtype: float64"
      ]
     },
     "execution_count": 322,
     "metadata": {},
     "output_type": "execute_result"
    }
   ],
   "source": [
    "df_ext['n_posts_by_author'].describe()"
   ]
  },
  {
   "cell_type": "code",
   "execution_count": 324,
   "metadata": {},
   "outputs": [
    {
     "data": {
      "text/plain": [
       "1390"
      ]
     },
     "execution_count": 324,
     "metadata": {},
     "output_type": "execute_result"
    }
   ],
   "source": [
    "len(df_ext['n_posts_by_author'].unique())"
   ]
  },
  {
   "cell_type": "code",
   "execution_count": 335,
   "metadata": {},
   "outputs": [
    {
     "data": {
      "image/png": "[encoded data removed]",
      "text/plain": [
       "<Figure size 432x288 with 1 Axes>"
      ]
     },
     "metadata": {
      "needs_background": "light"
     },
     "output_type": "display_data"
    },
    {
     "data": {
      "text/plain": [
       "<matplotlib.collections.PathCollection at 0x1c05a062b0>"
      ]
     },
     "execution_count": 335,
     "metadata": {},
     "output_type": "execute_result"
    },
    {
     "data": {
      "image/png": "[encoded data removed]",
      "text/plain": [
       "<Figure size 432x288 with 1 Axes>"
      ]
     },
     "metadata": {
      "needs_background": "light"
     },
     "output_type": "display_data"
    }
   ],
   "source": [
    "bins=  [0,0.06,0.15,0.25,0.35,0.5,0.65,0.94,0.98,1.01]\n",
    "\n",
    "posts_grouped_by_likes = df_ext.groupby(pd.cut(df_ext[\"y_pred_ext\"],bins)).mean().n_posts_by_author.values\n",
    "plt.scatter(np.arange(len(bins)-1),posts_grouped_by_likes)\n",
    "plt.show()\n",
    "\n",
    "posts_grouped_by_likes = df_ext.groupby(pd.cut(df_ext[\"y_pred_ext\"],bins)).count().n_posts_by_author.values\n",
    "plt.scatter(np.arange(len(bins)-1),posts_grouped_by_likes)"
   ]
  },
  {
   "cell_type": "code",
   "execution_count": 355,
   "metadata": {},
   "outputs": [
    {
     "data": {
      "text/plain": [
       "<matplotlib.collections.PathCollection at 0x1c05a222b0>"
      ]
     },
     "execution_count": 355,
     "metadata": {},
     "output_type": "execute_result"
    },
    {
     "data": {
      "image/png": "[encoded data removed]",
      "text/plain": [
       "<Figure size 432x288 with 1 Axes>"
      ]
     },
     "metadata": {
      "needs_background": "light"
     },
     "output_type": "display_data"
    }
   ],
   "source": [
    "n_posts_ordered = df_ext.sort_values('y_pred_ext',ascending=False).n_posts_by_author.values\n",
    "total_len = len(n_posts_ordered)\n",
    "percentages = [0.01,0.03,0.1,0.25,0.5,0.75,1]\n",
    "\n",
    "res = [np.mean(n_posts_ordered[:int(total_len*percentage)]) for percentage in percentages]\n",
    "\n",
    "plt.scatter(np.arange(len(res)),res)"
   ]
  },
  {
   "cell_type": "code",
   "execution_count": 374,
   "metadata": {},
   "outputs": [
    {
     "data": {
      "image/png": "[encoded data removed]",
      "text/plain": [
       "<Figure size 432x288 with 1 Axes>"
      ]
     },
     "metadata": {
      "needs_background": "light"
     },
     "output_type": "display_data"
    }
   ],
   "source": [
    "fig = plt.figure()\n",
    "ax = fig.add_subplot(111)\n",
    "ax.scatter(np.arange(len(res)),res,color='limegreen',lw=5)\n",
    "#ax.set_ylim([0.5, 0.9])\n",
    "ax.set_xlabel('Top % posts in relevance scores',fontsize=14)\n",
    "ax.set_ylabel('Author\\'s average number of posts',fontsize=14)\n",
    "#ax.set_yticklabels(['{:,.2%}'.format(x) for x in vals])\n",
    "#ax.yaxis.set_ticks([0.2,0.4,0.6,0.8])\n",
    "#ax.set_yticklabels(['1%','3%','10%','25%','50%','75%','100%'])\n",
    "#ax.xaxis.set_ticks([1,5,10,25])\n",
    "ax.set_xticklabels(['','1%','3%','10%','25%','50%','75%','100%'])\n",
    "for tick in ax.xaxis.get_major_ticks(): tick.label.set_fontsize(12) \n",
    "ax.set_aspect(aspect=0.0014)\n",
    "plt.show()"
   ]
  },
  {
   "cell_type": "code",
   "execution_count": null,
   "metadata": {},
   "outputs": [],
   "source": []
  }
 ],
 "metadata": {
  "kernelspec": {
   "display_name": "Python 3",
   "language": "python",
   "name": "python3"
  },
  "language_info": {
   "codemirror_mode": {
    "name": "ipython",
    "version": 3
   },
   "file_extension": ".py",
   "mimetype": "text/x-python",
   "name": "python",
   "nbconvert_exporter": "python",
   "pygments_lexer": "ipython3",
   "version": "3.7.3"
  }
 },
 "nbformat": 4,
 "nbformat_minor": 2
}
