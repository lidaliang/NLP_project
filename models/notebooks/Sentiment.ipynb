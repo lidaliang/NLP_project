{
 "cells": [
  {
   "cell_type": "markdown",
   "metadata": {},
   "source": [
    "## Definitions"
   ]
  },
  {
   "cell_type": "code",
   "execution_count": 3,
   "metadata": {},
   "outputs": [
    {
     "name": "stderr",
     "output_type": "stream",
     "text": [
      "Using TensorFlow backend.\n"
     ]
    }
   ],
   "source": [
    "from keras.models import Sequential, load_model\n",
    "from keras.layers import Dense,Dropout\n",
    "from keras.regularizers import l1,l2,l1_l2\n",
    "from keras.optimizers import Adam\n",
    "import keras.backend as K\n",
    "import sys\n",
    "import utils\n",
    "import random\n",
    "import numpy as np\n",
    "import pandas as pd\n",
    "import pickle\n",
    "\n",
    "from sklearn.linear_model import LogisticRegression\n",
    "from sklearn.ensemble import RandomForestClassifier\n",
    "from sklearn.model_selection import StratifiedShuffleSplit\n",
    "from keras.callbacks import EarlyStopping, ModelCheckpoint\n",
    "\n",
    "from sklearn.metrics import precision_recall_curve\n",
    "from sklearn.metrics import roc_curve,auc\n",
    "import matplotlib.pyplot as plt\n",
    "from inspect import signature\n",
    "\n",
    "from sklearn.metrics import average_precision_score\n",
    "\n",
    "from nltk.sentiment.vader import SentimentIntensityAnalyzer\n",
    "\n",
    "# Performs classification using Logistic Regression.\n",
    "\n",
    "FREQ_DIST_FILE = '../../data/df-no-comas-service-linear-freqdist.pkl'\n",
    "BI_FREQ_DIST_FILE = '../../data/df-no-comas-service-linear-freqdist-bi.pkl'\n",
    "DOC_FREQ_DIST_FILE = '../../data/df-no-comas-service-linear-freqdist-doc.pkl'\n",
    "DOC_BI_FREQ_DIST_FILE = '../../data/df-no-comas-service-linear-freqdist-doc-bi.pkl'\n",
    "TRAIN_PROCESSED_FILE = '../../data/df_hand-service-linear.csv'\n",
    "\n",
    "FREQ_DIST_FILE_GLOVE = '../../data/df-no-comas-original-linear-freqdist.pkl'\n",
    "BI_FREQ_DIST_FILE_GLOVE = '../../data/df-no-comas-original-linear-freqdist-bi.pkl'\n",
    "TRAIN_PROCESSED_FILE_GLOVE = '../../data/df_hand-original-linear.csv'\n",
    "GLOVE_FILE = '../../data/glove.6B.50d.txt'\n",
    "DIM=50\n",
    "\n",
    "TRAIN = True\n",
    "UNIGRAM_SIZE = 10000\n",
    "VOCAB_SIZE = UNIGRAM_SIZE\n",
    "USE_BIGRAMS = True\n",
    "if USE_BIGRAMS:\n",
    "    BIGRAM_SIZE = 5000\n",
    "    VOCAB_SIZE = UNIGRAM_SIZE + BIGRAM_SIZE\n",
    "FEAT_TYPE = 'naive_count'#'tfidf'#\n",
    "\n",
    "\n",
    "def get_feature_vector(tweet):\n",
    "    uni_feature_vector = []\n",
    "    bi_feature_vector = []\n",
    "    words = tweet.split()\n",
    "    for i in range(len(words) - 1):\n",
    "        word = words[i]\n",
    "        next_word = words[i + 1]\n",
    "        if unigrams.get(word):\n",
    "            uni_feature_vector.append(word)\n",
    "        if USE_BIGRAMS:\n",
    "            if bigrams.get((word, next_word)):\n",
    "                bi_feature_vector.append((word, next_word))\n",
    "    if len(words) >= 1:\n",
    "        if unigrams.get(words[-1]):\n",
    "            uni_feature_vector.append(words[-1])\n",
    "    return uni_feature_vector, bi_feature_vector\n",
    "\n",
    "def inverse_doc_freq(querry_res):\n",
    "    if querry_res == None: return np.log(1e5)\n",
    "    else: return np.log(1e5/(1+querry_res)) \n",
    "\n",
    "def extract_X_y(tweets,feat_type=FEAT_TYPE):\n",
    "    #Only one iteration\n",
    "    if(FEAT_TYPE == 'naive_count'):\n",
    "        for X, y in extract_features(tweets,feat_type=feat_type, batch_size=len(tweets), test_file=False):\n",
    "            return X, y\n",
    "    elif(FEAT_TYPE == 'tfidf'):\n",
    "        features = np.zeros((len(tweets), VOCAB_SIZE))\n",
    "        labels = np.zeros(len(tweets))\n",
    "        for j, tweet in enumerate(tweets):\n",
    "            tweet_words = tweet[2][0]\n",
    "            tweet_bigrams = tweet[2][1]\n",
    "            labels[j] = tweet[1]\n",
    "            for word in tweet_words:\n",
    "                idx = unigrams.get(word)\n",
    "                if idx:\n",
    "                    features[j, idx] += inverse_doc_freq(doc_freq.get(word))/(1+len(tweet_words))#np.log(1+len(tweet_words))\n",
    "                \n",
    "            for bigram in tweet_bigrams:\n",
    "                idx = bigrams.get(bigram)\n",
    "                if idx:\n",
    "                    features[j, UNIGRAM_SIZE + idx] += inverse_doc_freq(doc_freq.get(bigram))/(1+len(tweet_bigrams))#np.log(1+len(tweet_bigrams))\n",
    "        return features, labels\n",
    "\n",
    "def extract_features(tweets, batch_size=500, test_file=True, feat_type='presence'):\n",
    "    num_batches = int(np.ceil(len(tweets) / float(batch_size)))\n",
    "    for i in range(num_batches):\n",
    "        batch = tweets[i * batch_size: (i + 1) * batch_size]\n",
    "        features = np.zeros((batch_size, VOCAB_SIZE))\n",
    "        labels = np.zeros(batch_size)\n",
    "        for j, tweet in enumerate(batch):\n",
    "            if test_file:\n",
    "                tweet_words = tweet[1][0]\n",
    "                tweet_bigrams = tweet[1][1]\n",
    "            else:\n",
    "                tweet_words = tweet[2][0]\n",
    "                tweet_bigrams = tweet[2][1]\n",
    "                labels[j] = tweet[1]\n",
    "            if feat_type == 'presence':\n",
    "                tweet_words = set(tweet_words)\n",
    "                tweet_bigrams = set(tweet_bigrams)\n",
    "            for word in tweet_words:\n",
    "                idx = unigrams.get(word)\n",
    "                if idx:\n",
    "                    features[j, idx] += 1\n",
    "            if USE_BIGRAMS:\n",
    "                for bigram in tweet_bigrams:\n",
    "                    idx = bigrams.get(bigram)\n",
    "                    if idx:\n",
    "                        features[j, UNIGRAM_SIZE + idx] += 1\n",
    "        yield features, labels\n",
    "\n",
    "\n",
    "def process_tweets(csv_file, test_file=True):\n",
    "    tweets = []\n",
    "    print ('Generating feature vectors')\n",
    "    with open(csv_file, 'r') as csv:\n",
    "        lines = csv.readlines()\n",
    "        total = len(lines)\n",
    "        for i, line in enumerate(lines):\n",
    "            if test_file:\n",
    "                tweet_id, dummy, tweet = line.split(',')\n",
    "            else:\n",
    "                tweet_id, sentiment, tweet = line.split(',')\n",
    "            feature_vector = get_feature_vector(tweet)\n",
    "            if test_file:\n",
    "                tweets.append((tweet_id, feature_vector))\n",
    "            else:\n",
    "                tweets.append((tweet_id, int(sentiment), feature_vector))\n",
    "            utils.write_status(i + 1, total)\n",
    "    print ('\\n')\n",
    "    return tweets\n",
    "\n",
    "\n",
    "def build_model(lr=0.001,dropout_rate=0.4,l1reg=0.001,l2reg=0.001):\n",
    "    model = Sequential()\n",
    "    model.add(Dropout(dropout_rate))\n",
    "    model.add(Dense(1, input_dim=VOCAB_SIZE, activation='sigmoid',kernel_regularizer=l1_l2(l1reg,l2reg)))\n",
    "    model.compile(loss='binary_crossentropy',\n",
    "                  optimizer=Adam(lr=lr), metrics=['accuracy',mean_pred])\n",
    "    return model\n",
    "\n",
    "def build_model_2(lr = 0.001, n1= 100):\n",
    "    model = Sequential()\n",
    "    model.add(Dropout(0.3))\n",
    "    model.add(Dense(n1, input_dim=VOCAB_SIZE, activation='relu',kernel_regularizer=l1_l2(1e-3,1e-2)))\n",
    "    model.add(Dropout(0.4))\n",
    "    model.add(Dense(1, activation='sigmoid',kernel_regularizer=l1_l2(1e-2,1e-3)))\n",
    "    model.compile(loss='binary_crossentropy',\n",
    "                  optimizer=Adam(lr=lr), metrics=['accuracy',mean_pred])\n",
    "    return model\n",
    "\n",
    "def build_model_3(lr = 0.001, n1= 100, n2 = 30):\n",
    "    model = Sequential()\n",
    "    model.add(Dropout(0.4))\n",
    "    model.add(Dense(n1, input_dim=VOCAB_SIZE, activation='relu',kernel_regularizer=l1(1e-4)))\n",
    "    model.add(Dropout(0.5))\n",
    "    model.add(Dense(n2, input_dim=VOCAB_SIZE, activation='relu',kernel_regularizer=l1(1e-4)))\n",
    "    model.add(Dropout(0.5))\n",
    "    model.add(Dense(1, activation='sigmoid',kernel_regularizer=l1(1e-5)))\n",
    "    model.compile(loss='binary_crossentropy',\n",
    "                  optimizer=Adam(lr=lr), metrics=['accuracy',mean_pred])\n",
    "    return model\n",
    "\n",
    "#def evaluate_model(model, val_tweets):\n",
    "#    correct, total = 0, len(val_tweets)\n",
    "#    for val_set_X, val_set_y in extract_features(val_tweets, feat_type=FEAT_TYPE, test_file=False):\n",
    "#        prediction = model.predict_on_batch(val_set_X)\n",
    "#        prediction = np.round(prediction)\n",
    "#        correct += np.sum(prediction == val_set_y[:, None])\n",
    "#    return float(correct) / total\n",
    "\n",
    "def evaluate_model(model, val_tweets):\n",
    "    correct, total = 0, len(val_tweets)\n",
    "    for val_set_X, val_set_y in extract_features(val_tweets,batch_size=total, feat_type=FEAT_TYPE, test_file=False):\n",
    "        prediction = model.predict_on_batch(val_set_X)\n",
    "        prediction = np.round(prediction)\n",
    "        correct += np.sum(prediction == val_set_y[:, None])\n",
    "\n",
    "        pred = prediction\n",
    "        truth = val_set_y\n",
    "\n",
    "    save_to_file = open('compare-bi.csv', 'a')\n",
    "    save_to_file.write('pred,truth\\n')\n",
    "    for i in range(len(pred)):\n",
    "        save_to_file.write('%d,%d\\n' % (pred[i],truth[i]))\n",
    "        \n",
    "    return float(correct) / total\n",
    "\n",
    "\n",
    "def mean_pred(y_true, y_pred):\n",
    "    return K.mean(y_pred)\n",
    "\n",
    "\n",
    "\n",
    "    \"\"\"\n",
    "    for j in range(nb_epochs):\n",
    "        i = 1\n",
    "        for training_set_X, training_set_y in extract_features(train_tweets, feat_type=FEAT_TYPE, batch_size=batch_size, test_file=False):\n",
    "            o = model.train_on_batch(training_set_X, training_set_y)\n",
    "            sys.stdout.write('\\rIteration %d/%d, loss:%.4f, acc:%.4f, mean_pred:%.4f' %\n",
    "                             (i, n_train_batches, o[0], o[1],o[2]))\n",
    "            sys.stdout.flush()\n",
    "            i += 1\n",
    "        val_acc = evaluate_model(model, val_tweets)\n",
    "        print ('\\nEpoch: %d, val_acc:%.4f' % (j + 1, val_acc))\n",
    "        random.shuffle(train_tweets)\n",
    "        if val_acc > best_val_acc:\n",
    "            print ('Accuracy improved from %.4f to %.4f, saving model' % (best_val_acc, val_acc))\n",
    "            best_val_acc = val_acc\n",
    "            model.save('best_model.h5')\n",
    "    print ('Testing')\n",
    "    del train_tweets\n",
    "    del model\n",
    "\n",
    "    model = load_model('best_logistic_model.h5')\n",
    "    test_tweets = process_tweets(TEST_PROCESSED_FILE, test_file=True)\n",
    "    n_test_batches = int(np.ceil(len(test_tweets) / float(batch_size)))\n",
    "    predictions = np.array([])\n",
    "    print ('Predicting batches')\n",
    "    i = 1\n",
    "    for test_set_X, _ in extract_features(test_tweets, feat_type=FEAT_TYPE, batch_size=batch_size, test_file=True):\n",
    "        prediction = np.round(model.predict_on_batch(test_set_X).flatten())\n",
    "        predictions = np.concatenate((predictions, prediction))\n",
    "        utils.write_status(i, n_test_batches)\n",
    "        i += 1\n",
    "    predictions = [(str(j), int(predictions[j]))\n",
    "                   for j in range(len(test_tweets))]\n",
    "    utils.save_results_to_csv(predictions, 'logistic.csv')\n",
    "    print ('\\nSaved to logistic.csv')\n",
    "    \"\"\"\n",
    "def shuffle_split_data(tweets, validation_split=0.1,random_seed = 42):\n",
    "    \"\"\"Split the data into training and validation sets\n",
    "\n",
    "    Args:\n",
    "        tweets (list): list of tuples\n",
    "        validation_split (float, optional): validation split %\n",
    "\n",
    "    Returns:\n",
    "        (list, list): training-set, validation-set\n",
    "    \"\"\"\n",
    "    index = int((1 - validation_split) * len(tweets))\n",
    "    random.Random(random_seed).shuffle(tweets)\n",
    "    return tweets[:index], tweets[index:]\n",
    "\n",
    "#def extract_X_y(tweets,feat_type=FEAT_TYPE):\n",
    "#    #Only one iteration\n",
    "#    for X, y in extract_features(tweets,feat_type=feat_type, batch_size=len(tweets), test_file=False):\n",
    "#        return X, y\n",
    "    \n",
    "def stratifiedSplit(X,y,test_size=0.1,random_state=42):\n",
    "    sss = StratifiedShuffleSplit(test_size=test_size,random_state=random_state,n_splits = 1)\n",
    "    sss.get_n_splits(X,y)\n",
    "    \n",
    "    for train_id, test_id in sss.split(X, y):\n",
    "        X_train_val,y_train_val = X[train_id], y[train_id]\n",
    "        X_test,y_test = X[test_id], y[test_id]\n",
    "    \n",
    "    return X_train_val, y_train_val, X_test, y_test\n",
    "\n",
    "def stratifiedSplit_2Xs(X,X2,y,test_size=0.1,random_state=42):\n",
    "    sss = StratifiedShuffleSplit(test_size=test_size,random_state=random_state,n_splits = 1)\n",
    "    sss.get_n_splits(X,y)\n",
    "    \n",
    "    for train_id, test_id in sss.split(X, y):\n",
    "        X_train_val,y_train_val,X2_train_val = X[train_id], y[train_id], X2[train_id]\n",
    "        X_test,y_test,X2_test = X[test_id], y[test_id],X2[test_id] \n",
    "    \n",
    "    return X_train_val, y_train_val, X_test, y_test, X2_train_val, X2_test\n",
    "\n",
    "def precision_recall(y_test,y_score,color='b',y_lower=0.0):\n",
    "    average_precision = average_precision_score(y_test, y_score)\n",
    "    precision, recall, _ = precision_recall_curve(y_test, y_score)\n",
    "    \n",
    "    # In matplotlib < 1.5, plt.fill_between does not have a 'step' argument\n",
    "    step_kwargs = ({'step': 'post'}\n",
    "               if 'step' in signature(plt.fill_between).parameters\n",
    "               else {})\n",
    "    plt.step(recall, precision, color=color, alpha=0.6,\n",
    "         where='post')\n",
    "    #plt.fill_between(recall, precision, alpha=0.2, color='b', **step_kwargs)\n",
    "\n",
    "    plt.xlabel('Recall')\n",
    "    plt.ylabel('Precision')\n",
    "    plt.ylim([y_lower, 1.05])\n",
    "    plt.xlim([0.0, 1.0])\n",
    "    plt.title('2-class Precision-Recall curve: AP={0:0.2f}'.format(average_precision))\n",
    "    \n",
    "def accuracy(y_test,y_score): return np.mean(y_test == (y_score>0.5))\n",
    "\n",
    "def evaluate_model_pred(y_test,y_score,model_name,metric='precision-recall',color='b'):\n",
    "    if metric == 'precision-recall':\n",
    "        print(model_name+\" has AP:\", average_precision_score(y_test, y_score), \n",
    "              \"accuracy\", accuracy(y_test,y_score))\n",
    "        precision_recall(y_test,y_score)\n",
    "    elif metric == 'roc':\n",
    "        fpr, tpr, _ = roc_curve(y_test, y_score)\n",
    "        roc_auc = auc(fpr, tpr)\n",
    "        lw = 2\n",
    "        plt.plot(fpr, tpr, color='darkorange',\n",
    "             lw=lw, label='ROC curve (area = %0.2f)' % roc_auc)\n",
    "        plt.plot([0, 1], [0, 1], color='navy', lw=lw, linestyle='--')\n",
    "        plt.xlim([0.0, 1.0])\n",
    "        plt.ylim([0.0, 1.05])\n",
    "        plt.xlabel('False Positive Rate')\n",
    "        plt.ylabel('True Positive Rate')\n",
    "        plt.title('Receiver operating characteristic example')\n",
    "        plt.legend(loc=\"lower right\")\n",
    "        \n",
    "    \n",
    "def show_significant_words(coeff,method='naive', length = 100):\n",
    "    df_uni = pd.DataFrame.from_dict(unigrams,orient='index')\n",
    "    df_bi = pd.DataFrame.from_dict(bigrams,orient='index')\n",
    "    df_dict = pd.concat([df_uni, df_bi])\n",
    "    big_pos_coeff = coeff.argsort()[-length:][::-1]\n",
    "    big_neg_coeff = coeff.argsort()[:length]\n",
    "    pos_res = []\n",
    "    print(coeff[big_pos_coeff][0],coeff[big_pos_coeff][-1])\n",
    "    print(coeff[big_neg_coeff][0],coeff[big_neg_coeff][-1])\n",
    "    print('positive words are:')\n",
    "    print([df_dict.iloc[idx].name for idx in big_pos_coeff if idx<VOCAB_SIZE] )\n",
    "    print('negative words are:')\n",
    "    print([df_dict.iloc[idx].name for idx in big_neg_coeff if idx<VOCAB_SIZE])"
   ]
  },
  {
   "cell_type": "markdown",
   "metadata": {
    "heading_collapsed": true
   },
   "source": [
    "## Glove embedding methods"
   ]
  },
  {
   "cell_type": "code",
   "execution_count": 4,
   "metadata": {
    "hidden": true
   },
   "outputs": [],
   "source": [
    "def get_glove_vectors(vocab):\n",
    "    print('Looking for GLOVE vectors')\n",
    "    glove_vectors = {}\n",
    "    found = 0\n",
    "    with open(GLOVE_FILE, 'r') as glove_file:\n",
    "        for i, line in enumerate(glove_file):\n",
    "            #utils.write_status(i + 1, 0)\n",
    "            tokens = line.split()\n",
    "            word = tokens[0]\n",
    "            if vocab.get(word):\n",
    "                vector = [float(e) for e in tokens[1:]]\n",
    "                glove_vectors[word] = np.array(vector)\n",
    "                found += 1\n",
    "    print('\\n')\n",
    "    print('Found %d words in GLOVE' % found)\n",
    "    return glove_vectors\n",
    "\n",
    "\n",
    "def get_feature_vector_w2i(tweet):\n",
    "    words = tweet.split()\n",
    "    feature_vector = []\n",
    "    for i in range(len(words) - 1):\n",
    "        word = words[i]\n",
    "        if vocab.get(word) is not None:\n",
    "            feature_vector.append(vocab.get(word))\n",
    "        else: \n",
    "            feature_vector.append(vocab.get('404MISSINGWORD404')) \n",
    "    if len(words) >= 1:\n",
    "        if vocab.get(words[-1]) is not None:\n",
    "            feature_vector.append(vocab.get(words[-1]))\n",
    "    return feature_vector\n",
    "\n",
    "def get_feature_vector_w2v(tweet):\n",
    "    words = tweet.split()\n",
    "    feature_vector = []\n",
    "    for i in range(len(words)):\n",
    "        word = words[i]\n",
    "        if type(glove_vectors.get(word))!=type(None):\n",
    "            feature_vector.append(glove_vectors.get(word))\n",
    "        else: \n",
    "            feature_vector.append(glove_vectors.get('404MISSINGWORD404')) \n",
    "    #if len(words) >= 1:\n",
    "    #    if vocab.get(words[-1]) is not None:\n",
    "    #        feature_vector.append(vocab.get(words[-1]))\n",
    "    return feature_vector\n",
    "\n",
    "\n",
    "def process_tweets_w2i(csv_file, test_file=True):\n",
    "    tweets = []\n",
    "    labels = []\n",
    "    print('Generating feature vectors')\n",
    "    with open(csv_file, 'r') as csv:\n",
    "        lines = csv.readlines()\n",
    "        total = len(lines)\n",
    "        for i, line in enumerate(lines):\n",
    "            if test_file:\n",
    "                tweet_id, dummy, tweet = line.split(',')\n",
    "            else:\n",
    "                tweet_id, sentiment, tweet = line.split(',')\n",
    "            feature_vector = get_feature_vector_w2v(tweet)\n",
    "            if test_file:\n",
    "                tweets.append(feature_vector)\n",
    "            else:\n",
    "                tweets.append(feature_vector)\n",
    "                labels.append(int(sentiment))\n",
    "            #utils.write_status(i + 1, total)\n",
    "    print('\\n')\n",
    "    return tweets, np.array(labels)\n",
    "\n",
    "def process_tweets_w2v(csv_file, test_file=True):\n",
    "    tweets = []\n",
    "    labels = []\n",
    "    print('Generating feature vectors')\n",
    "    with open(csv_file, 'r') as csv:\n",
    "        lines = csv.readlines()\n",
    "        total = len(lines)\n",
    "        for i, line in enumerate(lines):\n",
    "            if test_file:\n",
    "                tweet_id, dummy, tweet = line.split(',')\n",
    "            else:\n",
    "                tweet_id, sentiment, tweet = line.split(',')\n",
    "            feature_vector = get_feature_vector_w2v(tweet)\n",
    "            if test_file:\n",
    "                tweets.append(feature_vector)\n",
    "            else:\n",
    "                tweets.append(feature_vector)\n",
    "                labels.append(int(sentiment))\n",
    "            #utils.write_status(i + 1, total)\n",
    "    print('\\n')\n",
    "    return tweets, np.array(labels) \n",
    "\n",
    "def pad_vec_tweets(tweets, max_length):\n",
    "    result = []\n",
    "    for tweet in tweets:\n",
    "        tweet = np.array(tweet)\n",
    "        #print(tweet.shape)\n",
    "        if len(tweet) == 0:\n",
    "            result.append(np.zeros((max_length,DIM)))\n",
    "        elif len(tweet)<max_length:\n",
    "            padding = np.zeros((max_length-len(tweet),DIM))\n",
    "            padded_tweet = np.concatenate([tweet,padding])\n",
    "            result.append(padded_tweet)\n",
    "        else:\n",
    "            result.append(tweet[:max_length])\n",
    "    return np.array(result)"
   ]
  },
  {
   "cell_type": "markdown",
   "metadata": {
    "heading_collapsed": true
   },
   "source": [
    "## Random Seed"
   ]
  },
  {
   "cell_type": "code",
   "execution_count": 5,
   "metadata": {
    "hidden": true
   },
   "outputs": [],
   "source": [
    "#np.random.seed(1337)\n",
    "#random_seed = 33 #(2 layers the best)\n",
    "#random_seed = 133 #(2 layers the best, all models bad)\n",
    "#random_seed = 51 #nltk bad\n",
    "random_seed = 540\n",
    "np.random.seed(random_seed)"
   ]
  },
  {
   "cell_type": "markdown",
   "metadata": {
    "heading_collapsed": true
   },
   "source": [
    "## Prepare Data (Glove Embedding)"
   ]
  },
  {
   "cell_type": "code",
   "execution_count": 7,
   "metadata": {
    "hidden": true
   },
   "outputs": [
    {
     "name": "stdout",
     "output_type": "stream",
     "text": [
      "Looking for GLOVE vectors\n",
      "\n",
      "\n",
      "Found 36502 words in GLOVE\n"
     ]
    }
   ],
   "source": [
    "train = True\n",
    "np.random.seed(1337)\n",
    "#np.random.seed(42)\n",
    "vocab_size = 54488 + 1\n",
    "batch_size = 500\n",
    "max_length = 100\n",
    "filters = 600\n",
    "kernel_size = 3\n",
    "\n",
    "vocab = utils.top_n_words(FREQ_DIST_FILE_GLOVE, vocab_size-1, shift=1)\n",
    "glove_vectors = get_glove_vectors(vocab)\n",
    "#Handle unkown words\n",
    "\n",
    "vocab['404MISSINGWORD404'] = vocab_size\n",
    "glove_vectors['404MISSINGWORD404']=np.mean([v for _,v in glove_vectors.items()],axis = 0)"
   ]
  },
  {
   "cell_type": "code",
   "execution_count": 8,
   "metadata": {
    "hidden": true
   },
   "outputs": [],
   "source": [
    "def word2vec(word, glove_vectors=glove_vectors):\n",
    "    if type(glove_vectors.get(word.lower()))!=type(None): \n",
    "        return glove_vectors[word.lower()]\n",
    "    else: \n",
    "        return glove_vectors['404MISSINGWORD404']\n",
    "    \n",
    "def sentence2vec(sentence, glove_vectors=glove_vectors):\n",
    "    return np.sum([word2vec(word,glove_vectors=glove_vectors) for word in sentence.split()],axis=0)"
   ]
  },
  {
   "cell_type": "code",
   "execution_count": 115,
   "metadata": {
    "hidden": true
   },
   "outputs": [
    {
     "name": "stdout",
     "output_type": "stream",
     "text": [
      "Generating feature vectors\n",
      "Processing 693/693\n",
      "\n"
     ]
    }
   ],
   "source": [
    "#use bag of words together with embedding\n",
    "unigrams_org = utils.top_n_words(FREQ_DIST_FILE_GLOVE, UNIGRAM_SIZE)\n",
    "bigrams_org = utils.top_n_bigrams(BI_FREQ_DIST_FILE_GLOVE, BIGRAM_SIZE)\n",
    "\n",
    "unigrams = unigrams_org\n",
    "bigrams = bigrams_org\n",
    "\n",
    "tweets = process_tweets(TRAIN_PROCESSED_FILE_GLOVE, test_file=False)\n",
    "X,y = extract_X_y(tweets,feat_type=FEAT_TYPE)\n",
    "\n",
    "#del unigrams\n",
    "#del bigrams"
   ]
  },
  {
   "cell_type": "code",
   "execution_count": 82,
   "metadata": {
    "hidden": true
   },
   "outputs": [
    {
     "data": {
      "text/plain": [
       "(693, 150)"
      ]
     },
     "execution_count": 82,
     "metadata": {},
     "output_type": "execute_result"
    }
   ],
   "source": [
    "#Embeded version of the bag of words\n",
    "glove_matrix_uni = np.array([word2vec(key) for key in unigrams_org])\n",
    "glove_matrix_uni.shape\n",
    "\n",
    "glove_matrix_bi = np.array([np.concatenate([word2vec(key[0]),word2vec(key[1])]) for key in bigrams_org])\n",
    "glove_matrix_bi.shape\n",
    "\n",
    "X_emb = np.concatenate([X[:,:UNIGRAM_SIZE]@glove_matrix_uni, X[:,UNIGRAM_SIZE:]@glove_matrix_bi],axis = 1)\n",
    "\n",
    "X_emb.shape"
   ]
  },
  {
   "cell_type": "markdown",
   "metadata": {
    "heading_collapsed": true
   },
   "source": [
    "## Training models with Glove"
   ]
  },
  {
   "cell_type": "code",
   "execution_count": 124,
   "metadata": {
    "hidden": true
   },
   "outputs": [
    {
     "name": "stdout",
     "output_type": "stream",
     "text": [
      "560 63 70\n",
      "0.5517857142857143 0.5555555555555556 0.5571428571428572\n"
     ]
    }
   ],
   "source": [
    "X=X_emb\n",
    "\n",
    "X_train_val,y_train_val,X_test, y_test = stratifiedSplit(X,y,test_size = 0.1, random_state = random_seed)\n",
    "X_train,y_train,X_val, y_val = stratifiedSplit(X_train_val,y_train_val,test_size = 0.1, random_state = random_seed+1)\n",
    "\n",
    "print(len(y_train),len(y_val),len(y_test))\n",
    "print(np.mean(y_train == 1),np.mean(y_val == 1),np.mean(y_test == 1))\n",
    "\n",
    "#del X,X_emb,y"
   ]
  },
  {
   "cell_type": "code",
   "execution_count": 125,
   "metadata": {
    "hidden": true
   },
   "outputs": [
    {
     "name": "stdout",
     "output_type": "stream",
     "text": [
      "0.5396825396825397\n",
      "logistic has AP: 0.5899008780187084 accuracy 0.5857142857142857\n"
     ]
    },
    {
     "name": "stderr",
     "output_type": "stream",
     "text": [
      "/anaconda3/lib/python3.7/site-packages/sklearn/linear_model/logistic.py:947: ConvergenceWarning: lbfgs failed to converge. Increase the number of iterations.\n",
      "  \"of iterations.\", ConvergenceWarning)\n"
     ]
    },
    {
     "data": {
      "image/png": "[encoded data removed]",
      "text/plain": [
       "<Figure size 432x288 with 1 Axes>"
      ]
     },
     "metadata": {
      "needs_background": "light"
     },
     "output_type": "display_data"
    }
   ],
   "source": [
    "logistic = LogisticRegression(random_state=0, solver='lbfgs')#regularization,log range, optimizer tolerance sklearn grid search.\n",
    "\n",
    "\n",
    "logistic.fit(X_train, y_train)\n",
    "\n",
    "pred_val_logistic = logistic.predict_proba(X_val)[:,1]\n",
    "\n",
    "print(np.mean((pred_val_logistic>0.5) == y_val))\n",
    "\n",
    "y_score_logistic = logistic.predict_proba(X_test)[:,1]\n",
    "evaluate_model_pred(y_test,y_score_logistic,model_name='logistic')"
   ]
  },
  {
   "cell_type": "code",
   "execution_count": 126,
   "metadata": {
    "hidden": true
   },
   "outputs": [],
   "source": [
    "model = build_model(lr=0.001,dropout_rate=0.1,l1reg=0.001,l2reg=0.001)"
   ]
  },
  {
   "cell_type": "code",
   "execution_count": 128,
   "metadata": {
    "hidden": true,
    "scrolled": true
   },
   "outputs": [
    {
     "name": "stdout",
     "output_type": "stream",
     "text": [
      "Train on 560 samples, validate on 63 samples\n",
      "Epoch 1/10\n",
      "560/560 [==============================] - 0s 186us/step - loss: 0.8463 - acc: 0.6107 - mean_pred: 0.5593 - val_loss: 1.0341 - val_acc: 0.4286 - val_mean_pred: 0.6797\n",
      "Epoch 2/10\n",
      "560/560 [==============================] - 0s 179us/step - loss: 0.7703 - acc: 0.6250 - mean_pred: 0.5307 - val_loss: 0.8623 - val_acc: 0.6032 - val_mean_pred: 0.5300\n",
      "Epoch 3/10\n",
      "560/560 [==============================] - 0s 172us/step - loss: 0.7738 - acc: 0.6214 - mean_pred: 0.5502 - val_loss: 0.8905 - val_acc: 0.4603 - val_mean_pred: 0.5931\n",
      "Epoch 4/10\n",
      "560/560 [==============================] - 0s 170us/step - loss: 0.7478 - acc: 0.6304 - mean_pred: 0.5563 - val_loss: 0.8678 - val_acc: 0.5079 - val_mean_pred: 0.5611\n",
      "Epoch 5/10\n",
      "560/560 [==============================] - 0s 172us/step - loss: 0.7561 - acc: 0.6411 - mean_pred: 0.5482 - val_loss: 0.8976 - val_acc: 0.5238 - val_mean_pred: 0.6028\n",
      "Epoch 6/10\n",
      "560/560 [==============================] - 0s 175us/step - loss: 0.7710 - acc: 0.6286 - mean_pred: 0.5743 - val_loss: 0.8756 - val_acc: 0.5397 - val_mean_pred: 0.5913\n",
      "Epoch 7/10\n",
      "560/560 [==============================] - 0s 182us/step - loss: 0.7222 - acc: 0.6196 - mean_pred: 0.5450 - val_loss: 0.9426 - val_acc: 0.4603 - val_mean_pred: 0.6629\n",
      "Epoch 8/10\n",
      "560/560 [==============================] - 0s 170us/step - loss: 0.7514 - acc: 0.6107 - mean_pred: 0.5613 - val_loss: 0.8450 - val_acc: 0.5714 - val_mean_pred: 0.5756\n",
      "Epoch 9/10\n",
      "560/560 [==============================] - 0s 178us/step - loss: 0.7430 - acc: 0.6393 - mean_pred: 0.5424 - val_loss: 0.8332 - val_acc: 0.5873 - val_mean_pred: 0.4980\n",
      "Epoch 10/10\n",
      "560/560 [==============================] - 0s 186us/step - loss: 0.7417 - acc: 0.6214 - mean_pred: 0.5592 - val_loss: 0.9712 - val_acc: 0.4921 - val_mean_pred: 0.6766\n"
     ]
    },
    {
     "data": {
      "text/plain": [
       "<keras.callbacks.History at 0x1a596109e8>"
      ]
     },
     "execution_count": 128,
     "metadata": {},
     "output_type": "execute_result"
    }
   ],
   "source": [
    "model.fit(X_train, y_train, batch_size=15, epochs=10, validation_data = (X_val,y_val), shuffle=True)"
   ]
  },
  {
   "cell_type": "code",
   "execution_count": 129,
   "metadata": {
    "hidden": true
   },
   "outputs": [
    {
     "name": "stdout",
     "output_type": "stream",
     "text": [
      "1 layer has AP: 0.6382553759758716 accuracy 0.5163265306122449\n"
     ]
    },
    {
     "data": {
      "image/png": "[encoded data removed]",
      "text/plain": [
       "<Figure size 432x288 with 1 Axes>"
      ]
     },
     "metadata": {
      "needs_background": "light"
     },
     "output_type": "display_data"
    }
   ],
   "source": [
    "y_model = model.predict(X_test)\n",
    "evaluate_model_pred(y_test,y_model,model_name='1 layer')"
   ]
  },
  {
   "cell_type": "code",
   "execution_count": 130,
   "metadata": {
    "hidden": true
   },
   "outputs": [],
   "source": [
    "def build_model_2(lr = 0.001, n1= 100):\n",
    "    model = Sequential()\n",
    "    model.add(Dropout(0.2))\n",
    "    model.add(Dense(n1, #input_dim=VOCAB_SIZE, \n",
    "                    activation='relu',kernel_regularizer=l1(1e-3)))\n",
    "    model.add(Dropout(0.2))\n",
    "    model.add(Dense(1, activation='sigmoid',kernel_regularizer=l1(1e-3)))\n",
    "    model.compile(loss='binary_crossentropy',\n",
    "                  optimizer=Adam(lr=lr), metrics=['accuracy',mean_pred])\n",
    "    return model\n",
    "\n",
    "model_2 = build_model_2(lr = 1e-3, n1 = 100)"
   ]
  },
  {
   "cell_type": "code",
   "execution_count": 135,
   "metadata": {
    "hidden": true,
    "scrolled": true
   },
   "outputs": [
    {
     "name": "stdout",
     "output_type": "stream",
     "text": [
      "Train on 560 samples, validate on 63 samples\n",
      "Epoch 1/10\n",
      "560/560 [==============================] - 0s 414us/step - loss: 1.4047 - acc: 0.6536 - mean_pred: 0.5410 - val_loss: 1.4042 - val_acc: 0.5556 - val_mean_pred: 0.5345\n",
      "Epoch 2/10\n",
      "560/560 [==============================] - 0s 379us/step - loss: 1.3300 - acc: 0.6518 - mean_pred: 0.5428 - val_loss: 1.3981 - val_acc: 0.5397 - val_mean_pred: 0.5473\n",
      "Epoch 3/10\n",
      "560/560 [==============================] - 0s 376us/step - loss: 1.3515 - acc: 0.6768 - mean_pred: 0.5252 - val_loss: 1.3520 - val_acc: 0.6032 - val_mean_pred: 0.6095\n",
      "Epoch 4/10\n",
      "560/560 [==============================] - 0s 380us/step - loss: 1.3292 - acc: 0.6339 - mean_pred: 0.5301 - val_loss: 1.3373 - val_acc: 0.5873 - val_mean_pred: 0.5707\n",
      "Epoch 5/10\n",
      "560/560 [==============================] - 0s 379us/step - loss: 1.2929 - acc: 0.6804 - mean_pred: 0.5626 - val_loss: 1.3049 - val_acc: 0.5556 - val_mean_pred: 0.5239\n",
      "Epoch 6/10\n",
      "560/560 [==============================] - 0s 389us/step - loss: 1.2582 - acc: 0.6768 - mean_pred: 0.5330 - val_loss: 1.2890 - val_acc: 0.5873 - val_mean_pred: 0.5555\n",
      "Epoch 7/10\n",
      "560/560 [==============================] - 0s 424us/step - loss: 1.2413 - acc: 0.7107 - mean_pred: 0.5507 - val_loss: 1.2797 - val_acc: 0.5556 - val_mean_pred: 0.5667\n",
      "Epoch 8/10\n",
      "560/560 [==============================] - 0s 412us/step - loss: 1.2308 - acc: 0.6732 - mean_pred: 0.5586 - val_loss: 1.2881 - val_acc: 0.5873 - val_mean_pred: 0.5820\n",
      "Epoch 9/10\n",
      "560/560 [==============================] - 0s 374us/step - loss: 1.2033 - acc: 0.7161 - mean_pred: 0.5600 - val_loss: 1.2938 - val_acc: 0.5714 - val_mean_pred: 0.5716\n",
      "Epoch 10/10\n",
      "560/560 [==============================] - 0s 379us/step - loss: 1.1985 - acc: 0.7018 - mean_pred: 0.5458 - val_loss: 1.2963 - val_acc: 0.5556 - val_mean_pred: 0.5555\n"
     ]
    },
    {
     "data": {
      "text/plain": [
       "<keras.callbacks.History at 0x1a4acb6e80>"
      ]
     },
     "execution_count": 135,
     "metadata": {},
     "output_type": "execute_result"
    }
   ],
   "source": [
    "model_2.fit(X_train, y_train, batch_size=10, epochs=10, validation_data = (X_val,y_val), shuffle=True)"
   ]
  },
  {
   "cell_type": "code",
   "execution_count": 136,
   "metadata": {
    "hidden": true
   },
   "outputs": [
    {
     "name": "stdout",
     "output_type": "stream",
     "text": [
      "2-layer has AP: 0.6457074342608231 accuracy 0.503265306122449\n"
     ]
    },
    {
     "data": {
      "image/png": "[encoded data removed]",
      "text/plain": [
       "<Figure size 432x288 with 1 Axes>"
      ]
     },
     "metadata": {
      "needs_background": "light"
     },
     "output_type": "display_data"
    }
   ],
   "source": [
    "y_model_2 = model_2.predict_proba(X_test)\n",
    "evaluate_model_pred(y_test,y_model_2,model_name='2-layer')"
   ]
  },
  {
   "cell_type": "code",
   "execution_count": 137,
   "metadata": {
    "hidden": true
   },
   "outputs": [],
   "source": [
    "def build_model_3(lr = 0.001, n1= 100, n2 = 30):\n",
    "    model = Sequential()\n",
    "    model.add(Dropout(0.1))\n",
    "    model.add(Dense(n1, input_dim=VOCAB_SIZE, activation='relu',kernel_regularizer=l1(1e-4)))\n",
    "    model.add(Dropout(0.1))\n",
    "    model.add(Dense(n2, input_dim=VOCAB_SIZE, activation='relu',kernel_regularizer=l1(1e-3)))\n",
    "    model.add(Dropout(0.1))\n",
    "    model.add(Dense(1, activation='sigmoid',kernel_regularizer=l1(1e-4)))\n",
    "    model.compile(loss='binary_crossentropy',\n",
    "                  optimizer=Adam(lr=lr), metrics=['accuracy',mean_pred])\n",
    "    return model\n",
    "\n",
    "model_3 = build_model_3(lr = 5e-3, n1 = 100, n2 = 30)"
   ]
  },
  {
   "cell_type": "code",
   "execution_count": 140,
   "metadata": {
    "hidden": true,
    "scrolled": true
   },
   "outputs": [
    {
     "name": "stdout",
     "output_type": "stream",
     "text": [
      "Train on 560 samples, validate on 63 samples\n",
      "Epoch 1/10\n",
      "560/560 [==============================] - 0s 453us/step - loss: 0.7376 - acc: 0.6268 - mean_pred: 0.5509 - val_loss: 0.8056 - val_acc: 0.5238 - val_mean_pred: 0.5838\n",
      "Epoch 2/10\n",
      "560/560 [==============================] - 0s 451us/step - loss: 0.7130 - acc: 0.6643 - mean_pred: 0.5473 - val_loss: 0.8800 - val_acc: 0.5079 - val_mean_pred: 0.6672\n",
      "Epoch 3/10\n",
      "560/560 [==============================] - 0s 453us/step - loss: 0.6976 - acc: 0.6768 - mean_pred: 0.5439 - val_loss: 0.8243 - val_acc: 0.5079 - val_mean_pred: 0.5653\n",
      "Epoch 4/10\n",
      "560/560 [==============================] - 0s 465us/step - loss: 0.7564 - acc: 0.6375 - mean_pred: 0.5555 - val_loss: 0.8249 - val_acc: 0.5556 - val_mean_pred: 0.6418\n",
      "Epoch 5/10\n",
      "560/560 [==============================] - 0s 448us/step - loss: 0.7352 - acc: 0.6232 - mean_pred: 0.5875 - val_loss: 0.8078 - val_acc: 0.5238 - val_mean_pred: 0.5903\n",
      "Epoch 6/10\n",
      "560/560 [==============================] - 0s 461us/step - loss: 0.6959 - acc: 0.6500 - mean_pred: 0.5532 - val_loss: 0.8597 - val_acc: 0.5238 - val_mean_pred: 0.5935\n",
      "Epoch 7/10\n",
      "560/560 [==============================] - 0s 454us/step - loss: 0.7344 - acc: 0.6625 - mean_pred: 0.5572 - val_loss: 0.8159 - val_acc: 0.5397 - val_mean_pred: 0.5087\n",
      "Epoch 8/10\n",
      "560/560 [==============================] - 0s 437us/step - loss: 0.7229 - acc: 0.6411 - mean_pred: 0.5351 - val_loss: 0.7883 - val_acc: 0.5556 - val_mean_pred: 0.5819\n",
      "Epoch 9/10\n",
      "560/560 [==============================] - 0s 444us/step - loss: 0.6785 - acc: 0.6661 - mean_pred: 0.5518 - val_loss: 0.8245 - val_acc: 0.5556 - val_mean_pred: 0.6119\n",
      "Epoch 10/10\n",
      "560/560 [==============================] - 0s 444us/step - loss: 0.6785 - acc: 0.6679 - mean_pred: 0.5435 - val_loss: 0.8422 - val_acc: 0.5714 - val_mean_pred: 0.6551\n"
     ]
    },
    {
     "data": {
      "text/plain": [
       "<keras.callbacks.History at 0x1a5718be80>"
      ]
     },
     "execution_count": 140,
     "metadata": {},
     "output_type": "execute_result"
    }
   ],
   "source": [
    "model_3.fit(X_train, y_train, batch_size=10, epochs=10, validation_data = (X_val,y_val), shuffle=True)"
   ]
  },
  {
   "cell_type": "code",
   "execution_count": 141,
   "metadata": {
    "hidden": true,
    "scrolled": true
   },
   "outputs": [
    {
     "name": "stdout",
     "output_type": "stream",
     "text": [
      "2-layer has AP: 0.6386071064558064 accuracy 0.5261224489795918\n"
     ]
    },
    {
     "data": {
      "image/png": "[encoded data removed]",
      "text/plain": [
       "<Figure size 432x288 with 1 Axes>"
      ]
     },
     "metadata": {
      "needs_background": "light"
     },
     "output_type": "display_data"
    }
   ],
   "source": [
    "y_model_3 = model_3.predict_proba(X_test)\n",
    "evaluate_model_pred(y_test,y_model_3,model_name='2-layer')"
   ]
  },
  {
   "cell_type": "markdown",
   "metadata": {
    "heading_collapsed": true
   },
   "source": [
    "## Prepare Data (Trad embedding)"
   ]
  },
  {
   "cell_type": "code",
   "execution_count": 563,
   "metadata": {
    "hidden": true
   },
   "outputs": [],
   "source": [
    "#with open(DOC_FREQ_DIST_FILE, 'rb') as pkl_file:\n",
    "#        doc_freq = pickle.load(pkl_file)\n",
    "#with open(DOC_BI_FREQ_DIST_FILE, 'rb') as pkl_file:\n",
    "#        doc_freq_bi = pickle.load(pkl_file)"
   ]
  },
  {
   "cell_type": "code",
   "execution_count": 9,
   "metadata": {
    "hidden": true
   },
   "outputs": [],
   "source": [
    "df_hand_p = pd.read_csv(TRAIN_PROCESSED_FILE,header=None)\n",
    "df_hand_p.columns=['id','sentiment','text']\n",
    "df_hand_p.set_index('id')\n",
    "\n",
    "df_titles = pd.read_csv(\"../df-no-comas-title-linear.csv\",header=None)\n",
    "df_titles.columns=['id','sentiment','title']\n",
    "df_titles.set_index('id')\n",
    "\n",
    "title_dict = dict(np.array([df_titles.id.values,df_titles.title.values]).T)\n",
    "\n",
    "titles = [title_dict[idd] for idd in df_hand_p.id.values]\n",
    "\n",
    "titles_vec = np.array([sentence2vec(title) for title in titles])"
   ]
  },
  {
   "cell_type": "code",
   "execution_count": 10,
   "metadata": {
    "hidden": true
   },
   "outputs": [
    {
     "name": "stdout",
     "output_type": "stream",
     "text": [
      "Generating feature vectors\n",
      "Processing 693/693\n",
      "\n"
     ]
    }
   ],
   "source": [
    "unigrams = utils.top_n_words(FREQ_DIST_FILE, UNIGRAM_SIZE)\n",
    "if USE_BIGRAMS: bigrams = utils.top_n_bigrams(BI_FREQ_DIST_FILE, BIGRAM_SIZE)\n",
    "    \n",
    "tweets = process_tweets(TRAIN_PROCESSED_FILE, test_file=False)"
   ]
  },
  {
   "cell_type": "code",
   "execution_count": 11,
   "metadata": {
    "hidden": true,
    "scrolled": true
   },
   "outputs": [
    {
     "name": "stdout",
     "output_type": "stream",
     "text": [
      "560 63 70\n",
      "0.5517857142857143 0.5555555555555556 0.5571428571428572\n"
     ]
    }
   ],
   "source": [
    "X,y = extract_X_y(tweets,feat_type=FEAT_TYPE)\n",
    "\n",
    "X = np.concatenate([X,titles_vec],axis=1)\n",
    "\n",
    "#X_train_val,y_train_val,X_test, y_test = stratifiedSplit(X,y,test_size = 0.1, random_state = random_seed)\n",
    "#X_train,y_train,X_val, y_val = stratifiedSplit(X_train_val,y_train_val,test_size = 0.1, random_state = random_seed+1)\n",
    "df_hand_o = pd.read_csv(\"../df_hand-original-linear.csv\",names=['id','sent','text'])\n",
    "X_org = df_hand_o.text.values\n",
    "\n",
    "X_train_val,y_train_val,X_test, y_test, X_org_train_val, X_org_test = \\\n",
    "    stratifiedSplit_2Xs(X,X_org,y,test_size = 0.1, random_state = random_seed)\n",
    "X_train,y_train,X_val, y_val, X_org_train, X_org_val = \\\n",
    "    stratifiedSplit_2Xs(X_train_val,X_org_train_val,y_train_val,test_size = 0.1, random_state = random_seed+1)\n",
    "print(len(y_train),len(y_val),len(y_test))\n",
    "print(np.mean(y_train == 1),np.mean(y_val == 1),np.mean(y_test == 1))"
   ]
  },
  {
   "cell_type": "code",
   "execution_count": 12,
   "metadata": {
    "hidden": true
   },
   "outputs": [
    {
     "data": {
      "image/png": "[encoded data removed]",
      "text/plain": [
       "<Figure size 432x288 with 1 Axes>"
      ]
     },
     "metadata": {
      "needs_background": "light"
     },
     "output_type": "display_data"
    }
   ],
   "source": [
    "nltk_sentiment=SentimentIntensityAnalyzer()\n",
    "\n",
    "y_nltk = np.array([nltk_sentiment.polarity_scores(comment)['compound'] for comment in X_org_test])\n",
    "\n",
    "y_nltk = (y_nltk+1)/2\n",
    "\n",
    "evaluate_model_pred(y_test,y_nltk,model_name='nltk',metric='roc')"
   ]
  },
  {
   "cell_type": "markdown",
   "metadata": {
    "heading_collapsed": true
   },
   "source": [
    "## Advanced train-test split"
   ]
  },
  {
   "cell_type": "code",
   "execution_count": 546,
   "metadata": {
    "hidden": true
   },
   "outputs": [
    {
     "name": "stdout",
     "output_type": "stream",
     "text": [
      "70\n",
      "70\n",
      "70\n",
      "70\n",
      "70\n",
      "70\n",
      "70\n",
      "70\n",
      "70\n",
      "70\n"
     ]
    }
   ],
   "source": [
    "sss = StratifiedShuffleSplit(test_size=0.1,random_state=random_seed,n_splits = 10)\n",
    "sss.get_n_splits(X,y)\n",
    "    \n",
    "for train_id, test_id in sss.split(X, y):\n",
    "    print(len(test_id))"
   ]
  },
  {
   "cell_type": "code",
   "execution_count": 503,
   "metadata": {
    "hidden": true
   },
   "outputs": [
    {
     "name": "stdout",
     "output_type": "stream",
     "text": [
      "51\n",
      "59\n",
      "69\n",
      "81\n",
      "95\n"
     ]
    }
   ],
   "source": [
    "r_seeds = []\n",
    "\n",
    "Xs_train_val = []\n",
    "Xs_val = []\n",
    "Xs_train = []\n",
    "Xs_test = []\n",
    "\n",
    "Xs_org_train_val = []\n",
    "Xs_org_val = []\n",
    "Xs_org_train = []\n",
    "Xs_org_test = []\n",
    "\n",
    "ys_train_val = []\n",
    "ys_train = []\n",
    "ys_val = []\n",
    "ys_test = []\n",
    "\n",
    "for i in range(5):\n",
    "    r_seed = random_seed + i*7+i**2\n",
    "    r_seeds.append(r_seed)\n",
    "    print(r_seed)\n",
    "    X_train_val,y_train_val,X_test, y_test, X_org_train_val, X_org_test = \\\n",
    "        stratifiedSplit_2Xs(X,X_org,y,test_size = 0.1, random_state = r_seed)\n",
    "    X_train,y_train,X_val, y_val, X_org_train, X_org_val = \\\n",
    "        stratifiedSplit_2Xs(X_train_val,X_org_train_val,y_train_val,test_size = 0.1, random_state = r_seed)\n",
    "    Xs_train_val.append(X_train_val)\n",
    "    Xs_train.append(X_train)\n",
    "    Xs_val.append(X_val)\n",
    "    Xs_test.append(X_test)\n",
    "    Xs_org_test.append(X_org_test)\n",
    "    ys_train_val.append(y_train_val)\n",
    "    ys_train.append(y_train)\n",
    "    ys_val.append(y_val)\n",
    "    ys_test.append(y_test)"
   ]
  },
  {
   "cell_type": "code",
   "execution_count": 504,
   "metadata": {
    "hidden": true
   },
   "outputs": [
    {
     "name": "stdout",
     "output_type": "stream",
     "text": [
      "49\n",
      "54\n",
      "48\n",
      "48\n",
      "46\n"
     ]
    }
   ],
   "source": [
    "precisions_nltk = []\n",
    "recalls_nltk = []\n",
    "for i,y_t in enumerate(ys_test):\n",
    "    y_nltk = np.array([nltk_sentiment.polarity_scores(comment)['compound'] for comment in Xs_org_test[i]])\n",
    "    y_nltk = (y_nltk+1)/2\n",
    "    precision, recall, _ = precision_recall_curve(ys_test[i], y_nltk)\n",
    "    precisions_nltk.append(precision)\n",
    "    print(len(precision))\n",
    "    recalls_nltk.append(recall)\n",
    "    \n",
    "#ave_pr_nltk = np.mean(precisions_nltk,axis=0)\n",
    "#ave_rec_nltk = np.mean(recalls_nltk,axis=0)"
   ]
  },
  {
   "cell_type": "code",
   "execution_count": 499,
   "metadata": {
    "hidden": true
   },
   "outputs": [
    {
     "data": {
      "text/plain": [
       "(5,)"
      ]
     },
     "execution_count": 499,
     "metadata": {},
     "output_type": "execute_result"
    }
   ],
   "source": [
    "np.array(precisions_nltk).shape"
   ]
  },
  {
   "cell_type": "markdown",
   "metadata": {
    "heading_collapsed": true
   },
   "source": [
    "## Direct trainings"
   ]
  },
  {
   "cell_type": "code",
   "execution_count": 13,
   "metadata": {
    "hidden": true
   },
   "outputs": [
    {
     "name": "stdout",
     "output_type": "stream",
     "text": [
      "0.6190476190476191\n"
     ]
    },
    {
     "name": "stderr",
     "output_type": "stream",
     "text": [
      "/anaconda3/lib/python3.7/site-packages/sklearn/linear_model/logistic.py:947: ConvergenceWarning: lbfgs failed to converge. Increase the number of iterations.\n",
      "  \"of iterations.\", ConvergenceWarning)\n"
     ]
    },
    {
     "data": {
      "image/png": "[encoded data removed]",
      "text/plain": [
       "<Figure size 432x288 with 1 Axes>"
      ]
     },
     "metadata": {
      "needs_background": "light"
     },
     "output_type": "display_data"
    }
   ],
   "source": [
    "logistic = LogisticRegression(random_state=0, solver='lbfgs')#regularization,log range, optimizer tolerance sklearn grid search.\n",
    "\n",
    "\n",
    "logistic.fit(X_train, y_train)\n",
    "\n",
    "pred_val_logistic = logistic.predict_proba(X_val)[:,1]\n",
    "\n",
    "print(np.mean((pred_val_logistic>0.5) == y_val))\n",
    "\n",
    "y_score_logistic = logistic.predict_proba(X_test)[:,1]\n",
    "evaluate_model_pred(y_test,y_score_logistic,model_name='logistic',metric='roc')"
   ]
  },
  {
   "cell_type": "code",
   "execution_count": 21,
   "metadata": {
    "hidden": true
   },
   "outputs": [
    {
     "data": {
      "text/plain": [
       "0.0"
      ]
     },
     "execution_count": 21,
     "metadata": {},
     "output_type": "execute_result"
    }
   ],
   "source": [
    "logistic.coef_[0][unigrams['negat']]"
   ]
  },
  {
   "cell_type": "code",
   "execution_count": 584,
   "metadata": {
    "hidden": true
   },
   "outputs": [
    {
     "data": {
      "image/png": "[encoded data removed]",
      "text/plain": [
       "<Figure size 432x288 with 1 Axes>"
      ]
     },
     "metadata": {
      "needs_background": "light"
     },
     "output_type": "display_data"
    }
   ],
   "source": [
    "x = np.linspace(-5, 5, 100)\n",
    "y1 = np.exp(0.5*x)\n",
    "y2 = np.sin(x)\n",
    "\n",
    "fig = plt.figure()\n",
    "ax = fig.add_subplot(111)\n",
    "ax.plot(x, y1)\n",
    "ax.plot(x, y2)\n",
    "\n",
    "ax.set_aspect(aspect=0.7)\n",
    "plt.show()"
   ]
  },
  {
   "cell_type": "code",
   "execution_count": 594,
   "metadata": {
    "hidden": true
   },
   "outputs": [
    {
     "data": {
      "text/plain": [
       "array([0.        , 0.03225806, 0.03225806, 0.09677419, 0.09677419,\n",
       "       0.16129032, 0.16129032, 0.16129032, 0.16129032, 0.19354839,\n",
       "       0.19354839, 0.22580645, 0.22580645, 0.25806452, 0.25806452,\n",
       "       0.32258065, 0.35483871, 0.35483871, 0.38709677, 0.38709677,\n",
       "       0.41935484, 0.41935484, 0.48387097, 0.48387097, 0.48387097,\n",
       "       0.5483871 , 0.5483871 , 0.58064516, 0.64516129, 0.90322581,\n",
       "       0.90322581, 0.93548387, 0.93548387, 0.96774194, 0.96774194,\n",
       "       1.        ])"
      ]
     },
     "execution_count": 594,
     "metadata": {},
     "output_type": "execute_result"
    }
   ],
   "source": [
    "fprb"
   ]
  },
  {
   "cell_type": "code",
   "execution_count": 617,
   "metadata": {
    "hidden": true
   },
   "outputs": [
    {
     "data": {
      "image/png": "[encoded data removed]",
      "text/plain": [
       "<Figure size 432x288 with 1 Axes>"
      ]
     },
     "metadata": {
      "needs_background": "light"
     },
     "output_type": "display_data"
    }
   ],
   "source": [
    "fpr, tpr, _ = roc_curve(y_test, y_score_logistic)\n",
    "fprb, tprb, _ = roc_curve(y_test, y_nltk)\n",
    "roc_auc = auc(fpr, tpr)\n",
    "roc_aucb = auc(fprb, tprb)\n",
    "lw = 2\n",
    "\n",
    "fig = plt.figure()\n",
    "ax = fig.add_subplot(111)\n",
    "ax.plot(fpr, tpr, color='limegreen',lw=lw*1.5, label='Logistic (area: %0.2f)' % roc_auc)\n",
    "ax.plot(fprb, tprb, color='grey',lw=lw/1.5, label='Vader (area: %0.2f)' % roc_aucb)\n",
    "ax.plot([0, 1], [0, 1], color='navy', lw=lw/2, linestyle='--')\n",
    "ax.set_xlim([0.0, 1.0])\n",
    "ax.set_ylim([0.0, 1.01])\n",
    "ax.xaxis.set_ticks([0,1])\n",
    "ax.yaxis.set_ticks([0,1])\n",
    "ax.set_xlabel('False Positive Rate',fontsize=13)\n",
    "ax.set_ylabel('True Positive Rate',fontsize=13)\n",
    "ax.legend(loc=\"lower right\")\n",
    "ax.set_aspect(aspect=0.9)\n",
    "plt.show()"
   ]
  },
  {
   "cell_type": "code",
   "execution_count": 226,
   "metadata": {
    "hidden": true
   },
   "outputs": [
    {
     "name": "stderr",
     "output_type": "stream",
     "text": [
      "/anaconda3/lib/python3.7/site-packages/ipykernel_launcher.py:1: RuntimeWarning: Mean of empty slice\n",
      "  \"\"\"Entry point for launching an IPython kernel.\n"
     ]
    }
   ],
   "source": [
    "X_train_mean_excluding_0 = np.nan_to_num(np.nanmean(np.where(np.isclose(X_train,0), np.nan, X_train),axis=0))\n",
    "X_train_std = np.std(X_train,axis=0)"
   ]
  },
  {
   "cell_type": "code",
   "execution_count": 618,
   "metadata": {
    "hidden": true
   },
   "outputs": [
    {
     "ename": "NameError",
     "evalue": "name 'df_dict' is not defined",
     "output_type": "error",
     "traceback": [
      "\u001b[0;31m---------------------------------------------------------------------------\u001b[0m",
      "\u001b[0;31mNameError\u001b[0m                                 Traceback (most recent call last)",
      "\u001b[0;32m<ipython-input-618-eaa7e9d66332>\u001b[0m in \u001b[0;36m<module>\u001b[0;34m\u001b[0m\n\u001b[0;32m----> 1\u001b[0;31m \u001b[0mdf_dict\u001b[0m\u001b[0;34m.\u001b[0m\u001b[0miloc\u001b[0m\u001b[0;34m[\u001b[0m\u001b[0midx\u001b[0m\u001b[0;34m]\u001b[0m\u001b[0;34m.\u001b[0m\u001b[0mname\u001b[0m\u001b[0;34m\u001b[0m\u001b[0;34m\u001b[0m\u001b[0m\n\u001b[0m",
      "\u001b[0;31mNameError\u001b[0m: name 'df_dict' is not defined"
     ]
    }
   ],
   "source": [
    "df_uni = pd.DataFrame.from_dict(unigrams,orient='index')\n",
    "df_bi = pd.DataFrame.from_dict(bigrams,orient='index')\n",
    "df_dict = pd.concat([df_uni, df_bi])\n",
    "\n",
    "df_dict.iloc[idx].name"
   ]
  },
  {
   "cell_type": "code",
   "execution_count": 619,
   "metadata": {
    "hidden": true
   },
   "outputs": [
    {
     "name": "stdout",
     "output_type": "stream",
     "text": [
      "1.8013367998966587 0.43790323858903835\n",
      "-1.3137099905085623 -0.40148788679129105\n",
      "positive words are:\n",
      "['binoview', 'yen', 'great', 'thank', 'bolt', 'nice', 'pupil', 'l', 'power', 'order', 'n', 'report', 'thread', 'eye', 'ke', ('exit', 'pupil'), 'exit', 'pan', 'parallax', 'comment', ('num', 'xw'), 'new', 'ye', 'nagler', 'light', 'limit', 'storag', 'diagon', 'pair', 'let', 'also', 'travel', 'field', 'see', 'impress', 'ad', 'tripod', 'one', 'white', 'quot', 'cours', 'buy', 'scott', 'mct', 'frame', 'bino', 'polar', 'recoveri', 'view', 'dark', 'flock', 'need', 'tv', 'wednesday', 'special', 'offer', 'delo', 'boot', 'contrast', 'appar', 'bad', 'anoth', 'insul', 'could', 'fine', ('mewlon', 'num'), 'got', 'wait', 'unit', 'choic', 'today', 'use', 'orion', 'liner', 'quick', 'go', 'edg', 'sale', ('right', 'eye'), 'ebay', 'weight', 'speak', 'easi', ('focu', 'without'), ('come', 'focu'), 'tempt', 'awesom', 'ship', 'abl', 'pretti', 'market', 'updat', 'stockhold', ('pair', 'num'), 'mewlon', 'vanilla', 'xw', ('num', 'mm'), ('look', 'nice'), 'eric']\n",
      "negative words are:\n",
      "['carton', 'differ', 'mak', 'adapt', 'ra', 'meniscu', 'eyepiec', 'laser', ('mm', 'num'), 'corvett', 'ring', 'issu', 'list', 'secondari', ('lxd', 'num'), 'like', 'custom', 'believ', 'mike', '–', 'error', 'p', 'tool', 'pressur', 'inch', 'want', 'shift', 'product', 'diamet', 'deg', 'instal', 'origin', 'width', ('mm', 'f'), 'mechan', 'dew', 'relief', ('eye', 'relief'), 'perhap', 'innov', 'motorcycl', 'get', ('+', 'num'), 'larger', ('num', 'mayb'), 'denkmeier', ('look', 'like'), 'len', 'qualiti', 'focus', 'wing', 'delet', 'confus', ('num', 'deg'), 'class', ('adapt', 'num'), 'lower', 'high', 'stop', 'result', 'expect', 'bit', 'dri', 'direct', 'attach', 'ever', ('star', 'test'), ('post', 'delet'), 'tfov', 'paradigm', 'img', 'difficult', 'scope', 'sorri', ('f', 'num'), 'topic', 'darn', 'basic', 'pick', 'seen', 'permit', 'stuff', 'triangl', ('world', 'class'), 'big', 'come', 'heat', 'still', 'zygo', 'user', 'cheap', 'concurr', 'licens', 'jon', 'glatter', 'guy', 'old', 'prolif', 'pic']\n",
      "0.7565087762273217 0.07308398090152794\n",
      "-0.7737034984212755 -0.07026650007584519\n",
      "positive words are:\n",
      "['binoview', 'see', 'thread', 'great', 'thank', 'eye', 'use', 'one', 'nice', 'order', ('num', 'mm'), 'new', 'also', 'power', 'view', 'field', 'light', 'could', 'report', 'go', 'pupil', 'ye', 'need', 'bino', 'pair', 'edg', 'time', 'unit', 'mm', 'got', 'let', 'dark', 'abl', 'limit', ('exit', 'pupil'), 'exit', 'anoth', 'quot', 'buy', 'pan', 'white', 'nagler', 'observ', 'fine', 'wait', 'imag', 'comment', 'make', 'ship', 'dob', 'tripod', 'frame', 'bad', 'bolt', 'barlow', ('num', 'x'), 'diagon', 'cours', 'pretti', 'x', 'put', 'contrast', 'travel', 'appar', 'impress', 'look', 'least', 'though', 'orion', 'quick', 'mine', 'tv', 'night', 'today', 'easi', 'prism', 'offer', 'cool', 'weight', 'polar', 'ad', 'small', 'yen', 'moon']\n",
      "negative words are:\n",
      "['adapt', 'differ', 'eyepiec', 'like', 'get', 'list', 'product', ('mm', 'num'), 'mak', 'want', 'scope', 'issu', 'ring', 'inch', 'mike', 'custom', 'error', 'ra', 'good', ('f', 'num'), 'secondari', 'len', 'mount', 'focus', 'still', 'laser', 'img', 'diamet', 'larger', 'bit', 'believ', 'come', 'result', ('look', 'like'), 'high', 'origin', 'shift', 'p', 'big', 'seen', 'fit', 'actual', 'perhap', 'know', 'tool', 'work', 'stop', 'mani', 'best', 'denkmeier', 'ever', ('$', 'num'), 'qualiti', 'lower', 'f', 'mechan', 'correct', 'long', ('eye', 'relief'), 'relief', 'sure', 'attach', 'expect', 'direct', 'back', 'dew', 'difficult', 'target', 'meniscu', 'width', 'user', 'star', 'old', 'stuff']\n"
     ]
    }
   ],
   "source": [
    "show_significant_words(logistic.coef_[0]*X_train_mean_excluding_0)\n",
    "show_significant_words(logistic.coef_[0]*X_train_std)"
   ]
  },
  {
   "cell_type": "code",
   "execution_count": 1185,
   "metadata": {
    "hidden": true
   },
   "outputs": [],
   "source": [
    "pkl_filename = \"pickle_logistic_sentiment.pkl\"\n",
    "with open(pkl_filename, 'wb') as file:\n",
    "    pickle.dump(logistic, file)"
   ]
  },
  {
   "cell_type": "code",
   "execution_count": 1187,
   "metadata": {
    "hidden": true
   },
   "outputs": [
    {
     "name": "stdout",
     "output_type": "stream",
     "text": [
      "logistic has AP: 0.6877634104389934 accuracy 0.5714285714285714\n"
     ]
    },
    {
     "data": {
      "image/png": "[encoded data removed]",
      "text/plain": [
       "<Figure size 432x288 with 1 Axes>"
      ]
     },
     "metadata": {
      "needs_background": "light"
     },
     "output_type": "display_data"
    }
   ],
   "source": [
    "# Load from file\n",
    "with open(pkl_filename, 'rb') as file:\n",
    "    pickle_model = pickle.load(file)\n",
    "    \n",
    "y_score_logistic = pickle_model.predict_proba(X_test)[:,1]\n",
    "evaluate_model_pred(y_test,y_score_logistic,model_name='logistic',metric = 'roc')"
   ]
  },
  {
   "cell_type": "code",
   "execution_count": 431,
   "metadata": {
    "hidden": true,
    "scrolled": true
   },
   "outputs": [
    {
     "name": "stdout",
     "output_type": "stream",
     "text": [
      "Train on 560 samples, validate on 63 samples\n",
      "Epoch 1/5\n",
      "560/560 [==============================] - 4s 7ms/step - loss: 0.7610 - acc: 0.5321 - mean_pred: 0.5324 - val_loss: 0.6837 - val_acc: 0.5714 - val_mean_pred: 0.5538\n",
      "Epoch 2/5\n",
      "560/560 [==============================] - 0s 799us/step - loss: 0.6758 - acc: 0.6286 - mean_pred: 0.5524 - val_loss: 0.6892 - val_acc: 0.6032 - val_mean_pred: 0.5459\n",
      "Epoch 3/5\n",
      "560/560 [==============================] - 0s 808us/step - loss: 0.6555 - acc: 0.6875 - mean_pred: 0.5581 - val_loss: 0.6870 - val_acc: 0.6349 - val_mean_pred: 0.5473\n",
      "Epoch 4/5\n",
      "560/560 [==============================] - 0s 791us/step - loss: 0.6552 - acc: 0.7125 - mean_pred: 0.5553 - val_loss: 0.6937 - val_acc: 0.6508 - val_mean_pred: 0.5383\n",
      "Epoch 5/5\n",
      "560/560 [==============================] - 0s 855us/step - loss: 0.6549 - acc: 0.7125 - mean_pred: 0.5446 - val_loss: 0.6938 - val_acc: 0.6667 - val_mean_pred: 0.5376\n"
     ]
    }
   ],
   "source": [
    "model = build_model(lr = 0.001,l1reg=1e-3,l2reg=5e-2,dropout_rate=0.4)\n",
    "\n",
    "#callbacks = [EarlyStopping(monitor='val_loss', patience=4),\n",
    "#                 ModelCheckpoint(filepath='best_model_1.h5', monitor='val_loss', save_best_only=True)]\n",
    "\n",
    "model.fit(X_train, y_train, batch_size=15, epochs=5, validation_data = (X_val,y_val), shuffle=True)\n",
    "          #,callbacks=callbacks)\n",
    "\n",
    "#model = load_model('best_model_1.h5',custom_objects={'mean_pred': mean_pred})\n",
    "#y_train_pred = model.predict(X_train)\n",
    "#y_val_pred = model.predict(X_val)\n",
    "y_model = model.predict(X_test)"
   ]
  },
  {
   "cell_type": "code",
   "execution_count": 432,
   "metadata": {
    "hidden": true
   },
   "outputs": [
    {
     "name": "stdout",
     "output_type": "stream",
     "text": [
      "1 layer has AP: 0.7199834480585993 accuracy 0.5277551020408163\n"
     ]
    },
    {
     "data": {
      "image/png": "[encoded data removed]",
      "text/plain": [
       "<Figure size 432x288 with 1 Axes>"
      ]
     },
     "metadata": {
      "needs_background": "light"
     },
     "output_type": "display_data"
    }
   ],
   "source": [
    "y_model = model.predict(X_test)\n",
    "evaluate_model_pred(y_test,y_model,model_name='1 layer')\n",
    "\n",
    "#show_significant_words(model.layers[1].get_weights()[0].reshape(-1)*X_train_mean_excluding_0)\n",
    "\n",
    "#show_significant_words(model.layers[1].get_weights()[0].reshape(-1)*X_train_std)"
   ]
  },
  {
   "cell_type": "code",
   "execution_count": null,
   "metadata": {
    "hidden": true
   },
   "outputs": [],
   "source": [
    "model_2 = build_model_2(lr = 1e-3, n1 = 100)"
   ]
  },
  {
   "cell_type": "code",
   "execution_count": 396,
   "metadata": {
    "hidden": true
   },
   "outputs": [
    {
     "name": "stdout",
     "output_type": "stream",
     "text": [
      "Train on 560 samples, validate on 63 samples\n",
      "Epoch 1/3\n",
      "560/560 [==============================] - 6s 11ms/step - loss: 5.1903 - acc: 0.5411 - mean_pred: 0.5507 - val_loss: 1.7536 - val_acc: 0.5079 - val_mean_pred: 0.5171\n",
      "Epoch 2/3\n",
      "560/560 [==============================] - 2s 4ms/step - loss: 1.3099 - acc: 0.6500 - mean_pred: 0.5468 - val_loss: 1.2199 - val_acc: 0.5714 - val_mean_pred: 0.5951\n",
      "Epoch 3/3\n",
      "560/560 [==============================] - 2s 4ms/step - loss: 1.1345 - acc: 0.6589 - mean_pred: 0.5587 - val_loss: 1.2078 - val_acc: 0.5556 - val_mean_pred: 0.5503\n"
     ]
    },
    {
     "data": {
      "text/plain": [
       "<keras.callbacks.History at 0x1a6bb9db00>"
      ]
     },
     "execution_count": 396,
     "metadata": {},
     "output_type": "execute_result"
    }
   ],
   "source": [
    "model_2.fit(X_train, y_train, batch_size=15, epochs=3, validation_data = (X_val,y_val), shuffle=True)"
   ]
  },
  {
   "cell_type": "code",
   "execution_count": 397,
   "metadata": {
    "hidden": true
   },
   "outputs": [
    {
     "name": "stdout",
     "output_type": "stream",
     "text": [
      "2-layer has AP: 0.6702035323558008 accuracy 0.5310204081632653\n"
     ]
    },
    {
     "data": {
      "image/png": "[encoded data removed]",
      "text/plain": [
       "<Figure size 432x288 with 1 Axes>"
      ]
     },
     "metadata": {
      "needs_background": "light"
     },
     "output_type": "display_data"
    }
   ],
   "source": [
    "y_model_2 = model_2.predict_proba(X_test)\n",
    "evaluate_model_pred(y_test,y_model_2,model_name='2-layer')"
   ]
  },
  {
   "cell_type": "code",
   "execution_count": 253,
   "metadata": {
    "hidden": true
   },
   "outputs": [],
   "source": [
    "y_model_2_use = y_model_2"
   ]
  },
  {
   "cell_type": "code",
   "execution_count": 461,
   "metadata": {
    "hidden": true
   },
   "outputs": [],
   "source": [
    "model_3 = build_model_3(lr = 1e-3, n1 = 50, n2 = 20)"
   ]
  },
  {
   "cell_type": "code",
   "execution_count": 476,
   "metadata": {
    "hidden": true
   },
   "outputs": [
    {
     "name": "stdout",
     "output_type": "stream",
     "text": [
      "Train on 560 samples, validate on 63 samples\n",
      "Epoch 1/1\n",
      "560/560 [==============================] - 1s 2ms/step - loss: 0.7014 - acc: 0.7286 - mean_pred: 0.5692 - val_loss: 0.7783 - val_acc: 0.6984 - val_mean_pred: 0.5490\n"
     ]
    },
    {
     "data": {
      "text/plain": [
       "<keras.callbacks.History at 0x1a6b73b748>"
      ]
     },
     "execution_count": 476,
     "metadata": {},
     "output_type": "execute_result"
    }
   ],
   "source": [
    "model_3.fit(X_train, y_train, batch_size=15, epochs=1, validation_data = (X_val,y_val), shuffle=True)"
   ]
  },
  {
   "cell_type": "code",
   "execution_count": 477,
   "metadata": {
    "hidden": true
   },
   "outputs": [
    {
     "name": "stdout",
     "output_type": "stream",
     "text": [
      "3-layer has AP: 0.7332090962543335 accuracy 0.5179591836734694\n"
     ]
    },
    {
     "data": {
      "image/png": "[encoded data removed]",
      "text/plain": [
       "<Figure size 432x288 with 1 Axes>"
      ]
     },
     "metadata": {
      "needs_background": "light"
     },
     "output_type": "display_data"
    }
   ],
   "source": [
    "y_model_3 = model_3.predict_proba(X_test)\n",
    "evaluate_model_pred(y_test,y_model_3,model_name='3-layer')"
   ]
  },
  {
   "cell_type": "code",
   "execution_count": 475,
   "metadata": {
    "hidden": true
   },
   "outputs": [],
   "source": [
    "y_model_3_use = y_model_3"
   ]
  },
  {
   "cell_type": "code",
   "execution_count": 483,
   "metadata": {
    "hidden": true
   },
   "outputs": [
    {
     "data": {
      "image/png": "[encoded data removed]",
      "text/plain": [
       "<Figure size 432x288 with 1 Axes>"
      ]
     },
     "metadata": {
      "needs_background": "light"
     },
     "output_type": "display_data"
    }
   ],
   "source": [
    "precision_recall(y_test,y_nltk, color = 'y',y_lower = 0.5)\n",
    "#precision_recall(y_test,y_model)\n",
    "#precision_recall(y_test,y_model_2,color='r')\n",
    "precision_recall(y_test,y_model_3,color='b',y_lower = 0.5)\n",
    "plt.show()"
   ]
  },
  {
   "cell_type": "markdown",
   "metadata": {
    "heading_collapsed": true
   },
   "source": [
    "## Cross validation of logistic regression with keras"
   ]
  },
  {
   "cell_type": "code",
   "execution_count": 1246,
   "metadata": {
    "hidden": true
   },
   "outputs": [],
   "source": [
    "def build_model(lr=0.001,dropout_rate=0.4,l1reg=0.001,l2reg=0.001):\n",
    "    model = Sequential()\n",
    "    model.add(Dropout(dropout_rate))\n",
    "    model.add(Dense(1, input_dim=VOCAB_SIZE, activation='sigmoid',kernel_regularizer=l1_l2(l1reg,l2reg)))\n",
    "    model.compile(loss='binary_crossentropy',\n",
    "                  optimizer=Adam(lr=lr), metrics=['accuracy',mean_pred])\n",
    "    return model"
   ]
  },
  {
   "cell_type": "code",
   "execution_count": 1243,
   "metadata": {
    "hidden": true
   },
   "outputs": [],
   "source": [
    "def run_model_and_validate(X_train,y_train,X_val,y_val,lr=0.001,dropout_rate=0.4,l1reg=0.001,l2reg=0.001):\n",
    "    model = build_model(lr=lr,dropout_rate=dropout_rate,l1reg=l1reg,l2reg=l2reg)\n",
    "    callbacks = [EarlyStopping(monitor='val_loss', patience=2),\n",
    "                 ModelCheckpoint(filepath='best_logistic_model.h5', monitor='val_loss', save_best_only=True)]\n",
    "    model.fit(X_train, y_train, batch_size=30, epochs=30, validation_data = (X_val,y_val),\n",
    "              shuffle=True, callbacks=callbacks,verbose=0)\n",
    "    model = load_model('best_logistic_model.h5',custom_objects={'mean_pred': mean_pred})\n",
    "    y_train_pred = model.predict(X_train)\n",
    "    y_val_pred = model.predict(X_val)\n",
    "    return average_precision_score(y_train, y_train_pred),average_precision_score(y_val, y_val_pred)"
   ]
  },
  {
   "cell_type": "code",
   "execution_count": 1244,
   "metadata": {
    "hidden": true
   },
   "outputs": [
    {
     "name": "stdout",
     "output_type": "stream",
     "text": [
      "data set 0  with random seed: 31\n",
      "data set 1  with random seed: 83\n",
      "data set 2  with random seed: 137\n",
      "data set 3  with random seed: 193\n",
      "data set 4  with random seed: 251\n"
     ]
    }
   ],
   "source": [
    "cross_val_datasets = []\n",
    "for i in range(5):\n",
    "    random_seed = i**2+31 + 51*i\n",
    "    print(\"data set\",i,\" with random seed:\", random_seed)\n",
    "    X_train,y_train,X_val, y_val = stratifiedSplit(X_train_val,y_train_val,\n",
    "                                                   test_size = 0.1,random_state = random_seed)\n",
    "    cross_val_datasets.append([X_train,y_train,X_val, y_val,random_seed])"
   ]
  },
  {
   "cell_type": "code",
   "execution_count": 1247,
   "metadata": {
    "hidden": true
   },
   "outputs": [],
   "source": [
    "#cross_val_res = []"
   ]
  },
  {
   "cell_type": "code",
   "execution_count": 1249,
   "metadata": {
    "hidden": true
   },
   "outputs": [
    {
     "data": {
      "text/plain": [
       "array([[1.e-03, 4.e-01, 1.e-02, 1.e+01],\n",
       "       [1.e-03, 4.e-01, 1.e-02, 1.e+00],\n",
       "       [1.e-03, 4.e-01, 1.e-02, 1.e-01],\n",
       "       [1.e-03, 4.e-01, 1.e-02, 1.e-02],\n",
       "       [1.e-03, 4.e-01, 1.e-02, 1.e-03]])"
      ]
     },
     "execution_count": 1249,
     "metadata": {},
     "output_type": "execute_result"
    }
   ],
   "source": [
    "l2reg = [10,1,1e-1,1e-2,1e-3]\n",
    "lrs = [1e-3]*len(l2reg)\n",
    "dropout_rates = [0.4]*len(l2reg)\n",
    "l1reg = [1e-2]*len(l2reg)\n",
    "\n",
    "\n",
    "hyperparameters = np.array([lrs,dropout_rates,l1reg,l2reg]).T\n",
    "\n",
    "hyperparameters"
   ]
  },
  {
   "cell_type": "code",
   "execution_count": 1250,
   "metadata": {
    "hidden": true
   },
   "outputs": [
    {
     "name": "stdout",
     "output_type": "stream",
     "text": [
      "\n",
      "for data set with random seed: 31\n",
      "lr: 0.001 dropout: 0.4 l1: 0.01 l2: 10.0 :\n",
      "AP_train 0.69006161262713 AP_val: 0.6886076344589597\n",
      "lr: 0.001 dropout: 0.4 l1: 0.01 l2: 1.0 :\n",
      "AP_train 0.7281315326123194 AP_val: 0.6867873488900677\n",
      "lr: 0.001 dropout: 0.4 l1: 0.01 l2: 0.1 :\n",
      "AP_train 0.7574887970362105 AP_val: 0.6991028450491593\n",
      "lr: 0.001 dropout: 0.4 l1: 0.01 l2: 0.01 :\n",
      "AP_train 0.772160708765741 AP_val: 0.6842928488085561\n",
      "lr: 0.001 dropout: 0.4 l1: 0.01 l2: 0.001 :\n",
      "AP_train 0.7634903438332517 AP_val: 0.6834483675938758\n",
      "\n",
      "for data set with random seed: 83\n",
      "lr: 0.001 dropout: 0.4 l1: 0.01 l2: 10.0 :\n",
      "AP_train 0.719767111560785 AP_val: 0.6007724657395839\n",
      "lr: 0.001 dropout: 0.4 l1: 0.01 l2: 1.0 :\n",
      "AP_train 0.7239703605997543 AP_val: 0.6106847269860949\n",
      "lr: 0.001 dropout: 0.4 l1: 0.01 l2: 0.1 :\n",
      "AP_train 0.7548835641414464 AP_val: 0.607188390664042\n",
      "lr: 0.001 dropout: 0.4 l1: 0.01 l2: 0.01 :\n",
      "AP_train 0.7663081064402533 AP_val: 0.6275090389292018\n",
      "lr: 0.001 dropout: 0.4 l1: 0.01 l2: 0.001 :\n",
      "AP_train 0.7598472561460583 AP_val: 0.5926045790789978\n",
      "\n",
      "for data set with random seed: 137\n",
      "lr: 0.001 dropout: 0.4 l1: 0.01 l2: 10.0 :\n",
      "AP_train 0.6896920746493491 AP_val: 0.7220300845443547\n",
      "lr: 0.001 dropout: 0.4 l1: 0.01 l2: 1.0 :\n",
      "AP_train 0.7069472741871387 AP_val: 0.7403344196042414\n",
      "lr: 0.001 dropout: 0.4 l1: 0.01 l2: 0.1 :\n",
      "AP_train 0.7557786342193604 AP_val: 0.7510420813044003\n",
      "lr: 0.001 dropout: 0.4 l1: 0.01 l2: 0.01 :\n",
      "AP_train 0.7659526636183178 AP_val: 0.7451100506937829\n",
      "lr: 0.001 dropout: 0.4 l1: 0.01 l2: 0.001 :\n",
      "AP_train 0.7659978562426393 AP_val: 0.7333439325124483\n",
      "\n",
      "for data set with random seed: 193\n",
      "lr: 0.001 dropout: 0.4 l1: 0.01 l2: 10.0 :\n",
      "AP_train 0.6968308296386686 AP_val: 0.7013983679261656\n",
      "lr: 0.001 dropout: 0.4 l1: 0.01 l2: 1.0 :\n",
      "AP_train 0.7238157085742519 AP_val: 0.7284563570163819\n",
      "lr: 0.001 dropout: 0.4 l1: 0.01 l2: 0.1 :\n",
      "AP_train 0.7497212105136691 AP_val: 0.7410257011592455\n",
      "lr: 0.001 dropout: 0.4 l1: 0.01 l2: 0.01 :\n",
      "AP_train 0.7528981522595308 AP_val: 0.7091362787048915\n",
      "lr: 0.001 dropout: 0.4 l1: 0.01 l2: 0.001 :\n",
      "AP_train 0.7611147119672254 AP_val: 0.7099649316179851\n",
      "\n",
      "for data set with random seed: 251\n",
      "lr: 0.001 dropout: 0.4 l1: 0.01 l2: 10.0 :\n",
      "AP_train 0.6868687322219501 AP_val: 0.716087190451313\n",
      "lr: 0.001 dropout: 0.4 l1: 0.01 l2: 1.0 :\n",
      "AP_train 0.7258774424784582 AP_val: 0.749011963669152\n",
      "lr: 0.001 dropout: 0.4 l1: 0.01 l2: 0.1 :\n",
      "AP_train 0.7568531406460325 AP_val: 0.7502606985716719\n",
      "lr: 0.001 dropout: 0.4 l1: 0.01 l2: 0.01 :\n",
      "AP_train 0.759367051308868 AP_val: 0.7500487782639816\n",
      "lr: 0.001 dropout: 0.4 l1: 0.01 l2: 0.001 :\n",
      "AP_train 0.771295533333107 AP_val: 0.7167274689681146\n"
     ]
    }
   ],
   "source": [
    "for X_train,y_train,X_val, y_val,random_seed in cross_val_datasets:\n",
    "    print()\n",
    "    print(\"for data set with random seed:\", random_seed)\n",
    "    for hyperpara in hyperparameters:\n",
    "        lr,dr,l1r,l2r = hyperpara\n",
    "        print(\"lr:\",lr,\"dropout:\",dr,\"l1:\",l1r,\"l2:\",l2r,\":\")\n",
    "        AP_train,AP_val = run_model_and_validate(X_train,y_train,X_val,y_val,\n",
    "                                                 lr=lr,dropout_rate=dr,\n",
    "                                                 l1reg=l1r,l2reg=l2r)\n",
    "        print(\"AP_train\",AP_train,\"AP_val:\",AP_val)\n",
    "        cross_val_res.append([random_seed,lr,dr,l1r,l2r,AP_train,AP_val])"
   ]
  },
  {
   "cell_type": "code",
   "execution_count": 1265,
   "metadata": {
    "hidden": true
   },
   "outputs": [],
   "source": [
    "df_val_res = pd.DataFrame(cross_val_res,columns = ['data_random_seed','learning_rate','dropout',\n",
    "                                      'l1_reg','l2_reg','AP_train','AP_val'])\n",
    "df_val_res.to_csv('pd_val_res.csv')"
   ]
  },
  {
   "cell_type": "code",
   "execution_count": 1278,
   "metadata": {
    "hidden": true
   },
   "outputs": [
    {
     "data": {
      "text/plain": [
       "[<matplotlib.lines.Line2D at 0x1d3261f1d0>]"
      ]
     },
     "execution_count": 1278,
     "metadata": {},
     "output_type": "execute_result"
    },
    {
     "data": {
      "image/png": "[encoded data removed]",
      "text/plain": [
       "<Figure size 432x288 with 1 Axes>"
      ]
     },
     "metadata": {
      "needs_background": "light"
     },
     "output_type": "display_data"
    }
   ],
   "source": [
    "x = np.log(df_val_res.l2_reg)/np.log(10)\n",
    "\n",
    "plt.scatter(x,df_val_res.AP_train)\n",
    "plt.scatter(x,df_val_res.AP_val)\n",
    "\n",
    "df_grouped = df_val_res.groupby('l2_reg', as_index=False)['AP_train','AP_val'].mean()\n",
    "\n",
    "plt.plot(np.log(df_grouped.l2_reg)/np.log(10),df_grouped.AP_train)\n",
    "plt.plot(np.log(df_grouped.l2_reg)/np.log(10),df_grouped.AP_val)"
   ]
  },
  {
   "cell_type": "code",
   "execution_count": 1281,
   "metadata": {
    "hidden": true
   },
   "outputs": [],
   "source": [
    "X_train,y_train,X_val, y_val = stratifiedSplit(X_train_val,y_train_val,\n",
    "                                                   test_size = 0.1,random_state = 31)\n",
    "\n",
    "model = build_model(lr=0.001,dropout_rate=0.4,l1reg=0.01,l2reg=0.1)\n",
    "callbacks = [EarlyStopping(monitor='val_loss', patience=2),\n",
    "                 ModelCheckpoint(filepath='best_logistic_model.h5', monitor='val_loss', save_best_only=True)]\n",
    "model.fit(X_train, y_train, batch_size=30, epochs=30, validation_data = (X_val,y_val),\n",
    "              shuffle=True, callbacks=callbacks,verbose=0)\n",
    "model = load_model('best_logistic_model.h5',custom_objects={'mean_pred': mean_pred})"
   ]
  },
  {
   "cell_type": "code",
   "execution_count": 1282,
   "metadata": {
    "hidden": true
   },
   "outputs": [
    {
     "name": "stdout",
     "output_type": "stream",
     "text": [
      "logistic has AP: 0.644883403720896 accuracy 0.5538775510204081\n"
     ]
    },
    {
     "data": {
      "image/png": "[encoded data removed]",
      "text/plain": [
       "<Figure size 432x288 with 1 Axes>"
      ]
     },
     "metadata": {
      "needs_background": "light"
     },
     "output_type": "display_data"
    }
   ],
   "source": [
    "y_score_logistic = model.predict(X_test)\n",
    "evaluate_model_pred(y_test,y_score_logistic,model_name='logistic')"
   ]
  },
  {
   "cell_type": "markdown",
   "metadata": {
    "heading_collapsed": true
   },
   "source": [
    "## Transfer Learning"
   ]
  },
  {
   "cell_type": "code",
   "execution_count": 1010,
   "metadata": {
    "hidden": true
   },
   "outputs": [],
   "source": [
    "model_pre = load_model('../likes_data/model_pre.h5',custom_objects={'mean_pred': mean_pred})"
   ]
  },
  {
   "cell_type": "code",
   "execution_count": 1011,
   "metadata": {
    "hidden": true,
    "scrolled": true
   },
   "outputs": [
    {
     "name": "stdout",
     "output_type": "stream",
     "text": [
      "Train on 560 samples, validate on 63 samples\n",
      "Epoch 1/10\n",
      "560/560 [==============================] - 8s 14ms/step - loss: 0.7890 - acc: 0.5679 - mean_pred: 0.4566 - val_loss: 0.6741 - val_acc: 0.6349 - val_mean_pred: 0.5124\n",
      "Epoch 2/10\n",
      "560/560 [==============================] - 2s 3ms/step - loss: 0.4981 - acc: 0.7571 - mean_pred: 0.5213 - val_loss: 0.6342 - val_acc: 0.6349 - val_mean_pred: 0.4300\n",
      "Epoch 3/10\n",
      "560/560 [==============================] - 2s 3ms/step - loss: 0.3838 - acc: 0.8268 - mean_pred: 0.5000 - val_loss: 0.6359 - val_acc: 0.6667 - val_mean_pred: 0.5048\n",
      "Epoch 4/10\n",
      "560/560 [==============================] - 2s 3ms/step - loss: 0.3262 - acc: 0.8589 - mean_pred: 0.5281 - val_loss: 0.6393 - val_acc: 0.6032 - val_mean_pred: 0.4953\n",
      "Epoch 5/10\n",
      "560/560 [==============================] - 2s 3ms/step - loss: 0.2828 - acc: 0.9125 - mean_pred: 0.5273 - val_loss: 0.6451 - val_acc: 0.6190 - val_mean_pred: 0.5134\n",
      "Epoch 6/10\n",
      "560/560 [==============================] - 2s 3ms/step - loss: 0.2615 - acc: 0.9143 - mean_pred: 0.5320 - val_loss: 0.6573 - val_acc: 0.5873 - val_mean_pred: 0.5293\n",
      "Epoch 7/10\n",
      "560/560 [==============================] - 2s 3ms/step - loss: 0.2319 - acc: 0.9393 - mean_pred: 0.5397 - val_loss: 0.6565 - val_acc: 0.6032 - val_mean_pred: 0.5172\n",
      "Epoch 8/10\n",
      "560/560 [==============================] - 2s 3ms/step - loss: 0.2174 - acc: 0.9482 - mean_pred: 0.5321 - val_loss: 0.6689 - val_acc: 0.5714 - val_mean_pred: 0.5355\n",
      "Epoch 9/10\n",
      "560/560 [==============================] - 2s 3ms/step - loss: 0.2056 - acc: 0.9446 - mean_pred: 0.5399 - val_loss: 0.6610 - val_acc: 0.5873 - val_mean_pred: 0.5192\n",
      "Epoch 10/10\n",
      "560/560 [==============================] - 2s 3ms/step - loss: 0.1964 - acc: 0.9411 - mean_pred: 0.5314 - val_loss: 0.6621 - val_acc: 0.5873 - val_mean_pred: 0.5302\n"
     ]
    },
    {
     "data": {
      "text/plain": [
       "<keras.callbacks.History at 0x1bb854f780>"
      ]
     },
     "execution_count": 1011,
     "metadata": {},
     "output_type": "execute_result"
    }
   ],
   "source": [
    "model_pre.fit(X_train, y_train, batch_size=batch_size, epochs=10, validation_data = (X_val,y_val), shuffle=True)"
   ]
  },
  {
   "cell_type": "code",
   "execution_count": 1012,
   "metadata": {
    "hidden": true
   },
   "outputs": [
    {
     "name": "stdout",
     "output_type": "stream",
     "text": [
      "1-layer has AP: 0.7465077937603866 accuracy 0.513061224489796\n"
     ]
    },
    {
     "data": {
      "image/png": "[encoded data removed]",
      "text/plain": [
       "<Figure size 432x288 with 1 Axes>"
      ]
     },
     "metadata": {
      "needs_background": "light"
     },
     "output_type": "display_data"
    }
   ],
   "source": [
    "y_model_pre = model_pre.predict_proba(X_test)\n",
    "evaluate_model_pred(y_test,y_model_pre,model_name='1-layer')"
   ]
  },
  {
   "cell_type": "code",
   "execution_count": 1013,
   "metadata": {
    "hidden": true
   },
   "outputs": [
    {
     "name": "stdout",
     "output_type": "stream",
     "text": [
      "_________________________________________________________________\n",
      "Layer (type)                 Output Shape              Param #   \n",
      "=================================================================\n",
      "dropout_63 (Dropout)         (None, 35000)             0         \n",
      "_________________________________________________________________\n",
      "dense_79 (Dense)             (None, 50)                1750050   \n",
      "_________________________________________________________________\n",
      "dropout_64 (Dropout)         (None, 50)                0         \n",
      "_________________________________________________________________\n",
      "dense_80 (Dense)             (None, 1)                 51        \n",
      "=================================================================\n",
      "Total params: 1,750,101\n",
      "Trainable params: 1,750,101\n",
      "Non-trainable params: 0\n",
      "_________________________________________________________________\n"
     ]
    }
   ],
   "source": [
    "model_2_pre = load_model('../likes_data/model_2_pre.h5',custom_objects={'mean_pred': mean_pred})\n",
    "#model_2_pre.layers[1].trainable=False\n",
    "model_2_pre.compile(loss='binary_crossentropy',\n",
    "                  optimizer=Adam(lr=0.001), metrics=['accuracy',mean_pred])\n",
    "model_2_pre.summary()"
   ]
  },
  {
   "cell_type": "code",
   "execution_count": 1014,
   "metadata": {
    "hidden": true
   },
   "outputs": [
    {
     "name": "stdout",
     "output_type": "stream",
     "text": [
      "Train on 560 samples, validate on 63 samples\n",
      "Epoch 1/5\n",
      "560/560 [==============================] - 20s 36ms/step - loss: 0.7681 - acc: 0.5625 - mean_pred: 0.5058 - val_loss: 0.6984 - val_acc: 0.5556 - val_mean_pred: 0.4800\n",
      "Epoch 2/5\n",
      "560/560 [==============================] - 8s 14ms/step - loss: 0.4319 - acc: 0.8357 - mean_pred: 0.5398 - val_loss: 0.7801 - val_acc: 0.5556 - val_mean_pred: 0.5675\n",
      "Epoch 3/5\n",
      "560/560 [==============================] - 8s 14ms/step - loss: 0.2453 - acc: 0.9500 - mean_pred: 0.5469 - val_loss: 0.8178 - val_acc: 0.6032 - val_mean_pred: 0.5244\n",
      "Epoch 4/5\n",
      "560/560 [==============================] - 8s 14ms/step - loss: 0.1726 - acc: 0.9679 - mean_pred: 0.5566 - val_loss: 0.8790 - val_acc: 0.6032 - val_mean_pred: 0.5545\n",
      "Epoch 5/5\n",
      "560/560 [==============================] - 9s 16ms/step - loss: 0.1337 - acc: 0.9875 - mean_pred: 0.5440 - val_loss: 0.9919 - val_acc: 0.5238 - val_mean_pred: 0.5744\n"
     ]
    },
    {
     "data": {
      "text/plain": [
       "<keras.callbacks.History at 0x1ba29f8e48>"
      ]
     },
     "execution_count": 1014,
     "metadata": {},
     "output_type": "execute_result"
    }
   ],
   "source": [
    "model_2_pre.fit(X_train, y_train, batch_size=batch_size, epochs=5, validation_data = (X_val,y_val), shuffle=True)"
   ]
  },
  {
   "cell_type": "code",
   "execution_count": 1015,
   "metadata": {
    "hidden": true
   },
   "outputs": [
    {
     "name": "stdout",
     "output_type": "stream",
     "text": [
      "1-layer has AP: 0.7330742488466613 accuracy 0.5244897959183673\n"
     ]
    },
    {
     "data": {
      "image/png": "[encoded data removed]",
      "text/plain": [
       "<Figure size 432x288 with 1 Axes>"
      ]
     },
     "metadata": {
      "needs_background": "light"
     },
     "output_type": "display_data"
    }
   ],
   "source": [
    "y_model_2_pre = model_2_pre.predict_proba(X_test)\n",
    "evaluate_model_pred(y_test,y_model_2_pre,model_name='2-layer')"
   ]
  },
  {
   "cell_type": "code",
   "execution_count": 1023,
   "metadata": {
    "hidden": true
   },
   "outputs": [],
   "source": [
    "model_3_pre = load_model('../likes_data/model_3_pre.h5',custom_objects={'mean_pred': mean_pred})"
   ]
  },
  {
   "cell_type": "code",
   "execution_count": 1024,
   "metadata": {
    "hidden": true
   },
   "outputs": [
    {
     "name": "stdout",
     "output_type": "stream",
     "text": [
      "_________________________________________________________________\n",
      "Layer (type)                 Output Shape              Param #   \n",
      "=================================================================\n",
      "dropout_65 (Dropout)         (None, 35000)             0         \n",
      "_________________________________________________________________\n",
      "dense_81 (Dense)             (None, 100)               3500100   \n",
      "_________________________________________________________________\n",
      "dropout_66 (Dropout)         (None, 100)               0         \n",
      "_________________________________________________________________\n",
      "dense_82 (Dense)             (None, 30)                3030      \n",
      "_________________________________________________________________\n",
      "dropout_67 (Dropout)         (None, 30)                0         \n",
      "_________________________________________________________________\n",
      "dense_83 (Dense)             (None, 1)                 31        \n",
      "=================================================================\n",
      "Total params: 3,503,161\n",
      "Trainable params: 3,503,161\n",
      "Non-trainable params: 0\n",
      "_________________________________________________________________\n"
     ]
    }
   ],
   "source": [
    "#model_3_pre.layers[1].trainable=False\n",
    "model_3_pre.compile(loss='binary_crossentropy',\n",
    "                  optimizer=Adam(lr=0.001), metrics=['accuracy',mean_pred])\n",
    "model_3_pre.summary()"
   ]
  },
  {
   "cell_type": "code",
   "execution_count": 1036,
   "metadata": {
    "hidden": true
   },
   "outputs": [
    {
     "name": "stdout",
     "output_type": "stream",
     "text": [
      "Train on 560 samples, validate on 63 samples\n",
      "Epoch 1/1\n",
      "560/560 [==============================] - 12s 22ms/step - loss: 0.1154 - acc: 0.9893 - mean_pred: 0.5409 - val_loss: 1.1773 - val_acc: 0.5556 - val_mean_pred: 0.6316\n"
     ]
    },
    {
     "data": {
      "text/plain": [
       "<keras.callbacks.History at 0x1bc3f10a90>"
      ]
     },
     "execution_count": 1036,
     "metadata": {},
     "output_type": "execute_result"
    }
   ],
   "source": [
    "model_3_pre.fit(X_train, y_train, batch_size=batch_size, epochs=1, validation_data = (X_val,y_val), shuffle=True)"
   ]
  },
  {
   "cell_type": "code",
   "execution_count": 1037,
   "metadata": {
    "hidden": true
   },
   "outputs": [
    {
     "name": "stdout",
     "output_type": "stream",
     "text": [
      "3-layer has AP: 0.7161339708114077 accuracy 0.5277551020408163\n"
     ]
    },
    {
     "data": {
      "image/png": "[encoded data removed]",
      "text/plain": [
       "<Figure size 432x288 with 1 Axes>"
      ]
     },
     "metadata": {
      "needs_background": "light"
     },
     "output_type": "display_data"
    }
   ],
   "source": [
    "y_model_3_pre = model_3_pre.predict_proba(X_test)\n",
    "evaluate_model_pred(y_test,y_model_3_pre,model_name='3-layer')"
   ]
  },
  {
   "cell_type": "code",
   "execution_count": 1034,
   "metadata": {
    "hidden": true
   },
   "outputs": [],
   "source": [
    "#model_3_pre.save('model_3_pre_final.h5')"
   ]
  },
  {
   "cell_type": "code",
   "execution_count": 695,
   "metadata": {
    "hidden": true
   },
   "outputs": [],
   "source": [
    "from xgboost import XGBClassifier\n",
    "\n",
    "clf = XGBClassifier(max_depth=25, silent=False, n_estimators=40,objective='binary:logistic',reg_alpha=0.01)"
   ]
  },
  {
   "cell_type": "code",
   "execution_count": 696,
   "metadata": {
    "hidden": true
   },
   "outputs": [
    {
     "name": "stdout",
     "output_type": "stream",
     "text": [
      "[0]\tvalidation_0-logloss:0.688817\n",
      "[1]\tvalidation_0-logloss:0.682806\n",
      "[2]\tvalidation_0-logloss:0.681887\n",
      "[3]\tvalidation_0-logloss:0.681533\n",
      "[4]\tvalidation_0-logloss:0.667509\n",
      "[5]\tvalidation_0-logloss:0.654776\n",
      "[6]\tvalidation_0-logloss:0.653414\n",
      "[7]\tvalidation_0-logloss:0.655349\n",
      "[8]\tvalidation_0-logloss:0.65559\n",
      "[9]\tvalidation_0-logloss:0.64422\n",
      "[10]\tvalidation_0-logloss:0.646742\n",
      "[11]\tvalidation_0-logloss:0.644395\n",
      "[12]\tvalidation_0-logloss:0.645182\n",
      "[13]\tvalidation_0-logloss:0.642983\n",
      "[14]\tvalidation_0-logloss:0.632492\n",
      "[15]\tvalidation_0-logloss:0.630147\n",
      "[16]\tvalidation_0-logloss:0.628002\n",
      "[17]\tvalidation_0-logloss:0.623064\n",
      "[18]\tvalidation_0-logloss:0.621402\n",
      "[19]\tvalidation_0-logloss:0.622527\n",
      "[20]\tvalidation_0-logloss:0.619866\n",
      "[21]\tvalidation_0-logloss:0.624203\n",
      "[22]\tvalidation_0-logloss:0.620024\n",
      "[23]\tvalidation_0-logloss:0.623908\n",
      "[24]\tvalidation_0-logloss:0.625034\n",
      "[25]\tvalidation_0-logloss:0.621916\n",
      "[26]\tvalidation_0-logloss:0.616474\n",
      "[27]\tvalidation_0-logloss:0.613959\n",
      "[28]\tvalidation_0-logloss:0.616157\n",
      "[29]\tvalidation_0-logloss:0.616635\n",
      "[30]\tvalidation_0-logloss:0.621942\n",
      "[31]\tvalidation_0-logloss:0.617679\n",
      "[32]\tvalidation_0-logloss:0.620954\n",
      "[33]\tvalidation_0-logloss:0.620691\n",
      "[34]\tvalidation_0-logloss:0.622415\n",
      "[35]\tvalidation_0-logloss:0.62511\n",
      "[36]\tvalidation_0-logloss:0.626722\n",
      "[37]\tvalidation_0-logloss:0.627017\n",
      "[38]\tvalidation_0-logloss:0.628564\n",
      "[39]\tvalidation_0-logloss:0.625807\n"
     ]
    }
   ],
   "source": [
    "clf = clf.fit(X_train, y_train,\n",
    "        eval_set=[(X_val, y_val)],\n",
    "        eval_metric='logloss',\n",
    "        verbose=True)"
   ]
  },
  {
   "cell_type": "code",
   "execution_count": 697,
   "metadata": {
    "hidden": true
   },
   "outputs": [],
   "source": [
    "y_pred_xg = clf.predict_proba(X_test)[:,1]"
   ]
  },
  {
   "cell_type": "code",
   "execution_count": 698,
   "metadata": {
    "hidden": true
   },
   "outputs": [
    {
     "name": "stdout",
     "output_type": "stream",
     "text": [
      "xgboost has AP: 0.6788616945102636 accuracy 0.6857142857142857\n"
     ]
    },
    {
     "data": {
      "image/png": "[encoded data removed]",
      "text/plain": [
       "<Figure size 432x288 with 1 Axes>"
      ]
     },
     "metadata": {
      "needs_background": "light"
     },
     "output_type": "display_data"
    }
   ],
   "source": [
    "evaluate_model_pred(y_test,y_pred_xg,model_name='xgboost')"
   ]
  },
  {
   "cell_type": "code",
   "execution_count": 743,
   "metadata": {
    "hidden": true
   },
   "outputs": [
    {
     "data": {
      "text/plain": [
       "35000"
      ]
     },
     "execution_count": 743,
     "metadata": {},
     "output_type": "execute_result"
    }
   ],
   "source": [
    "len(X_test[0])"
   ]
  },
  {
   "cell_type": "code",
   "execution_count": 1038,
   "metadata": {
    "hidden": true,
    "scrolled": true
   },
   "outputs": [],
   "source": [
    "model_4_pre = load_model('../likes_data/model_4_pre.h5',custom_objects={'mean_pred': mean_pred})"
   ]
  },
  {
   "cell_type": "code",
   "execution_count": 1039,
   "metadata": {
    "hidden": true
   },
   "outputs": [
    {
     "name": "stdout",
     "output_type": "stream",
     "text": [
      "_________________________________________________________________\n",
      "Layer (type)                 Output Shape              Param #   \n",
      "=================================================================\n",
      "dropout_68 (Dropout)         (None, 35000)             0         \n",
      "_________________________________________________________________\n",
      "dense_84 (Dense)             (None, 70)                2450070   \n",
      "_________________________________________________________________\n",
      "dropout_69 (Dropout)         (None, 70)                0         \n",
      "_________________________________________________________________\n",
      "dense_85 (Dense)             (None, 100)               7100      \n",
      "_________________________________________________________________\n",
      "dropout_70 (Dropout)         (None, 100)               0         \n",
      "_________________________________________________________________\n",
      "dense_86 (Dense)             (None, 30)                3030      \n",
      "_________________________________________________________________\n",
      "dropout_71 (Dropout)         (None, 30)                0         \n",
      "_________________________________________________________________\n",
      "dense_87 (Dense)             (None, 1)                 31        \n",
      "=================================================================\n",
      "Total params: 2,460,231\n",
      "Trainable params: 10,161\n",
      "Non-trainable params: 2,450,070\n",
      "_________________________________________________________________\n"
     ]
    }
   ],
   "source": [
    "model_4_pre.layers[1].trainable=False\n",
    "model_4_pre.compile(loss='binary_crossentropy',\n",
    "                  optimizer=Adam(lr=0.001), metrics=['accuracy',mean_pred])\n",
    "model_4_pre.summary()"
   ]
  },
  {
   "cell_type": "code",
   "execution_count": 1049,
   "metadata": {
    "hidden": true
   },
   "outputs": [
    {
     "name": "stdout",
     "output_type": "stream",
     "text": [
      "Train on 560 samples, validate on 63 samples\n",
      "Epoch 1/10\n",
      "560/560 [==============================] - 2s 4ms/step - loss: 0.9789 - acc: 0.5929 - mean_pred: 0.5519 - val_loss: 0.9836 - val_acc: 0.5556 - val_mean_pred: 0.5438\n",
      "Epoch 2/10\n",
      "560/560 [==============================] - 2s 4ms/step - loss: 0.9839 - acc: 0.6107 - mean_pred: 0.5519 - val_loss: 0.9826 - val_acc: 0.5556 - val_mean_pred: 0.5391\n",
      "Epoch 3/10\n",
      "560/560 [==============================] - 3s 4ms/step - loss: 0.9845 - acc: 0.5857 - mean_pred: 0.5481 - val_loss: 0.9840 - val_acc: 0.5873 - val_mean_pred: 0.5584\n",
      "Epoch 4/10\n",
      "560/560 [==============================] - 2s 4ms/step - loss: 0.9807 - acc: 0.5732 - mean_pred: 0.5541 - val_loss: 0.9846 - val_acc: 0.5397 - val_mean_pred: 0.5499\n",
      "Epoch 5/10\n",
      "560/560 [==============================] - 3s 5ms/step - loss: 0.9844 - acc: 0.5839 - mean_pred: 0.5476 - val_loss: 0.9885 - val_acc: 0.5238 - val_mean_pred: 0.5349\n",
      "Epoch 6/10\n",
      "560/560 [==============================] - 3s 5ms/step - loss: 0.9770 - acc: 0.6125 - mean_pred: 0.5586 - val_loss: 0.9898 - val_acc: 0.5397 - val_mean_pred: 0.5200\n",
      "Epoch 7/10\n",
      "560/560 [==============================] - 3s 5ms/step - loss: 0.9746 - acc: 0.6125 - mean_pred: 0.5408 - val_loss: 0.9967 - val_acc: 0.5397 - val_mean_pred: 0.5149\n",
      "Epoch 8/10\n",
      "560/560 [==============================] - 3s 5ms/step - loss: 0.9710 - acc: 0.6036 - mean_pred: 0.5594 - val_loss: 0.9904 - val_acc: 0.5397 - val_mean_pred: 0.5336\n",
      "Epoch 9/10\n",
      "560/560 [==============================] - 3s 5ms/step - loss: 0.9790 - acc: 0.6018 - mean_pred: 0.5622 - val_loss: 0.9896 - val_acc: 0.5556 - val_mean_pred: 0.5164\n",
      "Epoch 10/10\n",
      "560/560 [==============================] - 3s 5ms/step - loss: 0.9878 - acc: 0.6143 - mean_pred: 0.5228 - val_loss: 0.9911 - val_acc: 0.5079 - val_mean_pred: 0.5598\n"
     ]
    },
    {
     "data": {
      "text/plain": [
       "<keras.callbacks.History at 0x1bb3ac5320>"
      ]
     },
     "execution_count": 1049,
     "metadata": {},
     "output_type": "execute_result"
    }
   ],
   "source": [
    "model_4_pre.fit(X_train, y_train, batch_size=batch_size, epochs=10, validation_data = (X_val,y_val), shuffle=True)"
   ]
  },
  {
   "cell_type": "code",
   "execution_count": 1051,
   "metadata": {
    "hidden": true
   },
   "outputs": [
    {
     "name": "stdout",
     "output_type": "stream",
     "text": [
      "_________________________________________________________________\n",
      "Layer (type)                 Output Shape              Param #   \n",
      "=================================================================\n",
      "dropout_68 (Dropout)         (None, 35000)             0         \n",
      "_________________________________________________________________\n",
      "dense_84 (Dense)             (None, 70)                2450070   \n",
      "_________________________________________________________________\n",
      "dropout_69 (Dropout)         (None, 70)                0         \n",
      "_________________________________________________________________\n",
      "dense_85 (Dense)             (None, 100)               7100      \n",
      "_________________________________________________________________\n",
      "dropout_70 (Dropout)         (None, 100)               0         \n",
      "_________________________________________________________________\n",
      "dense_86 (Dense)             (None, 30)                3030      \n",
      "_________________________________________________________________\n",
      "dropout_71 (Dropout)         (None, 30)                0         \n",
      "_________________________________________________________________\n",
      "dense_87 (Dense)             (None, 1)                 31        \n",
      "=================================================================\n",
      "Total params: 2,460,231\n",
      "Trainable params: 2,460,231\n",
      "Non-trainable params: 0\n",
      "_________________________________________________________________\n"
     ]
    }
   ],
   "source": [
    "model_4_pre.layers[1].trainable=True\n",
    "model_4_pre.compile(loss='binary_crossentropy',\n",
    "                  optimizer=Adam(lr=0.001), metrics=['accuracy',mean_pred])\n",
    "model_4_pre.summary()"
   ]
  },
  {
   "cell_type": "code",
   "execution_count": 1054,
   "metadata": {
    "hidden": true
   },
   "outputs": [
    {
     "name": "stdout",
     "output_type": "stream",
     "text": [
      "Train on 560 samples, validate on 63 samples\n",
      "Epoch 1/1\n",
      "560/560 [==============================] - 11s 19ms/step - loss: 0.6567 - acc: 0.8089 - mean_pred: 0.5645 - val_loss: 1.0340 - val_acc: 0.5556 - val_mean_pred: 0.5918\n"
     ]
    },
    {
     "data": {
      "text/plain": [
       "<keras.callbacks.History at 0x1bbf89d828>"
      ]
     },
     "execution_count": 1054,
     "metadata": {},
     "output_type": "execute_result"
    }
   ],
   "source": [
    "model_4_pre.fit(X_train, y_train, batch_size=batch_size, epochs=1, validation_data = (X_val,y_val), shuffle=True)"
   ]
  },
  {
   "cell_type": "code",
   "execution_count": 1055,
   "metadata": {
    "hidden": true
   },
   "outputs": [
    {
     "name": "stdout",
     "output_type": "stream",
     "text": [
      "4-layer has AP: 0.6547821933948773 accuracy 0.5244897959183673\n"
     ]
    },
    {
     "data": {
      "image/png": "[encoded data removed]",
      "text/plain": [
       "<Figure size 432x288 with 1 Axes>"
      ]
     },
     "metadata": {
      "needs_background": "light"
     },
     "output_type": "display_data"
    }
   ],
   "source": [
    "y_model_4_pre = model_4_pre.predict_proba(X_test)\n",
    "evaluate_model_pred(y_test,y_model_4_pre,model_name='4-layer')"
   ]
  },
  {
   "cell_type": "code",
   "execution_count": 730,
   "metadata": {
    "hidden": true
   },
   "outputs": [
    {
     "data": {
      "text/plain": [
       "693"
      ]
     },
     "execution_count": 730,
     "metadata": {},
     "output_type": "execute_result"
    }
   ],
   "source": [
    "len(nltk_score)"
   ]
  },
  {
   "cell_type": "code",
   "execution_count": 877,
   "metadata": {
    "hidden": true
   },
   "outputs": [
    {
     "name": "stdout",
     "output_type": "stream",
     "text": [
      "nltk has AP: 0.6517951201120126 accuracy 0.5\n"
     ]
    },
    {
     "data": {
      "image/png": "[encoded data removed]",
      "text/plain": [
       "<Figure size 432x288 with 1 Axes>"
      ]
     },
     "metadata": {
      "needs_background": "light"
     },
     "output_type": "display_data"
    }
   ],
   "source": [
    "def nltk_sentiment(sentence):\n",
    "    \n",
    "    score = nltk_sentiment.polarity_scores(sentence)\n",
    "    return score\n",
    "\n",
    "test_sample_mock = random.choices(tweets, k=70)\n",
    "\n",
    "X_text_test_mock = [' '.join(tweet[2][0]) for tweet in test_sample_mock]\n",
    "\n",
    "y_text_test_mock = [tweet[1] for tweet in test_sample_mock]\n",
    "\n",
    "nltk_sentiment = SentimentIntensityAnalyzer()\n",
    "\n",
    "nltk_score=np.array([(nltk_sentiment.polarity_scores(text)['compound']+1)/2 for text in X_text_test_mock])\n",
    "\n",
    "evaluate_model_pred(y_text_test_mock,nltk_score,model_name='nltk')"
   ]
  },
  {
   "cell_type": "code",
   "execution_count": 1035,
   "metadata": {
    "hidden": true
   },
   "outputs": [
    {
     "data": {
      "image/png": "[encoded data removed]",
      "text/plain": [
       "<Figure size 432x288 with 1 Axes>"
      ]
     },
     "metadata": {
      "needs_background": "light"
     },
     "output_type": "display_data"
    }
   ],
   "source": [
    "precision_recall(y_text_test_mock,nltk_score,color='y')\n",
    "precision_recall(y_test,y_score_logistic,color='b')\n",
    "#precision_recall(y_test,y_model_pre,color='r')\n",
    "#precision_recall(y_test,y_model_2,color='r')\n",
    "precision_recall(y_test,y_model_3_pre,color='g')\n",
    "plt.show()"
   ]
  },
  {
   "cell_type": "code",
   "execution_count": 1042,
   "metadata": {
    "hidden": true
   },
   "outputs": [],
   "source": [
    "np.save('test_results_6',np.array([y_test,nltk_score,y_score_logistic,y_model_2_pre.reshape(-1),y_model_3_pre.reshape(-1)]))"
   ]
  },
  {
   "cell_type": "markdown",
   "metadata": {
    "heading_collapsed": true
   },
   "source": [
    "## Model wrapper"
   ]
  },
  {
   "cell_type": "code",
   "execution_count": 1068,
   "metadata": {
    "hidden": true
   },
   "outputs": [
    {
     "name": "stdout",
     "output_type": "stream",
     "text": [
      "0.62298334 {'neg': 0.0, 'neu': 1.0, 'pos': 0.0, 'compound': 0.0}\n"
     ]
    }
   ],
   "source": [
    "import re\n",
    "\n",
    "def text_cleaning(string):\n",
    "    string += \"Edited by\"\n",
    "    string = string[:string.index(\"Edited by\")].replace(\"\\xa0\",\"\").replace(\"\\n\",\"\").replace(\"\\t\",\"\").replace(\"\\r\",\"\")\n",
    "    string = re.sub('\\s+', ' ', string).strip()\n",
    "    return string.replace(\" .\",\"\").lstrip(\".\").lstrip(\" \").rstrip().replace(\"...\",\".\").replace(\"..\",\".\")\n",
    "\n",
    "def replace_urls(string):\n",
    "    try:\n",
    "        url_index = string.index(\"http\")\n",
    "        string_after = string[url_index:]+\" \"\n",
    "        next_space_index = string_after.index(\" \")\n",
    "        string_after = replace_urls(string_after[next_space_index:])\n",
    "        return (string[:url_index]+' URL '+ string_after).rstrip()\n",
    "    except: return string\n",
    "\n",
    "def preprocessing(sentence):\n",
    "    tweet = text_cleaning(replace_urls(sentence).replace(',',' ')).lower()\n",
    "    tweet = re.sub(r'((www\\.[\\S]+)|(https?://[\\S]+))', ' URL ', tweet)\n",
    "    # Replace @handle with the word USER_MENTION\n",
    "    # Replace 2+ dots with space\n",
    "    tweet = re.sub(r'\\.{2,}', ' ', tweet)\n",
    "    tweet = re.sub('\\.',' ',tweet)\n",
    "    # Strip space, \" and ' from tweet\n",
    "    tweet = tweet.strip(' \"\\'')\n",
    "    # Replace multiple spaces with a single space\n",
    "    tweet = re.sub(r'\\s+', ' ', tweet)\n",
    "            \n",
    "    return tweet.lstrip().rstrip()\n",
    "\n",
    "def get_feature_vector(tweet):\n",
    "    uni_feature_vector = []\n",
    "    bi_feature_vector = []\n",
    "    words = tweet.split()\n",
    "    for i in range(len(words) - 1):\n",
    "        word = words[i]\n",
    "        next_word = words[i + 1]\n",
    "        if unigrams.get(word):\n",
    "            uni_feature_vector.append(word)        \n",
    "        if bigrams.get((word, next_word)):\n",
    "            bi_feature_vector.append((word, next_word))\n",
    "    if len(words) >= 1:\n",
    "        if unigrams.get(words[-1]):\n",
    "            uni_feature_vector.append(words[-1])\n",
    "    return uni_feature_vector, bi_feature_vector\n",
    "\n",
    "def sentence_to_vec(sentence):\n",
    "    #unigrams and bigrams are externally defined dictionaries\n",
    "    s_words,s_bigrams = get_feature_vector(sentence)\n",
    "    features = np.zeros(VOCAB_SIZE)\n",
    "    for word in s_words:\n",
    "        idx = unigrams.get(word)\n",
    "        if idx: features[idx] += 1\n",
    "    for bigr in s_bigrams:\n",
    "        idx = bigrams.get(word)\n",
    "        if idx: features[UNIGRAM_SIZE + idx] += 1\n",
    "    return features\n",
    "\n",
    "def model_prediction(model,sentence):\n",
    "    #from sentence to result\n",
    "    vec = sentence_to_vec(sentence)\n",
    "    return model.predict(vec.reshape(1,-1))[0][0]\n",
    "\n",
    "sentence = 'astigmatism'\n",
    "print(model_prediction(model_3_pre,sentence),nltk_sentiment.polarity_scores(sentence))"
   ]
  },
  {
   "cell_type": "code",
   "execution_count": null,
   "metadata": {
    "hidden": true
   },
   "outputs": [],
   "source": [
    "preprocessing(sentence)"
   ]
  },
  {
   "cell_type": "code",
   "execution_count": 1067,
   "metadata": {
    "hidden": true
   },
   "outputs": [
    {
     "name": "stdout",
     "output_type": "stream",
     "text": [
      "pentax xw pairs work fine for me in every bt i've owned including the big bt100-45 from obie and the semi-apo and apo (both 45 and 90) apm binos please note that at less than f/6 the xw 20 and 14's show some field curvature to my eyes the outer edge and center can't be focused together the xw10's are superb\n",
      "0.950166 {'neg': 0.032, 'neu': 0.846, 'pos': 0.122, 'compound': 0.7198}\n",
      "thanks for the post/review and congrats on the new instrument rick this beast sounds really incredible i’m amazed at the power you guys are using it at between the higher powers and the dual eyed perspective these instruments are really not giving much of anything up compared to more traditional planetary instruments on the other hand the light grasp and low powered sweeping are light years beyond what most other instruments will provide\n",
      "0.36299768 {'neg': 0.052, 'neu': 0.794, 'pos': 0.154, 'compound': 0.8608}\n"
     ]
    }
   ],
   "source": [
    "sentence = \"Pentax XW pairs work fine for me in every BT I've owned including the big BT100-45 from Obie and the semi-APO and APO (both 45 and 90) APM binos. Please note that at less than f/6, the XW 20 and 14's show some field curvature to my eyes. The outer edge and center can't be focused together. The XW10's are superb.\"\n",
    "sentence = preprocessing(sentence)\n",
    "print(sentence)\n",
    "print(model_prediction(model_3_pre,sentence),nltk_sentiment.polarity_scores(sentence))\n",
    "\n",
    "sentence = \"Thanks for the post/review and congrats on the new instrument, Rick. This beast sounds really incredible. I’m amazed at the power you guys are using it at. Between the higher powers and the dual eyed perspective these instruments are really not giving much of anything up compared to more traditional planetary instruments. On the other hand, the light grasp and low powered sweeping are light years beyond what most other instruments will provide.\"\n",
    "sentence = preprocessing(sentence)\n",
    "print(sentence)\n",
    "print(model_prediction(model_3_pre,sentence),nltk_sentiment.polarity_scores(sentence))\n"
   ]
  },
  {
   "cell_type": "code",
   "execution_count": 945,
   "metadata": {
    "hidden": true
   },
   "outputs": [],
   "source": [
    "def get_feature_vector(tweet):\n",
    "    uni_feature_vector = []\n",
    "    bi_feature_vector = []\n",
    "    words = tweet.split()\n",
    "    for i in range(len(words) - 1):\n",
    "        word = words[i]\n",
    "        next_word = words[i + 1]\n",
    "        if unigrams.get(word):\n",
    "            uni_feature_vector.append(word)\n",
    "        if USE_BIGRAMS:\n",
    "            if bigrams.get((word, next_word)):\n",
    "                bi_feature_vector.append((word, next_word))\n",
    "    if len(words) >= 1:\n",
    "        if unigrams.get(words[-1]):\n",
    "            uni_feature_vector.append(words[-1])\n",
    "    return uni_feature_vector, bi_feature_vector"
   ]
  },
  {
   "cell_type": "markdown",
   "metadata": {
    "heading_collapsed": true
   },
   "source": [
    "## Export production models"
   ]
  },
  {
   "cell_type": "code",
   "execution_count": 1188,
   "metadata": {
    "hidden": true
   },
   "outputs": [],
   "source": [
    "model_likes = load_model('../likes_data/model_pre_59.h5',custom_objects={'mean_pred': mean_pred})\n",
    "\n",
    "model_likes.compile(loss='binary_crossentropy',optimizer=Adam(lr=0.001))\n",
    "model_likes.save('../likes_data/model_likes_prod.h5')\n",
    "del model_likes"
   ]
  },
  {
   "cell_type": "code",
   "execution_count": 1193,
   "metadata": {
    "hidden": true
   },
   "outputs": [],
   "source": [
    "#model_senti = load_model('model_3_pre_final.h5',custom_objects={'mean_pred': mean_pred})\n",
    "#model_senti.compile(loss='binary_crossentropy',optimizer=Adam(lr=0.001))\n",
    "#model_senti.save('model_senti_3.h5')\n",
    "#del model_senti\n",
    "\n",
    "pkl_filename = \"pickle_logistic_sentiment.pkl\"\n",
    "with open(pkl_filename, 'wb') as file:\n",
    "    pickle.dump(logistic, file)\n",
    "    \n",
    "# Load from file\n",
    "with open(pkl_filename, 'rb') as file:\n",
    "    pickle_model = pickle.load(file)\n",
    "    \n",
    "y_score_logistic = pickle_model.predict_proba([X_test[0]])[:,1][0]"
   ]
  },
  {
   "cell_type": "code",
   "execution_count": 1194,
   "metadata": {
    "hidden": true
   },
   "outputs": [
    {
     "data": {
      "text/plain": [
       "0.4037106694206202"
      ]
     },
     "execution_count": 1194,
     "metadata": {},
     "output_type": "execute_result"
    }
   ],
   "source": [
    "y_score_logistic"
   ]
  },
  {
   "cell_type": "markdown",
   "metadata": {
    "heading_collapsed": true
   },
   "source": [
    "## Testing"
   ]
  },
  {
   "cell_type": "code",
   "execution_count": 223,
   "metadata": {
    "hidden": true
   },
   "outputs": [],
   "source": [
    "y_test = test_set_y\n",
    "y_score = logistic_pre.predict(test_set_X).reshape(-1)\n",
    "y_score_2 = model_2_pre.predict(test_set_X).reshape(-1)\n",
    "y_score_3 = model_3_pre.predict(test_set_X).reshape(-1)"
   ]
  },
  {
   "cell_type": "code",
   "execution_count": 224,
   "metadata": {
    "hidden": true
   },
   "outputs": [
    {
     "name": "stdout",
     "output_type": "stream",
     "text": [
      "1 layer model has AP 0.6463870036992461 accuracy 0.6571428571428571\n",
      "2 layer model has AP 0.7124336573235572 accuracy 0.6285714285714286\n",
      "3 layer model has AP 0.7400632947467144 accuracy 0.6428571428571429\n"
     ]
    }
   ],
   "source": [
    "print(\"1 layer model has AP\", average_precision_score(y_test, y_score), \"accuracy\", accuracy(y_test,y_score))\n",
    "print(\"2 layer model has AP\", average_precision_score(y_test, y_score_2), \"accuracy\", accuracy(y_test,y_score_2))\n",
    "print(\"3 layer model has AP\", average_precision_score(y_test, y_score_3), \"accuracy\", accuracy(y_test,y_score_3))"
   ]
  },
  {
   "cell_type": "code",
   "execution_count": 225,
   "metadata": {
    "hidden": true
   },
   "outputs": [
    {
     "data": {
      "image/png": "[encoded data removed]",
      "text/plain": [
       "<Figure size 432x288 with 1 Axes>"
      ]
     },
     "metadata": {
      "needs_background": "light"
     },
     "output_type": "display_data"
    }
   ],
   "source": [
    "precision_recall(y_test,y_score)\n",
    "precision_recall(y_test,y_score_2,color='r')\n",
    "precision_recall(y_test,y_score_3,color='g')\n",
    "plt.show()"
   ]
  },
  {
   "cell_type": "code",
   "execution_count": 359,
   "metadata": {
    "hidden": true
   },
   "outputs": [
    {
     "name": "stdout",
     "output_type": "stream",
     "text": [
      "Logistic regression has AP: 0.7559089372154512 accuracy 0.6285714285714286\n"
     ]
    },
    {
     "data": {
      "image/png": "[encoded data removed]",
      "text/plain": [
       "<Figure size 432x288 with 1 Axes>"
      ]
     },
     "metadata": {
      "needs_background": "light"
     },
     "output_type": "display_data"
    }
   ],
   "source": [
    "y_score_logistic = logistic.predict_proba(X_test)[:,1]\n",
    "print(\"Logistic regression has AP:\", average_precision_score(y_test, y_score_logistic), \n",
    "      \"accuracy\", accuracy(y_test,y_score_logistic))\n",
    "\n",
    "precision_recall(y_test,y_score_logistic)"
   ]
  },
  {
   "cell_type": "code",
   "execution_count": 367,
   "metadata": {
    "hidden": true
   },
   "outputs": [],
   "source": [
    "y_score_model = model.predict(X_test)\n",
    "\n"
   ]
  },
  {
   "cell_type": "code",
   "execution_count": null,
   "metadata": {
    "hidden": true
   },
   "outputs": [],
   "source": []
  }
 ],
 "metadata": {
  "kernelspec": {
   "display_name": "Python 3",
   "language": "python",
   "name": "python3"
  },
  "language_info": {
   "codemirror_mode": {
    "name": "ipython",
    "version": 3
   },
   "file_extension": ".py",
   "mimetype": "text/x-python",
   "name": "python",
   "nbconvert_exporter": "python",
   "pygments_lexer": "ipython3",
   "version": "3.7.3"
  }
 },
 "nbformat": 4,
 "nbformat_minor": 2
}
